{
 "cells": [
  {
   "cell_type": "code",
   "execution_count": 1,
   "id": "57711dcb",
   "metadata": {},
   "outputs": [],
   "source": [
    "import psycopg2\n",
    "from datetime import timedelta\n",
    "from sqlalchemy import create_engine\n",
    "import psycopg2\n",
    "import pandas as pd\n",
    "import numpy as np\n",
    "import matplotlib.pyplot as plt"
   ]
  },
  {
   "cell_type": "code",
   "execution_count": 2,
   "id": "48ff4034",
   "metadata": {},
   "outputs": [
    {
     "name": "stdout",
     "output_type": "stream",
     "text": [
      "('PostgreSQL 15.2, compiled by Visual C++ build 1914, 64-bit',)\n"
     ]
    }
   ],
   "source": [
    "import psycopg2\n",
    "\n",
    "conn = psycopg2.connect(\n",
    "    host=\"localhost\",\n",
    "    database=\"mimic\",\n",
    "    user=\"postgres\",\n",
    "    password=\"postgres\"\n",
    ")\n",
    "\n",
    "cur = conn.cursor()\n",
    "\n",
    "cur.execute(\"SELECT version();\")\n",
    "print(cur.fetchone())"
   ]
  },
  {
   "cell_type": "code",
   "execution_count": 3,
   "id": "ed048ffd",
   "metadata": {},
   "outputs": [
    {
     "name": "stderr",
     "output_type": "stream",
     "text": [
      "C:\\Users\\navim\\AppData\\Local\\Temp\\ipykernel_24592\\16251075.py:7: UserWarning: pandas only supports SQLAlchemy connectable (engine/connection) or database string URI or sqlite3 DBAPI2 connection. Other DBAPI2 objects are not tested. Please consider using SQLAlchemy.\n",
      "  icustay_details = pd.read_sql_query(\"SELECT * FROM mimiciii.flicu_icustay_detail;\", conn)\n",
      "C:\\Users\\navim\\AppData\\Local\\Temp\\ipykernel_24592\\16251075.py:10: UserWarning: pandas only supports SQLAlchemy connectable (engine/connection) or database string URI or sqlite3 DBAPI2 connection. Other DBAPI2 objects are not tested. Please consider using SQLAlchemy.\n",
      "  pivoted_vital = pd.read_sql_query(\"SELECT * FROM mimiciii.pivoted_vital;\", conn)\n",
      "C:\\Users\\navim\\AppData\\Local\\Temp\\ipykernel_24592\\16251075.py:11: UserWarning: pandas only supports SQLAlchemy connectable (engine/connection) or database string URI or sqlite3 DBAPI2 connection. Other DBAPI2 objects are not tested. Please consider using SQLAlchemy.\n",
      "  pivoted_lab = pd.read_sql_query(\"SELECT * FROM mimiciii.ckd_pivoted_lab;\", conn)\n"
     ]
    }
   ],
   "source": [
    "# Connect to db\n",
    "conn = psycopg2.connect(host='localhost', dbname='mimic', user='postgres', password='postgres', options='-c search_path=mimiciii')\n",
    "#conn = psycopg2.connect(dbname='mimic', user='postgres')\n",
    "cur = conn.cursor() \n",
    "\n",
    "# Read in table with patients & admissions (inner join on subject_id) and icu_stays (inner joinon subject_id and hadm_id)\n",
    "icustay_details = pd.read_sql_query(\"SELECT * FROM mimiciii.flicu_icustay_detail;\", conn)\n",
    "\n",
    "# Read in vital and lab signs\n",
    "pivoted_vital = pd.read_sql_query(\"SELECT * FROM mimiciii.pivoted_vital;\", conn)\n",
    "pivoted_lab = pd.read_sql_query(\"SELECT * FROM mimiciii.ckd_pivoted_lab;\", conn)\n",
    "\n",
    "# Read in lab measurements\n",
    "# Use flicu_pivoted_lab (as it only takes the lab tests during ICU stay)\n",
    "#query = \"SELECT * FROM mimiciii.flicu_pivoted_lab;\"\n",
    "# Alternative:  Use the lab values recorded previous to the ICU stay (although during same hospital admission!), \n",
    "# then sample them  (8h intervalls) and then forward fill plus cap at either icu admission time of first vital sign recorded\n",
    "#query = \"SELECT * FROM mimiciii.pivoted_lab;\"\n",
    "#pivoted_lab = pd.read_sql_query(query, conn)\n",
    "\n",
    "# Close the cursor and connection to so the server can allocate bandwidth to other requests\n",
    "cur.close()\n",
    "conn.close()"
   ]
  },
  {
   "cell_type": "code",
   "execution_count": 4,
   "id": "11fe1b9e",
   "metadata": {},
   "outputs": [
    {
     "data": {
      "text/plain": [
       "array([nan,  3.,  2.])"
      ]
     },
     "execution_count": 4,
     "metadata": {},
     "output_type": "execute_result"
    }
   ],
   "source": [
    "pivoted_vital['pedaledema'].unique()"
   ]
  },
  {
   "cell_type": "code",
   "execution_count": 5,
   "id": "d24bf2bb",
   "metadata": {},
   "outputs": [
    {
     "data": {
      "text/plain": [
       "(9207039, 15)"
      ]
     },
     "execution_count": 5,
     "metadata": {},
     "output_type": "execute_result"
    }
   ],
   "source": [
    "pivoted_vital.shape"
   ]
  },
  {
   "cell_type": "code",
   "execution_count": 6,
   "id": "f19cf7a4",
   "metadata": {},
   "outputs": [
    {
     "data": {
      "text/plain": [
       "Index(['icustay_id', 'charttime', 'heartrate', 'sysbp', 'diasbp', 'meanbp',\n",
       "       'resprate', 'tempc', 'spo2', 'glucose', 'rbc', 'specificgravity',\n",
       "       'pedaledema', 'appetite_median', 'ckd'],\n",
       "      dtype='object')"
      ]
     },
     "execution_count": 6,
     "metadata": {},
     "output_type": "execute_result"
    }
   ],
   "source": [
    "pivoted_vital.columns"
   ]
  },
  {
   "cell_type": "code",
   "execution_count": 7,
   "id": "38ec6563",
   "metadata": {},
   "outputs": [
    {
     "data": {
      "text/plain": [
       "Index(['icustay_id', 'subject_id', 'charttime', 'aniongap', 'albumin', 'bands',\n",
       "       'bicarbonate', 'bilirubin', 'creatinine', 'chloride', 'glucose',\n",
       "       'hematocrit', 'hemoglobin', 'lactate', 'platelet', 'potassium', 'ptt',\n",
       "       'inr', 'pt', 'sodium', 'bun', 'wbc', 'bacteria', 'ckd'],\n",
       "      dtype='object')"
      ]
     },
     "execution_count": 7,
     "metadata": {},
     "output_type": "execute_result"
    }
   ],
   "source": [
    "pivoted_lab.columns"
   ]
  },
  {
   "cell_type": "code",
   "execution_count": 8,
   "id": "273e723e",
   "metadata": {},
   "outputs": [
    {
     "data": {
      "text/html": [
       "<div>\n",
       "<style scoped>\n",
       "    .dataframe tbody tr th:only-of-type {\n",
       "        vertical-align: middle;\n",
       "    }\n",
       "\n",
       "    .dataframe tbody tr th {\n",
       "        vertical-align: top;\n",
       "    }\n",
       "\n",
       "    .dataframe thead th {\n",
       "        text-align: right;\n",
       "    }\n",
       "</style>\n",
       "<table border=\"1\" class=\"dataframe\">\n",
       "  <thead>\n",
       "    <tr style=\"text-align: right;\">\n",
       "      <th></th>\n",
       "      <th>subject_id</th>\n",
       "      <th>hadm_id</th>\n",
       "      <th>icustay_id</th>\n",
       "      <th>los_hospital</th>\n",
       "      <th>admission_age</th>\n",
       "      <th>hospital_expire_flag</th>\n",
       "      <th>hospstay_seq</th>\n",
       "      <th>los_icu</th>\n",
       "      <th>icustay_seq</th>\n",
       "      <th>label_death_icu</th>\n",
       "      <th>label_cor_art</th>\n",
       "      <th>diabetes_mellitus</th>\n",
       "      <th>ckd</th>\n",
       "      <th>anemia_flag</th>\n",
       "    </tr>\n",
       "  </thead>\n",
       "  <tbody>\n",
       "    <tr>\n",
       "      <th>count</th>\n",
       "      <td>61051.000000</td>\n",
       "      <td>61051.000000</td>\n",
       "      <td>61051.000000</td>\n",
       "      <td>61051.000000</td>\n",
       "      <td>61051.000000</td>\n",
       "      <td>61051.000000</td>\n",
       "      <td>61051.000000</td>\n",
       "      <td>61041.000000</td>\n",
       "      <td>61051.000000</td>\n",
       "      <td>61051.000000</td>\n",
       "      <td>61051.000000</td>\n",
       "      <td>61051.000000</td>\n",
       "      <td>61051.000000</td>\n",
       "      <td>61051.000000</td>\n",
       "    </tr>\n",
       "    <tr>\n",
       "      <th>mean</th>\n",
       "      <td>33961.698989</td>\n",
       "      <td>149946.928945</td>\n",
       "      <td>249968.598696</td>\n",
       "      <td>11.320283</td>\n",
       "      <td>64.856674</td>\n",
       "      <td>0.107975</td>\n",
       "      <td>1.418568</td>\n",
       "      <td>4.931644</td>\n",
       "      <td>1.070908</td>\n",
       "      <td>0.073774</td>\n",
       "      <td>0.212838</td>\n",
       "      <td>0.170693</td>\n",
       "      <td>0.082849</td>\n",
       "      <td>0.125682</td>\n",
       "    </tr>\n",
       "    <tr>\n",
       "      <th>std</th>\n",
       "      <td>28153.637888</td>\n",
       "      <td>28899.070114</td>\n",
       "      <td>28891.923533</td>\n",
       "      <td>14.301661</td>\n",
       "      <td>56.970061</td>\n",
       "      <td>0.310352</td>\n",
       "      <td>1.510997</td>\n",
       "      <td>9.664428</td>\n",
       "      <td>0.301838</td>\n",
       "      <td>0.261406</td>\n",
       "      <td>0.409318</td>\n",
       "      <td>0.376244</td>\n",
       "      <td>0.275656</td>\n",
       "      <td>0.331493</td>\n",
       "    </tr>\n",
       "    <tr>\n",
       "      <th>min</th>\n",
       "      <td>2.000000</td>\n",
       "      <td>100001.000000</td>\n",
       "      <td>200001.000000</td>\n",
       "      <td>-0.945139</td>\n",
       "      <td>0.000007</td>\n",
       "      <td>0.000000</td>\n",
       "      <td>1.000000</td>\n",
       "      <td>0.000139</td>\n",
       "      <td>1.000000</td>\n",
       "      <td>0.000000</td>\n",
       "      <td>0.000000</td>\n",
       "      <td>0.000000</td>\n",
       "      <td>0.000000</td>\n",
       "      <td>0.000000</td>\n",
       "    </tr>\n",
       "    <tr>\n",
       "      <th>25%</th>\n",
       "      <td>12085.500000</td>\n",
       "      <td>124949.000000</td>\n",
       "      <td>224951.000000</td>\n",
       "      <td>3.910069</td>\n",
       "      <td>44.281191</td>\n",
       "      <td>0.000000</td>\n",
       "      <td>1.000000</td>\n",
       "      <td>1.109491</td>\n",
       "      <td>1.000000</td>\n",
       "      <td>0.000000</td>\n",
       "      <td>0.000000</td>\n",
       "      <td>0.000000</td>\n",
       "      <td>0.000000</td>\n",
       "      <td>0.000000</td>\n",
       "    </tr>\n",
       "    <tr>\n",
       "      <th>50%</th>\n",
       "      <td>24352.000000</td>\n",
       "      <td>149883.000000</td>\n",
       "      <td>249949.000000</td>\n",
       "      <td>6.945833</td>\n",
       "      <td>62.054949</td>\n",
       "      <td>0.000000</td>\n",
       "      <td>1.000000</td>\n",
       "      <td>2.094815</td>\n",
       "      <td>1.000000</td>\n",
       "      <td>0.000000</td>\n",
       "      <td>0.000000</td>\n",
       "      <td>0.000000</td>\n",
       "      <td>0.000000</td>\n",
       "      <td>0.000000</td>\n",
       "    </tr>\n",
       "    <tr>\n",
       "      <th>75%</th>\n",
       "      <td>54366.000000</td>\n",
       "      <td>174997.500000</td>\n",
       "      <td>274974.500000</td>\n",
       "      <td>13.059722</td>\n",
       "      <td>76.068514</td>\n",
       "      <td>0.000000</td>\n",
       "      <td>1.000000</td>\n",
       "      <td>4.502199</td>\n",
       "      <td>1.000000</td>\n",
       "      <td>0.000000</td>\n",
       "      <td>0.000000</td>\n",
       "      <td>0.000000</td>\n",
       "      <td>0.000000</td>\n",
       "      <td>0.000000</td>\n",
       "    </tr>\n",
       "    <tr>\n",
       "      <th>max</th>\n",
       "      <td>99999.000000</td>\n",
       "      <td>199999.000000</td>\n",
       "      <td>299999.000000</td>\n",
       "      <td>294.660417</td>\n",
       "      <td>311.561027</td>\n",
       "      <td>1.000000</td>\n",
       "      <td>41.000000</td>\n",
       "      <td>173.072512</td>\n",
       "      <td>7.000000</td>\n",
       "      <td>1.000000</td>\n",
       "      <td>1.000000</td>\n",
       "      <td>1.000000</td>\n",
       "      <td>1.000000</td>\n",
       "      <td>1.000000</td>\n",
       "    </tr>\n",
       "  </tbody>\n",
       "</table>\n",
       "</div>"
      ],
      "text/plain": [
       "         subject_id        hadm_id     icustay_id  los_hospital  \\\n",
       "count  61051.000000   61051.000000   61051.000000  61051.000000   \n",
       "mean   33961.698989  149946.928945  249968.598696     11.320283   \n",
       "std    28153.637888   28899.070114   28891.923533     14.301661   \n",
       "min        2.000000  100001.000000  200001.000000     -0.945139   \n",
       "25%    12085.500000  124949.000000  224951.000000      3.910069   \n",
       "50%    24352.000000  149883.000000  249949.000000      6.945833   \n",
       "75%    54366.000000  174997.500000  274974.500000     13.059722   \n",
       "max    99999.000000  199999.000000  299999.000000    294.660417   \n",
       "\n",
       "       admission_age  hospital_expire_flag  hospstay_seq       los_icu  \\\n",
       "count   61051.000000          61051.000000  61051.000000  61041.000000   \n",
       "mean       64.856674              0.107975      1.418568      4.931644   \n",
       "std        56.970061              0.310352      1.510997      9.664428   \n",
       "min         0.000007              0.000000      1.000000      0.000139   \n",
       "25%        44.281191              0.000000      1.000000      1.109491   \n",
       "50%        62.054949              0.000000      1.000000      2.094815   \n",
       "75%        76.068514              0.000000      1.000000      4.502199   \n",
       "max       311.561027              1.000000     41.000000    173.072512   \n",
       "\n",
       "        icustay_seq  label_death_icu  label_cor_art  diabetes_mellitus  \\\n",
       "count  61051.000000     61051.000000   61051.000000       61051.000000   \n",
       "mean       1.070908         0.073774       0.212838           0.170693   \n",
       "std        0.301838         0.261406       0.409318           0.376244   \n",
       "min        1.000000         0.000000       0.000000           0.000000   \n",
       "25%        1.000000         0.000000       0.000000           0.000000   \n",
       "50%        1.000000         0.000000       0.000000           0.000000   \n",
       "75%        1.000000         0.000000       0.000000           0.000000   \n",
       "max        7.000000         1.000000       1.000000           1.000000   \n",
       "\n",
       "                ckd   anemia_flag  \n",
       "count  61051.000000  61051.000000  \n",
       "mean       0.082849      0.125682  \n",
       "std        0.275656      0.331493  \n",
       "min        0.000000      0.000000  \n",
       "25%        0.000000      0.000000  \n",
       "50%        0.000000      0.000000  \n",
       "75%        0.000000      0.000000  \n",
       "max        1.000000      1.000000  "
      ]
     },
     "execution_count": 8,
     "metadata": {},
     "output_type": "execute_result"
    }
   ],
   "source": [
    "icustay_details.describe()"
   ]
  },
  {
   "cell_type": "markdown",
   "id": "a5f4b552",
   "metadata": {},
   "source": [
    "Setting window length "
   ]
  },
  {
   "cell_type": "code",
   "execution_count": 9,
   "id": "aa5bdcd2",
   "metadata": {},
   "outputs": [],
   "source": [
    "WINDOW_LENGTH = 24*4"
   ]
  },
  {
   "cell_type": "markdown",
   "id": "68afcd8f",
   "metadata": {},
   "source": [
    "Keeping records that are atleast window length"
   ]
  },
  {
   "cell_type": "code",
   "execution_count": 10,
   "id": "eabb8028",
   "metadata": {},
   "outputs": [],
   "source": [
    "data= icustay_details.copy()\n",
    "data = data[data.los_icu >= WINDOW_LENGTH/24.0]"
   ]
  },
  {
   "cell_type": "code",
   "execution_count": 11,
   "id": "2ac8d722",
   "metadata": {},
   "outputs": [],
   "source": [
    "filtered_icustay_ids = pd.DataFrame(data['icustay_id'].unique(), columns=['icustay_id'])"
   ]
  },
  {
   "cell_type": "code",
   "execution_count": 12,
   "id": "68a57b55",
   "metadata": {},
   "outputs": [
    {
     "name": "stdout",
     "output_type": "stream",
     "text": [
      "(9207039, 15)\n"
     ]
    }
   ],
   "source": [
    "# Drop measurements with no belonging icustay_id\n",
    "pivoted_vital = pivoted_vital.dropna(subset=['icustay_id'])\n",
    "pivoted_lab = pivoted_lab.dropna(subset=['icustay_id'])\n",
    "\n",
    "#check the shape \n",
    "print(pivoted_vital.shape)\n",
    "\n",
    "# Cast icustay_id types to int\n",
    "pivoted_vital['icustay_id'] = pivoted_vital['icustay_id'].astype(int)\n",
    "pivoted_lab['icustay_id'] = pivoted_lab['icustay_id'].astype(int)\n",
    "\n",
    "# Keep only values of patients in previously filtered icustay_ids in labs and vitals\n",
    "pivoted_vital = pivoted_vital.merge(filtered_icustay_ids, on='icustay_id', how='right').drop_duplicates()\n",
    "pivoted_lab = pivoted_lab.merge(filtered_icustay_ids, on='icustay_id', how='right').drop_duplicates()"
   ]
  },
  {
   "cell_type": "code",
   "execution_count": 13,
   "id": "97209a0c",
   "metadata": {},
   "outputs": [
    {
     "name": "stdout",
     "output_type": "stream",
     "text": [
      "(6724403, 15)\n"
     ]
    }
   ],
   "source": [
    "print(pivoted_vital.shape)"
   ]
  },
  {
   "cell_type": "code",
   "execution_count": 14,
   "id": "02c031db",
   "metadata": {},
   "outputs": [],
   "source": [
    "# Min of each lab and vitals\n",
    "icustay_ids_charttime_min_lab = pivoted_lab[[\"icustay_id\", \"charttime\"]][pivoted_lab.groupby(\"icustay_id\")[\"charttime\"].rank(ascending=1,method='dense') == 1]\n",
    "icustay_ids_charttime_min_vital = pivoted_vital[[\"icustay_id\", \"charttime\"]][pivoted_vital.groupby(\"icustay_id\")[\"charttime\"].rank(ascending=1,method='dense') == 1]\n",
    "# Min of both combined\n",
    "icustay_ids_charttime_min_vital_lab = pd.concat([icustay_ids_charttime_min_lab, icustay_ids_charttime_min_vital], ignore_index=True)\n",
    "icustay_ids_charttime_min_vital_lab = icustay_ids_charttime_min_vital_lab[[\"icustay_id\", \"charttime\"]][icustay_ids_charttime_min_vital_lab.groupby(\"icustay_id\")[\"charttime\"].rank(ascending=1,method='dense') == 1]\n",
    "\n",
    "# Max of each lab and vitals\n",
    "icustay_ids_charttime_max_lab = pivoted_lab[[\"icustay_id\", \"charttime\"]][pivoted_lab.groupby(\"icustay_id\")[\"charttime\"].rank(ascending=0,method='dense') == 1]\n",
    "icustay_ids_charttime_max_vital = pivoted_vital[[\"icustay_id\", \"charttime\"]][pivoted_vital.groupby(\"icustay_id\")[\"charttime\"].rank(ascending=0,method='dense') == 1]\n",
    "# Max of both combined\n",
    "icustay_ids_charttime_max_vital_lab = pd.concat([icustay_ids_charttime_max_lab, icustay_ids_charttime_max_vital], ignore_index=True)\n",
    "icustay_ids_charttime_max_vital_lab = icustay_ids_charttime_max_vital_lab[[\"icustay_id\", \"charttime\"]][icustay_ids_charttime_max_vital_lab.groupby(\"icustay_id\")[\"charttime\"].rank(ascending=0,method='dense') == 1]\n"
   ]
  },
  {
   "cell_type": "code",
   "execution_count": 15,
   "id": "5f5fe240",
   "metadata": {},
   "outputs": [
    {
     "name": "stdout",
     "output_type": "stream",
     "text": [
      "Unique icu stays in icustay_ids_vital_lab_charttime_min_max_filtered after filtering 8409\n",
      "Unique icu stays in icustay_ids_time_filtered:  8409\n"
     ]
    }
   ],
   "source": [
    "# Find for which icustay_ids there exist at least WINDOW_LENGTH of data\n",
    "icustay_ids_vital_lab_charttime_min_max = pd.concat([icustay_ids_charttime_max_vital_lab, icustay_ids_charttime_min_vital_lab], ignore_index=True)\n",
    "time_window = timedelta(days=4, seconds=0, microseconds=0, milliseconds=0, minutes=0, hours=WINDOW_LENGTH, weeks=0)\n",
    "is_time_diff_bigger_window_lab = icustay_ids_vital_lab_charttime_min_max.groupby(['icustay_id'])['charttime'].transform(lambda x: (x.max()-x.min())) >= time_window\n",
    "\n",
    "icustay_ids_vital_lab_charttime_min_max_filtered = icustay_ids_vital_lab_charttime_min_max[is_time_diff_bigger_window_lab]\n",
    "print(\"Unique icu stays in icustay_ids_vital_lab_charttime_min_max_filtered after filtering\", icustay_ids_vital_lab_charttime_min_max_filtered['icustay_id'].nunique())\n",
    "\n",
    "# Keep only icustay ids for which at least WINDOW_LENGTH of data exists\n",
    "icustay_ids_time_filtered = pd.DataFrame(icustay_ids_vital_lab_charttime_min_max_filtered['icustay_id'].unique(), columns=['icustay_id'])\n",
    "print(\"Unique icu stays in icustay_ids_time_filtered: \", icustay_ids_time_filtered['icustay_id'].nunique())"
   ]
  },
  {
   "cell_type": "code",
   "execution_count": 16,
   "id": "719b13c9",
   "metadata": {},
   "outputs": [],
   "source": [
    "filtered_icustay_ids = filtered_icustay_ids.merge(icustay_ids_time_filtered, on='icustay_id', how='inner').drop_duplicates()"
   ]
  },
  {
   "cell_type": "code",
   "execution_count": 17,
   "id": "7230fe8f",
   "metadata": {},
   "outputs": [
    {
     "name": "stdout",
     "output_type": "stream",
     "text": [
      "Number of ICU stays demographics:  8409\n",
      "Number of ICU stays vitals:  8409\n",
      "Number of ICU stays labs:  8409\n"
     ]
    }
   ],
   "source": [
    "demographics_filtered = data.merge(filtered_icustay_ids, on='icustay_id', how='right').drop_duplicates()\n",
    "print(\"Number of ICU stays demographics: \", demographics_filtered['icustay_id'].nunique())\n",
    "\n",
    "vital_filtered = pivoted_vital.merge(filtered_icustay_ids, on='icustay_id', how='right').drop_duplicates()\n",
    "print(\"Number of ICU stays vitals: \", vital_filtered['icustay_id'].nunique())\n",
    "\n",
    "lab_filtered = pivoted_lab.merge(filtered_icustay_ids, on='icustay_id', how='right').drop_duplicates()\n",
    "print(\"Number of ICU stays labs: \", lab_filtered['icustay_id'].nunique())"
   ]
  },
  {
   "cell_type": "code",
   "execution_count": 18,
   "id": "97facd20",
   "metadata": {},
   "outputs": [
    {
     "data": {
      "text/plain": [
       "array([214236, 285731, 284866, ..., 245830, 215595, 271752], dtype=int64)"
      ]
     },
     "execution_count": 18,
     "metadata": {},
     "output_type": "execute_result"
    }
   ],
   "source": [
    "lab_filtered['icustay_id'].unique()"
   ]
  },
  {
   "cell_type": "code",
   "execution_count": 19,
   "id": "b1733ce1",
   "metadata": {},
   "outputs": [
    {
     "name": "stdout",
     "output_type": "stream",
     "text": [
      "Number of ICU stays in lab_filtered:  8409\n",
      "Number of ICU stays in lab_filtered:  8409\n"
     ]
    }
   ],
   "source": [
    "vital_filtered = vital_filtered.merge(lab_filtered[['icustay_id', 'charttime']], on=['icustay_id', 'charttime'], how='outer').drop_duplicates()\n",
    "print(\"Number of ICU stays in lab_filtered: \", vital_filtered['icustay_id'].nunique())\n",
    "lab_filtered = lab_filtered.merge(vital_filtered[['icustay_id', 'charttime']], on=['icustay_id', 'charttime'], how='outer').drop_duplicates()\n",
    "print(\"Number of ICU stays in lab_filtered: \", lab_filtered['icustay_id'].nunique())"
   ]
  },
  {
   "cell_type": "code",
   "execution_count": 20,
   "id": "9c895084",
   "metadata": {},
   "outputs": [
    {
     "name": "stderr",
     "output_type": "stream",
     "text": [
      "C:\\Users\\navim\\AppData\\Local\\Temp\\ipykernel_24592\\3516085691.py:12: FutureWarning: DataFrame.mean and DataFrame.median with numeric_only=None will include datetime64 and datetime64tz columns in a future version.\n",
      "  vital_resampled = vital_resampled.set_index(['icustay_id', 'charttime']).groupby('icustay_id')[vital_col].transform(lambda x: x.ffill().bfill()).fillna(value=vital_resampled[['icustay_id', 'charttime', 'heartrate', 'sysbp', 'diasbp', 'meanbp','resprate', 'tempc', 'spo2', 'glucose', 'rbc', 'specificgravity','pedaledema', 'appetite_median']].median()).reset_index()\n"
     ]
    }
   ],
   "source": [
    "vital_resampled = vital_filtered.copy()\n",
    "\n",
    "# Resample from the end of the time series (how=\"last\")\n",
    "vital_resampled = vital_resampled.assign(charttime=vital_resampled.charttime.dt.round('H'))\n",
    "#vital_resampled = vital_resampled.set_index('charttime').groupby('icustay_id').resample('1H', origin=\"end\").median().drop(['icustay_id'], axis = 1).reset_index()\n",
    "# Resample from the beginning of the time series\n",
    "vital_resampled = vital_resampled.set_index('charttime').groupby('icustay_id').resample('1H', origin=\"start\").median().drop(['icustay_id'], axis = 1).reset_index()\n",
    "\n",
    "# Forward and backwards fill (use lambda function instead of directly applying it to groupby otherwise results from one group are carreid forward to another group...BAD)\n",
    "# Fill NaNs (-1)\n",
    "vital_col = vital_resampled.columns.drop(['icustay_id', 'charttime'])\n",
    "vital_resampled = vital_resampled.set_index(['icustay_id', 'charttime']).groupby('icustay_id')[vital_col].transform(lambda x: x.ffill().bfill()).fillna(value=vital_resampled[['icustay_id', 'charttime', 'heartrate', 'sysbp', 'diasbp', 'meanbp','resprate', 'tempc', 'spo2', 'glucose', 'rbc', 'specificgravity','pedaledema', 'appetite_median']].median()).reset_index()\n",
    "#.fillna(value=vital_resampled[vital_columns].mean())#.fillna(0)#.fillna(-1)\n"
   ]
  },
  {
   "cell_type": "code",
   "execution_count": 21,
   "id": "27bec84c",
   "metadata": {},
   "outputs": [
    {
     "name": "stderr",
     "output_type": "stream",
     "text": [
      "C:\\Users\\navim\\AppData\\Local\\Temp\\ipykernel_24592\\3063204683.py:11: FutureWarning: DataFrame.mean and DataFrame.median with numeric_only=None will include datetime64 and datetime64tz columns in a future version.\n",
      "  lab_resampled = lab_resampled.set_index(['icustay_id', 'charttime']).groupby('icustay_id')[lab_col].transform(lambda x: x.ffill().bfill()).fillna(value=lab_resampled[['icustay_id', 'subject_id', 'charttime', 'aniongap', 'albumin', 'bands','bicarbonate', 'bilirubin', 'creatinine', 'chloride', 'glucose','hematocrit', 'hemoglobin', 'lactate', 'platelet', 'potassium', 'ptt','inr', 'pt', 'sodium', 'bun', 'wbc', 'bacteria']].median()).reset_index()\n"
     ]
    },
    {
     "name": "stdout",
     "output_type": "stream",
     "text": [
      "730\n"
     ]
    }
   ],
   "source": [
    "lab_resampled = lab_filtered.copy()\n",
    "# Cut out minutes and hours, so that the resampling of the 8h takes the same time span as the 1h samples (for vitals)\n",
    "lab_resampled = lab_resampled.assign(charttime=lab_resampled.charttime.dt.round('H'))\n",
    "# Resample from the end of the time series \n",
    "#lab_resampled = lab_resampled.set_index('charttime').groupby('icustay_id').resample('8h', origin=\"end\").median().drop(['icustay_id'], axis = 1).reset_index()\n",
    "lab_resampled = lab_resampled.set_index('charttime').groupby('icustay_id').resample('8h', origin=\"start\").median().drop(['icustay_id'], axis = 1).reset_index()\n",
    "\n",
    "# Forward and backwards fill (use transform instead of direct groupby otherwise results from one group are carreid forward to another group...BAD)\n",
    "# Fill NaNs (-1 or 0 or mean!?)\n",
    "lab_col = lab_resampled.columns.drop(['icustay_id', 'charttime'])\n",
    "lab_resampled = lab_resampled.set_index(['icustay_id', 'charttime']).groupby('icustay_id')[lab_col].transform(lambda x: x.ffill().bfill()).fillna(value=lab_resampled[['icustay_id', 'subject_id', 'charttime', 'aniongap', 'albumin', 'bands','bicarbonate', 'bilirubin', 'creatinine', 'chloride', 'glucose','hematocrit', 'hemoglobin', 'lactate', 'platelet', 'potassium', 'ptt','inr', 'pt', 'sodium', 'bun', 'wbc', 'bacteria']].median()).reset_index()\n",
    "\n",
    "print(lab_resampled.isnull().sum().sum())"
   ]
  },
  {
   "cell_type": "markdown",
   "id": "63f152ca",
   "metadata": {},
   "source": [
    "Now keep only uptil 4 days data"
   ]
  },
  {
   "cell_type": "code",
   "execution_count": 22,
   "id": "b7dfb79c",
   "metadata": {},
   "outputs": [
    {
     "data": {
      "text/html": [
       "<div>\n",
       "<style scoped>\n",
       "    .dataframe tbody tr th:only-of-type {\n",
       "        vertical-align: middle;\n",
       "    }\n",
       "\n",
       "    .dataframe tbody tr th {\n",
       "        vertical-align: top;\n",
       "    }\n",
       "\n",
       "    .dataframe thead th {\n",
       "        text-align: right;\n",
       "    }\n",
       "</style>\n",
       "<table border=\"1\" class=\"dataframe\">\n",
       "  <thead>\n",
       "    <tr style=\"text-align: right;\">\n",
       "      <th></th>\n",
       "      <th>subject_id</th>\n",
       "      <th>icustay_id</th>\n",
       "      <th>intime</th>\n",
       "      <th>predtime</th>\n",
       "      <th>delta_t_pred</th>\n",
       "    </tr>\n",
       "  </thead>\n",
       "  <tbody>\n",
       "    <tr>\n",
       "      <th>0</th>\n",
       "      <td>334</td>\n",
       "      <td>214236</td>\n",
       "      <td>2136-01-16 10:56:48</td>\n",
       "      <td>2136-01-20 10:56:48</td>\n",
       "      <td>10 days 07:21:18</td>\n",
       "    </tr>\n",
       "    <tr>\n",
       "      <th>1</th>\n",
       "      <td>2005</td>\n",
       "      <td>285731</td>\n",
       "      <td>2163-06-23 11:28:06</td>\n",
       "      <td>2163-06-27 11:28:06</td>\n",
       "      <td>5 days 08:45:56</td>\n",
       "    </tr>\n",
       "    <tr>\n",
       "      <th>2</th>\n",
       "      <td>12174</td>\n",
       "      <td>284866</td>\n",
       "      <td>2118-10-30 16:48:57</td>\n",
       "      <td>2118-11-03 16:48:57</td>\n",
       "      <td>13 days 00:44:12</td>\n",
       "    </tr>\n",
       "    <tr>\n",
       "      <th>3</th>\n",
       "      <td>13535</td>\n",
       "      <td>205010</td>\n",
       "      <td>2196-10-10 22:03:14</td>\n",
       "      <td>2196-10-14 22:03:14</td>\n",
       "      <td>88 days 19:52:36</td>\n",
       "    </tr>\n",
       "    <tr>\n",
       "      <th>4</th>\n",
       "      <td>21824</td>\n",
       "      <td>241223</td>\n",
       "      <td>2107-07-07 20:58:00</td>\n",
       "      <td>2107-07-11 20:58:00</td>\n",
       "      <td>31 days 15:33:00</td>\n",
       "    </tr>\n",
       "  </tbody>\n",
       "</table>\n",
       "</div>"
      ],
      "text/plain": [
       "   subject_id  icustay_id              intime            predtime  \\\n",
       "0         334      214236 2136-01-16 10:56:48 2136-01-20 10:56:48   \n",
       "1        2005      285731 2163-06-23 11:28:06 2163-06-27 11:28:06   \n",
       "2       12174      284866 2118-10-30 16:48:57 2118-11-03 16:48:57   \n",
       "3       13535      205010 2196-10-10 22:03:14 2196-10-14 22:03:14   \n",
       "4       21824      241223 2107-07-07 20:58:00 2107-07-11 20:58:00   \n",
       "\n",
       "      delta_t_pred  \n",
       "0 10 days 07:21:18  \n",
       "1  5 days 08:45:56  \n",
       "2 13 days 00:44:12  \n",
       "3 88 days 19:52:36  \n",
       "4 31 days 15:33:00  "
      ]
     },
     "execution_count": 22,
     "metadata": {},
     "output_type": "execute_result"
    }
   ],
   "source": [
    "delta_t_data = timedelta(days=0, seconds=0, microseconds=0, milliseconds=0, minutes=0, hours=WINDOW_LENGTH, weeks=0)\n",
    "demographics_windowed = demographics_filtered.copy()\n",
    "demographics_windowed['predtime'] = demographics_windowed.intime + delta_t_data\n",
    "demographics_windowed['delta_t_pred'] = demographics_windowed.outtime - demographics_windowed.predtime\n",
    "\n",
    "demographics_windowed[['subject_id', 'icustay_id', 'intime', 'predtime', 'delta_t_pred']].head(5)"
   ]
  },
  {
   "cell_type": "code",
   "execution_count": 23,
   "id": "c904f8c6",
   "metadata": {},
   "outputs": [
    {
     "name": "stdout",
     "output_type": "stream",
     "text": [
      "Number of ICU stays:  8409\n",
      "Number of ICU stays in vitals_cut:  8409\n",
      "Number of ICU stays in labs_cut:  8409\n"
     ]
    }
   ],
   "source": [
    "cut_icustay_ids = pd.DataFrame(demographics_windowed['icustay_id'].unique(), columns=['icustay_id'])\n",
    "print(\"Number of ICU stays: \", cut_icustay_ids['icustay_id'].count())\n",
    "\n",
    "vitals_cut = vital_resampled.merge(cut_icustay_ids, on='icustay_id', how='right')\n",
    "print(\"Number of ICU stays in vitals_cut: \", vitals_cut['icustay_id'].nunique())\n",
    "\n",
    "labs_cut = lab_resampled.merge(cut_icustay_ids, on='icustay_id', how='right')\n",
    "print(\"Number of ICU stays in labs_cut: \", labs_cut['icustay_id'].nunique())\n"
   ]
  },
  {
   "cell_type": "code",
   "execution_count": 24,
   "id": "9899b128",
   "metadata": {},
   "outputs": [
    {
     "name": "stdout",
     "output_type": "stream",
     "text": [
      "4 days, 0:00:00\n"
     ]
    }
   ],
   "source": [
    "print(delta_t_data)"
   ]
  },
  {
   "cell_type": "code",
   "execution_count": 25,
   "id": "2432f622",
   "metadata": {},
   "outputs": [
    {
     "name": "stdout",
     "output_type": "stream",
     "text": [
      "Number of ICU stays in vitals_windowed:  8405\n",
      "Number of ICU stays in labs_windowed:  8405\n"
     ]
    }
   ],
   "source": [
    "vitals_windowed = vital_resampled.merge(demographics_windowed[['icustay_id', 'predtime', 'delta_t_pred']], on='icustay_id', how='right')\n",
    "vitals_windowed = vitals_windowed[vitals_windowed.charttime < vitals_windowed.predtime]\n",
    "print(\"Number of ICU stays in vitals_windowed: \", vitals_windowed['icustay_id'].nunique())\n",
    "\n",
    "labs_windowed = lab_resampled.merge(demographics_windowed[['icustay_id', 'predtime', 'delta_t_pred']], on='icustay_id', how='right')\n",
    "labs_windowed = labs_windowed[labs_windowed.charttime < labs_windowed.predtime]\n",
    "print(\"Number of ICU stays in labs_windowed: \", labs_windowed['icustay_id'].nunique())\n",
    "\n",
    "windowed_icustay_ids = pd.DataFrame(pd.concat([vitals_windowed['icustay_id'], labs_windowed['icustay_id']]).unique(), columns=['icustay_id'])\n",
    "demographics_windowed = demographics_windowed.merge(windowed_icustay_ids, on='icustay_id', how='right')"
   ]
  },
  {
   "cell_type": "code",
   "execution_count": 26,
   "id": "f2dddc6b",
   "metadata": {},
   "outputs": [
    {
     "data": {
      "text/plain": [
       "icustay_id        0\n",
       "charttime         0\n",
       "subject_id        0\n",
       "aniongap          0\n",
       "albumin           0\n",
       "bands             0\n",
       "bicarbonate       0\n",
       "bilirubin         0\n",
       "creatinine        0\n",
       "chloride          0\n",
       "glucose           0\n",
       "hematocrit        0\n",
       "hemoglobin        0\n",
       "lactate           0\n",
       "platelet          0\n",
       "potassium         0\n",
       "ptt               0\n",
       "inr               0\n",
       "pt                0\n",
       "sodium            0\n",
       "bun               0\n",
       "wbc               0\n",
       "bacteria          0\n",
       "ckd             162\n",
       "predtime          0\n",
       "delta_t_pred      0\n",
       "dtype: int64"
      ]
     },
     "execution_count": 26,
     "metadata": {},
     "output_type": "execute_result"
    }
   ],
   "source": [
    "labs_windowed.isna().sum()"
   ]
  },
  {
   "cell_type": "code",
   "execution_count": 27,
   "id": "bd636589",
   "metadata": {},
   "outputs": [
    {
     "data": {
      "text/plain": [
       "icustay_id              0\n",
       "charttime               0\n",
       "heartrate               0\n",
       "sysbp                   0\n",
       "diasbp                  0\n",
       "meanbp                  0\n",
       "resprate                0\n",
       "tempc                   0\n",
       "spo2                    0\n",
       "glucose                 0\n",
       "rbc                     0\n",
       "specificgravity         0\n",
       "pedaledema         812438\n",
       "appetite_median         0\n",
       "ckd                  1481\n",
       "predtime                0\n",
       "delta_t_pred            0\n",
       "dtype: int64"
      ]
     },
     "execution_count": 27,
     "metadata": {},
     "output_type": "execute_result"
    }
   ],
   "source": [
    "vitals_windowed.isna().sum()"
   ]
  },
  {
   "cell_type": "markdown",
   "id": "f8826f4f",
   "metadata": {},
   "source": [
    "using icustay_id from demographics "
   ]
  },
  {
   "cell_type": "code",
   "execution_count": 28,
   "id": "8b6ae9ca",
   "metadata": {},
   "outputs": [],
   "source": [
    "vitals_windowed['ckd'] = vitals_windowed['icustay_id'].map(demographics_windowed.set_index('icustay_id')['ckd'])"
   ]
  },
  {
   "cell_type": "code",
   "execution_count": 29,
   "id": "e7a4aa25",
   "metadata": {},
   "outputs": [
    {
     "data": {
      "text/plain": [
       "icustay_id              0\n",
       "charttime               0\n",
       "heartrate               0\n",
       "sysbp                   0\n",
       "diasbp                  0\n",
       "meanbp                  0\n",
       "resprate                0\n",
       "tempc                   0\n",
       "spo2                    0\n",
       "glucose                 0\n",
       "rbc                     0\n",
       "specificgravity         0\n",
       "pedaledema         812438\n",
       "appetite_median         0\n",
       "ckd                     0\n",
       "predtime                0\n",
       "delta_t_pred            0\n",
       "dtype: int64"
      ]
     },
     "execution_count": 29,
     "metadata": {},
     "output_type": "execute_result"
    }
   ],
   "source": [
    "vitals_windowed.isna().sum()"
   ]
  },
  {
   "cell_type": "code",
   "execution_count": 30,
   "id": "7ac52d08",
   "metadata": {},
   "outputs": [],
   "source": [
    "labs_windowed['ckd'] = labs_windowed['icustay_id'].map(demographics_windowed.set_index('icustay_id')['ckd'])"
   ]
  },
  {
   "cell_type": "code",
   "execution_count": 31,
   "id": "10c142f6",
   "metadata": {},
   "outputs": [
    {
     "data": {
      "text/plain": [
       "icustay_id      0\n",
       "charttime       0\n",
       "subject_id      0\n",
       "aniongap        0\n",
       "albumin         0\n",
       "bands           0\n",
       "bicarbonate     0\n",
       "bilirubin       0\n",
       "creatinine      0\n",
       "chloride        0\n",
       "glucose         0\n",
       "hematocrit      0\n",
       "hemoglobin      0\n",
       "lactate         0\n",
       "platelet        0\n",
       "potassium       0\n",
       "ptt             0\n",
       "inr             0\n",
       "pt              0\n",
       "sodium          0\n",
       "bun             0\n",
       "wbc             0\n",
       "bacteria        0\n",
       "ckd             0\n",
       "predtime        0\n",
       "delta_t_pred    0\n",
       "dtype: int64"
      ]
     },
     "execution_count": 31,
     "metadata": {},
     "output_type": "execute_result"
    }
   ],
   "source": [
    "labs_windowed.isna().sum()"
   ]
  },
  {
   "cell_type": "markdown",
   "id": "dc0bbf44",
   "metadata": {},
   "source": [
    "Some patients might not have any value for pedaledema and hence we are filling those with -1"
   ]
  },
  {
   "cell_type": "code",
   "execution_count": 32,
   "id": "75302bdb",
   "metadata": {},
   "outputs": [
    {
     "data": {
      "text/plain": [
       "subject_id                        0\n",
       "hadm_id                           0\n",
       "icustay_id                        0\n",
       "gender                            0\n",
       "dod                            4663\n",
       "admittime                         0\n",
       "dischtime                         0\n",
       "los_hospital                      0\n",
       "admission_age                     0\n",
       "ethnicity                         0\n",
       "ethnicity_grouped                 0\n",
       "hospital_expire_flag              0\n",
       "hospstay_seq                      0\n",
       "first_hosp_stay                   0\n",
       "intime                            0\n",
       "outtime                           0\n",
       "los_icu                           0\n",
       "icustay_seq                       0\n",
       "first_icu_stay_current_hosp       0\n",
       "first_icu_stay_patient            0\n",
       "first_careunit                    0\n",
       "deathtime_icu                  7283\n",
       "label_death_icu                   0\n",
       "label_cor_art                     0\n",
       "diabetes_mellitus                 0\n",
       "ckd                               0\n",
       "anemia_flag                       0\n",
       "predtime                          0\n",
       "delta_t_pred                      0\n",
       "dtype: int64"
      ]
     },
     "execution_count": 32,
     "metadata": {},
     "output_type": "execute_result"
    }
   ],
   "source": [
    "demographics_windowed.isna().sum()"
   ]
  },
  {
   "cell_type": "code",
   "execution_count": 33,
   "id": "bc18a28c",
   "metadata": {},
   "outputs": [],
   "source": [
    "vitals_windowed =vitals_windowed.set_index(['icustay_id', 'charttime']).groupby('icustay_id')[vital_col].transform(lambda x: x.ffill().bfill()).fillna(-1).reset_index()"
   ]
  },
  {
   "cell_type": "code",
   "execution_count": 34,
   "id": "b3312c2f",
   "metadata": {},
   "outputs": [
    {
     "data": {
      "text/plain": [
       "icustay_id         0\n",
       "charttime          0\n",
       "heartrate          0\n",
       "sysbp              0\n",
       "diasbp             0\n",
       "meanbp             0\n",
       "resprate           0\n",
       "tempc              0\n",
       "spo2               0\n",
       "glucose            0\n",
       "rbc                0\n",
       "specificgravity    0\n",
       "pedaledema         0\n",
       "appetite_median    0\n",
       "ckd                0\n",
       "dtype: int64"
      ]
     },
     "execution_count": 34,
     "metadata": {},
     "output_type": "execute_result"
    }
   ],
   "source": [
    "vitals_windowed.isna().sum()"
   ]
  },
  {
   "cell_type": "code",
   "execution_count": 35,
   "id": "57adc0e2",
   "metadata": {},
   "outputs": [
    {
     "name": "stdout",
     "output_type": "stream",
     "text": [
      "Number of ICU stays demographics:  8405\n",
      "Number of CKD demographics:\n",
      " 0    7868\n",
      "1     537\n",
      "Name: ckd, dtype: int64\n",
      "Number of ICU stays vitals:  8405\n",
      "Number of CKD vitals:\n",
      " 0    760776\n",
      "1     51662\n",
      "Name: ckd, dtype: int64\n",
      "Number of ICU stays labs:  8405\n",
      "Number of CKD labs:\n",
      " 0    98884\n",
      "1     6658\n",
      "Name: ckd, dtype: int64\n"
     ]
    }
   ],
   "source": [
    "print(\"Number of ICU stays demographics: \", demographics_windowed['icustay_id'].nunique())\n",
    "print(\"Number of CKD demographics:\\n\", demographics_windowed['ckd'].value_counts())\n",
    "\n",
    "print(\"Number of ICU stays vitals: \", vitals_windowed['icustay_id'].nunique())\n",
    "print(\"Number of CKD vitals:\\n\", vitals_windowed['ckd'].value_counts())\n",
    "\n",
    "print(\"Number of ICU stays labs: \", labs_windowed['icustay_id'].nunique())\n",
    "print(\"Number of CKD labs:\\n\", labs_windowed['ckd'].value_counts())"
   ]
  },
  {
   "cell_type": "code",
   "execution_count": 84,
   "id": "354ee2a0",
   "metadata": {},
   "outputs": [],
   "source": [
    "import pandas as pd\n",
    "import numpy as np\n",
    "\n",
    "def aggregate_dataframe(df, groupby_key, columns_to_aggregate):\n",
    "    df = df.replace(-1, np.nan)\n",
    "    result = df.groupby(groupby_key)[columns_to_aggregate].mean().reset_index()    \n",
    "    return result"
   ]
  },
  {
   "cell_type": "code",
   "execution_count": 77,
   "id": "a3978b69",
   "metadata": {},
   "outputs": [],
   "source": [
    "columns_to_merge = ['icustay_id', 'ckd','ethnicity']"
   ]
  },
  {
   "cell_type": "code",
   "execution_count": 78,
   "id": "a53d7738",
   "metadata": {},
   "outputs": [],
   "source": [
    "df_cols_vitals = ['heartrate', 'sysbp','diasbp','meanbp','resprate','tempc','spo2','specificgravity','pedaledema','appetite_median']\n",
    "df_agg_vitals = aggregate_dataframe(vitals_windowed, 'icustay_id', df_cols_vitals)\n",
    "\n",
    "df_agg_vitals = df_agg_vitals.merge(demographics_windowed[columns_to_merge], on='icustay_id', how='inner')\n",
    "df_agg_vitals['ckd_ethnicity'] = df_agg_vitals['ckd'].astype(str).str.cat(df_agg_vitals['ethnicity'].astype(str))"
   ]
  },
  {
   "cell_type": "code",
   "execution_count": 79,
   "id": "b1eb1a36",
   "metadata": {},
   "outputs": [],
   "source": [
    "df_cols_labs = ['albumin','bacteria','glucose','bun','creatinine','sodium','potassium','hemoglobin','wbc','hematocrit','platelet','ptt']\n",
    "df_agg_labs = aggregate_dataframe(labs_windowed, 'icustay_id', df_cols_labs)\n",
    "\n",
    "df_agg_labs = df_agg_labs.merge(demographics_windowed[columns_to_merge], on='icustay_id', how='inner')\n",
    "df_agg_labs['ckd_ethnicity'] = df_agg_labs['ckd'].astype(str).str.cat(df_agg_labs['ethnicity'].astype(str))"
   ]
  },
  {
   "cell_type": "code",
   "execution_count": 80,
   "id": "d4f1839b",
   "metadata": {},
   "outputs": [
    {
     "data": {
      "text/html": [
       "<div>\n",
       "<style scoped>\n",
       "    .dataframe tbody tr th:only-of-type {\n",
       "        vertical-align: middle;\n",
       "    }\n",
       "\n",
       "    .dataframe tbody tr th {\n",
       "        vertical-align: top;\n",
       "    }\n",
       "\n",
       "    .dataframe thead th {\n",
       "        text-align: right;\n",
       "    }\n",
       "</style>\n",
       "<table border=\"1\" class=\"dataframe\">\n",
       "  <thead>\n",
       "    <tr style=\"text-align: right;\">\n",
       "      <th></th>\n",
       "      <th>icustay_id</th>\n",
       "      <th>heartrate</th>\n",
       "      <th>sysbp</th>\n",
       "      <th>diasbp</th>\n",
       "      <th>meanbp</th>\n",
       "      <th>resprate</th>\n",
       "      <th>tempc</th>\n",
       "      <th>spo2</th>\n",
       "      <th>specificgravity</th>\n",
       "      <th>pedaledema</th>\n",
       "      <th>appetite_median</th>\n",
       "      <th>ckd</th>\n",
       "      <th>ethnicity</th>\n",
       "      <th>ckd_ethnicity</th>\n",
       "    </tr>\n",
       "  </thead>\n",
       "  <tbody>\n",
       "    <tr>\n",
       "      <th>0</th>\n",
       "      <td>200017</td>\n",
       "      <td>155.052083</td>\n",
       "      <td>120.0</td>\n",
       "      <td>58.5</td>\n",
       "      <td>78.0</td>\n",
       "      <td>20.5</td>\n",
       "      <td>37.111111</td>\n",
       "      <td>98.0</td>\n",
       "      <td>1.02</td>\n",
       "      <td>NaN</td>\n",
       "      <td>3.0</td>\n",
       "      <td>0</td>\n",
       "      <td>WHITE</td>\n",
       "      <td>0WHITE</td>\n",
       "    </tr>\n",
       "  </tbody>\n",
       "</table>\n",
       "</div>"
      ],
      "text/plain": [
       "   icustay_id   heartrate  sysbp  diasbp  meanbp  resprate      tempc  spo2  \\\n",
       "0      200017  155.052083  120.0    58.5    78.0      20.5  37.111111  98.0   \n",
       "\n",
       "   specificgravity  pedaledema  appetite_median  ckd ethnicity ckd_ethnicity  \n",
       "0             1.02         NaN              3.0    0     WHITE        0WHITE  "
      ]
     },
     "execution_count": 80,
     "metadata": {},
     "output_type": "execute_result"
    }
   ],
   "source": [
    "df_agg_vitals[df_agg_vitals['icustay_id']==200017]"
   ]
  },
  {
   "cell_type": "code",
   "execution_count": 86,
   "id": "daeeef99",
   "metadata": {},
   "outputs": [
    {
     "data": {
      "text/html": [
       "<div>\n",
       "<style scoped>\n",
       "    .dataframe tbody tr th:only-of-type {\n",
       "        vertical-align: middle;\n",
       "    }\n",
       "\n",
       "    .dataframe tbody tr th {\n",
       "        vertical-align: top;\n",
       "    }\n",
       "\n",
       "    .dataframe thead th {\n",
       "        text-align: right;\n",
       "    }\n",
       "</style>\n",
       "<table border=\"1\" class=\"dataframe\">\n",
       "  <thead>\n",
       "    <tr style=\"text-align: right;\">\n",
       "      <th></th>\n",
       "      <th>heartrate</th>\n",
       "      <th>sysbp</th>\n",
       "      <th>diasbp</th>\n",
       "      <th>meanbp</th>\n",
       "      <th>resprate</th>\n",
       "      <th>tempc</th>\n",
       "      <th>spo2</th>\n",
       "      <th>specificgravity</th>\n",
       "      <th>pedaledema</th>\n",
       "      <th>appetite_median</th>\n",
       "    </tr>\n",
       "  </thead>\n",
       "  <tbody>\n",
       "    <tr>\n",
       "      <th>count</th>\n",
       "      <td>8405.000000</td>\n",
       "      <td>8405.000000</td>\n",
       "      <td>8405.000000</td>\n",
       "      <td>8405.000000</td>\n",
       "      <td>8405.000000</td>\n",
       "      <td>8405.000000</td>\n",
       "      <td>8405.000000</td>\n",
       "      <td>8405.000000</td>\n",
       "      <td>0.0</td>\n",
       "      <td>8405.000000</td>\n",
       "    </tr>\n",
       "    <tr>\n",
       "      <th>mean</th>\n",
       "      <td>102.230058</td>\n",
       "      <td>120.058675</td>\n",
       "      <td>59.600023</td>\n",
       "      <td>78.825859</td>\n",
       "      <td>20.118758</td>\n",
       "      <td>37.063003</td>\n",
       "      <td>97.440468</td>\n",
       "      <td>1.019617</td>\n",
       "      <td>NaN</td>\n",
       "      <td>2.924890</td>\n",
       "    </tr>\n",
       "    <tr>\n",
       "      <th>std</th>\n",
       "      <td>27.637458</td>\n",
       "      <td>13.417085</td>\n",
       "      <td>8.101155</td>\n",
       "      <td>8.654504</td>\n",
       "      <td>3.430999</td>\n",
       "      <td>0.503748</td>\n",
       "      <td>1.599091</td>\n",
       "      <td>0.005798</td>\n",
       "      <td>NaN</td>\n",
       "      <td>0.343462</td>\n",
       "    </tr>\n",
       "    <tr>\n",
       "      <th>min</th>\n",
       "      <td>45.375000</td>\n",
       "      <td>58.000000</td>\n",
       "      <td>26.618557</td>\n",
       "      <td>44.000000</td>\n",
       "      <td>8.203125</td>\n",
       "      <td>34.088657</td>\n",
       "      <td>70.602041</td>\n",
       "      <td>1.000000</td>\n",
       "      <td>NaN</td>\n",
       "      <td>1.000000</td>\n",
       "    </tr>\n",
       "    <tr>\n",
       "      <th>25%</th>\n",
       "      <td>81.166667</td>\n",
       "      <td>111.768041</td>\n",
       "      <td>55.844737</td>\n",
       "      <td>74.265625</td>\n",
       "      <td>18.061856</td>\n",
       "      <td>36.794785</td>\n",
       "      <td>96.760204</td>\n",
       "      <td>1.020000</td>\n",
       "      <td>NaN</td>\n",
       "      <td>3.000000</td>\n",
       "    </tr>\n",
       "    <tr>\n",
       "      <th>50%</th>\n",
       "      <td>93.893617</td>\n",
       "      <td>120.000000</td>\n",
       "      <td>58.500000</td>\n",
       "      <td>78.000000</td>\n",
       "      <td>20.500000</td>\n",
       "      <td>37.111111</td>\n",
       "      <td>98.000000</td>\n",
       "      <td>1.020000</td>\n",
       "      <td>NaN</td>\n",
       "      <td>3.000000</td>\n",
       "    </tr>\n",
       "    <tr>\n",
       "      <th>75%</th>\n",
       "      <td>129.163265</td>\n",
       "      <td>125.059278</td>\n",
       "      <td>63.078125</td>\n",
       "      <td>82.170103</td>\n",
       "      <td>21.237113</td>\n",
       "      <td>37.291524</td>\n",
       "      <td>98.123711</td>\n",
       "      <td>1.020000</td>\n",
       "      <td>NaN</td>\n",
       "      <td>3.000000</td>\n",
       "    </tr>\n",
       "    <tr>\n",
       "      <th>max</th>\n",
       "      <td>190.000000</td>\n",
       "      <td>200.500000</td>\n",
       "      <td>102.463918</td>\n",
       "      <td>130.407216</td>\n",
       "      <td>40.057292</td>\n",
       "      <td>39.612500</td>\n",
       "      <td>100.000000</td>\n",
       "      <td>1.350000</td>\n",
       "      <td>NaN</td>\n",
       "      <td>3.000000</td>\n",
       "    </tr>\n",
       "  </tbody>\n",
       "</table>\n",
       "</div>"
      ],
      "text/plain": [
       "         heartrate        sysbp       diasbp       meanbp     resprate  \\\n",
       "count  8405.000000  8405.000000  8405.000000  8405.000000  8405.000000   \n",
       "mean    102.230058   120.058675    59.600023    78.825859    20.118758   \n",
       "std      27.637458    13.417085     8.101155     8.654504     3.430999   \n",
       "min      45.375000    58.000000    26.618557    44.000000     8.203125   \n",
       "25%      81.166667   111.768041    55.844737    74.265625    18.061856   \n",
       "50%      93.893617   120.000000    58.500000    78.000000    20.500000   \n",
       "75%     129.163265   125.059278    63.078125    82.170103    21.237113   \n",
       "max     190.000000   200.500000   102.463918   130.407216    40.057292   \n",
       "\n",
       "             tempc         spo2  specificgravity  pedaledema  appetite_median  \n",
       "count  8405.000000  8405.000000      8405.000000         0.0      8405.000000  \n",
       "mean     37.063003    97.440468         1.019617         NaN         2.924890  \n",
       "std       0.503748     1.599091         0.005798         NaN         0.343462  \n",
       "min      34.088657    70.602041         1.000000         NaN         1.000000  \n",
       "25%      36.794785    96.760204         1.020000         NaN         3.000000  \n",
       "50%      37.111111    98.000000         1.020000         NaN         3.000000  \n",
       "75%      37.291524    98.123711         1.020000         NaN         3.000000  \n",
       "max      39.612500   100.000000         1.350000         NaN         3.000000  "
      ]
     },
     "execution_count": 86,
     "metadata": {},
     "output_type": "execute_result"
    }
   ],
   "source": [
    "df_agg_vitals[df_cols_vitals].describe()"
   ]
  },
  {
   "cell_type": "code",
   "execution_count": 87,
   "id": "ef31cc52",
   "metadata": {},
   "outputs": [
    {
     "data": {
      "text/html": [
       "<div>\n",
       "<style scoped>\n",
       "    .dataframe tbody tr th:only-of-type {\n",
       "        vertical-align: middle;\n",
       "    }\n",
       "\n",
       "    .dataframe tbody tr th {\n",
       "        vertical-align: top;\n",
       "    }\n",
       "\n",
       "    .dataframe thead th {\n",
       "        text-align: right;\n",
       "    }\n",
       "</style>\n",
       "<table border=\"1\" class=\"dataframe\">\n",
       "  <thead>\n",
       "    <tr style=\"text-align: right;\">\n",
       "      <th></th>\n",
       "      <th>albumin</th>\n",
       "      <th>bacteria</th>\n",
       "      <th>glucose</th>\n",
       "      <th>bun</th>\n",
       "      <th>creatinine</th>\n",
       "      <th>sodium</th>\n",
       "      <th>potassium</th>\n",
       "      <th>hemoglobin</th>\n",
       "      <th>wbc</th>\n",
       "      <th>hematocrit</th>\n",
       "      <th>platelet</th>\n",
       "      <th>ptt</th>\n",
       "    </tr>\n",
       "  </thead>\n",
       "  <tbody>\n",
       "    <tr>\n",
       "      <th>count</th>\n",
       "      <td>8405.000000</td>\n",
       "      <td>8405.000000</td>\n",
       "      <td>8405.000000</td>\n",
       "      <td>8405.000000</td>\n",
       "      <td>8405.000000</td>\n",
       "      <td>8405.000000</td>\n",
       "      <td>8405.000000</td>\n",
       "      <td>8405.000000</td>\n",
       "      <td>8405.000000</td>\n",
       "      <td>8405.000000</td>\n",
       "      <td>8405.000000</td>\n",
       "      <td>8405.000000</td>\n",
       "    </tr>\n",
       "    <tr>\n",
       "      <th>mean</th>\n",
       "      <td>2.699743</td>\n",
       "      <td>1.833465</td>\n",
       "      <td>132.768085</td>\n",
       "      <td>30.248125</td>\n",
       "      <td>1.384878</td>\n",
       "      <td>139.421106</td>\n",
       "      <td>4.246114</td>\n",
       "      <td>11.142483</td>\n",
       "      <td>12.422301</td>\n",
       "      <td>33.299711</td>\n",
       "      <td>213.764680</td>\n",
       "      <td>37.698887</td>\n",
       "    </tr>\n",
       "    <tr>\n",
       "      <th>std</th>\n",
       "      <td>0.513681</td>\n",
       "      <td>0.365806</td>\n",
       "      <td>32.523933</td>\n",
       "      <td>20.434213</td>\n",
       "      <td>1.261521</td>\n",
       "      <td>4.052474</td>\n",
       "      <td>0.585231</td>\n",
       "      <td>2.556930</td>\n",
       "      <td>6.552021</td>\n",
       "      <td>7.732983</td>\n",
       "      <td>112.094861</td>\n",
       "      <td>12.906332</td>\n",
       "    </tr>\n",
       "    <tr>\n",
       "      <th>min</th>\n",
       "      <td>1.100000</td>\n",
       "      <td>1.000000</td>\n",
       "      <td>1.000000</td>\n",
       "      <td>1.500000</td>\n",
       "      <td>0.100000</td>\n",
       "      <td>115.500000</td>\n",
       "      <td>2.615385</td>\n",
       "      <td>4.303846</td>\n",
       "      <td>0.100000</td>\n",
       "      <td>13.707692</td>\n",
       "      <td>8.615385</td>\n",
       "      <td>15.900000</td>\n",
       "    </tr>\n",
       "    <tr>\n",
       "      <th>25%</th>\n",
       "      <td>2.550000</td>\n",
       "      <td>2.000000</td>\n",
       "      <td>118.166667</td>\n",
       "      <td>16.615385</td>\n",
       "      <td>0.738462</td>\n",
       "      <td>137.000000</td>\n",
       "      <td>3.865385</td>\n",
       "      <td>9.607692</td>\n",
       "      <td>8.808333</td>\n",
       "      <td>28.534615</td>\n",
       "      <td>138.769231</td>\n",
       "      <td>30.041667</td>\n",
       "    </tr>\n",
       "    <tr>\n",
       "      <th>50%</th>\n",
       "      <td>2.600000</td>\n",
       "      <td>2.000000</td>\n",
       "      <td>125.000000</td>\n",
       "      <td>29.000000</td>\n",
       "      <td>1.000000</td>\n",
       "      <td>139.423077</td>\n",
       "      <td>4.092308</td>\n",
       "      <td>10.284615</td>\n",
       "      <td>11.500000</td>\n",
       "      <td>30.558333</td>\n",
       "      <td>206.692308</td>\n",
       "      <td>36.000000</td>\n",
       "    </tr>\n",
       "    <tr>\n",
       "      <th>75%</th>\n",
       "      <td>2.900000</td>\n",
       "      <td>2.000000</td>\n",
       "      <td>143.307692</td>\n",
       "      <td>34.416667</td>\n",
       "      <td>1.453846</td>\n",
       "      <td>142.038462</td>\n",
       "      <td>4.500000</td>\n",
       "      <td>11.925000</td>\n",
       "      <td>14.500000</td>\n",
       "      <td>35.658333</td>\n",
       "      <td>262.153846</td>\n",
       "      <td>38.433333</td>\n",
       "    </tr>\n",
       "    <tr>\n",
       "      <th>max</th>\n",
       "      <td>5.400000</td>\n",
       "      <td>2.000000</td>\n",
       "      <td>798.000000</td>\n",
       "      <td>179.500000</td>\n",
       "      <td>22.358333</td>\n",
       "      <td>156.125000</td>\n",
       "      <td>8.700000</td>\n",
       "      <td>23.992308</td>\n",
       "      <td>157.391667</td>\n",
       "      <td>66.653846</td>\n",
       "      <td>1147.000000</td>\n",
       "      <td>150.000000</td>\n",
       "    </tr>\n",
       "  </tbody>\n",
       "</table>\n",
       "</div>"
      ],
      "text/plain": [
       "           albumin     bacteria      glucose          bun   creatinine  \\\n",
       "count  8405.000000  8405.000000  8405.000000  8405.000000  8405.000000   \n",
       "mean      2.699743     1.833465   132.768085    30.248125     1.384878   \n",
       "std       0.513681     0.365806    32.523933    20.434213     1.261521   \n",
       "min       1.100000     1.000000     1.000000     1.500000     0.100000   \n",
       "25%       2.550000     2.000000   118.166667    16.615385     0.738462   \n",
       "50%       2.600000     2.000000   125.000000    29.000000     1.000000   \n",
       "75%       2.900000     2.000000   143.307692    34.416667     1.453846   \n",
       "max       5.400000     2.000000   798.000000   179.500000    22.358333   \n",
       "\n",
       "            sodium    potassium   hemoglobin          wbc   hematocrit  \\\n",
       "count  8405.000000  8405.000000  8405.000000  8405.000000  8405.000000   \n",
       "mean    139.421106     4.246114    11.142483    12.422301    33.299711   \n",
       "std       4.052474     0.585231     2.556930     6.552021     7.732983   \n",
       "min     115.500000     2.615385     4.303846     0.100000    13.707692   \n",
       "25%     137.000000     3.865385     9.607692     8.808333    28.534615   \n",
       "50%     139.423077     4.092308    10.284615    11.500000    30.558333   \n",
       "75%     142.038462     4.500000    11.925000    14.500000    35.658333   \n",
       "max     156.125000     8.700000    23.992308   157.391667    66.653846   \n",
       "\n",
       "          platelet          ptt  \n",
       "count  8405.000000  8405.000000  \n",
       "mean    213.764680    37.698887  \n",
       "std     112.094861    12.906332  \n",
       "min       8.615385    15.900000  \n",
       "25%     138.769231    30.041667  \n",
       "50%     206.692308    36.000000  \n",
       "75%     262.153846    38.433333  \n",
       "max    1147.000000   150.000000  "
      ]
     },
     "execution_count": 87,
     "metadata": {},
     "output_type": "execute_result"
    }
   ],
   "source": [
    "df_agg_labs[df_cols_labs].describe()"
   ]
  },
  {
   "cell_type": "code",
   "execution_count": 83,
   "id": "0d51c89c",
   "metadata": {
    "scrolled": true
   },
   "outputs": [
    {
     "data": {
      "text/html": [
       "<div>\n",
       "<style scoped>\n",
       "    .dataframe tbody tr th:only-of-type {\n",
       "        vertical-align: middle;\n",
       "    }\n",
       "\n",
       "    .dataframe tbody tr th {\n",
       "        vertical-align: top;\n",
       "    }\n",
       "\n",
       "    .dataframe thead th {\n",
       "        text-align: right;\n",
       "    }\n",
       "</style>\n",
       "<table border=\"1\" class=\"dataframe\">\n",
       "  <thead>\n",
       "    <tr style=\"text-align: right;\">\n",
       "      <th></th>\n",
       "      <th>subject_id</th>\n",
       "      <th>hadm_id</th>\n",
       "      <th>icustay_id</th>\n",
       "      <th>gender</th>\n",
       "      <th>dod</th>\n",
       "      <th>admittime</th>\n",
       "      <th>dischtime</th>\n",
       "      <th>los_hospital</th>\n",
       "      <th>admission_age</th>\n",
       "      <th>ethnicity</th>\n",
       "      <th>...</th>\n",
       "      <th>first_icu_stay_patient</th>\n",
       "      <th>first_careunit</th>\n",
       "      <th>deathtime_icu</th>\n",
       "      <th>label_death_icu</th>\n",
       "      <th>label_cor_art</th>\n",
       "      <th>diabetes_mellitus</th>\n",
       "      <th>ckd</th>\n",
       "      <th>anemia_flag</th>\n",
       "      <th>predtime</th>\n",
       "      <th>delta_t_pred</th>\n",
       "    </tr>\n",
       "  </thead>\n",
       "  <tbody>\n",
       "    <tr>\n",
       "      <th>0</th>\n",
       "      <td>334</td>\n",
       "      <td>104852</td>\n",
       "      <td>214236</td>\n",
       "      <td>M</td>\n",
       "      <td>NaT</td>\n",
       "      <td>2136-01-16 10:46:00</td>\n",
       "      <td>2136-01-30 17:45:00</td>\n",
       "      <td>14.290972</td>\n",
       "      <td>0.001249</td>\n",
       "      <td>WHITE</td>\n",
       "      <td>...</td>\n",
       "      <td>True</td>\n",
       "      <td>NICU</td>\n",
       "      <td>NaT</td>\n",
       "      <td>0</td>\n",
       "      <td>0</td>\n",
       "      <td>0</td>\n",
       "      <td>0</td>\n",
       "      <td>0</td>\n",
       "      <td>2136-01-20 10:56:48</td>\n",
       "      <td>10 days 07:21:18</td>\n",
       "    </tr>\n",
       "    <tr>\n",
       "      <th>1</th>\n",
       "      <td>2005</td>\n",
       "      <td>104311</td>\n",
       "      <td>285731</td>\n",
       "      <td>F</td>\n",
       "      <td>NaT</td>\n",
       "      <td>2163-06-23 11:27:00</td>\n",
       "      <td>2163-07-07 17:13:00</td>\n",
       "      <td>14.240278</td>\n",
       "      <td>47.101587</td>\n",
       "      <td>BLACK/AFRICAN AMERICAN</td>\n",
       "      <td>...</td>\n",
       "      <td>True</td>\n",
       "      <td>SICU</td>\n",
       "      <td>NaT</td>\n",
       "      <td>0</td>\n",
       "      <td>0</td>\n",
       "      <td>0</td>\n",
       "      <td>0</td>\n",
       "      <td>0</td>\n",
       "      <td>2163-06-27 11:28:06</td>\n",
       "      <td>5 days 08:45:56</td>\n",
       "    </tr>\n",
       "    <tr>\n",
       "      <th>2</th>\n",
       "      <td>12174</td>\n",
       "      <td>105537</td>\n",
       "      <td>284866</td>\n",
       "      <td>M</td>\n",
       "      <td>NaT</td>\n",
       "      <td>2118-10-30 16:48:00</td>\n",
       "      <td>2118-11-25 21:15:00</td>\n",
       "      <td>26.185417</td>\n",
       "      <td>46.258921</td>\n",
       "      <td>WHITE</td>\n",
       "      <td>...</td>\n",
       "      <td>True</td>\n",
       "      <td>MICU</td>\n",
       "      <td>NaT</td>\n",
       "      <td>0</td>\n",
       "      <td>0</td>\n",
       "      <td>0</td>\n",
       "      <td>0</td>\n",
       "      <td>0</td>\n",
       "      <td>2118-11-03 16:48:57</td>\n",
       "      <td>13 days 00:44:12</td>\n",
       "    </tr>\n",
       "    <tr>\n",
       "      <th>3</th>\n",
       "      <td>13535</td>\n",
       "      <td>105299</td>\n",
       "      <td>205010</td>\n",
       "      <td>M</td>\n",
       "      <td>NaT</td>\n",
       "      <td>2196-10-10 22:01:00</td>\n",
       "      <td>2197-01-11 14:45:00</td>\n",
       "      <td>92.697222</td>\n",
       "      <td>0.040847</td>\n",
       "      <td>WHITE</td>\n",
       "      <td>...</td>\n",
       "      <td>False</td>\n",
       "      <td>NICU</td>\n",
       "      <td>NaT</td>\n",
       "      <td>0</td>\n",
       "      <td>0</td>\n",
       "      <td>0</td>\n",
       "      <td>0</td>\n",
       "      <td>0</td>\n",
       "      <td>2196-10-14 22:03:14</td>\n",
       "      <td>88 days 19:52:36</td>\n",
       "    </tr>\n",
       "    <tr>\n",
       "      <th>4</th>\n",
       "      <td>21824</td>\n",
       "      <td>100585</td>\n",
       "      <td>241223</td>\n",
       "      <td>M</td>\n",
       "      <td>NaT</td>\n",
       "      <td>2107-07-07 20:46:00</td>\n",
       "      <td>2107-08-12 12:31:00</td>\n",
       "      <td>35.656250</td>\n",
       "      <td>0.002392</td>\n",
       "      <td>BLACK/AFRICAN AMERICAN</td>\n",
       "      <td>...</td>\n",
       "      <td>True</td>\n",
       "      <td>NICU</td>\n",
       "      <td>NaT</td>\n",
       "      <td>0</td>\n",
       "      <td>0</td>\n",
       "      <td>0</td>\n",
       "      <td>0</td>\n",
       "      <td>0</td>\n",
       "      <td>2107-07-11 20:58:00</td>\n",
       "      <td>31 days 15:33:00</td>\n",
       "    </tr>\n",
       "  </tbody>\n",
       "</table>\n",
       "<p>5 rows × 29 columns</p>\n",
       "</div>"
      ],
      "text/plain": [
       "   subject_id  hadm_id  icustay_id gender dod           admittime  \\\n",
       "0         334   104852      214236      M NaT 2136-01-16 10:46:00   \n",
       "1        2005   104311      285731      F NaT 2163-06-23 11:27:00   \n",
       "2       12174   105537      284866      M NaT 2118-10-30 16:48:00   \n",
       "3       13535   105299      205010      M NaT 2196-10-10 22:01:00   \n",
       "4       21824   100585      241223      M NaT 2107-07-07 20:46:00   \n",
       "\n",
       "            dischtime  los_hospital  admission_age               ethnicity  \\\n",
       "0 2136-01-30 17:45:00     14.290972       0.001249                   WHITE   \n",
       "1 2163-07-07 17:13:00     14.240278      47.101587  BLACK/AFRICAN AMERICAN   \n",
       "2 2118-11-25 21:15:00     26.185417      46.258921                   WHITE   \n",
       "3 2197-01-11 14:45:00     92.697222       0.040847                   WHITE   \n",
       "4 2107-08-12 12:31:00     35.656250       0.002392  BLACK/AFRICAN AMERICAN   \n",
       "\n",
       "   ... first_icu_stay_patient  first_careunit  deathtime_icu  label_death_icu  \\\n",
       "0  ...                   True            NICU            NaT                0   \n",
       "1  ...                   True            SICU            NaT                0   \n",
       "2  ...                   True            MICU            NaT                0   \n",
       "3  ...                  False            NICU            NaT                0   \n",
       "4  ...                   True            NICU            NaT                0   \n",
       "\n",
       "  label_cor_art diabetes_mellitus  ckd  anemia_flag            predtime  \\\n",
       "0             0                 0    0            0 2136-01-20 10:56:48   \n",
       "1             0                 0    0            0 2163-06-27 11:28:06   \n",
       "2             0                 0    0            0 2118-11-03 16:48:57   \n",
       "3             0                 0    0            0 2196-10-14 22:03:14   \n",
       "4             0                 0    0            0 2107-07-11 20:58:00   \n",
       "\n",
       "      delta_t_pred  \n",
       "0 10 days 07:21:18  \n",
       "1  5 days 08:45:56  \n",
       "2 13 days 00:44:12  \n",
       "3 88 days 19:52:36  \n",
       "4 31 days 15:33:00  \n",
       "\n",
       "[5 rows x 29 columns]"
      ]
     },
     "execution_count": 83,
     "metadata": {},
     "output_type": "execute_result"
    }
   ],
   "source": [
    "demographics_windowed.head()"
   ]
  },
  {
   "cell_type": "code",
   "execution_count": 94,
   "id": "473994a5",
   "metadata": {},
   "outputs": [],
   "source": [
    "df_cols_labs = ['icustay_id','albumin','bacteria','glucose','bun','creatinine','sodium','potassium','hemoglobin','wbc','hematocrit','platelet','ptt']\n",
    "df_agg = df_agg_vitals.merge(df_agg_labs[df_cols_labs], on='icustay_id', how='inner')"
   ]
  },
  {
   "cell_type": "code",
   "execution_count": 96,
   "id": "47bd7c2f",
   "metadata": {},
   "outputs": [
    {
     "name": "stderr",
     "output_type": "stream",
     "text": [
      "C:\\Users\\navim\\AppData\\Local\\Temp\\ipykernel_24592\\1084125202.py:6: FutureWarning: In a future version of pandas all arguments of DataFrame.drop except for the argument 'labels' will be keyword-only.\n",
      "  X = df_agg.drop('ckd','ckd_ethnicity', axis=1)\n"
     ]
    },
    {
     "ename": "TypeError",
     "evalue": "DataFrame.drop() got multiple values for argument 'axis'",
     "output_type": "error",
     "traceback": [
      "\u001b[1;31m---------------------------------------------------------------------------\u001b[0m",
      "\u001b[1;31mTypeError\u001b[0m                                 Traceback (most recent call last)",
      "Cell \u001b[1;32mIn[96], line 6\u001b[0m\n\u001b[0;32m      3\u001b[0m \u001b[38;5;28;01mfrom\u001b[39;00m \u001b[38;5;21;01msklearn\u001b[39;00m\u001b[38;5;21;01m.\u001b[39;00m\u001b[38;5;21;01mmodel_selection\u001b[39;00m \u001b[38;5;28;01mimport\u001b[39;00m train_test_split\n\u001b[0;32m      4\u001b[0m \u001b[38;5;28;01mfrom\u001b[39;00m \u001b[38;5;21;01msklearn\u001b[39;00m\u001b[38;5;21;01m.\u001b[39;00m\u001b[38;5;21;01mensemble\u001b[39;00m \u001b[38;5;28;01mimport\u001b[39;00m RandomForestClassifier\n\u001b[1;32m----> 6\u001b[0m X \u001b[38;5;241m=\u001b[39m \u001b[43mdf_agg\u001b[49m\u001b[38;5;241;43m.\u001b[39;49m\u001b[43mdrop\u001b[49m\u001b[43m(\u001b[49m\u001b[38;5;124;43m'\u001b[39;49m\u001b[38;5;124;43mckd\u001b[39;49m\u001b[38;5;124;43m'\u001b[39;49m\u001b[43m,\u001b[49m\u001b[38;5;124;43m'\u001b[39;49m\u001b[38;5;124;43mckd_ethnicity\u001b[39;49m\u001b[38;5;124;43m'\u001b[39;49m\u001b[43m,\u001b[49m\u001b[43m \u001b[49m\u001b[43maxis\u001b[49m\u001b[38;5;241;43m=\u001b[39;49m\u001b[38;5;241;43m1\u001b[39;49m\u001b[43m)\u001b[49m\n\u001b[0;32m      7\u001b[0m y \u001b[38;5;241m=\u001b[39m df_agg[\u001b[38;5;124m'\u001b[39m\u001b[38;5;124mckd\u001b[39m\u001b[38;5;124m'\u001b[39m]\n\u001b[0;32m      8\u001b[0m X_train, X_test, y_train, y_test \u001b[38;5;241m=\u001b[39m train_test_split(X, y, test_size\u001b[38;5;241m=\u001b[39m\u001b[38;5;241m0.2\u001b[39m, random_state\u001b[38;5;241m=\u001b[39m\u001b[38;5;241m42\u001b[39m, stratify\u001b[38;5;241m=\u001b[39mdf_agg[\u001b[38;5;124m'\u001b[39m\u001b[38;5;124mckd_ethnicity\u001b[39m\u001b[38;5;124m'\u001b[39m])\n",
      "File \u001b[1;32m~\\AppData\\Local\\Programs\\Python\\Python310\\lib\\site-packages\\pandas\\util\\_decorators.py:331\u001b[0m, in \u001b[0;36mdeprecate_nonkeyword_arguments.<locals>.decorate.<locals>.wrapper\u001b[1;34m(*args, **kwargs)\u001b[0m\n\u001b[0;32m    325\u001b[0m \u001b[38;5;28;01mif\u001b[39;00m \u001b[38;5;28mlen\u001b[39m(args) \u001b[38;5;241m>\u001b[39m num_allow_args:\n\u001b[0;32m    326\u001b[0m     warnings\u001b[38;5;241m.\u001b[39mwarn(\n\u001b[0;32m    327\u001b[0m         msg\u001b[38;5;241m.\u001b[39mformat(arguments\u001b[38;5;241m=\u001b[39m_format_argument_list(allow_args)),\n\u001b[0;32m    328\u001b[0m         \u001b[38;5;167;01mFutureWarning\u001b[39;00m,\n\u001b[0;32m    329\u001b[0m         stacklevel\u001b[38;5;241m=\u001b[39mfind_stack_level(),\n\u001b[0;32m    330\u001b[0m     )\n\u001b[1;32m--> 331\u001b[0m \u001b[38;5;28;01mreturn\u001b[39;00m func(\u001b[38;5;241m*\u001b[39margs, \u001b[38;5;241m*\u001b[39m\u001b[38;5;241m*\u001b[39mkwargs)\n",
      "\u001b[1;31mTypeError\u001b[0m: DataFrame.drop() got multiple values for argument 'axis'"
     ]
    }
   ],
   "source": [
    "import pandas as pd\n",
    "import numpy as np\n",
    "from sklearn.model_selection import train_test_split\n",
    "from sklearn.ensemble import RandomForestClassifier\n",
    "\n",
    "df_agg = df_agg[]\n",
    "X = df_agg.drop('ckd', axis=1)\n",
    "y = df_agg['ckd']\n",
    "X_train, X_test, y_train, y_test = train_test_split(X, y, test_size=0.2, random_state=42, stratify=df_agg['ckd_ethnicity'])\n",
    "X_train, X_val, y_train, y_val = train_test_split(X_train, y_train, test_size=0.25, random_state=42, stratify=y_train)\n",
    "rf_classifier = RandomForestClassifier(random_state=42)\n",
    "rf_classifier.fit(X_train, y_train)\n"
   ]
  },
  {
   "cell_type": "code",
   "execution_count": null,
   "id": "cced85e7",
   "metadata": {},
   "outputs": [],
   "source": [
    "from sklearn.metrics import accuracy_score, precision_score, recall_score, f1_score, confusion_matrix\n",
    "import matplotlib.pyplot as plt\n",
    "import seaborn as sns\n",
    "\n",
    "def evaluate_classifier_performance(y_true, y_pred):\n",
    "    accuracy = accuracy_score(y_true, y_pred)\n",
    "    precision = precision_score(y_true, y_pred, average='weighted')\n",
    "    recall = recall_score(y_true, y_pred, average='weighted')\n",
    "    f1 = f1_score(y_true, y_pred, average='weighted')\n",
    "\n",
    "    print(f\"Accuracy: {accuracy:.2f}\")\n",
    "    print(f\"Precision: {precision:.2f}\")\n",
    "    print(f\"Recall: {recall:.2f}\")\n",
    "    print(f\"F1-score: {f1:.2f}\")\n",
    "\n",
    "def plot_confusion_matrix(y_true, y_pred, labels):\n",
    "    cm = confusion_matrix(y_true, y_pred, labels=labels)\n",
    "    plt.figure(figsize=(8, 6))\n",
    "    sns.heatmap(cm, annot=True, fmt='d', cmap='Blues', xticklabels=labels, yticklabels=labels)\n",
    "    plt.xlabel('Predicted')\n",
    "    plt.ylabel('True')\n",
    "    plt.title('Confusion Matrix')\n",
    "    plt.show()\n",
    "\n",
    "y_val_pred = rf_classifier.predict(X_val)\n",
    "print(\"Validation Set Performance:\")\n",
    "evaluate_classifier_performance(y_val, y_val_pred)\n",
    "plot_confusion_matrix(y_val, y_val_pred, labels=np.unique(y))\n",
    "y_test_pred = rf_classifier.predict(X_test)\n",
    "print(\"Test Set Performance:\")\n",
    "evaluate_classifier_performance(y_test, y_test_pred)\n",
    "plot_confusion_matrix(y_test, y_test_pred, labels=np.unique(y))\n"
   ]
  }
 ],
 "metadata": {
  "kernelspec": {
   "display_name": "Python 3 (ipykernel)",
   "language": "python",
   "name": "python3"
  },
  "language_info": {
   "codemirror_mode": {
    "name": "ipython",
    "version": 3
   },
   "file_extension": ".py",
   "mimetype": "text/x-python",
   "name": "python",
   "nbconvert_exporter": "python",
   "pygments_lexer": "ipython3",
   "version": "3.10.9"
  }
 },
 "nbformat": 4,
 "nbformat_minor": 5
}
