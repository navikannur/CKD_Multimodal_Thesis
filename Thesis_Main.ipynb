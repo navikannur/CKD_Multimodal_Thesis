{
 "cells": [
  {
   "cell_type": "code",
   "execution_count": 120,
   "id": "57711dcb",
   "metadata": {},
   "outputs": [],
   "source": [
    "import psycopg2\n",
    "from datetime import timedelta\n",
    "from sqlalchemy import create_engine\n",
    "import psycopg2\n",
    "import pandas as pd\n",
    "import numpy as np\n",
    "import matplotlib.pyplot as plt\n",
    "from sklearn.model_selection import train_test_split\n",
    "from imblearn.under_sampling import RandomUnderSampler\n",
    "from sklearn.ensemble import RandomForestClassifier\n",
    "from sklearn.model_selection import GridSearchCV\n",
    "from sklearn.metrics import classification_report\n",
    "from sklearn.preprocessing import OneHotEncoder\n",
    "from sklearn.model_selection import cross_val_score"
   ]
  },
  {
   "cell_type": "code",
   "execution_count": 3,
   "id": "48ff4034",
   "metadata": {},
   "outputs": [
    {
     "name": "stdout",
     "output_type": "stream",
     "text": [
      "('PostgreSQL 15.2, compiled by Visual C++ build 1914, 64-bit',)\n"
     ]
    }
   ],
   "source": [
    "import psycopg2\n",
    "\n",
    "conn = psycopg2.connect(\n",
    "    host=\"localhost\",\n",
    "    database=\"mimic\",\n",
    "    user=\"postgres\",\n",
    "    password=\"postgres\"\n",
    ")\n",
    "\n",
    "cur = conn.cursor()\n",
    "\n",
    "cur.execute(\"SELECT version();\")\n",
    "print(cur.fetchone())"
   ]
  },
  {
   "cell_type": "code",
   "execution_count": 4,
   "id": "ed048ffd",
   "metadata": {},
   "outputs": [
    {
     "name": "stderr",
     "output_type": "stream",
     "text": [
      "C:\\Users\\aakru\\anaconda3\\lib\\site-packages\\pandas\\io\\sql.py:762: UserWarning: pandas only support SQLAlchemy connectable(engine/connection) ordatabase string URI or sqlite3 DBAPI2 connectionother DBAPI2 objects are not tested, please consider using SQLAlchemy\n",
      "  warnings.warn(\n",
      "C:\\Users\\aakru\\anaconda3\\lib\\site-packages\\pandas\\io\\sql.py:762: UserWarning: pandas only support SQLAlchemy connectable(engine/connection) ordatabase string URI or sqlite3 DBAPI2 connectionother DBAPI2 objects are not tested, please consider using SQLAlchemy\n",
      "  warnings.warn(\n",
      "C:\\Users\\aakru\\anaconda3\\lib\\site-packages\\pandas\\io\\sql.py:762: UserWarning: pandas only support SQLAlchemy connectable(engine/connection) ordatabase string URI or sqlite3 DBAPI2 connectionother DBAPI2 objects are not tested, please consider using SQLAlchemy\n",
      "  warnings.warn(\n"
     ]
    }
   ],
   "source": [
    "# Connect to db\n",
    "conn = psycopg2.connect(host='localhost', dbname='mimic', user='postgres', password='postgres', options='-c search_path=mimiciii')\n",
    "#conn = psycopg2.connect(dbname='mimic', user='postgres')\n",
    "cur = conn.cursor() \n",
    "\n",
    "# Read in table with patients & admissions (inner join on subject_id) and icu_stays (inner joinon subject_id and hadm_id)\n",
    "icustay_details = pd.read_sql_query(\"SELECT * FROM mimiciii.flicu_icustay_detail;\", conn)\n",
    "\n",
    "# Read in vital and lab signs\n",
    "pivoted_vital = pd.read_sql_query(\"SELECT * FROM mimiciii.pivoted_vital;\", conn)\n",
    "pivoted_lab = pd.read_sql_query(\"SELECT * FROM mimiciii.ckd_pivoted_lab;\", conn)\n",
    "\n",
    "# Read in lab measurements\n",
    "# Use flicu_pivoted_lab (as it only takes the lab tests during ICU stay)\n",
    "#query = \"SELECT * FROM mimiciii.flicu_pivoted_lab;\"\n",
    "# Alternative:  Use the lab values recorded previous to the ICU stay (although during same hospital admission!), \n",
    "# then sample them  (8h intervalls) and then forward fill plus cap at either icu admission time of first vital sign recorded\n",
    "#query = \"SELECT * FROM mimiciii.pivoted_lab;\"\n",
    "#pivoted_lab = pd.read_sql_query(query, conn)\n",
    "\n",
    "# Close the cursor and connection to so the server can allocate bandwidth to other requests\n",
    "cur.close()\n",
    "conn.close()"
   ]
  },
  {
   "cell_type": "code",
   "execution_count": 5,
   "id": "11fe1b9e",
   "metadata": {},
   "outputs": [
    {
     "data": {
      "text/plain": [
       "array([nan,  3.,  2.])"
      ]
     },
     "execution_count": 5,
     "metadata": {},
     "output_type": "execute_result"
    }
   ],
   "source": [
    "pivoted_vital['pedaledema'].unique()"
   ]
  },
  {
   "cell_type": "code",
   "execution_count": 6,
   "id": "d24bf2bb",
   "metadata": {},
   "outputs": [
    {
     "data": {
      "text/plain": [
       "(9207039, 15)"
      ]
     },
     "execution_count": 6,
     "metadata": {},
     "output_type": "execute_result"
    }
   ],
   "source": [
    "pivoted_vital.shape"
   ]
  },
  {
   "cell_type": "code",
   "execution_count": 7,
   "id": "f19cf7a4",
   "metadata": {},
   "outputs": [
    {
     "data": {
      "text/plain": [
       "Index(['icustay_id', 'charttime', 'heartrate', 'sysbp', 'diasbp', 'meanbp',\n",
       "       'resprate', 'tempc', 'spo2', 'glucose', 'rbc', 'specificgravity',\n",
       "       'pedaledema', 'appetite_median', 'ckd'],\n",
       "      dtype='object')"
      ]
     },
     "execution_count": 7,
     "metadata": {},
     "output_type": "execute_result"
    }
   ],
   "source": [
    "pivoted_vital.columns"
   ]
  },
  {
   "cell_type": "code",
   "execution_count": 8,
   "id": "892f020b",
   "metadata": {},
   "outputs": [
    {
     "data": {
      "text/plain": [
       "Index(['icustay_id', 'subject_id', 'charttime', 'aniongap', 'albumin', 'bands',\n",
       "       'bicarbonate', 'bilirubin', 'creatinine', 'chloride', 'glucose',\n",
       "       'hematocrit', 'hemoglobin', 'lactate', 'platelet', 'potassium', 'ptt',\n",
       "       'inr', 'pt', 'sodium', 'bun', 'wbc', 'bacteria', 'ckd'],\n",
       "      dtype='object')"
      ]
     },
     "execution_count": 8,
     "metadata": {},
     "output_type": "execute_result"
    }
   ],
   "source": [
    "pivoted_lab.columns"
   ]
  },
  {
   "cell_type": "code",
   "execution_count": 9,
   "id": "273e723e",
   "metadata": {},
   "outputs": [
    {
     "data": {
      "text/html": [
       "<div>\n",
       "<style scoped>\n",
       "    .dataframe tbody tr th:only-of-type {\n",
       "        vertical-align: middle;\n",
       "    }\n",
       "\n",
       "    .dataframe tbody tr th {\n",
       "        vertical-align: top;\n",
       "    }\n",
       "\n",
       "    .dataframe thead th {\n",
       "        text-align: right;\n",
       "    }\n",
       "</style>\n",
       "<table border=\"1\" class=\"dataframe\">\n",
       "  <thead>\n",
       "    <tr style=\"text-align: right;\">\n",
       "      <th></th>\n",
       "      <th>subject_id</th>\n",
       "      <th>hadm_id</th>\n",
       "      <th>icustay_id</th>\n",
       "      <th>los_hospital</th>\n",
       "      <th>admission_age</th>\n",
       "      <th>hospital_expire_flag</th>\n",
       "      <th>hospstay_seq</th>\n",
       "      <th>los_icu</th>\n",
       "      <th>icustay_seq</th>\n",
       "      <th>label_death_icu</th>\n",
       "      <th>label_cor_art</th>\n",
       "      <th>diabetes_mellitus</th>\n",
       "      <th>ckd</th>\n",
       "      <th>anemia_flag</th>\n",
       "    </tr>\n",
       "  </thead>\n",
       "  <tbody>\n",
       "    <tr>\n",
       "      <th>count</th>\n",
       "      <td>61051.000000</td>\n",
       "      <td>61051.000000</td>\n",
       "      <td>61051.000000</td>\n",
       "      <td>61051.000000</td>\n",
       "      <td>61051.000000</td>\n",
       "      <td>61051.000000</td>\n",
       "      <td>61051.000000</td>\n",
       "      <td>61041.000000</td>\n",
       "      <td>61051.000000</td>\n",
       "      <td>61051.000000</td>\n",
       "      <td>61051.000000</td>\n",
       "      <td>61051.000000</td>\n",
       "      <td>61051.000000</td>\n",
       "      <td>61051.000000</td>\n",
       "    </tr>\n",
       "    <tr>\n",
       "      <th>mean</th>\n",
       "      <td>33961.698989</td>\n",
       "      <td>149946.928945</td>\n",
       "      <td>249968.598696</td>\n",
       "      <td>11.320283</td>\n",
       "      <td>64.856674</td>\n",
       "      <td>0.107975</td>\n",
       "      <td>1.418568</td>\n",
       "      <td>4.931644</td>\n",
       "      <td>1.070908</td>\n",
       "      <td>0.073774</td>\n",
       "      <td>0.212838</td>\n",
       "      <td>0.170693</td>\n",
       "      <td>0.082849</td>\n",
       "      <td>0.125682</td>\n",
       "    </tr>\n",
       "    <tr>\n",
       "      <th>std</th>\n",
       "      <td>28153.637888</td>\n",
       "      <td>28899.070114</td>\n",
       "      <td>28891.923533</td>\n",
       "      <td>14.301661</td>\n",
       "      <td>56.970061</td>\n",
       "      <td>0.310352</td>\n",
       "      <td>1.510997</td>\n",
       "      <td>9.664428</td>\n",
       "      <td>0.301838</td>\n",
       "      <td>0.261406</td>\n",
       "      <td>0.409318</td>\n",
       "      <td>0.376244</td>\n",
       "      <td>0.275656</td>\n",
       "      <td>0.331493</td>\n",
       "    </tr>\n",
       "    <tr>\n",
       "      <th>min</th>\n",
       "      <td>2.000000</td>\n",
       "      <td>100001.000000</td>\n",
       "      <td>200001.000000</td>\n",
       "      <td>-0.945139</td>\n",
       "      <td>0.000007</td>\n",
       "      <td>0.000000</td>\n",
       "      <td>1.000000</td>\n",
       "      <td>0.000139</td>\n",
       "      <td>1.000000</td>\n",
       "      <td>0.000000</td>\n",
       "      <td>0.000000</td>\n",
       "      <td>0.000000</td>\n",
       "      <td>0.000000</td>\n",
       "      <td>0.000000</td>\n",
       "    </tr>\n",
       "    <tr>\n",
       "      <th>25%</th>\n",
       "      <td>12085.500000</td>\n",
       "      <td>124949.000000</td>\n",
       "      <td>224951.000000</td>\n",
       "      <td>3.910069</td>\n",
       "      <td>44.281191</td>\n",
       "      <td>0.000000</td>\n",
       "      <td>1.000000</td>\n",
       "      <td>1.109491</td>\n",
       "      <td>1.000000</td>\n",
       "      <td>0.000000</td>\n",
       "      <td>0.000000</td>\n",
       "      <td>0.000000</td>\n",
       "      <td>0.000000</td>\n",
       "      <td>0.000000</td>\n",
       "    </tr>\n",
       "    <tr>\n",
       "      <th>50%</th>\n",
       "      <td>24352.000000</td>\n",
       "      <td>149883.000000</td>\n",
       "      <td>249949.000000</td>\n",
       "      <td>6.945833</td>\n",
       "      <td>62.054949</td>\n",
       "      <td>0.000000</td>\n",
       "      <td>1.000000</td>\n",
       "      <td>2.094815</td>\n",
       "      <td>1.000000</td>\n",
       "      <td>0.000000</td>\n",
       "      <td>0.000000</td>\n",
       "      <td>0.000000</td>\n",
       "      <td>0.000000</td>\n",
       "      <td>0.000000</td>\n",
       "    </tr>\n",
       "    <tr>\n",
       "      <th>75%</th>\n",
       "      <td>54366.000000</td>\n",
       "      <td>174997.500000</td>\n",
       "      <td>274974.500000</td>\n",
       "      <td>13.059722</td>\n",
       "      <td>76.068514</td>\n",
       "      <td>0.000000</td>\n",
       "      <td>1.000000</td>\n",
       "      <td>4.502199</td>\n",
       "      <td>1.000000</td>\n",
       "      <td>0.000000</td>\n",
       "      <td>0.000000</td>\n",
       "      <td>0.000000</td>\n",
       "      <td>0.000000</td>\n",
       "      <td>0.000000</td>\n",
       "    </tr>\n",
       "    <tr>\n",
       "      <th>max</th>\n",
       "      <td>99999.000000</td>\n",
       "      <td>199999.000000</td>\n",
       "      <td>299999.000000</td>\n",
       "      <td>294.660417</td>\n",
       "      <td>311.561027</td>\n",
       "      <td>1.000000</td>\n",
       "      <td>41.000000</td>\n",
       "      <td>173.072512</td>\n",
       "      <td>7.000000</td>\n",
       "      <td>1.000000</td>\n",
       "      <td>1.000000</td>\n",
       "      <td>1.000000</td>\n",
       "      <td>1.000000</td>\n",
       "      <td>1.000000</td>\n",
       "    </tr>\n",
       "  </tbody>\n",
       "</table>\n",
       "</div>"
      ],
      "text/plain": [
       "         subject_id        hadm_id     icustay_id  los_hospital  \\\n",
       "count  61051.000000   61051.000000   61051.000000  61051.000000   \n",
       "mean   33961.698989  149946.928945  249968.598696     11.320283   \n",
       "std    28153.637888   28899.070114   28891.923533     14.301661   \n",
       "min        2.000000  100001.000000  200001.000000     -0.945139   \n",
       "25%    12085.500000  124949.000000  224951.000000      3.910069   \n",
       "50%    24352.000000  149883.000000  249949.000000      6.945833   \n",
       "75%    54366.000000  174997.500000  274974.500000     13.059722   \n",
       "max    99999.000000  199999.000000  299999.000000    294.660417   \n",
       "\n",
       "       admission_age  hospital_expire_flag  hospstay_seq       los_icu  \\\n",
       "count   61051.000000          61051.000000  61051.000000  61041.000000   \n",
       "mean       64.856674              0.107975      1.418568      4.931644   \n",
       "std        56.970061              0.310352      1.510997      9.664428   \n",
       "min         0.000007              0.000000      1.000000      0.000139   \n",
       "25%        44.281191              0.000000      1.000000      1.109491   \n",
       "50%        62.054949              0.000000      1.000000      2.094815   \n",
       "75%        76.068514              0.000000      1.000000      4.502199   \n",
       "max       311.561027              1.000000     41.000000    173.072512   \n",
       "\n",
       "        icustay_seq  label_death_icu  label_cor_art  diabetes_mellitus  \\\n",
       "count  61051.000000     61051.000000   61051.000000       61051.000000   \n",
       "mean       1.070908         0.073774       0.212838           0.170693   \n",
       "std        0.301838         0.261406       0.409318           0.376244   \n",
       "min        1.000000         0.000000       0.000000           0.000000   \n",
       "25%        1.000000         0.000000       0.000000           0.000000   \n",
       "50%        1.000000         0.000000       0.000000           0.000000   \n",
       "75%        1.000000         0.000000       0.000000           0.000000   \n",
       "max        7.000000         1.000000       1.000000           1.000000   \n",
       "\n",
       "                ckd   anemia_flag  \n",
       "count  61051.000000  61051.000000  \n",
       "mean       0.082849      0.125682  \n",
       "std        0.275656      0.331493  \n",
       "min        0.000000      0.000000  \n",
       "25%        0.000000      0.000000  \n",
       "50%        0.000000      0.000000  \n",
       "75%        0.000000      0.000000  \n",
       "max        1.000000      1.000000  "
      ]
     },
     "execution_count": 9,
     "metadata": {},
     "output_type": "execute_result"
    }
   ],
   "source": [
    "icustay_details.describe()"
   ]
  },
  {
   "cell_type": "markdown",
   "id": "a5f4b552",
   "metadata": {},
   "source": [
    "#### Setting window length "
   ]
  },
  {
   "cell_type": "code",
   "execution_count": 10,
   "id": "aa5bdcd2",
   "metadata": {},
   "outputs": [],
   "source": [
    "WINDOW_LENGTH = 24*4"
   ]
  },
  {
   "cell_type": "markdown",
   "id": "68afcd8f",
   "metadata": {},
   "source": [
    "### Keeping records that are atleast window length"
   ]
  },
  {
   "cell_type": "code",
   "execution_count": 11,
   "id": "eabb8028",
   "metadata": {},
   "outputs": [],
   "source": [
    "data= icustay_details.copy()\n",
    "data = data[data.los_icu >= WINDOW_LENGTH/24.0]"
   ]
  },
  {
   "cell_type": "code",
   "execution_count": 12,
   "id": "2ac8d722",
   "metadata": {},
   "outputs": [],
   "source": [
    "filtered_icustay_ids = pd.DataFrame(data['icustay_id'].unique(), columns=['icustay_id'])"
   ]
  },
  {
   "cell_type": "code",
   "execution_count": 13,
   "id": "68a57b55",
   "metadata": {},
   "outputs": [
    {
     "name": "stdout",
     "output_type": "stream",
     "text": [
      "(9207039, 15)\n"
     ]
    }
   ],
   "source": [
    "# Drop measurements with no belonging icustay_id\n",
    "pivoted_vital = pivoted_vital.dropna(subset=['icustay_id'])\n",
    "pivoted_lab = pivoted_lab.dropna(subset=['icustay_id'])\n",
    "\n",
    "#check the shape \n",
    "print(pivoted_vital.shape)\n",
    "\n",
    "# Cast icustay_id types to int\n",
    "pivoted_vital['icustay_id'] = pivoted_vital['icustay_id'].astype(int)\n",
    "pivoted_lab['icustay_id'] = pivoted_lab['icustay_id'].astype(int)\n",
    "\n",
    "# Keep only values of patients in previously filtered icustay_ids in labs and vitals\n",
    "pivoted_vital = pivoted_vital.merge(filtered_icustay_ids, on='icustay_id', how='right').drop_duplicates()\n",
    "pivoted_lab = pivoted_lab.merge(filtered_icustay_ids, on='icustay_id', how='right').drop_duplicates()"
   ]
  },
  {
   "cell_type": "code",
   "execution_count": 14,
   "id": "97209a0c",
   "metadata": {},
   "outputs": [
    {
     "name": "stdout",
     "output_type": "stream",
     "text": [
      "(6724403, 15)\n"
     ]
    }
   ],
   "source": [
    "print(pivoted_vital.shape)"
   ]
  },
  {
   "cell_type": "code",
   "execution_count": 15,
   "id": "02c031db",
   "metadata": {},
   "outputs": [],
   "source": [
    "# Min of each lab and vitals\n",
    "icustay_ids_charttime_min_lab = pivoted_lab[[\"icustay_id\", \"charttime\"]][pivoted_lab.groupby(\"icustay_id\")[\"charttime\"].rank(ascending=1,method='dense') == 1]\n",
    "icustay_ids_charttime_min_vital = pivoted_vital[[\"icustay_id\", \"charttime\"]][pivoted_vital.groupby(\"icustay_id\")[\"charttime\"].rank(ascending=1,method='dense') == 1]\n",
    "# Min of both combined\n",
    "icustay_ids_charttime_min_vital_lab = pd.concat([icustay_ids_charttime_min_lab, icustay_ids_charttime_min_vital], ignore_index=True)\n",
    "icustay_ids_charttime_min_vital_lab = icustay_ids_charttime_min_vital_lab[[\"icustay_id\", \"charttime\"]][icustay_ids_charttime_min_vital_lab.groupby(\"icustay_id\")[\"charttime\"].rank(ascending=1,method='dense') == 1]\n",
    "\n",
    "# Max of each lab and vitals\n",
    "icustay_ids_charttime_max_lab = pivoted_lab[[\"icustay_id\", \"charttime\"]][pivoted_lab.groupby(\"icustay_id\")[\"charttime\"].rank(ascending=0,method='dense') == 1]\n",
    "icustay_ids_charttime_max_vital = pivoted_vital[[\"icustay_id\", \"charttime\"]][pivoted_vital.groupby(\"icustay_id\")[\"charttime\"].rank(ascending=0,method='dense') == 1]\n",
    "# Max of both combined\n",
    "icustay_ids_charttime_max_vital_lab = pd.concat([icustay_ids_charttime_max_lab, icustay_ids_charttime_max_vital], ignore_index=True)\n",
    "icustay_ids_charttime_max_vital_lab = icustay_ids_charttime_max_vital_lab[[\"icustay_id\", \"charttime\"]][icustay_ids_charttime_max_vital_lab.groupby(\"icustay_id\")[\"charttime\"].rank(ascending=0,method='dense') == 1]\n"
   ]
  },
  {
   "cell_type": "code",
   "execution_count": 16,
   "id": "5f5fe240",
   "metadata": {},
   "outputs": [
    {
     "name": "stdout",
     "output_type": "stream",
     "text": [
      "Unique icu stays in icustay_ids_vital_lab_charttime_min_max_filtered after filtering 8409\n",
      "Unique icu stays in icustay_ids_time_filtered:  8409\n"
     ]
    }
   ],
   "source": [
    "# Find for which icustay_ids there exist at least WINDOW_LENGTH of data\n",
    "icustay_ids_vital_lab_charttime_min_max = pd.concat([icustay_ids_charttime_max_vital_lab, icustay_ids_charttime_min_vital_lab], ignore_index=True)\n",
    "time_window = timedelta(days=4, seconds=0, microseconds=0, milliseconds=0, minutes=0, hours=WINDOW_LENGTH, weeks=0)\n",
    "is_time_diff_bigger_window_lab = icustay_ids_vital_lab_charttime_min_max.groupby(['icustay_id'])['charttime'].transform(lambda x: (x.max()-x.min())) >= time_window\n",
    "\n",
    "icustay_ids_vital_lab_charttime_min_max_filtered = icustay_ids_vital_lab_charttime_min_max[is_time_diff_bigger_window_lab]\n",
    "print(\"Unique icu stays in icustay_ids_vital_lab_charttime_min_max_filtered after filtering\", icustay_ids_vital_lab_charttime_min_max_filtered['icustay_id'].nunique())\n",
    "\n",
    "# Keep only icustay ids for which at least WINDOW_LENGTH of data exists\n",
    "icustay_ids_time_filtered = pd.DataFrame(icustay_ids_vital_lab_charttime_min_max_filtered['icustay_id'].unique(), columns=['icustay_id'])\n",
    "print(\"Unique icu stays in icustay_ids_time_filtered: \", icustay_ids_time_filtered['icustay_id'].nunique())"
   ]
  },
  {
   "cell_type": "code",
   "execution_count": 17,
   "id": "719b13c9",
   "metadata": {},
   "outputs": [],
   "source": [
    "filtered_icustay_ids = filtered_icustay_ids.merge(icustay_ids_time_filtered, on='icustay_id', how='inner').drop_duplicates()"
   ]
  },
  {
   "cell_type": "code",
   "execution_count": 18,
   "id": "7230fe8f",
   "metadata": {},
   "outputs": [
    {
     "name": "stdout",
     "output_type": "stream",
     "text": [
      "Number of ICU stays demographics:  8409\n",
      "Number of ICU stays vitals:  8409\n",
      "Number of ICU stays labs:  8409\n"
     ]
    }
   ],
   "source": [
    "demographics_filtered = data.merge(filtered_icustay_ids, on='icustay_id', how='right').drop_duplicates()\n",
    "print(\"Number of ICU stays demographics: \", demographics_filtered['icustay_id'].nunique())\n",
    "\n",
    "vital_filtered = pivoted_vital.merge(filtered_icustay_ids, on='icustay_id', how='right').drop_duplicates()\n",
    "print(\"Number of ICU stays vitals: \", vital_filtered['icustay_id'].nunique())\n",
    "\n",
    "lab_filtered = pivoted_lab.merge(filtered_icustay_ids, on='icustay_id', how='right').drop_duplicates()\n",
    "print(\"Number of ICU stays labs: \", lab_filtered['icustay_id'].nunique())"
   ]
  },
  {
   "cell_type": "code",
   "execution_count": 19,
   "id": "97facd20",
   "metadata": {},
   "outputs": [
    {
     "data": {
      "text/plain": [
       "array([218958, 241427, 272085, ..., 226042, 270667, 224889], dtype=int64)"
      ]
     },
     "execution_count": 19,
     "metadata": {},
     "output_type": "execute_result"
    }
   ],
   "source": [
    "lab_filtered['icustay_id'].unique()"
   ]
  },
  {
   "cell_type": "code",
   "execution_count": 20,
   "id": "b1733ce1",
   "metadata": {},
   "outputs": [
    {
     "name": "stdout",
     "output_type": "stream",
     "text": [
      "Number of ICU stays in lab_filtered:  8409\n",
      "Number of ICU stays in lab_filtered:  8409\n"
     ]
    }
   ],
   "source": [
    "vital_filtered = vital_filtered.merge(lab_filtered[['icustay_id', 'charttime']], on=['icustay_id', 'charttime'], how='outer').drop_duplicates()\n",
    "print(\"Number of ICU stays in lab_filtered: \", vital_filtered['icustay_id'].nunique())\n",
    "lab_filtered = lab_filtered.merge(vital_filtered[['icustay_id', 'charttime']], on=['icustay_id', 'charttime'], how='outer').drop_duplicates()\n",
    "print(\"Number of ICU stays in lab_filtered: \", lab_filtered['icustay_id'].nunique())"
   ]
  },
  {
   "cell_type": "code",
   "execution_count": 21,
   "id": "9c895084",
   "metadata": {},
   "outputs": [
    {
     "name": "stderr",
     "output_type": "stream",
     "text": [
      "C:\\Users\\aakru\\AppData\\Local\\Temp\\ipykernel_18132\\3516085691.py:12: FutureWarning: DataFrame.mean and DataFrame.median with numeric_only=None will include datetime64 and datetime64tz columns in a future version.\n",
      "  vital_resampled = vital_resampled.set_index(['icustay_id', 'charttime']).groupby('icustay_id')[vital_col].transform(lambda x: x.ffill().bfill()).fillna(value=vital_resampled[['icustay_id', 'charttime', 'heartrate', 'sysbp', 'diasbp', 'meanbp','resprate', 'tempc', 'spo2', 'glucose', 'rbc', 'specificgravity','pedaledema', 'appetite_median']].median()).reset_index()\n"
     ]
    }
   ],
   "source": [
    "vital_resampled = vital_filtered.copy()\n",
    "\n",
    "# Resample from the end of the time series (how=\"last\")\n",
    "vital_resampled = vital_resampled.assign(charttime=vital_resampled.charttime.dt.round('H'))\n",
    "#vital_resampled = vital_resampled.set_index('charttime').groupby('icustay_id').resample('1H', origin=\"end\").median().drop(['icustay_id'], axis = 1).reset_index()\n",
    "# Resample from the beginning of the time series\n",
    "vital_resampled = vital_resampled.set_index('charttime').groupby('icustay_id').resample('1H', origin=\"start\").median().drop(['icustay_id'], axis = 1).reset_index()\n",
    "\n",
    "# Forward and backwards fill (use lambda function instead of directly applying it to groupby otherwise results from one group are carreid forward to another group...BAD)\n",
    "# Fill NaNs (-1)\n",
    "vital_col = vital_resampled.columns.drop(['icustay_id', 'charttime'])\n",
    "vital_resampled = vital_resampled.set_index(['icustay_id', 'charttime']).groupby('icustay_id')[vital_col].transform(lambda x: x.ffill().bfill()).fillna(value=vital_resampled[['icustay_id', 'charttime', 'heartrate', 'sysbp', 'diasbp', 'meanbp','resprate', 'tempc', 'spo2', 'glucose', 'rbc', 'specificgravity','pedaledema', 'appetite_median']].median()).reset_index()\n",
    "#.fillna(value=vital_resampled[vital_columns].mean())#.fillna(0)#.fillna(-1)\n"
   ]
  },
  {
   "cell_type": "code",
   "execution_count": 22,
   "id": "27bec84c",
   "metadata": {},
   "outputs": [
    {
     "name": "stderr",
     "output_type": "stream",
     "text": [
      "C:\\Users\\aakru\\AppData\\Local\\Temp\\ipykernel_18132\\3063204683.py:11: FutureWarning: DataFrame.mean and DataFrame.median with numeric_only=None will include datetime64 and datetime64tz columns in a future version.\n",
      "  lab_resampled = lab_resampled.set_index(['icustay_id', 'charttime']).groupby('icustay_id')[lab_col].transform(lambda x: x.ffill().bfill()).fillna(value=lab_resampled[['icustay_id', 'subject_id', 'charttime', 'aniongap', 'albumin', 'bands','bicarbonate', 'bilirubin', 'creatinine', 'chloride', 'glucose','hematocrit', 'hemoglobin', 'lactate', 'platelet', 'potassium', 'ptt','inr', 'pt', 'sodium', 'bun', 'wbc', 'bacteria']].median()).reset_index()\n"
     ]
    },
    {
     "name": "stdout",
     "output_type": "stream",
     "text": [
      "730\n"
     ]
    }
   ],
   "source": [
    "lab_resampled = lab_filtered.copy()\n",
    "# Cut out minutes and hours, so that the resampling of the 8h takes the same time span as the 1h samples (for vitals)\n",
    "lab_resampled = lab_resampled.assign(charttime=lab_resampled.charttime.dt.round('H'))\n",
    "# Resample from the end of the time series \n",
    "#lab_resampled = lab_resampled.set_index('charttime').groupby('icustay_id').resample('8h', origin=\"end\").median().drop(['icustay_id'], axis = 1).reset_index()\n",
    "lab_resampled = lab_resampled.set_index('charttime').groupby('icustay_id').resample('8h', origin=\"start\").median().drop(['icustay_id'], axis = 1).reset_index()\n",
    "\n",
    "# Forward and backwards fill (use transform instead of direct groupby otherwise results from one group are carreid forward to another group...BAD)\n",
    "# Fill NaNs (-1 or 0 or mean!?)\n",
    "lab_col = lab_resampled.columns.drop(['icustay_id', 'charttime'])\n",
    "lab_resampled = lab_resampled.set_index(['icustay_id', 'charttime']).groupby('icustay_id')[lab_col].transform(lambda x: x.ffill().bfill()).fillna(value=lab_resampled[['icustay_id', 'subject_id', 'charttime', 'aniongap', 'albumin', 'bands','bicarbonate', 'bilirubin', 'creatinine', 'chloride', 'glucose','hematocrit', 'hemoglobin', 'lactate', 'platelet', 'potassium', 'ptt','inr', 'pt', 'sodium', 'bun', 'wbc', 'bacteria']].median()).reset_index()\n",
    "\n",
    "print(lab_resampled.isnull().sum().sum())"
   ]
  },
  {
   "cell_type": "markdown",
   "id": "63f152ca",
   "metadata": {},
   "source": [
    "### keep only uptil 4 days data"
   ]
  },
  {
   "cell_type": "code",
   "execution_count": 23,
   "id": "b7dfb79c",
   "metadata": {},
   "outputs": [
    {
     "data": {
      "text/html": [
       "<div>\n",
       "<style scoped>\n",
       "    .dataframe tbody tr th:only-of-type {\n",
       "        vertical-align: middle;\n",
       "    }\n",
       "\n",
       "    .dataframe tbody tr th {\n",
       "        vertical-align: top;\n",
       "    }\n",
       "\n",
       "    .dataframe thead th {\n",
       "        text-align: right;\n",
       "    }\n",
       "</style>\n",
       "<table border=\"1\" class=\"dataframe\">\n",
       "  <thead>\n",
       "    <tr style=\"text-align: right;\">\n",
       "      <th></th>\n",
       "      <th>subject_id</th>\n",
       "      <th>icustay_id</th>\n",
       "      <th>intime</th>\n",
       "      <th>predtime</th>\n",
       "      <th>delta_t_pred</th>\n",
       "    </tr>\n",
       "  </thead>\n",
       "  <tbody>\n",
       "    <tr>\n",
       "      <th>0</th>\n",
       "      <td>14137</td>\n",
       "      <td>218958</td>\n",
       "      <td>2132-08-24 17:07:00</td>\n",
       "      <td>2132-08-28 17:07:00</td>\n",
       "      <td>10 days 00:34:00</td>\n",
       "    </tr>\n",
       "    <tr>\n",
       "      <th>1</th>\n",
       "      <td>28970</td>\n",
       "      <td>241427</td>\n",
       "      <td>2151-11-07 01:49:18</td>\n",
       "      <td>2151-11-11 01:49:18</td>\n",
       "      <td>27 days 17:57:20</td>\n",
       "    </tr>\n",
       "    <tr>\n",
       "      <th>2</th>\n",
       "      <td>2269</td>\n",
       "      <td>272085</td>\n",
       "      <td>2187-12-04 11:35:04</td>\n",
       "      <td>2187-12-08 11:35:04</td>\n",
       "      <td>12 days 02:08:02</td>\n",
       "    </tr>\n",
       "    <tr>\n",
       "      <th>3</th>\n",
       "      <td>334</td>\n",
       "      <td>214236</td>\n",
       "      <td>2136-01-16 10:56:48</td>\n",
       "      <td>2136-01-20 10:56:48</td>\n",
       "      <td>10 days 07:21:18</td>\n",
       "    </tr>\n",
       "    <tr>\n",
       "      <th>4</th>\n",
       "      <td>2005</td>\n",
       "      <td>285731</td>\n",
       "      <td>2163-06-23 11:28:06</td>\n",
       "      <td>2163-06-27 11:28:06</td>\n",
       "      <td>5 days 08:45:56</td>\n",
       "    </tr>\n",
       "  </tbody>\n",
       "</table>\n",
       "</div>"
      ],
      "text/plain": [
       "   subject_id  icustay_id              intime            predtime  \\\n",
       "0       14137      218958 2132-08-24 17:07:00 2132-08-28 17:07:00   \n",
       "1       28970      241427 2151-11-07 01:49:18 2151-11-11 01:49:18   \n",
       "2        2269      272085 2187-12-04 11:35:04 2187-12-08 11:35:04   \n",
       "3         334      214236 2136-01-16 10:56:48 2136-01-20 10:56:48   \n",
       "4        2005      285731 2163-06-23 11:28:06 2163-06-27 11:28:06   \n",
       "\n",
       "      delta_t_pred  \n",
       "0 10 days 00:34:00  \n",
       "1 27 days 17:57:20  \n",
       "2 12 days 02:08:02  \n",
       "3 10 days 07:21:18  \n",
       "4  5 days 08:45:56  "
      ]
     },
     "execution_count": 23,
     "metadata": {},
     "output_type": "execute_result"
    }
   ],
   "source": [
    "delta_t_data = timedelta(days=0, seconds=0, microseconds=0, milliseconds=0, minutes=0, hours=WINDOW_LENGTH, weeks=0)\n",
    "demographics_windowed = demographics_filtered.copy()\n",
    "demographics_windowed['predtime'] = demographics_windowed.intime + delta_t_data\n",
    "demographics_windowed['delta_t_pred'] = demographics_windowed.outtime - demographics_windowed.predtime\n",
    "\n",
    "demographics_windowed[['subject_id', 'icustay_id', 'intime', 'predtime', 'delta_t_pred']].head(5)"
   ]
  },
  {
   "cell_type": "code",
   "execution_count": 24,
   "id": "c904f8c6",
   "metadata": {},
   "outputs": [
    {
     "name": "stdout",
     "output_type": "stream",
     "text": [
      "Number of ICU stays:  8409\n",
      "Number of ICU stays in vitals_cut:  8409\n",
      "Number of ICU stays in labs_cut:  8409\n"
     ]
    }
   ],
   "source": [
    "cut_icustay_ids = pd.DataFrame(demographics_windowed['icustay_id'].unique(), columns=['icustay_id'])\n",
    "print(\"Number of ICU stays: \", cut_icustay_ids['icustay_id'].count())\n",
    "\n",
    "vitals_cut = vital_resampled.merge(cut_icustay_ids, on='icustay_id', how='right')\n",
    "print(\"Number of ICU stays in vitals_cut: \", vitals_cut['icustay_id'].nunique())\n",
    "\n",
    "labs_cut = lab_resampled.merge(cut_icustay_ids, on='icustay_id', how='right')\n",
    "print(\"Number of ICU stays in labs_cut: \", labs_cut['icustay_id'].nunique())\n"
   ]
  },
  {
   "cell_type": "code",
   "execution_count": 25,
   "id": "9899b128",
   "metadata": {},
   "outputs": [
    {
     "name": "stdout",
     "output_type": "stream",
     "text": [
      "4 days, 0:00:00\n"
     ]
    }
   ],
   "source": [
    "print(delta_t_data)"
   ]
  },
  {
   "cell_type": "code",
   "execution_count": 26,
   "id": "2432f622",
   "metadata": {},
   "outputs": [
    {
     "name": "stdout",
     "output_type": "stream",
     "text": [
      "Number of ICU stays in vitals_windowed:  8405\n",
      "Number of ICU stays in labs_windowed:  8405\n"
     ]
    }
   ],
   "source": [
    "vitals_windowed = vital_resampled.merge(demographics_windowed[['icustay_id', 'predtime', 'delta_t_pred']], on='icustay_id', how='right')\n",
    "vitals_windowed = vitals_windowed[vitals_windowed.charttime < vitals_windowed.predtime]\n",
    "print(\"Number of ICU stays in vitals_windowed: \", vitals_windowed['icustay_id'].nunique())\n",
    "\n",
    "labs_windowed = lab_resampled.merge(demographics_windowed[['icustay_id', 'predtime', 'delta_t_pred']], on='icustay_id', how='right')\n",
    "labs_windowed = labs_windowed[labs_windowed.charttime < labs_windowed.predtime]\n",
    "print(\"Number of ICU stays in labs_windowed: \", labs_windowed['icustay_id'].nunique())\n",
    "\n",
    "windowed_icustay_ids = pd.DataFrame(pd.concat([vitals_windowed['icustay_id'], labs_windowed['icustay_id']]).unique(), columns=['icustay_id'])\n",
    "demographics_windowed = demographics_windowed.merge(windowed_icustay_ids, on='icustay_id', how='right')"
   ]
  },
  {
   "cell_type": "code",
   "execution_count": 27,
   "id": "f2dddc6b",
   "metadata": {},
   "outputs": [
    {
     "data": {
      "text/plain": [
       "icustay_id        0\n",
       "charttime         0\n",
       "subject_id        0\n",
       "aniongap          0\n",
       "albumin           0\n",
       "bands             0\n",
       "bicarbonate       0\n",
       "bilirubin         0\n",
       "creatinine        0\n",
       "chloride          0\n",
       "glucose           0\n",
       "hematocrit        0\n",
       "hemoglobin        0\n",
       "lactate           0\n",
       "platelet          0\n",
       "potassium         0\n",
       "ptt               0\n",
       "inr               0\n",
       "pt                0\n",
       "sodium            0\n",
       "bun               0\n",
       "wbc               0\n",
       "bacteria          0\n",
       "ckd             162\n",
       "predtime          0\n",
       "delta_t_pred      0\n",
       "dtype: int64"
      ]
     },
     "execution_count": 27,
     "metadata": {},
     "output_type": "execute_result"
    }
   ],
   "source": [
    "labs_windowed.isna().sum()"
   ]
  },
  {
   "cell_type": "code",
   "execution_count": 28,
   "id": "bd636589",
   "metadata": {},
   "outputs": [
    {
     "data": {
      "text/plain": [
       "icustay_id              0\n",
       "charttime               0\n",
       "heartrate               0\n",
       "sysbp                   0\n",
       "diasbp                  0\n",
       "meanbp                  0\n",
       "resprate                0\n",
       "tempc                   0\n",
       "spo2                    0\n",
       "glucose                 0\n",
       "rbc                     0\n",
       "specificgravity         0\n",
       "pedaledema         812438\n",
       "appetite_median         0\n",
       "ckd                  1481\n",
       "predtime                0\n",
       "delta_t_pred            0\n",
       "dtype: int64"
      ]
     },
     "execution_count": 28,
     "metadata": {},
     "output_type": "execute_result"
    }
   ],
   "source": [
    "vitals_windowed.isna().sum()"
   ]
  },
  {
   "cell_type": "markdown",
   "id": "8f0f8fa3",
   "metadata": {},
   "source": [
    "#### using icustay_id from demographics to fill missing ckd in vitals and labs"
   ]
  },
  {
   "cell_type": "code",
   "execution_count": 29,
   "id": "b603860c",
   "metadata": {},
   "outputs": [],
   "source": [
    "vitals_windowed['ckd'] = vitals_windowed['icustay_id'].map(demographics_windowed.set_index('icustay_id')['ckd'])"
   ]
  },
  {
   "cell_type": "code",
   "execution_count": 30,
   "id": "8208d543",
   "metadata": {},
   "outputs": [
    {
     "data": {
      "text/plain": [
       "icustay_id              0\n",
       "charttime               0\n",
       "heartrate               0\n",
       "sysbp                   0\n",
       "diasbp                  0\n",
       "meanbp                  0\n",
       "resprate                0\n",
       "tempc                   0\n",
       "spo2                    0\n",
       "glucose                 0\n",
       "rbc                     0\n",
       "specificgravity         0\n",
       "pedaledema         812438\n",
       "appetite_median         0\n",
       "ckd                     0\n",
       "predtime                0\n",
       "delta_t_pred            0\n",
       "dtype: int64"
      ]
     },
     "execution_count": 30,
     "metadata": {},
     "output_type": "execute_result"
    }
   ],
   "source": [
    "vitals_windowed.isna().sum()"
   ]
  },
  {
   "cell_type": "code",
   "execution_count": 31,
   "id": "f4836f4f",
   "metadata": {},
   "outputs": [],
   "source": [
    "labs_windowed['ckd'] = labs_windowed['icustay_id'].map(demographics_windowed.set_index('icustay_id')['ckd'])"
   ]
  },
  {
   "cell_type": "code",
   "execution_count": 32,
   "id": "d94c354f",
   "metadata": {},
   "outputs": [
    {
     "data": {
      "text/plain": [
       "icustay_id      0\n",
       "charttime       0\n",
       "subject_id      0\n",
       "aniongap        0\n",
       "albumin         0\n",
       "bands           0\n",
       "bicarbonate     0\n",
       "bilirubin       0\n",
       "creatinine      0\n",
       "chloride        0\n",
       "glucose         0\n",
       "hematocrit      0\n",
       "hemoglobin      0\n",
       "lactate         0\n",
       "platelet        0\n",
       "potassium       0\n",
       "ptt             0\n",
       "inr             0\n",
       "pt              0\n",
       "sodium          0\n",
       "bun             0\n",
       "wbc             0\n",
       "bacteria        0\n",
       "ckd             0\n",
       "predtime        0\n",
       "delta_t_pred    0\n",
       "dtype: int64"
      ]
     },
     "execution_count": 32,
     "metadata": {},
     "output_type": "execute_result"
    }
   ],
   "source": [
    "labs_windowed.isna().sum()"
   ]
  },
  {
   "cell_type": "markdown",
   "id": "fdc1d9a9",
   "metadata": {},
   "source": [
    "#### Some patients might not have any value for pedaledema and hence we are filling those with -1"
   ]
  },
  {
   "cell_type": "code",
   "execution_count": 33,
   "id": "551c0d63",
   "metadata": {},
   "outputs": [
    {
     "data": {
      "text/plain": [
       "subject_id                        0\n",
       "hadm_id                           0\n",
       "icustay_id                        0\n",
       "gender                            0\n",
       "dod                            4663\n",
       "admittime                         0\n",
       "dischtime                         0\n",
       "los_hospital                      0\n",
       "admission_age                     0\n",
       "ethnicity                         0\n",
       "ethnicity_grouped                 0\n",
       "hospital_expire_flag              0\n",
       "hospstay_seq                      0\n",
       "first_hosp_stay                   0\n",
       "intime                            0\n",
       "outtime                           0\n",
       "los_icu                           0\n",
       "icustay_seq                       0\n",
       "first_icu_stay_current_hosp       0\n",
       "first_icu_stay_patient            0\n",
       "first_careunit                    0\n",
       "deathtime_icu                  7283\n",
       "label_death_icu                   0\n",
       "label_cor_art                     0\n",
       "diabetes_mellitus                 0\n",
       "ckd                               0\n",
       "anemia_flag                       0\n",
       "predtime                          0\n",
       "delta_t_pred                      0\n",
       "dtype: int64"
      ]
     },
     "execution_count": 33,
     "metadata": {},
     "output_type": "execute_result"
    }
   ],
   "source": [
    "demographics_windowed.isna().sum()"
   ]
  },
  {
   "cell_type": "code",
   "execution_count": 34,
   "id": "fd83c09d",
   "metadata": {},
   "outputs": [],
   "source": [
    "vitals_windowed =vitals_windowed.set_index(['icustay_id', 'charttime']).groupby('icustay_id')[vital_col].transform(lambda x: x.ffill().bfill()).fillna(-1).reset_index()"
   ]
  },
  {
   "cell_type": "code",
   "execution_count": 35,
   "id": "07967f35",
   "metadata": {},
   "outputs": [
    {
     "data": {
      "text/plain": [
       "icustay_id         0\n",
       "charttime          0\n",
       "heartrate          0\n",
       "sysbp              0\n",
       "diasbp             0\n",
       "meanbp             0\n",
       "resprate           0\n",
       "tempc              0\n",
       "spo2               0\n",
       "glucose            0\n",
       "rbc                0\n",
       "specificgravity    0\n",
       "pedaledema         0\n",
       "appetite_median    0\n",
       "ckd                0\n",
       "dtype: int64"
      ]
     },
     "execution_count": 35,
     "metadata": {},
     "output_type": "execute_result"
    }
   ],
   "source": [
    "vitals_windowed.isna().sum()"
   ]
  },
  {
   "cell_type": "code",
   "execution_count": 36,
   "id": "57adc0e2",
   "metadata": {},
   "outputs": [
    {
     "name": "stdout",
     "output_type": "stream",
     "text": [
      "Number of ICU stays demographics:  8405\n",
      "Number of CKD demographics:\n",
      " 0    7868\n",
      "1     537\n",
      "Name: ckd, dtype: int64\n",
      "Number of ICU stays vitals:  8405\n",
      "Number of CKD vitals:\n",
      " 0    760776\n",
      "1     51662\n",
      "Name: ckd, dtype: int64\n",
      "Number of ICU stays labs:  8405\n",
      "Number of CKD labs:\n",
      " 0    98884\n",
      "1     6658\n",
      "Name: ckd, dtype: int64\n"
     ]
    }
   ],
   "source": [
    "print(\"Number of ICU stays demographics: \", demographics_windowed['icustay_id'].nunique())\n",
    "print(\"Number of CKD demographics:\\n\", demographics_windowed['ckd'].value_counts())\n",
    "\n",
    "print(\"Number of ICU stays vitals: \", vitals_windowed['icustay_id'].nunique())\n",
    "print(\"Number of CKD vitals:\\n\", vitals_windowed['ckd'].value_counts())\n",
    "\n",
    "print(\"Number of ICU stays labs: \", labs_windowed['icustay_id'].nunique())\n",
    "print(\"Number of CKD labs:\\n\", labs_windowed['ckd'].value_counts())"
   ]
  },
  {
   "cell_type": "markdown",
   "id": "964b760a",
   "metadata": {},
   "source": [
    "### Aggregating time series for static model- Random Forest"
   ]
  },
  {
   "cell_type": "code",
   "execution_count": 37,
   "id": "586d3d7a",
   "metadata": {},
   "outputs": [],
   "source": [
    "def aggregate_dataframe(df, groupby_key, columns_to_aggregate):\n",
    "    df = df.replace(-1, np.nan)\n",
    "    result = df.groupby(groupby_key)[columns_to_aggregate].mean().reset_index()    \n",
    "    return result"
   ]
  },
  {
   "cell_type": "code",
   "execution_count": 38,
   "id": "9bf6fa27",
   "metadata": {},
   "outputs": [],
   "source": [
    "columns_to_merge = ['icustay_id', 'ckd','ethnicity_grouped']"
   ]
  },
  {
   "cell_type": "code",
   "execution_count": 39,
   "id": "d374b841",
   "metadata": {},
   "outputs": [],
   "source": [
    "df_cols_vitals = ['heartrate', 'sysbp','diasbp','meanbp','resprate','tempc','spo2','specificgravity','pedaledema','appetite_median']\n",
    "df_agg_vitals = aggregate_dataframe(vitals_windowed, 'icustay_id', df_cols_vitals)\n",
    "\n",
    "df_agg_vitals = df_agg_vitals.merge(demographics_windowed[columns_to_merge], on='icustay_id', how='inner')\n",
    "df_agg_vitals['ckd_ethnicity'] = df_agg_vitals['ckd'].astype(str).str.cat(df_agg_vitals['ethnicity_grouped'].astype(str))"
   ]
  },
  {
   "cell_type": "code",
   "execution_count": 40,
   "id": "d228d54d",
   "metadata": {},
   "outputs": [],
   "source": [
    "df_cols_labs = ['albumin','bacteria','glucose','bun','creatinine','sodium','potassium','hemoglobin','wbc','hematocrit','platelet','ptt']\n",
    "df_agg_labs = aggregate_dataframe(labs_windowed, 'icustay_id', df_cols_labs)\n",
    "\n",
    "df_agg_labs = df_agg_labs.merge(demographics_windowed[columns_to_merge], on='icustay_id', how='inner')\n",
    "df_agg_labs['ckd_ethnicity'] = df_agg_labs['ckd'].astype(str).str.cat(df_agg_labs['ethnicity_grouped'].astype(str))"
   ]
  },
  {
   "cell_type": "code",
   "execution_count": 41,
   "id": "94bda302",
   "metadata": {},
   "outputs": [
    {
     "data": {
      "text/html": [
       "<div>\n",
       "<style scoped>\n",
       "    .dataframe tbody tr th:only-of-type {\n",
       "        vertical-align: middle;\n",
       "    }\n",
       "\n",
       "    .dataframe tbody tr th {\n",
       "        vertical-align: top;\n",
       "    }\n",
       "\n",
       "    .dataframe thead th {\n",
       "        text-align: right;\n",
       "    }\n",
       "</style>\n",
       "<table border=\"1\" class=\"dataframe\">\n",
       "  <thead>\n",
       "    <tr style=\"text-align: right;\">\n",
       "      <th></th>\n",
       "      <th>icustay_id</th>\n",
       "      <th>heartrate</th>\n",
       "      <th>sysbp</th>\n",
       "      <th>diasbp</th>\n",
       "      <th>meanbp</th>\n",
       "      <th>resprate</th>\n",
       "      <th>tempc</th>\n",
       "      <th>spo2</th>\n",
       "      <th>specificgravity</th>\n",
       "      <th>pedaledema</th>\n",
       "      <th>appetite_median</th>\n",
       "      <th>ckd</th>\n",
       "      <th>ethnicity_grouped</th>\n",
       "      <th>ckd_ethnicity</th>\n",
       "    </tr>\n",
       "  </thead>\n",
       "  <tbody>\n",
       "    <tr>\n",
       "      <th>0</th>\n",
       "      <td>200017</td>\n",
       "      <td>155.052083</td>\n",
       "      <td>120.000000</td>\n",
       "      <td>58.500000</td>\n",
       "      <td>78.000000</td>\n",
       "      <td>20.500000</td>\n",
       "      <td>37.111111</td>\n",
       "      <td>98.000000</td>\n",
       "      <td>1.02</td>\n",
       "      <td>NaN</td>\n",
       "      <td>3.0</td>\n",
       "      <td>0</td>\n",
       "      <td>white</td>\n",
       "      <td>0white</td>\n",
       "    </tr>\n",
       "    <tr>\n",
       "      <th>1</th>\n",
       "      <td>200033</td>\n",
       "      <td>79.126316</td>\n",
       "      <td>122.147368</td>\n",
       "      <td>71.007895</td>\n",
       "      <td>87.844737</td>\n",
       "      <td>17.113158</td>\n",
       "      <td>36.819298</td>\n",
       "      <td>96.394737</td>\n",
       "      <td>1.02</td>\n",
       "      <td>NaN</td>\n",
       "      <td>2.0</td>\n",
       "      <td>0</td>\n",
       "      <td>white</td>\n",
       "      <td>0white</td>\n",
       "    </tr>\n",
       "    <tr>\n",
       "      <th>2</th>\n",
       "      <td>200037</td>\n",
       "      <td>142.943878</td>\n",
       "      <td>120.000000</td>\n",
       "      <td>58.500000</td>\n",
       "      <td>78.000000</td>\n",
       "      <td>20.500000</td>\n",
       "      <td>37.111111</td>\n",
       "      <td>98.000000</td>\n",
       "      <td>1.02</td>\n",
       "      <td>NaN</td>\n",
       "      <td>3.0</td>\n",
       "      <td>0</td>\n",
       "      <td>white</td>\n",
       "      <td>0white</td>\n",
       "    </tr>\n",
       "    <tr>\n",
       "      <th>3</th>\n",
       "      <td>200045</td>\n",
       "      <td>87.118557</td>\n",
       "      <td>129.762887</td>\n",
       "      <td>47.337629</td>\n",
       "      <td>75.811860</td>\n",
       "      <td>21.729381</td>\n",
       "      <td>36.797824</td>\n",
       "      <td>98.525773</td>\n",
       "      <td>1.02</td>\n",
       "      <td>NaN</td>\n",
       "      <td>3.0</td>\n",
       "      <td>0</td>\n",
       "      <td>white</td>\n",
       "      <td>0white</td>\n",
       "    </tr>\n",
       "    <tr>\n",
       "      <th>4</th>\n",
       "      <td>200046</td>\n",
       "      <td>147.221649</td>\n",
       "      <td>120.000000</td>\n",
       "      <td>58.500000</td>\n",
       "      <td>78.000000</td>\n",
       "      <td>20.500000</td>\n",
       "      <td>37.111111</td>\n",
       "      <td>98.000000</td>\n",
       "      <td>1.02</td>\n",
       "      <td>NaN</td>\n",
       "      <td>3.0</td>\n",
       "      <td>0</td>\n",
       "      <td>black</td>\n",
       "      <td>0black</td>\n",
       "    </tr>\n",
       "  </tbody>\n",
       "</table>\n",
       "</div>"
      ],
      "text/plain": [
       "   icustay_id   heartrate       sysbp     diasbp     meanbp   resprate  \\\n",
       "0      200017  155.052083  120.000000  58.500000  78.000000  20.500000   \n",
       "1      200033   79.126316  122.147368  71.007895  87.844737  17.113158   \n",
       "2      200037  142.943878  120.000000  58.500000  78.000000  20.500000   \n",
       "3      200045   87.118557  129.762887  47.337629  75.811860  21.729381   \n",
       "4      200046  147.221649  120.000000  58.500000  78.000000  20.500000   \n",
       "\n",
       "       tempc       spo2  specificgravity  pedaledema  appetite_median  ckd  \\\n",
       "0  37.111111  98.000000             1.02         NaN              3.0    0   \n",
       "1  36.819298  96.394737             1.02         NaN              2.0    0   \n",
       "2  37.111111  98.000000             1.02         NaN              3.0    0   \n",
       "3  36.797824  98.525773             1.02         NaN              3.0    0   \n",
       "4  37.111111  98.000000             1.02         NaN              3.0    0   \n",
       "\n",
       "  ethnicity_grouped ckd_ethnicity  \n",
       "0             white        0white  \n",
       "1             white        0white  \n",
       "2             white        0white  \n",
       "3             white        0white  \n",
       "4             black        0black  "
      ]
     },
     "execution_count": 41,
     "metadata": {},
     "output_type": "execute_result"
    }
   ],
   "source": [
    "df_agg_vitals.head()"
   ]
  },
  {
   "cell_type": "code",
   "execution_count": 42,
   "id": "d3f19e57",
   "metadata": {},
   "outputs": [
    {
     "data": {
      "text/plain": [
       "0white               5376\n",
       "0unknown             1251\n",
       "0black                681\n",
       "1white                405\n",
       "0hispanic             279\n",
       "0asian                245\n",
       "1black                 64\n",
       "1unknown               35\n",
       "0alaska_native         17\n",
       "1hispanic              16\n",
       "1asian                 13\n",
       "0portuguese            12\n",
       "0middle_eastern         5\n",
       "0pacific_islander       2\n",
       "1middle_eastern         2\n",
       "1portuguese             1\n",
       "1alaska_native          1\n",
       "Name: ckd_ethnicity, dtype: int64"
      ]
     },
     "execution_count": 42,
     "metadata": {},
     "output_type": "execute_result"
    }
   ],
   "source": [
    "df_agg_vitals['ckd_ethnicity'].value_counts()"
   ]
  },
  {
   "cell_type": "code",
   "execution_count": 43,
   "id": "d9b7b839",
   "metadata": {},
   "outputs": [
    {
     "data": {
      "text/html": [
       "<div>\n",
       "<style scoped>\n",
       "    .dataframe tbody tr th:only-of-type {\n",
       "        vertical-align: middle;\n",
       "    }\n",
       "\n",
       "    .dataframe tbody tr th {\n",
       "        vertical-align: top;\n",
       "    }\n",
       "\n",
       "    .dataframe thead th {\n",
       "        text-align: right;\n",
       "    }\n",
       "</style>\n",
       "<table border=\"1\" class=\"dataframe\">\n",
       "  <thead>\n",
       "    <tr style=\"text-align: right;\">\n",
       "      <th></th>\n",
       "      <th>icustay_id</th>\n",
       "      <th>albumin</th>\n",
       "      <th>bacteria</th>\n",
       "      <th>glucose</th>\n",
       "      <th>bun</th>\n",
       "      <th>creatinine</th>\n",
       "      <th>sodium</th>\n",
       "      <th>potassium</th>\n",
       "      <th>hemoglobin</th>\n",
       "      <th>wbc</th>\n",
       "      <th>hematocrit</th>\n",
       "      <th>platelet</th>\n",
       "      <th>ptt</th>\n",
       "      <th>ckd</th>\n",
       "      <th>ethnicity_grouped</th>\n",
       "      <th>ckd_ethnicity</th>\n",
       "    </tr>\n",
       "  </thead>\n",
       "  <tbody>\n",
       "    <tr>\n",
       "      <th>0</th>\n",
       "      <td>200017</td>\n",
       "      <td>2.6</td>\n",
       "      <td>2.0</td>\n",
       "      <td>125.000000</td>\n",
       "      <td>29.000000</td>\n",
       "      <td>1.000000</td>\n",
       "      <td>141.416667</td>\n",
       "      <td>5.066667</td>\n",
       "      <td>16.800000</td>\n",
       "      <td>5.200000</td>\n",
       "      <td>53.100000</td>\n",
       "      <td>267.000000</td>\n",
       "      <td>36.0</td>\n",
       "      <td>0</td>\n",
       "      <td>white</td>\n",
       "      <td>0white</td>\n",
       "    </tr>\n",
       "    <tr>\n",
       "      <th>1</th>\n",
       "      <td>200033</td>\n",
       "      <td>2.7</td>\n",
       "      <td>1.0</td>\n",
       "      <td>151.916667</td>\n",
       "      <td>15.833333</td>\n",
       "      <td>0.675000</td>\n",
       "      <td>135.916667</td>\n",
       "      <td>3.670833</td>\n",
       "      <td>12.729167</td>\n",
       "      <td>8.266667</td>\n",
       "      <td>36.725000</td>\n",
       "      <td>140.208333</td>\n",
       "      <td>25.1</td>\n",
       "      <td>0</td>\n",
       "      <td>white</td>\n",
       "      <td>0white</td>\n",
       "    </tr>\n",
       "    <tr>\n",
       "      <th>2</th>\n",
       "      <td>200037</td>\n",
       "      <td>2.6</td>\n",
       "      <td>2.0</td>\n",
       "      <td>125.000000</td>\n",
       "      <td>29.000000</td>\n",
       "      <td>1.000000</td>\n",
       "      <td>145.230769</td>\n",
       "      <td>5.484615</td>\n",
       "      <td>9.800000</td>\n",
       "      <td>11.500000</td>\n",
       "      <td>29.100000</td>\n",
       "      <td>212.000000</td>\n",
       "      <td>36.0</td>\n",
       "      <td>0</td>\n",
       "      <td>white</td>\n",
       "      <td>0white</td>\n",
       "    </tr>\n",
       "    <tr>\n",
       "      <th>3</th>\n",
       "      <td>200045</td>\n",
       "      <td>2.5</td>\n",
       "      <td>2.0</td>\n",
       "      <td>74.846154</td>\n",
       "      <td>23.923077</td>\n",
       "      <td>0.861538</td>\n",
       "      <td>147.461538</td>\n",
       "      <td>4.623077</td>\n",
       "      <td>10.369231</td>\n",
       "      <td>14.730769</td>\n",
       "      <td>31.300000</td>\n",
       "      <td>237.230769</td>\n",
       "      <td>26.5</td>\n",
       "      <td>0</td>\n",
       "      <td>white</td>\n",
       "      <td>0white</td>\n",
       "    </tr>\n",
       "    <tr>\n",
       "      <th>4</th>\n",
       "      <td>200046</td>\n",
       "      <td>2.6</td>\n",
       "      <td>2.0</td>\n",
       "      <td>125.000000</td>\n",
       "      <td>29.000000</td>\n",
       "      <td>1.000000</td>\n",
       "      <td>138.384615</td>\n",
       "      <td>5.023077</td>\n",
       "      <td>16.392308</td>\n",
       "      <td>3.403846</td>\n",
       "      <td>50.569231</td>\n",
       "      <td>263.307692</td>\n",
       "      <td>36.0</td>\n",
       "      <td>0</td>\n",
       "      <td>black</td>\n",
       "      <td>0black</td>\n",
       "    </tr>\n",
       "  </tbody>\n",
       "</table>\n",
       "</div>"
      ],
      "text/plain": [
       "   icustay_id  albumin  bacteria     glucose        bun  creatinine  \\\n",
       "0      200017      2.6       2.0  125.000000  29.000000    1.000000   \n",
       "1      200033      2.7       1.0  151.916667  15.833333    0.675000   \n",
       "2      200037      2.6       2.0  125.000000  29.000000    1.000000   \n",
       "3      200045      2.5       2.0   74.846154  23.923077    0.861538   \n",
       "4      200046      2.6       2.0  125.000000  29.000000    1.000000   \n",
       "\n",
       "       sodium  potassium  hemoglobin        wbc  hematocrit    platelet   ptt  \\\n",
       "0  141.416667   5.066667   16.800000   5.200000   53.100000  267.000000  36.0   \n",
       "1  135.916667   3.670833   12.729167   8.266667   36.725000  140.208333  25.1   \n",
       "2  145.230769   5.484615    9.800000  11.500000   29.100000  212.000000  36.0   \n",
       "3  147.461538   4.623077   10.369231  14.730769   31.300000  237.230769  26.5   \n",
       "4  138.384615   5.023077   16.392308   3.403846   50.569231  263.307692  36.0   \n",
       "\n",
       "   ckd ethnicity_grouped ckd_ethnicity  \n",
       "0    0             white        0white  \n",
       "1    0             white        0white  \n",
       "2    0             white        0white  \n",
       "3    0             white        0white  \n",
       "4    0             black        0black  "
      ]
     },
     "execution_count": 43,
     "metadata": {},
     "output_type": "execute_result"
    }
   ],
   "source": [
    "df_agg_labs.head()"
   ]
  },
  {
   "cell_type": "code",
   "execution_count": 44,
   "id": "5bfad31d",
   "metadata": {},
   "outputs": [
    {
     "data": {
      "text/plain": [
       "(8405, 14)"
      ]
     },
     "execution_count": 44,
     "metadata": {},
     "output_type": "execute_result"
    }
   ],
   "source": [
    "df_agg_vitals.shape"
   ]
  },
  {
   "cell_type": "code",
   "execution_count": 45,
   "id": "ff01a9b2",
   "metadata": {},
   "outputs": [
    {
     "data": {
      "text/plain": [
       "(8405, 16)"
      ]
     },
     "execution_count": 45,
     "metadata": {},
     "output_type": "execute_result"
    }
   ],
   "source": [
    "df_agg_labs.shape"
   ]
  },
  {
   "cell_type": "code",
   "execution_count": 46,
   "id": "36d04f5c",
   "metadata": {},
   "outputs": [
    {
     "data": {
      "text/plain": [
       "(8405, 29)"
      ]
     },
     "execution_count": 46,
     "metadata": {},
     "output_type": "execute_result"
    }
   ],
   "source": [
    "demographics_windowed.shape"
   ]
  },
  {
   "cell_type": "code",
   "execution_count": 47,
   "id": "e2efea9a",
   "metadata": {},
   "outputs": [
    {
     "name": "stdout",
     "output_type": "stream",
     "text": [
      "Vitals unique icustay id:  8405 \n",
      "Labs unique icustay id:  8405 \n",
      "Demographics unique icustay id:  8405\n"
     ]
    }
   ],
   "source": [
    "print(\"Vitals unique icustay id: \",len(df_agg_vitals['icustay_id'].unique()),\"\\nLabs unique icustay id: \",len(df_agg_labs['icustay_id'].unique()),\"\\nDemographics unique icustay id: \",len(demographics_windowed['icustay_id'].unique()))"
   ]
  },
  {
   "cell_type": "code",
   "execution_count": 48,
   "id": "8af492f5",
   "metadata": {},
   "outputs": [
    {
     "data": {
      "text/html": [
       "<div>\n",
       "<style scoped>\n",
       "    .dataframe tbody tr th:only-of-type {\n",
       "        vertical-align: middle;\n",
       "    }\n",
       "\n",
       "    .dataframe tbody tr th {\n",
       "        vertical-align: top;\n",
       "    }\n",
       "\n",
       "    .dataframe thead th {\n",
       "        text-align: right;\n",
       "    }\n",
       "</style>\n",
       "<table border=\"1\" class=\"dataframe\">\n",
       "  <thead>\n",
       "    <tr style=\"text-align: right;\">\n",
       "      <th></th>\n",
       "      <th>icustay_id</th>\n",
       "      <th>heartrate</th>\n",
       "      <th>sysbp</th>\n",
       "      <th>diasbp</th>\n",
       "      <th>meanbp</th>\n",
       "      <th>resprate</th>\n",
       "      <th>tempc</th>\n",
       "      <th>spo2</th>\n",
       "      <th>specificgravity</th>\n",
       "      <th>pedaledema</th>\n",
       "      <th>appetite_median</th>\n",
       "      <th>ckd</th>\n",
       "      <th>ethnicity_grouped</th>\n",
       "      <th>ckd_ethnicity</th>\n",
       "    </tr>\n",
       "  </thead>\n",
       "  <tbody>\n",
       "    <tr>\n",
       "      <th>0</th>\n",
       "      <td>200017</td>\n",
       "      <td>155.052083</td>\n",
       "      <td>120.000000</td>\n",
       "      <td>58.500000</td>\n",
       "      <td>78.000000</td>\n",
       "      <td>20.500000</td>\n",
       "      <td>37.111111</td>\n",
       "      <td>98.000000</td>\n",
       "      <td>1.02</td>\n",
       "      <td>NaN</td>\n",
       "      <td>3.0</td>\n",
       "      <td>0</td>\n",
       "      <td>white</td>\n",
       "      <td>0white</td>\n",
       "    </tr>\n",
       "    <tr>\n",
       "      <th>1</th>\n",
       "      <td>200033</td>\n",
       "      <td>79.126316</td>\n",
       "      <td>122.147368</td>\n",
       "      <td>71.007895</td>\n",
       "      <td>87.844737</td>\n",
       "      <td>17.113158</td>\n",
       "      <td>36.819298</td>\n",
       "      <td>96.394737</td>\n",
       "      <td>1.02</td>\n",
       "      <td>NaN</td>\n",
       "      <td>2.0</td>\n",
       "      <td>0</td>\n",
       "      <td>white</td>\n",
       "      <td>0white</td>\n",
       "    </tr>\n",
       "    <tr>\n",
       "      <th>2</th>\n",
       "      <td>200037</td>\n",
       "      <td>142.943878</td>\n",
       "      <td>120.000000</td>\n",
       "      <td>58.500000</td>\n",
       "      <td>78.000000</td>\n",
       "      <td>20.500000</td>\n",
       "      <td>37.111111</td>\n",
       "      <td>98.000000</td>\n",
       "      <td>1.02</td>\n",
       "      <td>NaN</td>\n",
       "      <td>3.0</td>\n",
       "      <td>0</td>\n",
       "      <td>white</td>\n",
       "      <td>0white</td>\n",
       "    </tr>\n",
       "    <tr>\n",
       "      <th>3</th>\n",
       "      <td>200045</td>\n",
       "      <td>87.118557</td>\n",
       "      <td>129.762887</td>\n",
       "      <td>47.337629</td>\n",
       "      <td>75.811860</td>\n",
       "      <td>21.729381</td>\n",
       "      <td>36.797824</td>\n",
       "      <td>98.525773</td>\n",
       "      <td>1.02</td>\n",
       "      <td>NaN</td>\n",
       "      <td>3.0</td>\n",
       "      <td>0</td>\n",
       "      <td>white</td>\n",
       "      <td>0white</td>\n",
       "    </tr>\n",
       "    <tr>\n",
       "      <th>4</th>\n",
       "      <td>200046</td>\n",
       "      <td>147.221649</td>\n",
       "      <td>120.000000</td>\n",
       "      <td>58.500000</td>\n",
       "      <td>78.000000</td>\n",
       "      <td>20.500000</td>\n",
       "      <td>37.111111</td>\n",
       "      <td>98.000000</td>\n",
       "      <td>1.02</td>\n",
       "      <td>NaN</td>\n",
       "      <td>3.0</td>\n",
       "      <td>0</td>\n",
       "      <td>black</td>\n",
       "      <td>0black</td>\n",
       "    </tr>\n",
       "  </tbody>\n",
       "</table>\n",
       "</div>"
      ],
      "text/plain": [
       "   icustay_id   heartrate       sysbp     diasbp     meanbp   resprate  \\\n",
       "0      200017  155.052083  120.000000  58.500000  78.000000  20.500000   \n",
       "1      200033   79.126316  122.147368  71.007895  87.844737  17.113158   \n",
       "2      200037  142.943878  120.000000  58.500000  78.000000  20.500000   \n",
       "3      200045   87.118557  129.762887  47.337629  75.811860  21.729381   \n",
       "4      200046  147.221649  120.000000  58.500000  78.000000  20.500000   \n",
       "\n",
       "       tempc       spo2  specificgravity  pedaledema  appetite_median  ckd  \\\n",
       "0  37.111111  98.000000             1.02         NaN              3.0    0   \n",
       "1  36.819298  96.394737             1.02         NaN              2.0    0   \n",
       "2  37.111111  98.000000             1.02         NaN              3.0    0   \n",
       "3  36.797824  98.525773             1.02         NaN              3.0    0   \n",
       "4  37.111111  98.000000             1.02         NaN              3.0    0   \n",
       "\n",
       "  ethnicity_grouped ckd_ethnicity  \n",
       "0             white        0white  \n",
       "1             white        0white  \n",
       "2             white        0white  \n",
       "3             white        0white  \n",
       "4             black        0black  "
      ]
     },
     "execution_count": 48,
     "metadata": {},
     "output_type": "execute_result"
    }
   ],
   "source": [
    "df_agg_vitals.head()"
   ]
  },
  {
   "cell_type": "code",
   "execution_count": 49,
   "id": "5424dadd",
   "metadata": {},
   "outputs": [],
   "source": [
    "df_agg_vitals_new=df_agg_vitals.drop(['ckd','ethnicity_grouped','ckd_ethnicity'],axis=1)"
   ]
  },
  {
   "cell_type": "code",
   "execution_count": 50,
   "id": "07f30278",
   "metadata": {},
   "outputs": [],
   "source": [
    "df_agg_labs_new=df_agg_labs.drop(['ckd','ethnicity_grouped'],axis=1)"
   ]
  },
  {
   "cell_type": "code",
   "execution_count": 51,
   "id": "9e800492",
   "metadata": {},
   "outputs": [
    {
     "data": {
      "text/html": [
       "<div>\n",
       "<style scoped>\n",
       "    .dataframe tbody tr th:only-of-type {\n",
       "        vertical-align: middle;\n",
       "    }\n",
       "\n",
       "    .dataframe tbody tr th {\n",
       "        vertical-align: top;\n",
       "    }\n",
       "\n",
       "    .dataframe thead th {\n",
       "        text-align: right;\n",
       "    }\n",
       "</style>\n",
       "<table border=\"1\" class=\"dataframe\">\n",
       "  <thead>\n",
       "    <tr style=\"text-align: right;\">\n",
       "      <th></th>\n",
       "      <th>icustay_id</th>\n",
       "      <th>heartrate</th>\n",
       "      <th>sysbp</th>\n",
       "      <th>diasbp</th>\n",
       "      <th>meanbp</th>\n",
       "      <th>resprate</th>\n",
       "      <th>tempc</th>\n",
       "      <th>spo2</th>\n",
       "      <th>specificgravity</th>\n",
       "      <th>pedaledema</th>\n",
       "      <th>appetite_median</th>\n",
       "    </tr>\n",
       "  </thead>\n",
       "  <tbody>\n",
       "    <tr>\n",
       "      <th>0</th>\n",
       "      <td>200017</td>\n",
       "      <td>155.052083</td>\n",
       "      <td>120.000000</td>\n",
       "      <td>58.500000</td>\n",
       "      <td>78.000000</td>\n",
       "      <td>20.500000</td>\n",
       "      <td>37.111111</td>\n",
       "      <td>98.000000</td>\n",
       "      <td>1.02</td>\n",
       "      <td>NaN</td>\n",
       "      <td>3.0</td>\n",
       "    </tr>\n",
       "    <tr>\n",
       "      <th>1</th>\n",
       "      <td>200033</td>\n",
       "      <td>79.126316</td>\n",
       "      <td>122.147368</td>\n",
       "      <td>71.007895</td>\n",
       "      <td>87.844737</td>\n",
       "      <td>17.113158</td>\n",
       "      <td>36.819298</td>\n",
       "      <td>96.394737</td>\n",
       "      <td>1.02</td>\n",
       "      <td>NaN</td>\n",
       "      <td>2.0</td>\n",
       "    </tr>\n",
       "    <tr>\n",
       "      <th>2</th>\n",
       "      <td>200037</td>\n",
       "      <td>142.943878</td>\n",
       "      <td>120.000000</td>\n",
       "      <td>58.500000</td>\n",
       "      <td>78.000000</td>\n",
       "      <td>20.500000</td>\n",
       "      <td>37.111111</td>\n",
       "      <td>98.000000</td>\n",
       "      <td>1.02</td>\n",
       "      <td>NaN</td>\n",
       "      <td>3.0</td>\n",
       "    </tr>\n",
       "    <tr>\n",
       "      <th>3</th>\n",
       "      <td>200045</td>\n",
       "      <td>87.118557</td>\n",
       "      <td>129.762887</td>\n",
       "      <td>47.337629</td>\n",
       "      <td>75.811860</td>\n",
       "      <td>21.729381</td>\n",
       "      <td>36.797824</td>\n",
       "      <td>98.525773</td>\n",
       "      <td>1.02</td>\n",
       "      <td>NaN</td>\n",
       "      <td>3.0</td>\n",
       "    </tr>\n",
       "    <tr>\n",
       "      <th>4</th>\n",
       "      <td>200046</td>\n",
       "      <td>147.221649</td>\n",
       "      <td>120.000000</td>\n",
       "      <td>58.500000</td>\n",
       "      <td>78.000000</td>\n",
       "      <td>20.500000</td>\n",
       "      <td>37.111111</td>\n",
       "      <td>98.000000</td>\n",
       "      <td>1.02</td>\n",
       "      <td>NaN</td>\n",
       "      <td>3.0</td>\n",
       "    </tr>\n",
       "  </tbody>\n",
       "</table>\n",
       "</div>"
      ],
      "text/plain": [
       "   icustay_id   heartrate       sysbp     diasbp     meanbp   resprate  \\\n",
       "0      200017  155.052083  120.000000  58.500000  78.000000  20.500000   \n",
       "1      200033   79.126316  122.147368  71.007895  87.844737  17.113158   \n",
       "2      200037  142.943878  120.000000  58.500000  78.000000  20.500000   \n",
       "3      200045   87.118557  129.762887  47.337629  75.811860  21.729381   \n",
       "4      200046  147.221649  120.000000  58.500000  78.000000  20.500000   \n",
       "\n",
       "       tempc       spo2  specificgravity  pedaledema  appetite_median  \n",
       "0  37.111111  98.000000             1.02         NaN              3.0  \n",
       "1  36.819298  96.394737             1.02         NaN              2.0  \n",
       "2  37.111111  98.000000             1.02         NaN              3.0  \n",
       "3  36.797824  98.525773             1.02         NaN              3.0  \n",
       "4  37.111111  98.000000             1.02         NaN              3.0  "
      ]
     },
     "execution_count": 51,
     "metadata": {},
     "output_type": "execute_result"
    }
   ],
   "source": [
    "df_agg_vitals_new.head()"
   ]
  },
  {
   "cell_type": "code",
   "execution_count": 52,
   "id": "e593e177",
   "metadata": {},
   "outputs": [
    {
     "data": {
      "text/html": [
       "<div>\n",
       "<style scoped>\n",
       "    .dataframe tbody tr th:only-of-type {\n",
       "        vertical-align: middle;\n",
       "    }\n",
       "\n",
       "    .dataframe tbody tr th {\n",
       "        vertical-align: top;\n",
       "    }\n",
       "\n",
       "    .dataframe thead th {\n",
       "        text-align: right;\n",
       "    }\n",
       "</style>\n",
       "<table border=\"1\" class=\"dataframe\">\n",
       "  <thead>\n",
       "    <tr style=\"text-align: right;\">\n",
       "      <th></th>\n",
       "      <th>icustay_id</th>\n",
       "      <th>albumin</th>\n",
       "      <th>bacteria</th>\n",
       "      <th>glucose</th>\n",
       "      <th>bun</th>\n",
       "      <th>creatinine</th>\n",
       "      <th>sodium</th>\n",
       "      <th>potassium</th>\n",
       "      <th>hemoglobin</th>\n",
       "      <th>wbc</th>\n",
       "      <th>hematocrit</th>\n",
       "      <th>platelet</th>\n",
       "      <th>ptt</th>\n",
       "      <th>ckd_ethnicity</th>\n",
       "    </tr>\n",
       "  </thead>\n",
       "  <tbody>\n",
       "    <tr>\n",
       "      <th>0</th>\n",
       "      <td>200017</td>\n",
       "      <td>2.6</td>\n",
       "      <td>2.0</td>\n",
       "      <td>125.000000</td>\n",
       "      <td>29.000000</td>\n",
       "      <td>1.000000</td>\n",
       "      <td>141.416667</td>\n",
       "      <td>5.066667</td>\n",
       "      <td>16.800000</td>\n",
       "      <td>5.200000</td>\n",
       "      <td>53.100000</td>\n",
       "      <td>267.000000</td>\n",
       "      <td>36.0</td>\n",
       "      <td>0white</td>\n",
       "    </tr>\n",
       "    <tr>\n",
       "      <th>1</th>\n",
       "      <td>200033</td>\n",
       "      <td>2.7</td>\n",
       "      <td>1.0</td>\n",
       "      <td>151.916667</td>\n",
       "      <td>15.833333</td>\n",
       "      <td>0.675000</td>\n",
       "      <td>135.916667</td>\n",
       "      <td>3.670833</td>\n",
       "      <td>12.729167</td>\n",
       "      <td>8.266667</td>\n",
       "      <td>36.725000</td>\n",
       "      <td>140.208333</td>\n",
       "      <td>25.1</td>\n",
       "      <td>0white</td>\n",
       "    </tr>\n",
       "    <tr>\n",
       "      <th>2</th>\n",
       "      <td>200037</td>\n",
       "      <td>2.6</td>\n",
       "      <td>2.0</td>\n",
       "      <td>125.000000</td>\n",
       "      <td>29.000000</td>\n",
       "      <td>1.000000</td>\n",
       "      <td>145.230769</td>\n",
       "      <td>5.484615</td>\n",
       "      <td>9.800000</td>\n",
       "      <td>11.500000</td>\n",
       "      <td>29.100000</td>\n",
       "      <td>212.000000</td>\n",
       "      <td>36.0</td>\n",
       "      <td>0white</td>\n",
       "    </tr>\n",
       "    <tr>\n",
       "      <th>3</th>\n",
       "      <td>200045</td>\n",
       "      <td>2.5</td>\n",
       "      <td>2.0</td>\n",
       "      <td>74.846154</td>\n",
       "      <td>23.923077</td>\n",
       "      <td>0.861538</td>\n",
       "      <td>147.461538</td>\n",
       "      <td>4.623077</td>\n",
       "      <td>10.369231</td>\n",
       "      <td>14.730769</td>\n",
       "      <td>31.300000</td>\n",
       "      <td>237.230769</td>\n",
       "      <td>26.5</td>\n",
       "      <td>0white</td>\n",
       "    </tr>\n",
       "    <tr>\n",
       "      <th>4</th>\n",
       "      <td>200046</td>\n",
       "      <td>2.6</td>\n",
       "      <td>2.0</td>\n",
       "      <td>125.000000</td>\n",
       "      <td>29.000000</td>\n",
       "      <td>1.000000</td>\n",
       "      <td>138.384615</td>\n",
       "      <td>5.023077</td>\n",
       "      <td>16.392308</td>\n",
       "      <td>3.403846</td>\n",
       "      <td>50.569231</td>\n",
       "      <td>263.307692</td>\n",
       "      <td>36.0</td>\n",
       "      <td>0black</td>\n",
       "    </tr>\n",
       "  </tbody>\n",
       "</table>\n",
       "</div>"
      ],
      "text/plain": [
       "   icustay_id  albumin  bacteria     glucose        bun  creatinine  \\\n",
       "0      200017      2.6       2.0  125.000000  29.000000    1.000000   \n",
       "1      200033      2.7       1.0  151.916667  15.833333    0.675000   \n",
       "2      200037      2.6       2.0  125.000000  29.000000    1.000000   \n",
       "3      200045      2.5       2.0   74.846154  23.923077    0.861538   \n",
       "4      200046      2.6       2.0  125.000000  29.000000    1.000000   \n",
       "\n",
       "       sodium  potassium  hemoglobin        wbc  hematocrit    platelet   ptt  \\\n",
       "0  141.416667   5.066667   16.800000   5.200000   53.100000  267.000000  36.0   \n",
       "1  135.916667   3.670833   12.729167   8.266667   36.725000  140.208333  25.1   \n",
       "2  145.230769   5.484615    9.800000  11.500000   29.100000  212.000000  36.0   \n",
       "3  147.461538   4.623077   10.369231  14.730769   31.300000  237.230769  26.5   \n",
       "4  138.384615   5.023077   16.392308   3.403846   50.569231  263.307692  36.0   \n",
       "\n",
       "  ckd_ethnicity  \n",
       "0        0white  \n",
       "1        0white  \n",
       "2        0white  \n",
       "3        0white  \n",
       "4        0black  "
      ]
     },
     "execution_count": 52,
     "metadata": {},
     "output_type": "execute_result"
    }
   ],
   "source": [
    "df_agg_labs_new.head()"
   ]
  },
  {
   "cell_type": "markdown",
   "id": "009483eb",
   "metadata": {},
   "source": [
    "#### Merging all 3 tables together"
   ]
  },
  {
   "cell_type": "code",
   "execution_count": 53,
   "id": "89636679",
   "metadata": {},
   "outputs": [],
   "source": [
    "merged_table = df_agg_labs_new.merge(df_agg_vitals_new, on='icustay_id', how='inner').merge(demographics_windowed, on='icustay_id', how='inner')"
   ]
  },
  {
   "cell_type": "code",
   "execution_count": 54,
   "id": "1dd4f3b7",
   "metadata": {},
   "outputs": [
    {
     "data": {
      "text/plain": [
       "Index(['icustay_id', 'albumin', 'bacteria', 'glucose', 'bun', 'creatinine',\n",
       "       'sodium', 'potassium', 'hemoglobin', 'wbc', 'hematocrit', 'platelet',\n",
       "       'ptt', 'ckd_ethnicity', 'heartrate', 'sysbp', 'diasbp', 'meanbp',\n",
       "       'resprate', 'tempc', 'spo2', 'specificgravity', 'pedaledema',\n",
       "       'appetite_median', 'subject_id', 'hadm_id', 'gender', 'dod',\n",
       "       'admittime', 'dischtime', 'los_hospital', 'admission_age', 'ethnicity',\n",
       "       'ethnicity_grouped', 'hospital_expire_flag', 'hospstay_seq',\n",
       "       'first_hosp_stay', 'intime', 'outtime', 'los_icu', 'icustay_seq',\n",
       "       'first_icu_stay_current_hosp', 'first_icu_stay_patient',\n",
       "       'first_careunit', 'deathtime_icu', 'label_death_icu', 'label_cor_art',\n",
       "       'diabetes_mellitus', 'ckd', 'anemia_flag', 'predtime', 'delta_t_pred'],\n",
       "      dtype='object')"
      ]
     },
     "execution_count": 54,
     "metadata": {},
     "output_type": "execute_result"
    }
   ],
   "source": [
    "merged_table.columns"
   ]
  },
  {
   "cell_type": "code",
   "execution_count": 55,
   "id": "3812f0cb",
   "metadata": {},
   "outputs": [
    {
     "data": {
      "text/html": [
       "<div>\n",
       "<style scoped>\n",
       "    .dataframe tbody tr th:only-of-type {\n",
       "        vertical-align: middle;\n",
       "    }\n",
       "\n",
       "    .dataframe tbody tr th {\n",
       "        vertical-align: top;\n",
       "    }\n",
       "\n",
       "    .dataframe thead th {\n",
       "        text-align: right;\n",
       "    }\n",
       "</style>\n",
       "<table border=\"1\" class=\"dataframe\">\n",
       "  <thead>\n",
       "    <tr style=\"text-align: right;\">\n",
       "      <th></th>\n",
       "      <th>icustay_id</th>\n",
       "      <th>albumin</th>\n",
       "      <th>bacteria</th>\n",
       "      <th>glucose</th>\n",
       "      <th>bun</th>\n",
       "      <th>creatinine</th>\n",
       "      <th>sodium</th>\n",
       "      <th>potassium</th>\n",
       "      <th>hemoglobin</th>\n",
       "      <th>wbc</th>\n",
       "      <th>...</th>\n",
       "      <th>first_icu_stay_patient</th>\n",
       "      <th>first_careunit</th>\n",
       "      <th>deathtime_icu</th>\n",
       "      <th>label_death_icu</th>\n",
       "      <th>label_cor_art</th>\n",
       "      <th>diabetes_mellitus</th>\n",
       "      <th>ckd</th>\n",
       "      <th>anemia_flag</th>\n",
       "      <th>predtime</th>\n",
       "      <th>delta_t_pred</th>\n",
       "    </tr>\n",
       "  </thead>\n",
       "  <tbody>\n",
       "    <tr>\n",
       "      <th>0</th>\n",
       "      <td>200017</td>\n",
       "      <td>2.6</td>\n",
       "      <td>2.0</td>\n",
       "      <td>125.000000</td>\n",
       "      <td>29.000000</td>\n",
       "      <td>1.000000</td>\n",
       "      <td>141.416667</td>\n",
       "      <td>5.066667</td>\n",
       "      <td>16.800000</td>\n",
       "      <td>5.200000</td>\n",
       "      <td>...</td>\n",
       "      <td>True</td>\n",
       "      <td>NICU</td>\n",
       "      <td>NaT</td>\n",
       "      <td>0</td>\n",
       "      <td>0</td>\n",
       "      <td>0</td>\n",
       "      <td>0</td>\n",
       "      <td>0</td>\n",
       "      <td>2138-03-21 21:54:36</td>\n",
       "      <td>53 days 19:18:05</td>\n",
       "    </tr>\n",
       "    <tr>\n",
       "      <th>1</th>\n",
       "      <td>200033</td>\n",
       "      <td>2.7</td>\n",
       "      <td>1.0</td>\n",
       "      <td>151.916667</td>\n",
       "      <td>15.833333</td>\n",
       "      <td>0.675000</td>\n",
       "      <td>135.916667</td>\n",
       "      <td>3.670833</td>\n",
       "      <td>12.729167</td>\n",
       "      <td>8.266667</td>\n",
       "      <td>...</td>\n",
       "      <td>True</td>\n",
       "      <td>SICU</td>\n",
       "      <td>2198-08-21 11:15:00</td>\n",
       "      <td>1</td>\n",
       "      <td>0</td>\n",
       "      <td>1</td>\n",
       "      <td>0</td>\n",
       "      <td>0</td>\n",
       "      <td>2198-08-11 17:56:17</td>\n",
       "      <td>9 days 21:03:01</td>\n",
       "    </tr>\n",
       "    <tr>\n",
       "      <th>2</th>\n",
       "      <td>200037</td>\n",
       "      <td>2.6</td>\n",
       "      <td>2.0</td>\n",
       "      <td>125.000000</td>\n",
       "      <td>29.000000</td>\n",
       "      <td>1.000000</td>\n",
       "      <td>145.230769</td>\n",
       "      <td>5.484615</td>\n",
       "      <td>9.800000</td>\n",
       "      <td>11.500000</td>\n",
       "      <td>...</td>\n",
       "      <td>True</td>\n",
       "      <td>NICU</td>\n",
       "      <td>NaT</td>\n",
       "      <td>0</td>\n",
       "      <td>0</td>\n",
       "      <td>0</td>\n",
       "      <td>0</td>\n",
       "      <td>0</td>\n",
       "      <td>2141-08-11 09:29:48</td>\n",
       "      <td>14 days 07:47:08</td>\n",
       "    </tr>\n",
       "    <tr>\n",
       "      <th>3</th>\n",
       "      <td>200045</td>\n",
       "      <td>2.5</td>\n",
       "      <td>2.0</td>\n",
       "      <td>74.846154</td>\n",
       "      <td>23.923077</td>\n",
       "      <td>0.861538</td>\n",
       "      <td>147.461538</td>\n",
       "      <td>4.623077</td>\n",
       "      <td>10.369231</td>\n",
       "      <td>14.730769</td>\n",
       "      <td>...</td>\n",
       "      <td>False</td>\n",
       "      <td>SICU</td>\n",
       "      <td>NaT</td>\n",
       "      <td>0</td>\n",
       "      <td>0</td>\n",
       "      <td>1</td>\n",
       "      <td>0</td>\n",
       "      <td>0</td>\n",
       "      <td>2116-07-14 15:40:58</td>\n",
       "      <td>16 days 00:56:02</td>\n",
       "    </tr>\n",
       "    <tr>\n",
       "      <th>4</th>\n",
       "      <td>200046</td>\n",
       "      <td>2.6</td>\n",
       "      <td>2.0</td>\n",
       "      <td>125.000000</td>\n",
       "      <td>29.000000</td>\n",
       "      <td>1.000000</td>\n",
       "      <td>138.384615</td>\n",
       "      <td>5.023077</td>\n",
       "      <td>16.392308</td>\n",
       "      <td>3.403846</td>\n",
       "      <td>...</td>\n",
       "      <td>True</td>\n",
       "      <td>NICU</td>\n",
       "      <td>NaT</td>\n",
       "      <td>0</td>\n",
       "      <td>0</td>\n",
       "      <td>0</td>\n",
       "      <td>0</td>\n",
       "      <td>0</td>\n",
       "      <td>2154-05-05 15:52:33</td>\n",
       "      <td>82 days 03:21:51</td>\n",
       "    </tr>\n",
       "  </tbody>\n",
       "</table>\n",
       "<p>5 rows × 52 columns</p>\n",
       "</div>"
      ],
      "text/plain": [
       "   icustay_id  albumin  bacteria     glucose        bun  creatinine  \\\n",
       "0      200017      2.6       2.0  125.000000  29.000000    1.000000   \n",
       "1      200033      2.7       1.0  151.916667  15.833333    0.675000   \n",
       "2      200037      2.6       2.0  125.000000  29.000000    1.000000   \n",
       "3      200045      2.5       2.0   74.846154  23.923077    0.861538   \n",
       "4      200046      2.6       2.0  125.000000  29.000000    1.000000   \n",
       "\n",
       "       sodium  potassium  hemoglobin        wbc  ...  first_icu_stay_patient  \\\n",
       "0  141.416667   5.066667   16.800000   5.200000  ...                    True   \n",
       "1  135.916667   3.670833   12.729167   8.266667  ...                    True   \n",
       "2  145.230769   5.484615    9.800000  11.500000  ...                    True   \n",
       "3  147.461538   4.623077   10.369231  14.730769  ...                   False   \n",
       "4  138.384615   5.023077   16.392308   3.403846  ...                    True   \n",
       "\n",
       "   first_careunit       deathtime_icu label_death_icu  label_cor_art  \\\n",
       "0            NICU                 NaT               0              0   \n",
       "1            SICU 2198-08-21 11:15:00               1              0   \n",
       "2            NICU                 NaT               0              0   \n",
       "3            SICU                 NaT               0              0   \n",
       "4            NICU                 NaT               0              0   \n",
       "\n",
       "   diabetes_mellitus  ckd  anemia_flag            predtime     delta_t_pred  \n",
       "0                  0    0            0 2138-03-21 21:54:36 53 days 19:18:05  \n",
       "1                  1    0            0 2198-08-11 17:56:17  9 days 21:03:01  \n",
       "2                  0    0            0 2141-08-11 09:29:48 14 days 07:47:08  \n",
       "3                  1    0            0 2116-07-14 15:40:58 16 days 00:56:02  \n",
       "4                  0    0            0 2154-05-05 15:52:33 82 days 03:21:51  \n",
       "\n",
       "[5 rows x 52 columns]"
      ]
     },
     "execution_count": 55,
     "metadata": {},
     "output_type": "execute_result"
    }
   ],
   "source": [
    "merged_table.head()"
   ]
  },
  {
   "cell_type": "markdown",
   "id": "43cdea11",
   "metadata": {},
   "source": [
    "#### Dropping other irrelevent columns"
   ]
  },
  {
   "cell_type": "code",
   "execution_count": 56,
   "id": "1e5ed099",
   "metadata": {},
   "outputs": [],
   "source": [
    "merged_table=merged_table.drop(['subject_id','hadm_id','dod','admittime', 'dischtime','los_hospital','ethnicity','hospital_expire_flag','hospstay_seq', 'first_hosp_stay', 'intime','outtime', 'los_icu', 'icustay_seq', 'first_icu_stay_current_hosp','first_icu_stay_patient', 'first_careunit', 'deathtime_icu','label_death_icu', 'predtime', 'delta_t_pred'],axis=1)"
   ]
  },
  {
   "cell_type": "code",
   "execution_count": 57,
   "id": "429b2026",
   "metadata": {},
   "outputs": [
    {
     "data": {
      "text/html": [
       "<div>\n",
       "<style scoped>\n",
       "    .dataframe tbody tr th:only-of-type {\n",
       "        vertical-align: middle;\n",
       "    }\n",
       "\n",
       "    .dataframe tbody tr th {\n",
       "        vertical-align: top;\n",
       "    }\n",
       "\n",
       "    .dataframe thead th {\n",
       "        text-align: right;\n",
       "    }\n",
       "</style>\n",
       "<table border=\"1\" class=\"dataframe\">\n",
       "  <thead>\n",
       "    <tr style=\"text-align: right;\">\n",
       "      <th></th>\n",
       "      <th>icustay_id</th>\n",
       "      <th>albumin</th>\n",
       "      <th>bacteria</th>\n",
       "      <th>glucose</th>\n",
       "      <th>bun</th>\n",
       "      <th>creatinine</th>\n",
       "      <th>sodium</th>\n",
       "      <th>potassium</th>\n",
       "      <th>hemoglobin</th>\n",
       "      <th>wbc</th>\n",
       "      <th>...</th>\n",
       "      <th>specificgravity</th>\n",
       "      <th>pedaledema</th>\n",
       "      <th>appetite_median</th>\n",
       "      <th>gender</th>\n",
       "      <th>admission_age</th>\n",
       "      <th>ethnicity_grouped</th>\n",
       "      <th>label_cor_art</th>\n",
       "      <th>diabetes_mellitus</th>\n",
       "      <th>ckd</th>\n",
       "      <th>anemia_flag</th>\n",
       "    </tr>\n",
       "  </thead>\n",
       "  <tbody>\n",
       "    <tr>\n",
       "      <th>0</th>\n",
       "      <td>200017</td>\n",
       "      <td>2.6</td>\n",
       "      <td>2.0</td>\n",
       "      <td>125.000000</td>\n",
       "      <td>29.000000</td>\n",
       "      <td>1.000000</td>\n",
       "      <td>141.416667</td>\n",
       "      <td>5.066667</td>\n",
       "      <td>16.800000</td>\n",
       "      <td>5.200000</td>\n",
       "      <td>...</td>\n",
       "      <td>1.02</td>\n",
       "      <td>NaN</td>\n",
       "      <td>3.0</td>\n",
       "      <td>M</td>\n",
       "      <td>0.002499</td>\n",
       "      <td>white</td>\n",
       "      <td>0</td>\n",
       "      <td>0</td>\n",
       "      <td>0</td>\n",
       "      <td>0</td>\n",
       "    </tr>\n",
       "    <tr>\n",
       "      <th>1</th>\n",
       "      <td>200033</td>\n",
       "      <td>2.7</td>\n",
       "      <td>1.0</td>\n",
       "      <td>151.916667</td>\n",
       "      <td>15.833333</td>\n",
       "      <td>0.675000</td>\n",
       "      <td>135.916667</td>\n",
       "      <td>3.670833</td>\n",
       "      <td>12.729167</td>\n",
       "      <td>8.266667</td>\n",
       "      <td>...</td>\n",
       "      <td>1.02</td>\n",
       "      <td>NaN</td>\n",
       "      <td>2.0</td>\n",
       "      <td>M</td>\n",
       "      <td>67.146570</td>\n",
       "      <td>white</td>\n",
       "      <td>0</td>\n",
       "      <td>1</td>\n",
       "      <td>0</td>\n",
       "      <td>0</td>\n",
       "    </tr>\n",
       "    <tr>\n",
       "      <th>2</th>\n",
       "      <td>200037</td>\n",
       "      <td>2.6</td>\n",
       "      <td>2.0</td>\n",
       "      <td>125.000000</td>\n",
       "      <td>29.000000</td>\n",
       "      <td>1.000000</td>\n",
       "      <td>145.230769</td>\n",
       "      <td>5.484615</td>\n",
       "      <td>9.800000</td>\n",
       "      <td>11.500000</td>\n",
       "      <td>...</td>\n",
       "      <td>1.02</td>\n",
       "      <td>NaN</td>\n",
       "      <td>3.0</td>\n",
       "      <td>F</td>\n",
       "      <td>0.001083</td>\n",
       "      <td>white</td>\n",
       "      <td>0</td>\n",
       "      <td>0</td>\n",
       "      <td>0</td>\n",
       "      <td>0</td>\n",
       "    </tr>\n",
       "    <tr>\n",
       "      <th>3</th>\n",
       "      <td>200045</td>\n",
       "      <td>2.5</td>\n",
       "      <td>2.0</td>\n",
       "      <td>74.846154</td>\n",
       "      <td>23.923077</td>\n",
       "      <td>0.861538</td>\n",
       "      <td>147.461538</td>\n",
       "      <td>4.623077</td>\n",
       "      <td>10.369231</td>\n",
       "      <td>14.730769</td>\n",
       "      <td>...</td>\n",
       "      <td>1.02</td>\n",
       "      <td>NaN</td>\n",
       "      <td>3.0</td>\n",
       "      <td>F</td>\n",
       "      <td>73.941807</td>\n",
       "      <td>white</td>\n",
       "      <td>0</td>\n",
       "      <td>1</td>\n",
       "      <td>0</td>\n",
       "      <td>0</td>\n",
       "    </tr>\n",
       "    <tr>\n",
       "      <th>4</th>\n",
       "      <td>200046</td>\n",
       "      <td>2.6</td>\n",
       "      <td>2.0</td>\n",
       "      <td>125.000000</td>\n",
       "      <td>29.000000</td>\n",
       "      <td>1.000000</td>\n",
       "      <td>138.384615</td>\n",
       "      <td>5.023077</td>\n",
       "      <td>16.392308</td>\n",
       "      <td>3.403846</td>\n",
       "      <td>...</td>\n",
       "      <td>1.02</td>\n",
       "      <td>NaN</td>\n",
       "      <td>3.0</td>\n",
       "      <td>F</td>\n",
       "      <td>0.001811</td>\n",
       "      <td>black</td>\n",
       "      <td>0</td>\n",
       "      <td>0</td>\n",
       "      <td>0</td>\n",
       "      <td>0</td>\n",
       "    </tr>\n",
       "  </tbody>\n",
       "</table>\n",
       "<p>5 rows × 31 columns</p>\n",
       "</div>"
      ],
      "text/plain": [
       "   icustay_id  albumin  bacteria     glucose        bun  creatinine  \\\n",
       "0      200017      2.6       2.0  125.000000  29.000000    1.000000   \n",
       "1      200033      2.7       1.0  151.916667  15.833333    0.675000   \n",
       "2      200037      2.6       2.0  125.000000  29.000000    1.000000   \n",
       "3      200045      2.5       2.0   74.846154  23.923077    0.861538   \n",
       "4      200046      2.6       2.0  125.000000  29.000000    1.000000   \n",
       "\n",
       "       sodium  potassium  hemoglobin        wbc  ...  specificgravity  \\\n",
       "0  141.416667   5.066667   16.800000   5.200000  ...             1.02   \n",
       "1  135.916667   3.670833   12.729167   8.266667  ...             1.02   \n",
       "2  145.230769   5.484615    9.800000  11.500000  ...             1.02   \n",
       "3  147.461538   4.623077   10.369231  14.730769  ...             1.02   \n",
       "4  138.384615   5.023077   16.392308   3.403846  ...             1.02   \n",
       "\n",
       "   pedaledema  appetite_median gender  admission_age  ethnicity_grouped  \\\n",
       "0         NaN              3.0      M       0.002499              white   \n",
       "1         NaN              2.0      M      67.146570              white   \n",
       "2         NaN              3.0      F       0.001083              white   \n",
       "3         NaN              3.0      F      73.941807              white   \n",
       "4         NaN              3.0      F       0.001811              black   \n",
       "\n",
       "   label_cor_art  diabetes_mellitus  ckd  anemia_flag  \n",
       "0              0                  0    0            0  \n",
       "1              0                  1    0            0  \n",
       "2              0                  0    0            0  \n",
       "3              0                  1    0            0  \n",
       "4              0                  0    0            0  \n",
       "\n",
       "[5 rows x 31 columns]"
      ]
     },
     "execution_count": 57,
     "metadata": {},
     "output_type": "execute_result"
    }
   ],
   "source": [
    "merged_table.head()"
   ]
  },
  {
   "cell_type": "code",
   "execution_count": 58,
   "id": "208fb787",
   "metadata": {},
   "outputs": [
    {
     "data": {
      "text/plain": [
       "Index(['icustay_id', 'albumin', 'bacteria', 'glucose', 'bun', 'creatinine',\n",
       "       'sodium', 'potassium', 'hemoglobin', 'wbc', 'hematocrit', 'platelet',\n",
       "       'ptt', 'ckd_ethnicity', 'heartrate', 'sysbp', 'diasbp', 'meanbp',\n",
       "       'resprate', 'tempc', 'spo2', 'specificgravity', 'pedaledema',\n",
       "       'appetite_median', 'gender', 'admission_age', 'ethnicity_grouped',\n",
       "       'label_cor_art', 'diabetes_mellitus', 'ckd', 'anemia_flag'],\n",
       "      dtype='object')"
      ]
     },
     "execution_count": 58,
     "metadata": {},
     "output_type": "execute_result"
    }
   ],
   "source": [
    "merged_table.columns"
   ]
  },
  {
   "cell_type": "markdown",
   "id": "c5a411a3",
   "metadata": {},
   "source": [
    "#### Dropping rows which have ethnicity_grouped \"middle_eastern\", \"portuguese\", \"alaska_native\", \"pacific_islander\""
   ]
  },
  {
   "cell_type": "code",
   "execution_count": 59,
   "id": "c7a57f3e",
   "metadata": {},
   "outputs": [],
   "source": [
    "ethnicities_to_drop = [\"middle_eastern\", \"portuguese\", \"alaska_native\", \"pacific_islander\"]\n",
    "merged_table = merged_table[~merged_table['ethnicity_grouped'].isin(ethnicities_to_drop)]"
   ]
  },
  {
   "cell_type": "code",
   "execution_count": 60,
   "id": "f7e47e84",
   "metadata": {},
   "outputs": [
    {
     "data": {
      "text/plain": [
       "0white       5376\n",
       "0unknown     1251\n",
       "0black        681\n",
       "1white        405\n",
       "0hispanic     279\n",
       "0asian        245\n",
       "1black         64\n",
       "1unknown       35\n",
       "1hispanic      16\n",
       "1asian         13\n",
       "Name: ckd_ethnicity, dtype: int64"
      ]
     },
     "execution_count": 60,
     "metadata": {},
     "output_type": "execute_result"
    }
   ],
   "source": [
    "merged_table['ckd_ethnicity'].value_counts()"
   ]
  },
  {
   "cell_type": "markdown",
   "id": "2dc062c7",
   "metadata": {},
   "source": [
    "Removing pedaledema because it has 8365 missing values out of total 8405 rows"
   ]
  },
  {
   "cell_type": "code",
   "execution_count": 61,
   "id": "83c45f00",
   "metadata": {},
   "outputs": [],
   "source": [
    "merged_table=merged_table.drop('pedaledema',axis=1)"
   ]
  },
  {
   "cell_type": "code",
   "execution_count": 62,
   "id": "fb4c3738",
   "metadata": {},
   "outputs": [
    {
     "data": {
      "text/plain": [
       "0"
      ]
     },
     "execution_count": 62,
     "metadata": {},
     "output_type": "execute_result"
    }
   ],
   "source": [
    "merged_table.isna().sum().sum()"
   ]
  },
  {
   "cell_type": "markdown",
   "id": "9ec57782",
   "metadata": {},
   "source": [
    "#### Grouping Ages "
   ]
  },
  {
   "cell_type": "code",
   "execution_count": 127,
   "id": "67ba0280",
   "metadata": {},
   "outputs": [],
   "source": [
    "age_ranges = [0, 9, 19, 29, 39, 49, 59, 69, 79, 89, 400]\n",
    "\n",
    "age_labels = ['0-9', '10-19', '20-29', '30-39', '40-49', '50-59', '60-69', '70-79', '80-89', '90+']\n",
    "\n",
    "merged_table['age_group'] = pd.cut(merged_table['admission_age'], bins=age_ranges, labels=age_labels, right=False)"
   ]
  },
  {
   "cell_type": "code",
   "execution_count": 128,
   "id": "5a2a80ed",
   "metadata": {},
   "outputs": [
    {
     "data": {
      "text/plain": [
       "Index(['icustay_id', 'albumin', 'bacteria', 'glucose', 'bun', 'creatinine',\n",
       "       'sodium', 'potassium', 'hemoglobin', 'wbc', 'hematocrit', 'platelet',\n",
       "       'ptt', 'ckd_ethnicity', 'heartrate', 'sysbp', 'diasbp', 'meanbp',\n",
       "       'resprate', 'tempc', 'spo2', 'specificgravity', 'appetite_median',\n",
       "       'gender', 'admission_age', 'ethnicity_grouped', 'label_cor_art',\n",
       "       'diabetes_mellitus', 'ckd', 'anemia_flag', 'age_group'],\n",
       "      dtype='object')"
      ]
     },
     "execution_count": 128,
     "metadata": {},
     "output_type": "execute_result"
    }
   ],
   "source": [
    "merged_table.columns"
   ]
  },
  {
   "cell_type": "code",
   "execution_count": 130,
   "id": "786fbf8e",
   "metadata": {},
   "outputs": [
    {
     "data": {
      "text/html": [
       "<div>\n",
       "<style scoped>\n",
       "    .dataframe tbody tr th:only-of-type {\n",
       "        vertical-align: middle;\n",
       "    }\n",
       "\n",
       "    .dataframe tbody tr th {\n",
       "        vertical-align: top;\n",
       "    }\n",
       "\n",
       "    .dataframe thead th {\n",
       "        text-align: right;\n",
       "    }\n",
       "</style>\n",
       "<table border=\"1\" class=\"dataframe\">\n",
       "  <thead>\n",
       "    <tr style=\"text-align: right;\">\n",
       "      <th></th>\n",
       "      <th>icustay_id</th>\n",
       "      <th>albumin</th>\n",
       "      <th>bacteria</th>\n",
       "      <th>glucose</th>\n",
       "      <th>bun</th>\n",
       "      <th>creatinine</th>\n",
       "      <th>sodium</th>\n",
       "      <th>potassium</th>\n",
       "      <th>hemoglobin</th>\n",
       "      <th>wbc</th>\n",
       "      <th>...</th>\n",
       "      <th>specificgravity</th>\n",
       "      <th>appetite_median</th>\n",
       "      <th>gender</th>\n",
       "      <th>admission_age</th>\n",
       "      <th>ethnicity_grouped</th>\n",
       "      <th>label_cor_art</th>\n",
       "      <th>diabetes_mellitus</th>\n",
       "      <th>ckd</th>\n",
       "      <th>anemia_flag</th>\n",
       "      <th>age_group</th>\n",
       "    </tr>\n",
       "  </thead>\n",
       "  <tbody>\n",
       "    <tr>\n",
       "      <th>0</th>\n",
       "      <td>200017</td>\n",
       "      <td>2.6</td>\n",
       "      <td>2.0</td>\n",
       "      <td>125.000000</td>\n",
       "      <td>29.000000</td>\n",
       "      <td>1.000000</td>\n",
       "      <td>141.416667</td>\n",
       "      <td>5.066667</td>\n",
       "      <td>16.800000</td>\n",
       "      <td>5.200000</td>\n",
       "      <td>...</td>\n",
       "      <td>1.02</td>\n",
       "      <td>3.0</td>\n",
       "      <td>M</td>\n",
       "      <td>0.002499</td>\n",
       "      <td>white</td>\n",
       "      <td>0</td>\n",
       "      <td>0</td>\n",
       "      <td>0</td>\n",
       "      <td>0</td>\n",
       "      <td>0-9</td>\n",
       "    </tr>\n",
       "    <tr>\n",
       "      <th>1</th>\n",
       "      <td>200033</td>\n",
       "      <td>2.7</td>\n",
       "      <td>1.0</td>\n",
       "      <td>151.916667</td>\n",
       "      <td>15.833333</td>\n",
       "      <td>0.675000</td>\n",
       "      <td>135.916667</td>\n",
       "      <td>3.670833</td>\n",
       "      <td>12.729167</td>\n",
       "      <td>8.266667</td>\n",
       "      <td>...</td>\n",
       "      <td>1.02</td>\n",
       "      <td>2.0</td>\n",
       "      <td>M</td>\n",
       "      <td>67.146570</td>\n",
       "      <td>white</td>\n",
       "      <td>0</td>\n",
       "      <td>1</td>\n",
       "      <td>0</td>\n",
       "      <td>0</td>\n",
       "      <td>60-69</td>\n",
       "    </tr>\n",
       "    <tr>\n",
       "      <th>2</th>\n",
       "      <td>200037</td>\n",
       "      <td>2.6</td>\n",
       "      <td>2.0</td>\n",
       "      <td>125.000000</td>\n",
       "      <td>29.000000</td>\n",
       "      <td>1.000000</td>\n",
       "      <td>145.230769</td>\n",
       "      <td>5.484615</td>\n",
       "      <td>9.800000</td>\n",
       "      <td>11.500000</td>\n",
       "      <td>...</td>\n",
       "      <td>1.02</td>\n",
       "      <td>3.0</td>\n",
       "      <td>F</td>\n",
       "      <td>0.001083</td>\n",
       "      <td>white</td>\n",
       "      <td>0</td>\n",
       "      <td>0</td>\n",
       "      <td>0</td>\n",
       "      <td>0</td>\n",
       "      <td>0-9</td>\n",
       "    </tr>\n",
       "    <tr>\n",
       "      <th>3</th>\n",
       "      <td>200045</td>\n",
       "      <td>2.5</td>\n",
       "      <td>2.0</td>\n",
       "      <td>74.846154</td>\n",
       "      <td>23.923077</td>\n",
       "      <td>0.861538</td>\n",
       "      <td>147.461538</td>\n",
       "      <td>4.623077</td>\n",
       "      <td>10.369231</td>\n",
       "      <td>14.730769</td>\n",
       "      <td>...</td>\n",
       "      <td>1.02</td>\n",
       "      <td>3.0</td>\n",
       "      <td>F</td>\n",
       "      <td>73.941807</td>\n",
       "      <td>white</td>\n",
       "      <td>0</td>\n",
       "      <td>1</td>\n",
       "      <td>0</td>\n",
       "      <td>0</td>\n",
       "      <td>70-79</td>\n",
       "    </tr>\n",
       "    <tr>\n",
       "      <th>4</th>\n",
       "      <td>200046</td>\n",
       "      <td>2.6</td>\n",
       "      <td>2.0</td>\n",
       "      <td>125.000000</td>\n",
       "      <td>29.000000</td>\n",
       "      <td>1.000000</td>\n",
       "      <td>138.384615</td>\n",
       "      <td>5.023077</td>\n",
       "      <td>16.392308</td>\n",
       "      <td>3.403846</td>\n",
       "      <td>...</td>\n",
       "      <td>1.02</td>\n",
       "      <td>3.0</td>\n",
       "      <td>F</td>\n",
       "      <td>0.001811</td>\n",
       "      <td>black</td>\n",
       "      <td>0</td>\n",
       "      <td>0</td>\n",
       "      <td>0</td>\n",
       "      <td>0</td>\n",
       "      <td>0-9</td>\n",
       "    </tr>\n",
       "  </tbody>\n",
       "</table>\n",
       "<p>5 rows × 31 columns</p>\n",
       "</div>"
      ],
      "text/plain": [
       "   icustay_id  albumin  bacteria     glucose        bun  creatinine  \\\n",
       "0      200017      2.6       2.0  125.000000  29.000000    1.000000   \n",
       "1      200033      2.7       1.0  151.916667  15.833333    0.675000   \n",
       "2      200037      2.6       2.0  125.000000  29.000000    1.000000   \n",
       "3      200045      2.5       2.0   74.846154  23.923077    0.861538   \n",
       "4      200046      2.6       2.0  125.000000  29.000000    1.000000   \n",
       "\n",
       "       sodium  potassium  hemoglobin        wbc  ...  specificgravity  \\\n",
       "0  141.416667   5.066667   16.800000   5.200000  ...             1.02   \n",
       "1  135.916667   3.670833   12.729167   8.266667  ...             1.02   \n",
       "2  145.230769   5.484615    9.800000  11.500000  ...             1.02   \n",
       "3  147.461538   4.623077   10.369231  14.730769  ...             1.02   \n",
       "4  138.384615   5.023077   16.392308   3.403846  ...             1.02   \n",
       "\n",
       "   appetite_median  gender admission_age  ethnicity_grouped  label_cor_art  \\\n",
       "0              3.0       M      0.002499              white              0   \n",
       "1              2.0       M     67.146570              white              0   \n",
       "2              3.0       F      0.001083              white              0   \n",
       "3              3.0       F     73.941807              white              0   \n",
       "4              3.0       F      0.001811              black              0   \n",
       "\n",
       "   diabetes_mellitus  ckd  anemia_flag  age_group  \n",
       "0                  0    0            0        0-9  \n",
       "1                  1    0            0      60-69  \n",
       "2                  0    0            0        0-9  \n",
       "3                  1    0            0      70-79  \n",
       "4                  0    0            0        0-9  \n",
       "\n",
       "[5 rows x 31 columns]"
      ]
     },
     "execution_count": 130,
     "metadata": {},
     "output_type": "execute_result"
    }
   ],
   "source": [
    "merged_table.head()"
   ]
  },
  {
   "cell_type": "code",
   "execution_count": 129,
   "id": "ec3e9720",
   "metadata": {},
   "outputs": [
    {
     "data": {
      "text/plain": [
       "0         0-9\n",
       "1       60-69\n",
       "2         0-9\n",
       "3       70-79\n",
       "4         0-9\n",
       "        ...  \n",
       "8400    50-59\n",
       "8401      0-9\n",
       "8402    70-79\n",
       "8403    30-39\n",
       "8404    40-49\n",
       "Name: age_group, Length: 8365, dtype: category\n",
       "Categories (10, object): ['0-9' < '10-19' < '20-29' < '30-39' ... '60-69' < '70-79' < '80-89' < '90+']"
      ]
     },
     "execution_count": 129,
     "metadata": {},
     "output_type": "execute_result"
    }
   ],
   "source": [
    "merged_table['age_group']"
   ]
  },
  {
   "cell_type": "code",
   "execution_count": 131,
   "id": "8e78478e",
   "metadata": {},
   "outputs": [],
   "source": [
    "merged_table=merged_table.drop('admission_age',axis=1)"
   ]
  },
  {
   "cell_type": "markdown",
   "id": "33296ecc",
   "metadata": {},
   "source": [
    "#### Train Test Split"
   ]
  },
  {
   "cell_type": "code",
   "execution_count": 132,
   "id": "dedcee46",
   "metadata": {},
   "outputs": [],
   "source": [
    "X= merged_table.drop(['ckd','ckd_ethnicity'],axis=1)\n",
    "y=merged_table['ckd_ethnicity']"
   ]
  },
  {
   "cell_type": "code",
   "execution_count": 133,
   "id": "a4ce7c39",
   "metadata": {},
   "outputs": [],
   "source": [
    "X_train, X_test, y_train, y_test = train_test_split(X, y, test_size=0.25, stratify=y)"
   ]
  },
  {
   "cell_type": "code",
   "execution_count": 134,
   "id": "bbd48589",
   "metadata": {},
   "outputs": [
    {
     "data": {
      "text/plain": [
       "0white       4031\n",
       "0unknown      938\n",
       "0black        511\n",
       "1white        304\n",
       "0hispanic     209\n",
       "0asian        184\n",
       "1black         48\n",
       "1unknown       26\n",
       "1hispanic      12\n",
       "1asian         10\n",
       "Name: ckd_ethnicity, dtype: int64"
      ]
     },
     "execution_count": 134,
     "metadata": {},
     "output_type": "execute_result"
    }
   ],
   "source": [
    "y_train.value_counts()"
   ]
  },
  {
   "cell_type": "code",
   "execution_count": 135,
   "id": "1bd10e86",
   "metadata": {},
   "outputs": [
    {
     "data": {
      "text/plain": [
       "0white       1345\n",
       "0unknown      313\n",
       "0black        170\n",
       "1white        101\n",
       "0hispanic      70\n",
       "0asian         61\n",
       "1black         16\n",
       "1unknown        9\n",
       "1hispanic       4\n",
       "1asian          3\n",
       "Name: ckd_ethnicity, dtype: int64"
      ]
     },
     "execution_count": 135,
     "metadata": {},
     "output_type": "execute_result"
    }
   ],
   "source": [
    "y_test.value_counts()"
   ]
  },
  {
   "cell_type": "markdown",
   "id": "e69eccbe",
   "metadata": {},
   "source": [
    "#### Random Under Sampling because of white "
   ]
  },
  {
   "cell_type": "code",
   "execution_count": 136,
   "id": "264128d7",
   "metadata": {},
   "outputs": [],
   "source": [
    "rus = RandomUnderSampler(sampling_strategy={'0white':304,'0unknown':26,'0asian':10,'0hispanic':12,'0black':48})\n",
    "X_train_rus, y_train_rus = rus.fit_resample(X_train, y_train)"
   ]
  },
  {
   "cell_type": "code",
   "execution_count": 137,
   "id": "614e25f1",
   "metadata": {},
   "outputs": [
    {
     "data": {
      "text/plain": [
       "0white       304\n",
       "1white       304\n",
       "0black        48\n",
       "1black        48\n",
       "0unknown      26\n",
       "1unknown      26\n",
       "0hispanic     12\n",
       "1hispanic     12\n",
       "0asian        10\n",
       "1asian        10\n",
       "Name: ckd_ethnicity, dtype: int64"
      ]
     },
     "execution_count": 137,
     "metadata": {},
     "output_type": "execute_result"
    }
   ],
   "source": [
    " y_train_rus.value_counts()"
   ]
  },
  {
   "cell_type": "code",
   "execution_count": 138,
   "id": "84e245ca",
   "metadata": {},
   "outputs": [
    {
     "data": {
      "text/plain": [
       "(800, 28)"
      ]
     },
     "execution_count": 138,
     "metadata": {},
     "output_type": "execute_result"
    }
   ],
   "source": [
    "X_train_rus.shape"
   ]
  },
  {
   "cell_type": "markdown",
   "id": "9fff86a6",
   "metadata": {},
   "source": [
    "#### sepearating ckd_ethnicity again now that it has been stratified "
   ]
  },
  {
   "cell_type": "code",
   "execution_count": 139,
   "id": "048cfc34",
   "metadata": {},
   "outputs": [
    {
     "data": {
      "text/plain": [
       "Index(['icustay_id', 'albumin', 'bacteria', 'glucose', 'bun', 'creatinine',\n",
       "       'sodium', 'potassium', 'hemoglobin', 'wbc', 'hematocrit', 'platelet',\n",
       "       'ptt', 'heartrate', 'sysbp', 'diasbp', 'meanbp', 'resprate', 'tempc',\n",
       "       'spo2', 'specificgravity', 'appetite_median', 'gender',\n",
       "       'ethnicity_grouped', 'label_cor_art', 'diabetes_mellitus',\n",
       "       'anemia_flag', 'age_group'],\n",
       "      dtype='object')"
      ]
     },
     "execution_count": 139,
     "metadata": {},
     "output_type": "execute_result"
    }
   ],
   "source": [
    "X_train_rus.columns"
   ]
  },
  {
   "cell_type": "code",
   "execution_count": 140,
   "id": "ee230e00",
   "metadata": {},
   "outputs": [],
   "source": [
    "X_train_rus = X_train_rus.merge(merged_table[['icustay_id', 'ckd']], on='icustay_id', how='inner')"
   ]
  },
  {
   "cell_type": "code",
   "execution_count": 141,
   "id": "2a560414",
   "metadata": {},
   "outputs": [
    {
     "data": {
      "text/plain": [
       "(800, 29)"
      ]
     },
     "execution_count": 141,
     "metadata": {},
     "output_type": "execute_result"
    }
   ],
   "source": [
    "X_train_rus.shape"
   ]
  },
  {
   "cell_type": "code",
   "execution_count": 142,
   "id": "554238fb",
   "metadata": {},
   "outputs": [
    {
     "data": {
      "text/plain": [
       "Index(['icustay_id', 'albumin', 'bacteria', 'glucose', 'bun', 'creatinine',\n",
       "       'sodium', 'potassium', 'hemoglobin', 'wbc', 'hematocrit', 'platelet',\n",
       "       'ptt', 'heartrate', 'sysbp', 'diasbp', 'meanbp', 'resprate', 'tempc',\n",
       "       'spo2', 'specificgravity', 'appetite_median', 'gender',\n",
       "       'ethnicity_grouped', 'label_cor_art', 'diabetes_mellitus',\n",
       "       'anemia_flag', 'age_group', 'ckd'],\n",
       "      dtype='object')"
      ]
     },
     "execution_count": 142,
     "metadata": {},
     "output_type": "execute_result"
    }
   ],
   "source": [
    "X_train_rus.columns"
   ]
  },
  {
   "cell_type": "code",
   "execution_count": 143,
   "id": "1d7dfa3f",
   "metadata": {},
   "outputs": [],
   "source": [
    "y_train_rus= X_train_rus['ckd']\n",
    "X_train_rus= X_train_rus.drop('ckd',axis=1)"
   ]
  },
  {
   "cell_type": "code",
   "execution_count": 144,
   "id": "f1badd78",
   "metadata": {},
   "outputs": [],
   "source": [
    "X_train_rus=X_train_rus.drop('icustay_id',axis=1)"
   ]
  },
  {
   "cell_type": "markdown",
   "id": "a29e1ba6",
   "metadata": {},
   "source": [
    "#### Encoding"
   ]
  },
  {
   "cell_type": "code",
   "execution_count": 145,
   "id": "6f94de51",
   "metadata": {},
   "outputs": [],
   "source": [
    "X_onehot_train = pd.get_dummies(X_train_rus)"
   ]
  },
  {
   "cell_type": "code",
   "execution_count": 146,
   "id": "e0bf61ff",
   "metadata": {},
   "outputs": [
    {
     "data": {
      "text/plain": [
       "Index(['albumin', 'bacteria', 'glucose', 'bun', 'creatinine', 'sodium',\n",
       "       'potassium', 'hemoglobin', 'wbc', 'hematocrit', 'platelet', 'ptt',\n",
       "       'heartrate', 'sysbp', 'diasbp', 'meanbp', 'resprate', 'tempc', 'spo2',\n",
       "       'specificgravity', 'appetite_median', 'label_cor_art',\n",
       "       'diabetes_mellitus', 'anemia_flag', 'gender_F', 'gender_M',\n",
       "       'ethnicity_grouped_asian', 'ethnicity_grouped_black',\n",
       "       'ethnicity_grouped_hispanic', 'ethnicity_grouped_unknown',\n",
       "       'ethnicity_grouped_white', 'age_group_0-9', 'age_group_10-19',\n",
       "       'age_group_20-29', 'age_group_30-39', 'age_group_40-49',\n",
       "       'age_group_50-59', 'age_group_60-69', 'age_group_70-79',\n",
       "       'age_group_80-89', 'age_group_90+'],\n",
       "      dtype='object')"
      ]
     },
     "execution_count": 146,
     "metadata": {},
     "output_type": "execute_result"
    }
   ],
   "source": [
    "X_onehot_train.columns"
   ]
  },
  {
   "cell_type": "markdown",
   "id": "d02a8dd4",
   "metadata": {},
   "source": [
    "#### Random Forest Model"
   ]
  },
  {
   "cell_type": "code",
   "execution_count": 147,
   "id": "7d766d9c",
   "metadata": {},
   "outputs": [],
   "source": [
    "param_grid = {\n",
    "    'n_estimators': [100, 200, 300],\n",
    "    'max_depth': [None, 5, 10],\n",
    "    'min_samples_split': [2, 5, 10],\n",
    "    'min_samples_leaf': [1, 2, 4],\n",
    "    'max_features': ['sqrt', 'log2']\n",
    "}"
   ]
  },
  {
   "cell_type": "code",
   "execution_count": 148,
   "id": "43f4ff06",
   "metadata": {},
   "outputs": [],
   "source": [
    "rf = RandomForestClassifier()"
   ]
  },
  {
   "cell_type": "code",
   "execution_count": 149,
   "id": "74a0cb42",
   "metadata": {},
   "outputs": [
    {
     "data": {
      "text/plain": [
       "GridSearchCV(cv=5, estimator=RandomForestClassifier(),\n",
       "             param_grid={'max_depth': [None, 5, 10],\n",
       "                         'max_features': ['sqrt', 'log2'],\n",
       "                         'min_samples_leaf': [1, 2, 4],\n",
       "                         'min_samples_split': [2, 5, 10],\n",
       "                         'n_estimators': [100, 200, 300]},\n",
       "             scoring='f1')"
      ]
     },
     "execution_count": 149,
     "metadata": {},
     "output_type": "execute_result"
    }
   ],
   "source": [
    "grid_search = GridSearchCV(rf, param_grid, cv=5, scoring='f1')\n",
    "grid_search.fit(X_onehot_train, y_train_rus)"
   ]
  },
  {
   "cell_type": "code",
   "execution_count": 150,
   "id": "41f3d3cc",
   "metadata": {},
   "outputs": [
    {
     "data": {
      "text/plain": [
       "RandomForestClassifier(max_features='log2', min_samples_leaf=2,\n",
       "                       n_estimators=200)"
      ]
     },
     "execution_count": 150,
     "metadata": {},
     "output_type": "execute_result"
    }
   ],
   "source": [
    "grid_search.best_estimator_"
   ]
  },
  {
   "cell_type": "code",
   "execution_count": 152,
   "id": "8a64a3ee",
   "metadata": {},
   "outputs": [
    {
     "data": {
      "text/plain": [
       "0.8342306300274768"
      ]
     },
     "execution_count": 152,
     "metadata": {},
     "output_type": "execute_result"
    }
   ],
   "source": [
    "grid_search.best_score_"
   ]
  },
  {
   "cell_type": "markdown",
   "id": "25e1a966",
   "metadata": {},
   "source": [
    "#### Using best model with cross validation with ethnicity"
   ]
  },
  {
   "cell_type": "code",
   "execution_count": 156,
   "id": "0dd5fd4c",
   "metadata": {},
   "outputs": [
    {
     "data": {
      "text/plain": [
       "0.8282000079812283"
      ]
     },
     "execution_count": 156,
     "metadata": {},
     "output_type": "execute_result"
    }
   ],
   "source": [
    "rf_same = RandomForestClassifier(max_features='log2', min_samples_leaf=2,n_estimators=200)\n",
    "cv_scores = cross_val_score(rf_same, X_onehot_train, y_train_rus, cv=5, scoring='f1')\n",
    "cv_scores.mean()"
   ]
  },
  {
   "cell_type": "markdown",
   "id": "5748f889",
   "metadata": {},
   "source": [
    "#### Now same model, without ethnicity "
   ]
  },
  {
   "cell_type": "code",
   "execution_count": 163,
   "id": "57c686a9",
   "metadata": {},
   "outputs": [],
   "source": [
    "rf_same = RandomForestClassifier(max_features='log2', min_samples_leaf=2,n_estimators=200)"
   ]
  },
  {
   "cell_type": "code",
   "execution_count": 164,
   "id": "cfa9fdfa",
   "metadata": {},
   "outputs": [],
   "source": [
    "X_train_no_eth= X_onehot_train.drop(['ethnicity_grouped_asian', 'ethnicity_grouped_black',\n",
    "       'ethnicity_grouped_hispanic', 'ethnicity_grouped_unknown',\n",
    "       'ethnicity_grouped_white'],axis=1)"
   ]
  },
  {
   "cell_type": "code",
   "execution_count": 165,
   "id": "bbe28687",
   "metadata": {},
   "outputs": [
    {
     "data": {
      "text/plain": [
       "Index(['albumin', 'bacteria', 'glucose', 'bun', 'creatinine', 'sodium',\n",
       "       'potassium', 'hemoglobin', 'wbc', 'hematocrit', 'platelet', 'ptt',\n",
       "       'heartrate', 'sysbp', 'diasbp', 'meanbp', 'resprate', 'tempc', 'spo2',\n",
       "       'specificgravity', 'appetite_median', 'label_cor_art',\n",
       "       'diabetes_mellitus', 'anemia_flag', 'gender_F', 'gender_M',\n",
       "       'age_group_0-9', 'age_group_10-19', 'age_group_20-29',\n",
       "       'age_group_30-39', 'age_group_40-49', 'age_group_50-59',\n",
       "       'age_group_60-69', 'age_group_70-79', 'age_group_80-89',\n",
       "       'age_group_90+'],\n",
       "      dtype='object')"
      ]
     },
     "execution_count": 165,
     "metadata": {},
     "output_type": "execute_result"
    }
   ],
   "source": [
    "X_train_no_eth.columns"
   ]
  },
  {
   "cell_type": "code",
   "execution_count": 166,
   "id": "3106d105",
   "metadata": {},
   "outputs": [],
   "source": [
    "cv_scores = cross_val_score(rf_same, X_train_no_eth, y_train_rus, cv=5, scoring='f1')"
   ]
  },
  {
   "cell_type": "code",
   "execution_count": 167,
   "id": "74624159",
   "metadata": {},
   "outputs": [
    {
     "data": {
      "text/plain": [
       "array([0.84210526, 0.80952381, 0.81481481, 0.83908046, 0.79096045])"
      ]
     },
     "execution_count": 167,
     "metadata": {},
     "output_type": "execute_result"
    }
   ],
   "source": [
    "cv_scores"
   ]
  },
  {
   "cell_type": "code",
   "execution_count": 168,
   "id": "83bf87eb",
   "metadata": {},
   "outputs": [
    {
     "data": {
      "text/plain": [
       "0.8192969598488071"
      ]
     },
     "execution_count": 168,
     "metadata": {},
     "output_type": "execute_result"
    }
   ],
   "source": [
    "cv_scores.mean()"
   ]
  },
  {
   "cell_type": "code",
   "execution_count": null,
   "id": "372d082b",
   "metadata": {},
   "outputs": [],
   "source": []
  }
 ],
 "metadata": {
  "kernelspec": {
   "display_name": "Python 3 (ipykernel)",
   "language": "python",
   "name": "python3"
  },
  "language_info": {
   "codemirror_mode": {
    "name": "ipython",
    "version": 3
   },
   "file_extension": ".py",
   "mimetype": "text/x-python",
   "name": "python",
   "nbconvert_exporter": "python",
   "pygments_lexer": "ipython3",
   "version": "3.9.13"
  }
 },
 "nbformat": 4,
 "nbformat_minor": 5
}
