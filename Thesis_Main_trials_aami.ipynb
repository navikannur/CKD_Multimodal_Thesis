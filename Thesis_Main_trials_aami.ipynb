{
 "cells": [
  {
   "cell_type": "code",
   "execution_count": 93,
   "id": "57711dcb",
   "metadata": {},
   "outputs": [],
   "source": [
    "import psycopg2\n",
    "from datetime import timedelta\n",
    "from sqlalchemy import create_engine\n",
    "import psycopg2\n",
    "import pandas as pd\n",
    "import numpy as np\n",
    "import tensorflow as tf\n",
    "import matplotlib.pyplot as plt\n",
    "from sklearn.model_selection import train_test_split\n",
    "from imblearn.under_sampling import RandomUnderSampler\n",
    "from sklearn.ensemble import RandomForestClassifier\n",
    "from sklearn.model_selection import GridSearchCV\n",
    "from sklearn.metrics import classification_report\n",
    "from sklearn.preprocessing import OneHotEncoder\n",
    "from sklearn.model_selection import cross_val_score\n",
    "from sklearn.metrics import precision_score, recall_score,f1_score, accuracy_score\n",
    "from sklearn.metrics import confusion_matrix\n",
    "from sklearn.metrics import f1_score\n",
    "from sktime.transformations.panel.rocket import Rocket\n",
    "from sklearn.linear_model import LogisticRegression\n",
    "from sklearn.ensemble import VotingClassifier\n",
    "from sklearn.pipeline import Pipeline\n",
    "from imblearn.over_sampling import SMOTE"
   ]
  },
  {
   "cell_type": "code",
   "execution_count": 2,
   "id": "48ff4034",
   "metadata": {},
   "outputs": [
    {
     "name": "stdout",
     "output_type": "stream",
     "text": [
      "('PostgreSQL 15.2, compiled by Visual C++ build 1914, 64-bit',)\n"
     ]
    }
   ],
   "source": [
    "import psycopg2\n",
    "\n",
    "conn = psycopg2.connect(\n",
    "    host=\"localhost\",\n",
    "    database=\"mimic\",\n",
    "    user=\"postgres\",\n",
    "    password=\"postgres\"\n",
    ")\n",
    "\n",
    "cur = conn.cursor()\n",
    "\n",
    "cur.execute(\"SELECT version();\")\n",
    "print(cur.fetchone())"
   ]
  },
  {
   "cell_type": "code",
   "execution_count": 3,
   "id": "ed048ffd",
   "metadata": {},
   "outputs": [
    {
     "name": "stderr",
     "output_type": "stream",
     "text": [
      "C:\\Users\\aakru\\anaconda3\\lib\\site-packages\\pandas\\io\\sql.py:762: UserWarning: pandas only support SQLAlchemy connectable(engine/connection) ordatabase string URI or sqlite3 DBAPI2 connectionother DBAPI2 objects are not tested, please consider using SQLAlchemy\n",
      "  warnings.warn(\n",
      "C:\\Users\\aakru\\anaconda3\\lib\\site-packages\\pandas\\io\\sql.py:762: UserWarning: pandas only support SQLAlchemy connectable(engine/connection) ordatabase string URI or sqlite3 DBAPI2 connectionother DBAPI2 objects are not tested, please consider using SQLAlchemy\n",
      "  warnings.warn(\n",
      "C:\\Users\\aakru\\anaconda3\\lib\\site-packages\\pandas\\io\\sql.py:762: UserWarning: pandas only support SQLAlchemy connectable(engine/connection) ordatabase string URI or sqlite3 DBAPI2 connectionother DBAPI2 objects are not tested, please consider using SQLAlchemy\n",
      "  warnings.warn(\n"
     ]
    }
   ],
   "source": [
    "# Connect to db\n",
    "conn = psycopg2.connect(host='localhost', dbname='mimic', user='postgres', password='postgres', options='-c search_path=mimiciii')\n",
    "#conn = psycopg2.connect(dbname='mimic', user='postgres')\n",
    "cur = conn.cursor() \n",
    "\n",
    "# Read in table with patients & admissions (inner join on subject_id) and icu_stays (inner joinon subject_id and hadm_id)\n",
    "icustay_details = pd.read_sql_query(\"SELECT * FROM mimiciii.flicu_icustay_detail;\", conn)\n",
    "\n",
    "# Read in vital and lab signs\n",
    "pivoted_vital = pd.read_sql_query(\"SELECT * FROM mimiciii.pivoted_vital;\", conn)\n",
    "pivoted_lab = pd.read_sql_query(\"SELECT * FROM mimiciii.ckd_pivoted_lab;\", conn)\n",
    "\n",
    "# Read in lab measurements\n",
    "# Use flicu_pivoted_lab (as it only takes the lab tests during ICU stay)\n",
    "#query = \"SELECT * FROM mimiciii.flicu_pivoted_lab;\"\n",
    "# Alternative:  Use the lab values recorded previous to the ICU stay (although during same hospital admission!), \n",
    "# then sample them  (8h intervalls) and then forward fill plus cap at either icu admission time of first vital sign recorded\n",
    "#query = \"SELECT * FROM mimiciii.pivoted_lab;\"\n",
    "#pivoted_lab = pd.read_sql_query(query, conn)\n",
    "\n",
    "# Close the cursor and connection to so the server can allocate bandwidth to other requests\n",
    "cur.close()\n",
    "conn.close()"
   ]
  },
  {
   "cell_type": "code",
   "execution_count": 4,
   "id": "11fe1b9e",
   "metadata": {},
   "outputs": [
    {
     "data": {
      "text/plain": [
       "array([nan,  3.,  2.])"
      ]
     },
     "execution_count": 4,
     "metadata": {},
     "output_type": "execute_result"
    }
   ],
   "source": [
    "pivoted_vital['pedaledema'].unique()"
   ]
  },
  {
   "cell_type": "code",
   "execution_count": 5,
   "id": "d24bf2bb",
   "metadata": {},
   "outputs": [
    {
     "data": {
      "text/plain": [
       "(9207039, 15)"
      ]
     },
     "execution_count": 5,
     "metadata": {},
     "output_type": "execute_result"
    }
   ],
   "source": [
    "pivoted_vital.shape"
   ]
  },
  {
   "cell_type": "code",
   "execution_count": 6,
   "id": "f19cf7a4",
   "metadata": {},
   "outputs": [
    {
     "data": {
      "text/plain": [
       "Index(['icustay_id', 'charttime', 'heartrate', 'sysbp', 'diasbp', 'meanbp',\n",
       "       'resprate', 'tempc', 'spo2', 'glucose', 'rbc', 'specificgravity',\n",
       "       'pedaledema', 'appetite_median', 'ckd'],\n",
       "      dtype='object')"
      ]
     },
     "execution_count": 6,
     "metadata": {},
     "output_type": "execute_result"
    }
   ],
   "source": [
    "pivoted_vital.columns"
   ]
  },
  {
   "cell_type": "code",
   "execution_count": 7,
   "id": "892f020b",
   "metadata": {},
   "outputs": [
    {
     "data": {
      "text/plain": [
       "Index(['icustay_id', 'subject_id', 'charttime', 'aniongap', 'albumin', 'bands',\n",
       "       'bicarbonate', 'bilirubin', 'creatinine', 'chloride', 'glucose',\n",
       "       'hematocrit', 'hemoglobin', 'lactate', 'platelet', 'potassium', 'ptt',\n",
       "       'inr', 'pt', 'sodium', 'bun', 'wbc', 'bacteria', 'ckd'],\n",
       "      dtype='object')"
      ]
     },
     "execution_count": 7,
     "metadata": {},
     "output_type": "execute_result"
    }
   ],
   "source": [
    "pivoted_lab.columns"
   ]
  },
  {
   "cell_type": "code",
   "execution_count": 8,
   "id": "273e723e",
   "metadata": {},
   "outputs": [
    {
     "data": {
      "text/html": [
       "<div>\n",
       "<style scoped>\n",
       "    .dataframe tbody tr th:only-of-type {\n",
       "        vertical-align: middle;\n",
       "    }\n",
       "\n",
       "    .dataframe tbody tr th {\n",
       "        vertical-align: top;\n",
       "    }\n",
       "\n",
       "    .dataframe thead th {\n",
       "        text-align: right;\n",
       "    }\n",
       "</style>\n",
       "<table border=\"1\" class=\"dataframe\">\n",
       "  <thead>\n",
       "    <tr style=\"text-align: right;\">\n",
       "      <th></th>\n",
       "      <th>subject_id</th>\n",
       "      <th>hadm_id</th>\n",
       "      <th>icustay_id</th>\n",
       "      <th>los_hospital</th>\n",
       "      <th>admission_age</th>\n",
       "      <th>hospital_expire_flag</th>\n",
       "      <th>hospstay_seq</th>\n",
       "      <th>los_icu</th>\n",
       "      <th>icustay_seq</th>\n",
       "      <th>label_death_icu</th>\n",
       "      <th>label_cor_art</th>\n",
       "      <th>diabetes_mellitus</th>\n",
       "      <th>ckd</th>\n",
       "      <th>anemia_flag</th>\n",
       "    </tr>\n",
       "  </thead>\n",
       "  <tbody>\n",
       "    <tr>\n",
       "      <th>count</th>\n",
       "      <td>61051.000000</td>\n",
       "      <td>61051.000000</td>\n",
       "      <td>61051.000000</td>\n",
       "      <td>61051.000000</td>\n",
       "      <td>61051.000000</td>\n",
       "      <td>61051.000000</td>\n",
       "      <td>61051.000000</td>\n",
       "      <td>61041.000000</td>\n",
       "      <td>61051.000000</td>\n",
       "      <td>61051.000000</td>\n",
       "      <td>61051.000000</td>\n",
       "      <td>61051.000000</td>\n",
       "      <td>61051.000000</td>\n",
       "      <td>61051.000000</td>\n",
       "    </tr>\n",
       "    <tr>\n",
       "      <th>mean</th>\n",
       "      <td>33961.698989</td>\n",
       "      <td>149946.928945</td>\n",
       "      <td>249968.598696</td>\n",
       "      <td>11.320283</td>\n",
       "      <td>64.856674</td>\n",
       "      <td>0.107975</td>\n",
       "      <td>1.418568</td>\n",
       "      <td>4.931644</td>\n",
       "      <td>1.070908</td>\n",
       "      <td>0.073774</td>\n",
       "      <td>0.212838</td>\n",
       "      <td>0.170693</td>\n",
       "      <td>0.082849</td>\n",
       "      <td>0.125682</td>\n",
       "    </tr>\n",
       "    <tr>\n",
       "      <th>std</th>\n",
       "      <td>28153.637888</td>\n",
       "      <td>28899.070114</td>\n",
       "      <td>28891.923533</td>\n",
       "      <td>14.301661</td>\n",
       "      <td>56.970061</td>\n",
       "      <td>0.310352</td>\n",
       "      <td>1.510997</td>\n",
       "      <td>9.664428</td>\n",
       "      <td>0.301838</td>\n",
       "      <td>0.261406</td>\n",
       "      <td>0.409318</td>\n",
       "      <td>0.376244</td>\n",
       "      <td>0.275656</td>\n",
       "      <td>0.331493</td>\n",
       "    </tr>\n",
       "    <tr>\n",
       "      <th>min</th>\n",
       "      <td>2.000000</td>\n",
       "      <td>100001.000000</td>\n",
       "      <td>200001.000000</td>\n",
       "      <td>-0.945139</td>\n",
       "      <td>0.000007</td>\n",
       "      <td>0.000000</td>\n",
       "      <td>1.000000</td>\n",
       "      <td>0.000139</td>\n",
       "      <td>1.000000</td>\n",
       "      <td>0.000000</td>\n",
       "      <td>0.000000</td>\n",
       "      <td>0.000000</td>\n",
       "      <td>0.000000</td>\n",
       "      <td>0.000000</td>\n",
       "    </tr>\n",
       "    <tr>\n",
       "      <th>25%</th>\n",
       "      <td>12085.500000</td>\n",
       "      <td>124949.000000</td>\n",
       "      <td>224951.000000</td>\n",
       "      <td>3.910069</td>\n",
       "      <td>44.281191</td>\n",
       "      <td>0.000000</td>\n",
       "      <td>1.000000</td>\n",
       "      <td>1.109491</td>\n",
       "      <td>1.000000</td>\n",
       "      <td>0.000000</td>\n",
       "      <td>0.000000</td>\n",
       "      <td>0.000000</td>\n",
       "      <td>0.000000</td>\n",
       "      <td>0.000000</td>\n",
       "    </tr>\n",
       "    <tr>\n",
       "      <th>50%</th>\n",
       "      <td>24352.000000</td>\n",
       "      <td>149883.000000</td>\n",
       "      <td>249949.000000</td>\n",
       "      <td>6.945833</td>\n",
       "      <td>62.054949</td>\n",
       "      <td>0.000000</td>\n",
       "      <td>1.000000</td>\n",
       "      <td>2.094815</td>\n",
       "      <td>1.000000</td>\n",
       "      <td>0.000000</td>\n",
       "      <td>0.000000</td>\n",
       "      <td>0.000000</td>\n",
       "      <td>0.000000</td>\n",
       "      <td>0.000000</td>\n",
       "    </tr>\n",
       "    <tr>\n",
       "      <th>75%</th>\n",
       "      <td>54366.000000</td>\n",
       "      <td>174997.500000</td>\n",
       "      <td>274974.500000</td>\n",
       "      <td>13.059722</td>\n",
       "      <td>76.068514</td>\n",
       "      <td>0.000000</td>\n",
       "      <td>1.000000</td>\n",
       "      <td>4.502199</td>\n",
       "      <td>1.000000</td>\n",
       "      <td>0.000000</td>\n",
       "      <td>0.000000</td>\n",
       "      <td>0.000000</td>\n",
       "      <td>0.000000</td>\n",
       "      <td>0.000000</td>\n",
       "    </tr>\n",
       "    <tr>\n",
       "      <th>max</th>\n",
       "      <td>99999.000000</td>\n",
       "      <td>199999.000000</td>\n",
       "      <td>299999.000000</td>\n",
       "      <td>294.660417</td>\n",
       "      <td>311.561027</td>\n",
       "      <td>1.000000</td>\n",
       "      <td>41.000000</td>\n",
       "      <td>173.072512</td>\n",
       "      <td>7.000000</td>\n",
       "      <td>1.000000</td>\n",
       "      <td>1.000000</td>\n",
       "      <td>1.000000</td>\n",
       "      <td>1.000000</td>\n",
       "      <td>1.000000</td>\n",
       "    </tr>\n",
       "  </tbody>\n",
       "</table>\n",
       "</div>"
      ],
      "text/plain": [
       "         subject_id        hadm_id     icustay_id  los_hospital  \\\n",
       "count  61051.000000   61051.000000   61051.000000  61051.000000   \n",
       "mean   33961.698989  149946.928945  249968.598696     11.320283   \n",
       "std    28153.637888   28899.070114   28891.923533     14.301661   \n",
       "min        2.000000  100001.000000  200001.000000     -0.945139   \n",
       "25%    12085.500000  124949.000000  224951.000000      3.910069   \n",
       "50%    24352.000000  149883.000000  249949.000000      6.945833   \n",
       "75%    54366.000000  174997.500000  274974.500000     13.059722   \n",
       "max    99999.000000  199999.000000  299999.000000    294.660417   \n",
       "\n",
       "       admission_age  hospital_expire_flag  hospstay_seq       los_icu  \\\n",
       "count   61051.000000          61051.000000  61051.000000  61041.000000   \n",
       "mean       64.856674              0.107975      1.418568      4.931644   \n",
       "std        56.970061              0.310352      1.510997      9.664428   \n",
       "min         0.000007              0.000000      1.000000      0.000139   \n",
       "25%        44.281191              0.000000      1.000000      1.109491   \n",
       "50%        62.054949              0.000000      1.000000      2.094815   \n",
       "75%        76.068514              0.000000      1.000000      4.502199   \n",
       "max       311.561027              1.000000     41.000000    173.072512   \n",
       "\n",
       "        icustay_seq  label_death_icu  label_cor_art  diabetes_mellitus  \\\n",
       "count  61051.000000     61051.000000   61051.000000       61051.000000   \n",
       "mean       1.070908         0.073774       0.212838           0.170693   \n",
       "std        0.301838         0.261406       0.409318           0.376244   \n",
       "min        1.000000         0.000000       0.000000           0.000000   \n",
       "25%        1.000000         0.000000       0.000000           0.000000   \n",
       "50%        1.000000         0.000000       0.000000           0.000000   \n",
       "75%        1.000000         0.000000       0.000000           0.000000   \n",
       "max        7.000000         1.000000       1.000000           1.000000   \n",
       "\n",
       "                ckd   anemia_flag  \n",
       "count  61051.000000  61051.000000  \n",
       "mean       0.082849      0.125682  \n",
       "std        0.275656      0.331493  \n",
       "min        0.000000      0.000000  \n",
       "25%        0.000000      0.000000  \n",
       "50%        0.000000      0.000000  \n",
       "75%        0.000000      0.000000  \n",
       "max        1.000000      1.000000  "
      ]
     },
     "execution_count": 8,
     "metadata": {},
     "output_type": "execute_result"
    }
   ],
   "source": [
    "icustay_details.describe()"
   ]
  },
  {
   "cell_type": "markdown",
   "id": "a5f4b552",
   "metadata": {},
   "source": [
    "#### Setting window length "
   ]
  },
  {
   "cell_type": "code",
   "execution_count": 9,
   "id": "aa5bdcd2",
   "metadata": {},
   "outputs": [],
   "source": [
    "WINDOW_LENGTH = 24*4"
   ]
  },
  {
   "cell_type": "markdown",
   "id": "68afcd8f",
   "metadata": {},
   "source": [
    "### Keeping records that are atleast window length"
   ]
  },
  {
   "cell_type": "code",
   "execution_count": 10,
   "id": "eabb8028",
   "metadata": {},
   "outputs": [],
   "source": [
    "data= icustay_details.copy()\n",
    "data = data[data.los_icu >= WINDOW_LENGTH/24.0]"
   ]
  },
  {
   "cell_type": "code",
   "execution_count": 11,
   "id": "2ac8d722",
   "metadata": {},
   "outputs": [],
   "source": [
    "filtered_icustay_ids = pd.DataFrame(data['icustay_id'].unique(), columns=['icustay_id'])"
   ]
  },
  {
   "cell_type": "code",
   "execution_count": 12,
   "id": "68a57b55",
   "metadata": {},
   "outputs": [
    {
     "name": "stdout",
     "output_type": "stream",
     "text": [
      "(9207039, 15)\n",
      "60491\n",
      "17188\n"
     ]
    }
   ],
   "source": [
    "# Drop measurements with no belonging icustay_id\n",
    "pivoted_vital = pivoted_vital.dropna(subset=['icustay_id'])\n",
    "pivoted_lab = pivoted_lab.dropna(subset=['icustay_id'])\n",
    "\n",
    "#check the shape \n",
    "print(pivoted_vital.shape)\n",
    "\n",
    "# Cast icustay_id types to int\n",
    "pivoted_vital['icustay_id'] = pivoted_vital['icustay_id'].astype(int)\n",
    "pivoted_lab['icustay_id'] = pivoted_lab['icustay_id'].astype(int)\n",
    "\n",
    "print(len(pivoted_vital['icustay_id'].unique()))\n",
    "\n",
    "# Keep only values of patients in previously filtered icustay_ids in labs and vitals\n",
    "pivoted_vital = pivoted_vital.merge(filtered_icustay_ids, on='icustay_id', how='right').drop_duplicates()\n",
    "pivoted_lab = pivoted_lab.merge(filtered_icustay_ids, on='icustay_id', how='right').drop_duplicates()\n",
    "print(len(pivoted_vital['icustay_id'].unique()))"
   ]
  },
  {
   "cell_type": "code",
   "execution_count": 13,
   "id": "a984a760",
   "metadata": {},
   "outputs": [
    {
     "data": {
      "text/plain": [
       "Index(['icustay_id', 'charttime', 'heartrate', 'sysbp', 'diasbp', 'meanbp',\n",
       "       'resprate', 'tempc', 'spo2', 'glucose', 'rbc', 'specificgravity',\n",
       "       'pedaledema', 'appetite_median', 'ckd'],\n",
       "      dtype='object')"
      ]
     },
     "execution_count": 13,
     "metadata": {},
     "output_type": "execute_result"
    }
   ],
   "source": [
    "pivoted_vital.columns"
   ]
  },
  {
   "cell_type": "code",
   "execution_count": 14,
   "id": "97209a0c",
   "metadata": {},
   "outputs": [
    {
     "name": "stdout",
     "output_type": "stream",
     "text": [
      "(6724403, 15)\n"
     ]
    }
   ],
   "source": [
    "print(pivoted_vital.shape)"
   ]
  },
  {
   "cell_type": "code",
   "execution_count": 15,
   "id": "6355e18b",
   "metadata": {},
   "outputs": [
    {
     "data": {
      "text/plain": [
       "17188"
      ]
     },
     "execution_count": 15,
     "metadata": {},
     "output_type": "execute_result"
    }
   ],
   "source": [
    "len(pivoted_vital['icustay_id'].unique())"
   ]
  },
  {
   "cell_type": "code",
   "execution_count": 16,
   "id": "e84f1797",
   "metadata": {},
   "outputs": [
    {
     "data": {
      "text/plain": [
       "6724403"
      ]
     },
     "execution_count": 16,
     "metadata": {},
     "output_type": "execute_result"
    }
   ],
   "source": [
    "len(pivoted_vital['icustay_id'])"
   ]
  },
  {
   "cell_type": "code",
   "execution_count": 17,
   "id": "02c031db",
   "metadata": {},
   "outputs": [],
   "source": [
    "# Min of each lab and vitals\n",
    "icustay_ids_charttime_min_lab = pivoted_lab[[\"icustay_id\", \"charttime\"]][pivoted_lab.groupby(\"icustay_id\")[\"charttime\"].rank(ascending=1,method='dense') == 1]\n",
    "icustay_ids_charttime_min_vital = pivoted_vital[[\"icustay_id\", \"charttime\"]][pivoted_vital.groupby(\"icustay_id\")[\"charttime\"].rank(ascending=1,method='dense') == 1]\n",
    "# Min of both combined\n",
    "icustay_ids_charttime_min_vital_lab = pd.concat([icustay_ids_charttime_min_lab, icustay_ids_charttime_min_vital], ignore_index=True)\n",
    "icustay_ids_charttime_min_vital_lab = icustay_ids_charttime_min_vital_lab[[\"icustay_id\", \"charttime\"]][icustay_ids_charttime_min_vital_lab.groupby(\"icustay_id\")[\"charttime\"].rank(ascending=1,method='dense') == 1]\n",
    "\n",
    "# Max of each lab and vitals\n",
    "icustay_ids_charttime_max_lab = pivoted_lab[[\"icustay_id\", \"charttime\"]][pivoted_lab.groupby(\"icustay_id\")[\"charttime\"].rank(ascending=0,method='dense') == 1]\n",
    "icustay_ids_charttime_max_vital = pivoted_vital[[\"icustay_id\", \"charttime\"]][pivoted_vital.groupby(\"icustay_id\")[\"charttime\"].rank(ascending=0,method='dense') == 1]\n",
    "# Max of both combined\n",
    "icustay_ids_charttime_max_vital_lab = pd.concat([icustay_ids_charttime_max_lab, icustay_ids_charttime_max_vital], ignore_index=True)\n",
    "icustay_ids_charttime_max_vital_lab = icustay_ids_charttime_max_vital_lab[[\"icustay_id\", \"charttime\"]][icustay_ids_charttime_max_vital_lab.groupby(\"icustay_id\")[\"charttime\"].rank(ascending=0,method='dense') == 1]\n"
   ]
  },
  {
   "cell_type": "code",
   "execution_count": 18,
   "id": "5f5fe240",
   "metadata": {},
   "outputs": [
    {
     "name": "stdout",
     "output_type": "stream",
     "text": [
      "Unique icu stays in icustay_ids_vital_lab_charttime_min_max_filtered after filtering 8409\n",
      "Unique icu stays in icustay_ids_time_filtered:  8409\n"
     ]
    }
   ],
   "source": [
    "# Find for which icustay_ids there exist at least WINDOW_LENGTH of data\n",
    "icustay_ids_vital_lab_charttime_min_max = pd.concat([icustay_ids_charttime_max_vital_lab, icustay_ids_charttime_min_vital_lab], ignore_index=True)\n",
    "time_window = timedelta(days=4, seconds=0, microseconds=0, milliseconds=0, minutes=0, hours=WINDOW_LENGTH, weeks=0)\n",
    "is_time_diff_bigger_window_lab = icustay_ids_vital_lab_charttime_min_max.groupby(['icustay_id'])['charttime'].transform(lambda x: (x.max()-x.min())) >= time_window\n",
    "\n",
    "icustay_ids_vital_lab_charttime_min_max_filtered = icustay_ids_vital_lab_charttime_min_max[is_time_diff_bigger_window_lab]\n",
    "print(\"Unique icu stays in icustay_ids_vital_lab_charttime_min_max_filtered after filtering\", icustay_ids_vital_lab_charttime_min_max_filtered['icustay_id'].nunique())\n",
    "\n",
    "# Keep only icustay ids for which at least WINDOW_LENGTH of data exists\n",
    "icustay_ids_time_filtered = pd.DataFrame(icustay_ids_vital_lab_charttime_min_max_filtered['icustay_id'].unique(), columns=['icustay_id'])\n",
    "print(\"Unique icu stays in icustay_ids_time_filtered: \", icustay_ids_time_filtered['icustay_id'].nunique())"
   ]
  },
  {
   "cell_type": "code",
   "execution_count": 19,
   "id": "719b13c9",
   "metadata": {},
   "outputs": [],
   "source": [
    "filtered_icustay_ids = filtered_icustay_ids.merge(icustay_ids_time_filtered, on='icustay_id', how='inner').drop_duplicates()"
   ]
  },
  {
   "cell_type": "code",
   "execution_count": 20,
   "id": "7230fe8f",
   "metadata": {},
   "outputs": [
    {
     "name": "stdout",
     "output_type": "stream",
     "text": [
      "Number of ICU stays demographics:  8409\n",
      "Number of ICU stays vitals:  8409\n",
      "Number of ICU stays labs:  8409\n"
     ]
    }
   ],
   "source": [
    "demographics_filtered = data.merge(filtered_icustay_ids, on='icustay_id', how='right').drop_duplicates()\n",
    "print(\"Number of ICU stays demographics: \", demographics_filtered['icustay_id'].nunique())\n",
    "\n",
    "vital_filtered = pivoted_vital.merge(filtered_icustay_ids, on='icustay_id', how='right').drop_duplicates()\n",
    "print(\"Number of ICU stays vitals: \", vital_filtered['icustay_id'].nunique())\n",
    "\n",
    "lab_filtered = pivoted_lab.merge(filtered_icustay_ids, on='icustay_id', how='right').drop_duplicates()\n",
    "print(\"Number of ICU stays labs: \", lab_filtered['icustay_id'].nunique())"
   ]
  },
  {
   "cell_type": "code",
   "execution_count": 21,
   "id": "69b60fc7",
   "metadata": {},
   "outputs": [
    {
     "data": {
      "text/plain": [
       "Index(['subject_id', 'hadm_id', 'icustay_id', 'gender', 'dod', 'admittime',\n",
       "       'dischtime', 'los_hospital', 'admission_age', 'ethnicity',\n",
       "       'ethnicity_grouped', 'hospital_expire_flag', 'hospstay_seq',\n",
       "       'first_hosp_stay', 'intime', 'outtime', 'los_icu', 'icustay_seq',\n",
       "       'first_icu_stay_current_hosp', 'first_icu_stay_patient',\n",
       "       'first_careunit', 'deathtime_icu', 'label_death_icu', 'label_cor_art',\n",
       "       'diabetes_mellitus', 'ckd', 'anemia_flag'],\n",
       "      dtype='object')"
      ]
     },
     "execution_count": 21,
     "metadata": {},
     "output_type": "execute_result"
    }
   ],
   "source": [
    "demographics_filtered.columns"
   ]
  },
  {
   "cell_type": "code",
   "execution_count": 22,
   "id": "22b353be",
   "metadata": {},
   "outputs": [
    {
     "data": {
      "text/plain": [
       "Index(['icustay_id', 'subject_id', 'charttime', 'aniongap', 'albumin', 'bands',\n",
       "       'bicarbonate', 'bilirubin', 'creatinine', 'chloride', 'glucose',\n",
       "       'hematocrit', 'hemoglobin', 'lactate', 'platelet', 'potassium', 'ptt',\n",
       "       'inr', 'pt', 'sodium', 'bun', 'wbc', 'bacteria', 'ckd'],\n",
       "      dtype='object')"
      ]
     },
     "execution_count": 22,
     "metadata": {},
     "output_type": "execute_result"
    }
   ],
   "source": [
    "lab_filtered.columns"
   ]
  },
  {
   "cell_type": "code",
   "execution_count": 23,
   "id": "97facd20",
   "metadata": {},
   "outputs": [
    {
     "data": {
      "text/plain": [
       "array([218958, 241427, 272085, ..., 226042, 270667, 224889], dtype=int64)"
      ]
     },
     "execution_count": 23,
     "metadata": {},
     "output_type": "execute_result"
    }
   ],
   "source": [
    "lab_filtered['icustay_id'].unique()"
   ]
  },
  {
   "cell_type": "code",
   "execution_count": 24,
   "id": "b1733ce1",
   "metadata": {},
   "outputs": [
    {
     "name": "stdout",
     "output_type": "stream",
     "text": [
      "Number of ICU stays in lab_filtered:  8409\n",
      "Number of ICU stays in lab_filtered:  8409\n"
     ]
    }
   ],
   "source": [
    "vital_filtered = vital_filtered.merge(lab_filtered[['icustay_id', 'charttime']], on=['icustay_id', 'charttime'], how='outer').drop_duplicates()\n",
    "print(\"Number of ICU stays in lab_filtered: \", vital_filtered['icustay_id'].nunique())\n",
    "lab_filtered = lab_filtered.merge(vital_filtered[['icustay_id', 'charttime']], on=['icustay_id', 'charttime'], how='outer').drop_duplicates()\n",
    "print(\"Number of ICU stays in lab_filtered: \", lab_filtered['icustay_id'].nunique())"
   ]
  },
  {
   "cell_type": "code",
   "execution_count": 25,
   "id": "9c895084",
   "metadata": {},
   "outputs": [
    {
     "name": "stderr",
     "output_type": "stream",
     "text": [
      "C:\\Users\\aakru\\AppData\\Local\\Temp\\ipykernel_1880\\3516085691.py:12: FutureWarning: DataFrame.mean and DataFrame.median with numeric_only=None will include datetime64 and datetime64tz columns in a future version.\n",
      "  vital_resampled = vital_resampled.set_index(['icustay_id', 'charttime']).groupby('icustay_id')[vital_col].transform(lambda x: x.ffill().bfill()).fillna(value=vital_resampled[['icustay_id', 'charttime', 'heartrate', 'sysbp', 'diasbp', 'meanbp','resprate', 'tempc', 'spo2', 'glucose', 'rbc', 'specificgravity','pedaledema', 'appetite_median']].median()).reset_index()\n"
     ]
    }
   ],
   "source": [
    "vital_resampled = vital_filtered.copy()\n",
    "\n",
    "# Resample from the end of the time series (how=\"last\")\n",
    "vital_resampled = vital_resampled.assign(charttime=vital_resampled.charttime.dt.round('H'))\n",
    "#vital_resampled = vital_resampled.set_index('charttime').groupby('icustay_id').resample('1H', origin=\"end\").median().drop(['icustay_id'], axis = 1).reset_index()\n",
    "# Resample from the beginning of the time series\n",
    "vital_resampled = vital_resampled.set_index('charttime').groupby('icustay_id').resample('1H', origin=\"start\").median().drop(['icustay_id'], axis = 1).reset_index()\n",
    "\n",
    "# Forward and backwards fill (use lambda function instead of directly applying it to groupby otherwise results from one group are carreid forward to another group...BAD)\n",
    "# Fill NaNs (-1)\n",
    "vital_col = vital_resampled.columns.drop(['icustay_id', 'charttime'])\n",
    "vital_resampled = vital_resampled.set_index(['icustay_id', 'charttime']).groupby('icustay_id')[vital_col].transform(lambda x: x.ffill().bfill()).fillna(value=vital_resampled[['icustay_id', 'charttime', 'heartrate', 'sysbp', 'diasbp', 'meanbp','resprate', 'tempc', 'spo2', 'glucose', 'rbc', 'specificgravity','pedaledema', 'appetite_median']].median()).reset_index()\n",
    "#.fillna(value=vital_resampled[vital_columns].mean())#.fillna(0)#.fillna(-1)\n"
   ]
  },
  {
   "cell_type": "code",
   "execution_count": 26,
   "id": "27bec84c",
   "metadata": {},
   "outputs": [
    {
     "name": "stderr",
     "output_type": "stream",
     "text": [
      "C:\\Users\\aakru\\AppData\\Local\\Temp\\ipykernel_1880\\3063204683.py:11: FutureWarning: DataFrame.mean and DataFrame.median with numeric_only=None will include datetime64 and datetime64tz columns in a future version.\n",
      "  lab_resampled = lab_resampled.set_index(['icustay_id', 'charttime']).groupby('icustay_id')[lab_col].transform(lambda x: x.ffill().bfill()).fillna(value=lab_resampled[['icustay_id', 'subject_id', 'charttime', 'aniongap', 'albumin', 'bands','bicarbonate', 'bilirubin', 'creatinine', 'chloride', 'glucose','hematocrit', 'hemoglobin', 'lactate', 'platelet', 'potassium', 'ptt','inr', 'pt', 'sodium', 'bun', 'wbc', 'bacteria']].median()).reset_index()\n"
     ]
    },
    {
     "name": "stdout",
     "output_type": "stream",
     "text": [
      "730\n"
     ]
    }
   ],
   "source": [
    "lab_resampled = lab_filtered.copy()\n",
    "# Cut out minutes and hours, so that the resampling of the 8h takes the same time span as the 1h samples (for vitals)\n",
    "lab_resampled = lab_resampled.assign(charttime=lab_resampled.charttime.dt.round('H'))\n",
    "# Resample from the end of the time series \n",
    "#lab_resampled = lab_resampled.set_index('charttime').groupby('icustay_id').resample('8h', origin=\"end\").median().drop(['icustay_id'], axis = 1).reset_index()\n",
    "lab_resampled = lab_resampled.set_index('charttime').groupby('icustay_id').resample('8h', origin=\"start\").median().drop(['icustay_id'], axis = 1).reset_index()\n",
    "\n",
    "# Forward and backwards fill (use transform instead of direct groupby otherwise results from one group are carreid forward to another group...BAD)\n",
    "# Fill NaNs (-1 or 0 or mean!?)\n",
    "lab_col = lab_resampled.columns.drop(['icustay_id', 'charttime'])\n",
    "lab_resampled = lab_resampled.set_index(['icustay_id', 'charttime']).groupby('icustay_id')[lab_col].transform(lambda x: x.ffill().bfill()).fillna(value=lab_resampled[['icustay_id', 'subject_id', 'charttime', 'aniongap', 'albumin', 'bands','bicarbonate', 'bilirubin', 'creatinine', 'chloride', 'glucose','hematocrit', 'hemoglobin', 'lactate', 'platelet', 'potassium', 'ptt','inr', 'pt', 'sodium', 'bun', 'wbc', 'bacteria']].median()).reset_index()\n",
    "\n",
    "print(lab_resampled.isnull().sum().sum())"
   ]
  },
  {
   "cell_type": "markdown",
   "id": "63f152ca",
   "metadata": {},
   "source": [
    "### keep only uptil 4 days data"
   ]
  },
  {
   "cell_type": "code",
   "execution_count": 27,
   "id": "b7dfb79c",
   "metadata": {},
   "outputs": [
    {
     "data": {
      "text/html": [
       "<div>\n",
       "<style scoped>\n",
       "    .dataframe tbody tr th:only-of-type {\n",
       "        vertical-align: middle;\n",
       "    }\n",
       "\n",
       "    .dataframe tbody tr th {\n",
       "        vertical-align: top;\n",
       "    }\n",
       "\n",
       "    .dataframe thead th {\n",
       "        text-align: right;\n",
       "    }\n",
       "</style>\n",
       "<table border=\"1\" class=\"dataframe\">\n",
       "  <thead>\n",
       "    <tr style=\"text-align: right;\">\n",
       "      <th></th>\n",
       "      <th>subject_id</th>\n",
       "      <th>icustay_id</th>\n",
       "      <th>intime</th>\n",
       "      <th>predtime</th>\n",
       "      <th>delta_t_pred</th>\n",
       "    </tr>\n",
       "  </thead>\n",
       "  <tbody>\n",
       "    <tr>\n",
       "      <th>0</th>\n",
       "      <td>14137</td>\n",
       "      <td>218958</td>\n",
       "      <td>2132-08-24 17:07:00</td>\n",
       "      <td>2132-08-28 17:07:00</td>\n",
       "      <td>10 days 00:34:00</td>\n",
       "    </tr>\n",
       "    <tr>\n",
       "      <th>1</th>\n",
       "      <td>28970</td>\n",
       "      <td>241427</td>\n",
       "      <td>2151-11-07 01:49:18</td>\n",
       "      <td>2151-11-11 01:49:18</td>\n",
       "      <td>27 days 17:57:20</td>\n",
       "    </tr>\n",
       "    <tr>\n",
       "      <th>2</th>\n",
       "      <td>2269</td>\n",
       "      <td>272085</td>\n",
       "      <td>2187-12-04 11:35:04</td>\n",
       "      <td>2187-12-08 11:35:04</td>\n",
       "      <td>12 days 02:08:02</td>\n",
       "    </tr>\n",
       "    <tr>\n",
       "      <th>3</th>\n",
       "      <td>334</td>\n",
       "      <td>214236</td>\n",
       "      <td>2136-01-16 10:56:48</td>\n",
       "      <td>2136-01-20 10:56:48</td>\n",
       "      <td>10 days 07:21:18</td>\n",
       "    </tr>\n",
       "    <tr>\n",
       "      <th>4</th>\n",
       "      <td>2005</td>\n",
       "      <td>285731</td>\n",
       "      <td>2163-06-23 11:28:06</td>\n",
       "      <td>2163-06-27 11:28:06</td>\n",
       "      <td>5 days 08:45:56</td>\n",
       "    </tr>\n",
       "  </tbody>\n",
       "</table>\n",
       "</div>"
      ],
      "text/plain": [
       "   subject_id  icustay_id              intime            predtime  \\\n",
       "0       14137      218958 2132-08-24 17:07:00 2132-08-28 17:07:00   \n",
       "1       28970      241427 2151-11-07 01:49:18 2151-11-11 01:49:18   \n",
       "2        2269      272085 2187-12-04 11:35:04 2187-12-08 11:35:04   \n",
       "3         334      214236 2136-01-16 10:56:48 2136-01-20 10:56:48   \n",
       "4        2005      285731 2163-06-23 11:28:06 2163-06-27 11:28:06   \n",
       "\n",
       "      delta_t_pred  \n",
       "0 10 days 00:34:00  \n",
       "1 27 days 17:57:20  \n",
       "2 12 days 02:08:02  \n",
       "3 10 days 07:21:18  \n",
       "4  5 days 08:45:56  "
      ]
     },
     "execution_count": 27,
     "metadata": {},
     "output_type": "execute_result"
    }
   ],
   "source": [
    "delta_t_data = timedelta(days=0, seconds=0, microseconds=0, milliseconds=0, minutes=0, hours=WINDOW_LENGTH, weeks=0)\n",
    "demographics_windowed = demographics_filtered.copy()\n",
    "demographics_windowed['predtime'] = demographics_windowed.intime + delta_t_data\n",
    "demographics_windowed['delta_t_pred'] = demographics_windowed.outtime - demographics_windowed.predtime\n",
    "\n",
    "demographics_windowed[['subject_id', 'icustay_id', 'intime', 'predtime', 'delta_t_pred']].head(5)"
   ]
  },
  {
   "cell_type": "code",
   "execution_count": 28,
   "id": "c904f8c6",
   "metadata": {},
   "outputs": [
    {
     "name": "stdout",
     "output_type": "stream",
     "text": [
      "Number of ICU stays:  8409\n",
      "Number of ICU stays in vitals_cut:  8409\n",
      "Number of ICU stays in labs_cut:  8409\n"
     ]
    }
   ],
   "source": [
    "cut_icustay_ids = pd.DataFrame(demographics_windowed['icustay_id'].unique(), columns=['icustay_id'])\n",
    "print(\"Number of ICU stays: \", cut_icustay_ids['icustay_id'].count())\n",
    "\n",
    "vitals_cut = vital_resampled.merge(cut_icustay_ids, on='icustay_id', how='right')\n",
    "print(\"Number of ICU stays in vitals_cut: \", vitals_cut['icustay_id'].nunique())\n",
    "\n",
    "labs_cut = lab_resampled.merge(cut_icustay_ids, on='icustay_id', how='right')\n",
    "print(\"Number of ICU stays in labs_cut: \", labs_cut['icustay_id'].nunique())\n"
   ]
  },
  {
   "cell_type": "code",
   "execution_count": 29,
   "id": "9899b128",
   "metadata": {},
   "outputs": [
    {
     "name": "stdout",
     "output_type": "stream",
     "text": [
      "4 days, 0:00:00\n"
     ]
    }
   ],
   "source": [
    "print(delta_t_data)"
   ]
  },
  {
   "cell_type": "code",
   "execution_count": 30,
   "id": "2432f622",
   "metadata": {},
   "outputs": [
    {
     "name": "stdout",
     "output_type": "stream",
     "text": [
      "Number of ICU stays in vitals_windowed:  8405\n",
      "Number of ICU stays in labs_windowed:  8405\n"
     ]
    }
   ],
   "source": [
    "vitals_windowed = vital_resampled.merge(demographics_windowed[['icustay_id', 'predtime', 'delta_t_pred']], on='icustay_id', how='right')\n",
    "vitals_windowed = vitals_windowed[vitals_windowed.charttime < vitals_windowed.predtime]\n",
    "print(\"Number of ICU stays in vitals_windowed: \", vitals_windowed['icustay_id'].nunique())\n",
    "\n",
    "labs_windowed = lab_resampled.merge(demographics_windowed[['icustay_id', 'predtime', 'delta_t_pred']], on='icustay_id', how='right')\n",
    "labs_windowed = labs_windowed[labs_windowed.charttime < labs_windowed.predtime]\n",
    "print(\"Number of ICU stays in labs_windowed: \", labs_windowed['icustay_id'].nunique())\n",
    "\n",
    "windowed_icustay_ids = pd.DataFrame(pd.concat([vitals_windowed['icustay_id'], labs_windowed['icustay_id']]).unique(), columns=['icustay_id'])\n",
    "demographics_windowed = demographics_windowed.merge(windowed_icustay_ids, on='icustay_id', how='right')"
   ]
  },
  {
   "cell_type": "code",
   "execution_count": 31,
   "id": "f2dddc6b",
   "metadata": {},
   "outputs": [
    {
     "data": {
      "text/plain": [
       "icustay_id        0\n",
       "charttime         0\n",
       "subject_id        0\n",
       "aniongap          0\n",
       "albumin           0\n",
       "bands             0\n",
       "bicarbonate       0\n",
       "bilirubin         0\n",
       "creatinine        0\n",
       "chloride          0\n",
       "glucose           0\n",
       "hematocrit        0\n",
       "hemoglobin        0\n",
       "lactate           0\n",
       "platelet          0\n",
       "potassium         0\n",
       "ptt               0\n",
       "inr               0\n",
       "pt                0\n",
       "sodium            0\n",
       "bun               0\n",
       "wbc               0\n",
       "bacteria          0\n",
       "ckd             162\n",
       "predtime          0\n",
       "delta_t_pred      0\n",
       "dtype: int64"
      ]
     },
     "execution_count": 31,
     "metadata": {},
     "output_type": "execute_result"
    }
   ],
   "source": [
    "labs_windowed.isna().sum()"
   ]
  },
  {
   "cell_type": "code",
   "execution_count": 32,
   "id": "bd636589",
   "metadata": {},
   "outputs": [
    {
     "data": {
      "text/plain": [
       "icustay_id              0\n",
       "charttime               0\n",
       "heartrate               0\n",
       "sysbp                   0\n",
       "diasbp                  0\n",
       "meanbp                  0\n",
       "resprate                0\n",
       "tempc                   0\n",
       "spo2                    0\n",
       "glucose                 0\n",
       "rbc                     0\n",
       "specificgravity         0\n",
       "pedaledema         812438\n",
       "appetite_median         0\n",
       "ckd                  1481\n",
       "predtime                0\n",
       "delta_t_pred            0\n",
       "dtype: int64"
      ]
     },
     "execution_count": 32,
     "metadata": {},
     "output_type": "execute_result"
    }
   ],
   "source": [
    "vitals_windowed.isna().sum()"
   ]
  },
  {
   "cell_type": "markdown",
   "id": "8f0f8fa3",
   "metadata": {},
   "source": [
    "#### using icustay_id from demographics to fill missing ckd in vitals and labs"
   ]
  },
  {
   "cell_type": "code",
   "execution_count": 33,
   "id": "b603860c",
   "metadata": {},
   "outputs": [],
   "source": [
    "vitals_windowed['ckd'] = vitals_windowed['icustay_id'].map(demographics_windowed.set_index('icustay_id')['ckd'])"
   ]
  },
  {
   "cell_type": "code",
   "execution_count": 34,
   "id": "8208d543",
   "metadata": {},
   "outputs": [
    {
     "data": {
      "text/plain": [
       "icustay_id              0\n",
       "charttime               0\n",
       "heartrate               0\n",
       "sysbp                   0\n",
       "diasbp                  0\n",
       "meanbp                  0\n",
       "resprate                0\n",
       "tempc                   0\n",
       "spo2                    0\n",
       "glucose                 0\n",
       "rbc                     0\n",
       "specificgravity         0\n",
       "pedaledema         812438\n",
       "appetite_median         0\n",
       "ckd                     0\n",
       "predtime                0\n",
       "delta_t_pred            0\n",
       "dtype: int64"
      ]
     },
     "execution_count": 34,
     "metadata": {},
     "output_type": "execute_result"
    }
   ],
   "source": [
    "vitals_windowed.isna().sum()"
   ]
  },
  {
   "cell_type": "code",
   "execution_count": 35,
   "id": "f4836f4f",
   "metadata": {},
   "outputs": [],
   "source": [
    "labs_windowed['ckd'] = labs_windowed['icustay_id'].map(demographics_windowed.set_index('icustay_id')['ckd'])"
   ]
  },
  {
   "cell_type": "code",
   "execution_count": 36,
   "id": "d94c354f",
   "metadata": {},
   "outputs": [
    {
     "data": {
      "text/plain": [
       "icustay_id      0\n",
       "charttime       0\n",
       "subject_id      0\n",
       "aniongap        0\n",
       "albumin         0\n",
       "bands           0\n",
       "bicarbonate     0\n",
       "bilirubin       0\n",
       "creatinine      0\n",
       "chloride        0\n",
       "glucose         0\n",
       "hematocrit      0\n",
       "hemoglobin      0\n",
       "lactate         0\n",
       "platelet        0\n",
       "potassium       0\n",
       "ptt             0\n",
       "inr             0\n",
       "pt              0\n",
       "sodium          0\n",
       "bun             0\n",
       "wbc             0\n",
       "bacteria        0\n",
       "ckd             0\n",
       "predtime        0\n",
       "delta_t_pred    0\n",
       "dtype: int64"
      ]
     },
     "execution_count": 36,
     "metadata": {},
     "output_type": "execute_result"
    }
   ],
   "source": [
    "labs_windowed.isna().sum()"
   ]
  },
  {
   "cell_type": "markdown",
   "id": "fdc1d9a9",
   "metadata": {},
   "source": [
    "#### Some patients might not have any value for pedaledema and hence we are filling those with -1"
   ]
  },
  {
   "cell_type": "code",
   "execution_count": 37,
   "id": "551c0d63",
   "metadata": {},
   "outputs": [
    {
     "data": {
      "text/plain": [
       "subject_id                        0\n",
       "hadm_id                           0\n",
       "icustay_id                        0\n",
       "gender                            0\n",
       "dod                            4663\n",
       "admittime                         0\n",
       "dischtime                         0\n",
       "los_hospital                      0\n",
       "admission_age                     0\n",
       "ethnicity                         0\n",
       "ethnicity_grouped                 0\n",
       "hospital_expire_flag              0\n",
       "hospstay_seq                      0\n",
       "first_hosp_stay                   0\n",
       "intime                            0\n",
       "outtime                           0\n",
       "los_icu                           0\n",
       "icustay_seq                       0\n",
       "first_icu_stay_current_hosp       0\n",
       "first_icu_stay_patient            0\n",
       "first_careunit                    0\n",
       "deathtime_icu                  7283\n",
       "label_death_icu                   0\n",
       "label_cor_art                     0\n",
       "diabetes_mellitus                 0\n",
       "ckd                               0\n",
       "anemia_flag                       0\n",
       "predtime                          0\n",
       "delta_t_pred                      0\n",
       "dtype: int64"
      ]
     },
     "execution_count": 37,
     "metadata": {},
     "output_type": "execute_result"
    }
   ],
   "source": [
    "demographics_windowed.isna().sum()"
   ]
  },
  {
   "cell_type": "code",
   "execution_count": 38,
   "id": "fd83c09d",
   "metadata": {},
   "outputs": [],
   "source": [
    "vitals_windowed =vitals_windowed.set_index(['icustay_id', 'charttime']).groupby('icustay_id')[vital_col].transform(lambda x: x.ffill().bfill()).fillna(-1).reset_index()"
   ]
  },
  {
   "cell_type": "code",
   "execution_count": 39,
   "id": "07967f35",
   "metadata": {},
   "outputs": [
    {
     "data": {
      "text/plain": [
       "icustay_id         0\n",
       "charttime          0\n",
       "heartrate          0\n",
       "sysbp              0\n",
       "diasbp             0\n",
       "meanbp             0\n",
       "resprate           0\n",
       "tempc              0\n",
       "spo2               0\n",
       "glucose            0\n",
       "rbc                0\n",
       "specificgravity    0\n",
       "pedaledema         0\n",
       "appetite_median    0\n",
       "ckd                0\n",
       "dtype: int64"
      ]
     },
     "execution_count": 39,
     "metadata": {},
     "output_type": "execute_result"
    }
   ],
   "source": [
    "vitals_windowed.isna().sum()"
   ]
  },
  {
   "cell_type": "code",
   "execution_count": 40,
   "id": "57adc0e2",
   "metadata": {},
   "outputs": [
    {
     "name": "stdout",
     "output_type": "stream",
     "text": [
      "Number of ICU stays demographics:  8405\n",
      "Number of CKD demographics:\n",
      "0    7868\n",
      "1     537\n",
      "Name: ckd, dtype: int64\n",
      "Number of ICU stays vitals:  8405\n",
      "Number of CKD vitals:\n",
      "0    7868\n",
      "1     537\n",
      "Name: ckd, dtype: int64\n",
      "Number of ICU stays labs:  8405\n",
      "Number of CKD labs:\n",
      "0    7868\n",
      "1     537\n",
      "Name: ckd, dtype: int64\n"
     ]
    }
   ],
   "source": [
    "print(\"Number of ICU stays demographics: \", demographics_windowed['icustay_id'].nunique())\n",
    "print(\"Number of CKD demographics:\")\n",
    "dd = demographics_windowed[['icustay_id','ckd']].drop_duplicates(subset=['icustay_id'])\n",
    "print(dd['ckd'].value_counts())\n",
    "\n",
    "print(\"Number of ICU stays vitals: \", vitals_windowed['icustay_id'].nunique())\n",
    "print(\"Number of CKD vitals:\")\n",
    "dd = vitals_windowed[['icustay_id','ckd']].drop_duplicates(subset=['icustay_id'])\n",
    "print(dd['ckd'].value_counts())\n",
    "\n",
    "print(\"Number of ICU stays labs: \", labs_windowed['icustay_id'].nunique())\n",
    "print(\"Number of CKD labs:\")\n",
    "dd = labs_windowed[['icustay_id','ckd']].drop_duplicates(subset=['icustay_id'])\n",
    "print(dd['ckd'].value_counts())"
   ]
  },
  {
   "cell_type": "markdown",
   "id": "964b760a",
   "metadata": {},
   "source": [
    "# static model- Random Forest"
   ]
  },
  {
   "cell_type": "code",
   "execution_count": 41,
   "id": "586d3d7a",
   "metadata": {},
   "outputs": [],
   "source": [
    "def aggregate_dataframe(df, groupby_key, columns_to_aggregate):\n",
    "    df = df.replace(-1, np.nan)\n",
    "    result = df.groupby(groupby_key)[columns_to_aggregate].mean().reset_index()    \n",
    "    return result"
   ]
  },
  {
   "cell_type": "code",
   "execution_count": 42,
   "id": "9bf6fa27",
   "metadata": {},
   "outputs": [],
   "source": [
    "columns_to_merge = ['icustay_id', 'ckd','ethnicity_grouped']"
   ]
  },
  {
   "cell_type": "code",
   "execution_count": 43,
   "id": "d374b841",
   "metadata": {},
   "outputs": [],
   "source": [
    "df_cols_vitals = ['heartrate', 'sysbp','diasbp','meanbp','resprate','tempc','spo2','specificgravity','pedaledema','appetite_median']\n",
    "df_agg_vitals = aggregate_dataframe(vitals_windowed, 'icustay_id', df_cols_vitals)\n",
    "\n",
    "df_agg_vitals = df_agg_vitals.merge(demographics_windowed[columns_to_merge], on='icustay_id', how='inner')\n",
    "df_agg_vitals['ckd_ethnicity'] = df_agg_vitals['ckd'].astype(str).str.cat(df_agg_vitals['ethnicity_grouped'].astype(str))"
   ]
  },
  {
   "cell_type": "code",
   "execution_count": 44,
   "id": "d228d54d",
   "metadata": {},
   "outputs": [],
   "source": [
    "df_cols_labs = ['albumin','bacteria','glucose','bun','creatinine','sodium','potassium','hemoglobin','wbc','hematocrit','platelet','ptt']\n",
    "df_agg_labs = aggregate_dataframe(labs_windowed, 'icustay_id', df_cols_labs)\n",
    "\n",
    "df_agg_labs = df_agg_labs.merge(demographics_windowed[columns_to_merge], on='icustay_id', how='inner')\n",
    "df_agg_labs['ckd_ethnicity'] = df_agg_labs['ckd'].astype(str).str.cat(df_agg_labs['ethnicity_grouped'].astype(str))"
   ]
  },
  {
   "cell_type": "code",
   "execution_count": 45,
   "id": "94bda302",
   "metadata": {},
   "outputs": [
    {
     "data": {
      "text/html": [
       "<div>\n",
       "<style scoped>\n",
       "    .dataframe tbody tr th:only-of-type {\n",
       "        vertical-align: middle;\n",
       "    }\n",
       "\n",
       "    .dataframe tbody tr th {\n",
       "        vertical-align: top;\n",
       "    }\n",
       "\n",
       "    .dataframe thead th {\n",
       "        text-align: right;\n",
       "    }\n",
       "</style>\n",
       "<table border=\"1\" class=\"dataframe\">\n",
       "  <thead>\n",
       "    <tr style=\"text-align: right;\">\n",
       "      <th></th>\n",
       "      <th>icustay_id</th>\n",
       "      <th>heartrate</th>\n",
       "      <th>sysbp</th>\n",
       "      <th>diasbp</th>\n",
       "      <th>meanbp</th>\n",
       "      <th>resprate</th>\n",
       "      <th>tempc</th>\n",
       "      <th>spo2</th>\n",
       "      <th>specificgravity</th>\n",
       "      <th>pedaledema</th>\n",
       "      <th>appetite_median</th>\n",
       "      <th>ckd</th>\n",
       "      <th>ethnicity_grouped</th>\n",
       "      <th>ckd_ethnicity</th>\n",
       "    </tr>\n",
       "  </thead>\n",
       "  <tbody>\n",
       "    <tr>\n",
       "      <th>0</th>\n",
       "      <td>200017</td>\n",
       "      <td>155.052083</td>\n",
       "      <td>120.000000</td>\n",
       "      <td>58.500000</td>\n",
       "      <td>78.000000</td>\n",
       "      <td>20.500000</td>\n",
       "      <td>37.111111</td>\n",
       "      <td>98.000000</td>\n",
       "      <td>1.02</td>\n",
       "      <td>NaN</td>\n",
       "      <td>3.0</td>\n",
       "      <td>0</td>\n",
       "      <td>white</td>\n",
       "      <td>0white</td>\n",
       "    </tr>\n",
       "    <tr>\n",
       "      <th>1</th>\n",
       "      <td>200033</td>\n",
       "      <td>79.126316</td>\n",
       "      <td>122.147368</td>\n",
       "      <td>71.007895</td>\n",
       "      <td>87.844737</td>\n",
       "      <td>17.113158</td>\n",
       "      <td>36.819298</td>\n",
       "      <td>96.394737</td>\n",
       "      <td>1.02</td>\n",
       "      <td>NaN</td>\n",
       "      <td>2.0</td>\n",
       "      <td>0</td>\n",
       "      <td>white</td>\n",
       "      <td>0white</td>\n",
       "    </tr>\n",
       "    <tr>\n",
       "      <th>2</th>\n",
       "      <td>200037</td>\n",
       "      <td>142.943878</td>\n",
       "      <td>120.000000</td>\n",
       "      <td>58.500000</td>\n",
       "      <td>78.000000</td>\n",
       "      <td>20.500000</td>\n",
       "      <td>37.111111</td>\n",
       "      <td>98.000000</td>\n",
       "      <td>1.02</td>\n",
       "      <td>NaN</td>\n",
       "      <td>3.0</td>\n",
       "      <td>0</td>\n",
       "      <td>white</td>\n",
       "      <td>0white</td>\n",
       "    </tr>\n",
       "    <tr>\n",
       "      <th>3</th>\n",
       "      <td>200045</td>\n",
       "      <td>87.118557</td>\n",
       "      <td>129.762887</td>\n",
       "      <td>47.337629</td>\n",
       "      <td>75.811860</td>\n",
       "      <td>21.729381</td>\n",
       "      <td>36.797824</td>\n",
       "      <td>98.525773</td>\n",
       "      <td>1.02</td>\n",
       "      <td>NaN</td>\n",
       "      <td>3.0</td>\n",
       "      <td>0</td>\n",
       "      <td>white</td>\n",
       "      <td>0white</td>\n",
       "    </tr>\n",
       "    <tr>\n",
       "      <th>4</th>\n",
       "      <td>200046</td>\n",
       "      <td>147.221649</td>\n",
       "      <td>120.000000</td>\n",
       "      <td>58.500000</td>\n",
       "      <td>78.000000</td>\n",
       "      <td>20.500000</td>\n",
       "      <td>37.111111</td>\n",
       "      <td>98.000000</td>\n",
       "      <td>1.02</td>\n",
       "      <td>NaN</td>\n",
       "      <td>3.0</td>\n",
       "      <td>0</td>\n",
       "      <td>black</td>\n",
       "      <td>0black</td>\n",
       "    </tr>\n",
       "  </tbody>\n",
       "</table>\n",
       "</div>"
      ],
      "text/plain": [
       "   icustay_id   heartrate       sysbp     diasbp     meanbp   resprate  \\\n",
       "0      200017  155.052083  120.000000  58.500000  78.000000  20.500000   \n",
       "1      200033   79.126316  122.147368  71.007895  87.844737  17.113158   \n",
       "2      200037  142.943878  120.000000  58.500000  78.000000  20.500000   \n",
       "3      200045   87.118557  129.762887  47.337629  75.811860  21.729381   \n",
       "4      200046  147.221649  120.000000  58.500000  78.000000  20.500000   \n",
       "\n",
       "       tempc       spo2  specificgravity  pedaledema  appetite_median  ckd  \\\n",
       "0  37.111111  98.000000             1.02         NaN              3.0    0   \n",
       "1  36.819298  96.394737             1.02         NaN              2.0    0   \n",
       "2  37.111111  98.000000             1.02         NaN              3.0    0   \n",
       "3  36.797824  98.525773             1.02         NaN              3.0    0   \n",
       "4  37.111111  98.000000             1.02         NaN              3.0    0   \n",
       "\n",
       "  ethnicity_grouped ckd_ethnicity  \n",
       "0             white        0white  \n",
       "1             white        0white  \n",
       "2             white        0white  \n",
       "3             white        0white  \n",
       "4             black        0black  "
      ]
     },
     "execution_count": 45,
     "metadata": {},
     "output_type": "execute_result"
    }
   ],
   "source": [
    "df_agg_vitals.head()"
   ]
  },
  {
   "cell_type": "code",
   "execution_count": 46,
   "id": "d3f19e57",
   "metadata": {},
   "outputs": [
    {
     "data": {
      "text/plain": [
       "0white               5376\n",
       "0unknown             1251\n",
       "0black                681\n",
       "1white                405\n",
       "0hispanic             279\n",
       "0asian                245\n",
       "1black                 64\n",
       "1unknown               35\n",
       "0alaska_native         17\n",
       "1hispanic              16\n",
       "1asian                 13\n",
       "0portuguese            12\n",
       "0middle_eastern         5\n",
       "0pacific_islander       2\n",
       "1middle_eastern         2\n",
       "1portuguese             1\n",
       "1alaska_native          1\n",
       "Name: ckd_ethnicity, dtype: int64"
      ]
     },
     "execution_count": 46,
     "metadata": {},
     "output_type": "execute_result"
    }
   ],
   "source": [
    "df_agg_vitals['ckd_ethnicity'].value_counts()"
   ]
  },
  {
   "cell_type": "code",
   "execution_count": 47,
   "id": "d9b7b839",
   "metadata": {},
   "outputs": [
    {
     "data": {
      "text/html": [
       "<div>\n",
       "<style scoped>\n",
       "    .dataframe tbody tr th:only-of-type {\n",
       "        vertical-align: middle;\n",
       "    }\n",
       "\n",
       "    .dataframe tbody tr th {\n",
       "        vertical-align: top;\n",
       "    }\n",
       "\n",
       "    .dataframe thead th {\n",
       "        text-align: right;\n",
       "    }\n",
       "</style>\n",
       "<table border=\"1\" class=\"dataframe\">\n",
       "  <thead>\n",
       "    <tr style=\"text-align: right;\">\n",
       "      <th></th>\n",
       "      <th>icustay_id</th>\n",
       "      <th>albumin</th>\n",
       "      <th>bacteria</th>\n",
       "      <th>glucose</th>\n",
       "      <th>bun</th>\n",
       "      <th>creatinine</th>\n",
       "      <th>sodium</th>\n",
       "      <th>potassium</th>\n",
       "      <th>hemoglobin</th>\n",
       "      <th>wbc</th>\n",
       "      <th>hematocrit</th>\n",
       "      <th>platelet</th>\n",
       "      <th>ptt</th>\n",
       "      <th>ckd</th>\n",
       "      <th>ethnicity_grouped</th>\n",
       "      <th>ckd_ethnicity</th>\n",
       "    </tr>\n",
       "  </thead>\n",
       "  <tbody>\n",
       "    <tr>\n",
       "      <th>0</th>\n",
       "      <td>200017</td>\n",
       "      <td>2.6</td>\n",
       "      <td>2.0</td>\n",
       "      <td>125.000000</td>\n",
       "      <td>29.000000</td>\n",
       "      <td>1.000000</td>\n",
       "      <td>141.416667</td>\n",
       "      <td>5.066667</td>\n",
       "      <td>16.800000</td>\n",
       "      <td>5.200000</td>\n",
       "      <td>53.100000</td>\n",
       "      <td>267.000000</td>\n",
       "      <td>36.0</td>\n",
       "      <td>0</td>\n",
       "      <td>white</td>\n",
       "      <td>0white</td>\n",
       "    </tr>\n",
       "    <tr>\n",
       "      <th>1</th>\n",
       "      <td>200033</td>\n",
       "      <td>2.7</td>\n",
       "      <td>1.0</td>\n",
       "      <td>151.916667</td>\n",
       "      <td>15.833333</td>\n",
       "      <td>0.675000</td>\n",
       "      <td>135.916667</td>\n",
       "      <td>3.670833</td>\n",
       "      <td>12.729167</td>\n",
       "      <td>8.266667</td>\n",
       "      <td>36.725000</td>\n",
       "      <td>140.208333</td>\n",
       "      <td>25.1</td>\n",
       "      <td>0</td>\n",
       "      <td>white</td>\n",
       "      <td>0white</td>\n",
       "    </tr>\n",
       "    <tr>\n",
       "      <th>2</th>\n",
       "      <td>200037</td>\n",
       "      <td>2.6</td>\n",
       "      <td>2.0</td>\n",
       "      <td>125.000000</td>\n",
       "      <td>29.000000</td>\n",
       "      <td>1.000000</td>\n",
       "      <td>145.230769</td>\n",
       "      <td>5.484615</td>\n",
       "      <td>9.800000</td>\n",
       "      <td>11.500000</td>\n",
       "      <td>29.100000</td>\n",
       "      <td>212.000000</td>\n",
       "      <td>36.0</td>\n",
       "      <td>0</td>\n",
       "      <td>white</td>\n",
       "      <td>0white</td>\n",
       "    </tr>\n",
       "    <tr>\n",
       "      <th>3</th>\n",
       "      <td>200045</td>\n",
       "      <td>2.5</td>\n",
       "      <td>2.0</td>\n",
       "      <td>74.846154</td>\n",
       "      <td>23.923077</td>\n",
       "      <td>0.861538</td>\n",
       "      <td>147.461538</td>\n",
       "      <td>4.623077</td>\n",
       "      <td>10.369231</td>\n",
       "      <td>14.730769</td>\n",
       "      <td>31.300000</td>\n",
       "      <td>237.230769</td>\n",
       "      <td>26.5</td>\n",
       "      <td>0</td>\n",
       "      <td>white</td>\n",
       "      <td>0white</td>\n",
       "    </tr>\n",
       "    <tr>\n",
       "      <th>4</th>\n",
       "      <td>200046</td>\n",
       "      <td>2.6</td>\n",
       "      <td>2.0</td>\n",
       "      <td>125.000000</td>\n",
       "      <td>29.000000</td>\n",
       "      <td>1.000000</td>\n",
       "      <td>138.384615</td>\n",
       "      <td>5.023077</td>\n",
       "      <td>16.392308</td>\n",
       "      <td>3.403846</td>\n",
       "      <td>50.569231</td>\n",
       "      <td>263.307692</td>\n",
       "      <td>36.0</td>\n",
       "      <td>0</td>\n",
       "      <td>black</td>\n",
       "      <td>0black</td>\n",
       "    </tr>\n",
       "  </tbody>\n",
       "</table>\n",
       "</div>"
      ],
      "text/plain": [
       "   icustay_id  albumin  bacteria     glucose        bun  creatinine  \\\n",
       "0      200017      2.6       2.0  125.000000  29.000000    1.000000   \n",
       "1      200033      2.7       1.0  151.916667  15.833333    0.675000   \n",
       "2      200037      2.6       2.0  125.000000  29.000000    1.000000   \n",
       "3      200045      2.5       2.0   74.846154  23.923077    0.861538   \n",
       "4      200046      2.6       2.0  125.000000  29.000000    1.000000   \n",
       "\n",
       "       sodium  potassium  hemoglobin        wbc  hematocrit    platelet   ptt  \\\n",
       "0  141.416667   5.066667   16.800000   5.200000   53.100000  267.000000  36.0   \n",
       "1  135.916667   3.670833   12.729167   8.266667   36.725000  140.208333  25.1   \n",
       "2  145.230769   5.484615    9.800000  11.500000   29.100000  212.000000  36.0   \n",
       "3  147.461538   4.623077   10.369231  14.730769   31.300000  237.230769  26.5   \n",
       "4  138.384615   5.023077   16.392308   3.403846   50.569231  263.307692  36.0   \n",
       "\n",
       "   ckd ethnicity_grouped ckd_ethnicity  \n",
       "0    0             white        0white  \n",
       "1    0             white        0white  \n",
       "2    0             white        0white  \n",
       "3    0             white        0white  \n",
       "4    0             black        0black  "
      ]
     },
     "execution_count": 47,
     "metadata": {},
     "output_type": "execute_result"
    }
   ],
   "source": [
    "df_agg_labs.head()"
   ]
  },
  {
   "cell_type": "code",
   "execution_count": 48,
   "id": "5bfad31d",
   "metadata": {},
   "outputs": [
    {
     "data": {
      "text/plain": [
       "(8405, 14)"
      ]
     },
     "execution_count": 48,
     "metadata": {},
     "output_type": "execute_result"
    }
   ],
   "source": [
    "df_agg_vitals.shape"
   ]
  },
  {
   "cell_type": "code",
   "execution_count": 49,
   "id": "ff01a9b2",
   "metadata": {},
   "outputs": [
    {
     "data": {
      "text/plain": [
       "(8405, 16)"
      ]
     },
     "execution_count": 49,
     "metadata": {},
     "output_type": "execute_result"
    }
   ],
   "source": [
    "df_agg_labs.shape"
   ]
  },
  {
   "cell_type": "code",
   "execution_count": 50,
   "id": "36d04f5c",
   "metadata": {},
   "outputs": [
    {
     "data": {
      "text/plain": [
       "(8405, 29)"
      ]
     },
     "execution_count": 50,
     "metadata": {},
     "output_type": "execute_result"
    }
   ],
   "source": [
    "demographics_windowed.shape"
   ]
  },
  {
   "cell_type": "code",
   "execution_count": 51,
   "id": "e2efea9a",
   "metadata": {},
   "outputs": [
    {
     "name": "stdout",
     "output_type": "stream",
     "text": [
      "Vitals unique icustay id:  8405 \n",
      "Labs unique icustay id:  8405 \n",
      "Demographics unique icustay id:  8405\n"
     ]
    }
   ],
   "source": [
    "print(\"Vitals unique icustay id: \",len(df_agg_vitals['icustay_id'].unique()),\"\\nLabs unique icustay id: \",len(df_agg_labs['icustay_id'].unique()),\"\\nDemographics unique icustay id: \",len(demographics_windowed['icustay_id'].unique()))"
   ]
  },
  {
   "cell_type": "code",
   "execution_count": 52,
   "id": "8af492f5",
   "metadata": {},
   "outputs": [
    {
     "data": {
      "text/html": [
       "<div>\n",
       "<style scoped>\n",
       "    .dataframe tbody tr th:only-of-type {\n",
       "        vertical-align: middle;\n",
       "    }\n",
       "\n",
       "    .dataframe tbody tr th {\n",
       "        vertical-align: top;\n",
       "    }\n",
       "\n",
       "    .dataframe thead th {\n",
       "        text-align: right;\n",
       "    }\n",
       "</style>\n",
       "<table border=\"1\" class=\"dataframe\">\n",
       "  <thead>\n",
       "    <tr style=\"text-align: right;\">\n",
       "      <th></th>\n",
       "      <th>icustay_id</th>\n",
       "      <th>heartrate</th>\n",
       "      <th>sysbp</th>\n",
       "      <th>diasbp</th>\n",
       "      <th>meanbp</th>\n",
       "      <th>resprate</th>\n",
       "      <th>tempc</th>\n",
       "      <th>spo2</th>\n",
       "      <th>specificgravity</th>\n",
       "      <th>pedaledema</th>\n",
       "      <th>appetite_median</th>\n",
       "      <th>ckd</th>\n",
       "      <th>ethnicity_grouped</th>\n",
       "      <th>ckd_ethnicity</th>\n",
       "    </tr>\n",
       "  </thead>\n",
       "  <tbody>\n",
       "    <tr>\n",
       "      <th>0</th>\n",
       "      <td>200017</td>\n",
       "      <td>155.052083</td>\n",
       "      <td>120.000000</td>\n",
       "      <td>58.500000</td>\n",
       "      <td>78.000000</td>\n",
       "      <td>20.500000</td>\n",
       "      <td>37.111111</td>\n",
       "      <td>98.000000</td>\n",
       "      <td>1.02</td>\n",
       "      <td>NaN</td>\n",
       "      <td>3.0</td>\n",
       "      <td>0</td>\n",
       "      <td>white</td>\n",
       "      <td>0white</td>\n",
       "    </tr>\n",
       "    <tr>\n",
       "      <th>1</th>\n",
       "      <td>200033</td>\n",
       "      <td>79.126316</td>\n",
       "      <td>122.147368</td>\n",
       "      <td>71.007895</td>\n",
       "      <td>87.844737</td>\n",
       "      <td>17.113158</td>\n",
       "      <td>36.819298</td>\n",
       "      <td>96.394737</td>\n",
       "      <td>1.02</td>\n",
       "      <td>NaN</td>\n",
       "      <td>2.0</td>\n",
       "      <td>0</td>\n",
       "      <td>white</td>\n",
       "      <td>0white</td>\n",
       "    </tr>\n",
       "    <tr>\n",
       "      <th>2</th>\n",
       "      <td>200037</td>\n",
       "      <td>142.943878</td>\n",
       "      <td>120.000000</td>\n",
       "      <td>58.500000</td>\n",
       "      <td>78.000000</td>\n",
       "      <td>20.500000</td>\n",
       "      <td>37.111111</td>\n",
       "      <td>98.000000</td>\n",
       "      <td>1.02</td>\n",
       "      <td>NaN</td>\n",
       "      <td>3.0</td>\n",
       "      <td>0</td>\n",
       "      <td>white</td>\n",
       "      <td>0white</td>\n",
       "    </tr>\n",
       "    <tr>\n",
       "      <th>3</th>\n",
       "      <td>200045</td>\n",
       "      <td>87.118557</td>\n",
       "      <td>129.762887</td>\n",
       "      <td>47.337629</td>\n",
       "      <td>75.811860</td>\n",
       "      <td>21.729381</td>\n",
       "      <td>36.797824</td>\n",
       "      <td>98.525773</td>\n",
       "      <td>1.02</td>\n",
       "      <td>NaN</td>\n",
       "      <td>3.0</td>\n",
       "      <td>0</td>\n",
       "      <td>white</td>\n",
       "      <td>0white</td>\n",
       "    </tr>\n",
       "    <tr>\n",
       "      <th>4</th>\n",
       "      <td>200046</td>\n",
       "      <td>147.221649</td>\n",
       "      <td>120.000000</td>\n",
       "      <td>58.500000</td>\n",
       "      <td>78.000000</td>\n",
       "      <td>20.500000</td>\n",
       "      <td>37.111111</td>\n",
       "      <td>98.000000</td>\n",
       "      <td>1.02</td>\n",
       "      <td>NaN</td>\n",
       "      <td>3.0</td>\n",
       "      <td>0</td>\n",
       "      <td>black</td>\n",
       "      <td>0black</td>\n",
       "    </tr>\n",
       "  </tbody>\n",
       "</table>\n",
       "</div>"
      ],
      "text/plain": [
       "   icustay_id   heartrate       sysbp     diasbp     meanbp   resprate  \\\n",
       "0      200017  155.052083  120.000000  58.500000  78.000000  20.500000   \n",
       "1      200033   79.126316  122.147368  71.007895  87.844737  17.113158   \n",
       "2      200037  142.943878  120.000000  58.500000  78.000000  20.500000   \n",
       "3      200045   87.118557  129.762887  47.337629  75.811860  21.729381   \n",
       "4      200046  147.221649  120.000000  58.500000  78.000000  20.500000   \n",
       "\n",
       "       tempc       spo2  specificgravity  pedaledema  appetite_median  ckd  \\\n",
       "0  37.111111  98.000000             1.02         NaN              3.0    0   \n",
       "1  36.819298  96.394737             1.02         NaN              2.0    0   \n",
       "2  37.111111  98.000000             1.02         NaN              3.0    0   \n",
       "3  36.797824  98.525773             1.02         NaN              3.0    0   \n",
       "4  37.111111  98.000000             1.02         NaN              3.0    0   \n",
       "\n",
       "  ethnicity_grouped ckd_ethnicity  \n",
       "0             white        0white  \n",
       "1             white        0white  \n",
       "2             white        0white  \n",
       "3             white        0white  \n",
       "4             black        0black  "
      ]
     },
     "execution_count": 52,
     "metadata": {},
     "output_type": "execute_result"
    }
   ],
   "source": [
    "df_agg_vitals.head()"
   ]
  },
  {
   "cell_type": "code",
   "execution_count": 53,
   "id": "5424dadd",
   "metadata": {},
   "outputs": [],
   "source": [
    "df_agg_vitals_new=df_agg_vitals.drop(['ckd','ethnicity_grouped','ckd_ethnicity'],axis=1)"
   ]
  },
  {
   "cell_type": "code",
   "execution_count": 54,
   "id": "07f30278",
   "metadata": {},
   "outputs": [],
   "source": [
    "df_agg_labs_new=df_agg_labs.drop(['ckd','ethnicity_grouped'],axis=1)"
   ]
  },
  {
   "cell_type": "code",
   "execution_count": 55,
   "id": "9e800492",
   "metadata": {},
   "outputs": [
    {
     "data": {
      "text/html": [
       "<div>\n",
       "<style scoped>\n",
       "    .dataframe tbody tr th:only-of-type {\n",
       "        vertical-align: middle;\n",
       "    }\n",
       "\n",
       "    .dataframe tbody tr th {\n",
       "        vertical-align: top;\n",
       "    }\n",
       "\n",
       "    .dataframe thead th {\n",
       "        text-align: right;\n",
       "    }\n",
       "</style>\n",
       "<table border=\"1\" class=\"dataframe\">\n",
       "  <thead>\n",
       "    <tr style=\"text-align: right;\">\n",
       "      <th></th>\n",
       "      <th>icustay_id</th>\n",
       "      <th>heartrate</th>\n",
       "      <th>sysbp</th>\n",
       "      <th>diasbp</th>\n",
       "      <th>meanbp</th>\n",
       "      <th>resprate</th>\n",
       "      <th>tempc</th>\n",
       "      <th>spo2</th>\n",
       "      <th>specificgravity</th>\n",
       "      <th>pedaledema</th>\n",
       "      <th>appetite_median</th>\n",
       "    </tr>\n",
       "  </thead>\n",
       "  <tbody>\n",
       "    <tr>\n",
       "      <th>0</th>\n",
       "      <td>200017</td>\n",
       "      <td>155.052083</td>\n",
       "      <td>120.000000</td>\n",
       "      <td>58.500000</td>\n",
       "      <td>78.000000</td>\n",
       "      <td>20.500000</td>\n",
       "      <td>37.111111</td>\n",
       "      <td>98.000000</td>\n",
       "      <td>1.02</td>\n",
       "      <td>NaN</td>\n",
       "      <td>3.0</td>\n",
       "    </tr>\n",
       "    <tr>\n",
       "      <th>1</th>\n",
       "      <td>200033</td>\n",
       "      <td>79.126316</td>\n",
       "      <td>122.147368</td>\n",
       "      <td>71.007895</td>\n",
       "      <td>87.844737</td>\n",
       "      <td>17.113158</td>\n",
       "      <td>36.819298</td>\n",
       "      <td>96.394737</td>\n",
       "      <td>1.02</td>\n",
       "      <td>NaN</td>\n",
       "      <td>2.0</td>\n",
       "    </tr>\n",
       "    <tr>\n",
       "      <th>2</th>\n",
       "      <td>200037</td>\n",
       "      <td>142.943878</td>\n",
       "      <td>120.000000</td>\n",
       "      <td>58.500000</td>\n",
       "      <td>78.000000</td>\n",
       "      <td>20.500000</td>\n",
       "      <td>37.111111</td>\n",
       "      <td>98.000000</td>\n",
       "      <td>1.02</td>\n",
       "      <td>NaN</td>\n",
       "      <td>3.0</td>\n",
       "    </tr>\n",
       "    <tr>\n",
       "      <th>3</th>\n",
       "      <td>200045</td>\n",
       "      <td>87.118557</td>\n",
       "      <td>129.762887</td>\n",
       "      <td>47.337629</td>\n",
       "      <td>75.811860</td>\n",
       "      <td>21.729381</td>\n",
       "      <td>36.797824</td>\n",
       "      <td>98.525773</td>\n",
       "      <td>1.02</td>\n",
       "      <td>NaN</td>\n",
       "      <td>3.0</td>\n",
       "    </tr>\n",
       "    <tr>\n",
       "      <th>4</th>\n",
       "      <td>200046</td>\n",
       "      <td>147.221649</td>\n",
       "      <td>120.000000</td>\n",
       "      <td>58.500000</td>\n",
       "      <td>78.000000</td>\n",
       "      <td>20.500000</td>\n",
       "      <td>37.111111</td>\n",
       "      <td>98.000000</td>\n",
       "      <td>1.02</td>\n",
       "      <td>NaN</td>\n",
       "      <td>3.0</td>\n",
       "    </tr>\n",
       "  </tbody>\n",
       "</table>\n",
       "</div>"
      ],
      "text/plain": [
       "   icustay_id   heartrate       sysbp     diasbp     meanbp   resprate  \\\n",
       "0      200017  155.052083  120.000000  58.500000  78.000000  20.500000   \n",
       "1      200033   79.126316  122.147368  71.007895  87.844737  17.113158   \n",
       "2      200037  142.943878  120.000000  58.500000  78.000000  20.500000   \n",
       "3      200045   87.118557  129.762887  47.337629  75.811860  21.729381   \n",
       "4      200046  147.221649  120.000000  58.500000  78.000000  20.500000   \n",
       "\n",
       "       tempc       spo2  specificgravity  pedaledema  appetite_median  \n",
       "0  37.111111  98.000000             1.02         NaN              3.0  \n",
       "1  36.819298  96.394737             1.02         NaN              2.0  \n",
       "2  37.111111  98.000000             1.02         NaN              3.0  \n",
       "3  36.797824  98.525773             1.02         NaN              3.0  \n",
       "4  37.111111  98.000000             1.02         NaN              3.0  "
      ]
     },
     "execution_count": 55,
     "metadata": {},
     "output_type": "execute_result"
    }
   ],
   "source": [
    "df_agg_vitals_new.head()"
   ]
  },
  {
   "cell_type": "code",
   "execution_count": 56,
   "id": "e593e177",
   "metadata": {},
   "outputs": [
    {
     "data": {
      "text/html": [
       "<div>\n",
       "<style scoped>\n",
       "    .dataframe tbody tr th:only-of-type {\n",
       "        vertical-align: middle;\n",
       "    }\n",
       "\n",
       "    .dataframe tbody tr th {\n",
       "        vertical-align: top;\n",
       "    }\n",
       "\n",
       "    .dataframe thead th {\n",
       "        text-align: right;\n",
       "    }\n",
       "</style>\n",
       "<table border=\"1\" class=\"dataframe\">\n",
       "  <thead>\n",
       "    <tr style=\"text-align: right;\">\n",
       "      <th></th>\n",
       "      <th>icustay_id</th>\n",
       "      <th>albumin</th>\n",
       "      <th>bacteria</th>\n",
       "      <th>glucose</th>\n",
       "      <th>bun</th>\n",
       "      <th>creatinine</th>\n",
       "      <th>sodium</th>\n",
       "      <th>potassium</th>\n",
       "      <th>hemoglobin</th>\n",
       "      <th>wbc</th>\n",
       "      <th>hematocrit</th>\n",
       "      <th>platelet</th>\n",
       "      <th>ptt</th>\n",
       "      <th>ckd_ethnicity</th>\n",
       "    </tr>\n",
       "  </thead>\n",
       "  <tbody>\n",
       "    <tr>\n",
       "      <th>0</th>\n",
       "      <td>200017</td>\n",
       "      <td>2.6</td>\n",
       "      <td>2.0</td>\n",
       "      <td>125.000000</td>\n",
       "      <td>29.000000</td>\n",
       "      <td>1.000000</td>\n",
       "      <td>141.416667</td>\n",
       "      <td>5.066667</td>\n",
       "      <td>16.800000</td>\n",
       "      <td>5.200000</td>\n",
       "      <td>53.100000</td>\n",
       "      <td>267.000000</td>\n",
       "      <td>36.0</td>\n",
       "      <td>0white</td>\n",
       "    </tr>\n",
       "    <tr>\n",
       "      <th>1</th>\n",
       "      <td>200033</td>\n",
       "      <td>2.7</td>\n",
       "      <td>1.0</td>\n",
       "      <td>151.916667</td>\n",
       "      <td>15.833333</td>\n",
       "      <td>0.675000</td>\n",
       "      <td>135.916667</td>\n",
       "      <td>3.670833</td>\n",
       "      <td>12.729167</td>\n",
       "      <td>8.266667</td>\n",
       "      <td>36.725000</td>\n",
       "      <td>140.208333</td>\n",
       "      <td>25.1</td>\n",
       "      <td>0white</td>\n",
       "    </tr>\n",
       "    <tr>\n",
       "      <th>2</th>\n",
       "      <td>200037</td>\n",
       "      <td>2.6</td>\n",
       "      <td>2.0</td>\n",
       "      <td>125.000000</td>\n",
       "      <td>29.000000</td>\n",
       "      <td>1.000000</td>\n",
       "      <td>145.230769</td>\n",
       "      <td>5.484615</td>\n",
       "      <td>9.800000</td>\n",
       "      <td>11.500000</td>\n",
       "      <td>29.100000</td>\n",
       "      <td>212.000000</td>\n",
       "      <td>36.0</td>\n",
       "      <td>0white</td>\n",
       "    </tr>\n",
       "    <tr>\n",
       "      <th>3</th>\n",
       "      <td>200045</td>\n",
       "      <td>2.5</td>\n",
       "      <td>2.0</td>\n",
       "      <td>74.846154</td>\n",
       "      <td>23.923077</td>\n",
       "      <td>0.861538</td>\n",
       "      <td>147.461538</td>\n",
       "      <td>4.623077</td>\n",
       "      <td>10.369231</td>\n",
       "      <td>14.730769</td>\n",
       "      <td>31.300000</td>\n",
       "      <td>237.230769</td>\n",
       "      <td>26.5</td>\n",
       "      <td>0white</td>\n",
       "    </tr>\n",
       "    <tr>\n",
       "      <th>4</th>\n",
       "      <td>200046</td>\n",
       "      <td>2.6</td>\n",
       "      <td>2.0</td>\n",
       "      <td>125.000000</td>\n",
       "      <td>29.000000</td>\n",
       "      <td>1.000000</td>\n",
       "      <td>138.384615</td>\n",
       "      <td>5.023077</td>\n",
       "      <td>16.392308</td>\n",
       "      <td>3.403846</td>\n",
       "      <td>50.569231</td>\n",
       "      <td>263.307692</td>\n",
       "      <td>36.0</td>\n",
       "      <td>0black</td>\n",
       "    </tr>\n",
       "  </tbody>\n",
       "</table>\n",
       "</div>"
      ],
      "text/plain": [
       "   icustay_id  albumin  bacteria     glucose        bun  creatinine  \\\n",
       "0      200017      2.6       2.0  125.000000  29.000000    1.000000   \n",
       "1      200033      2.7       1.0  151.916667  15.833333    0.675000   \n",
       "2      200037      2.6       2.0  125.000000  29.000000    1.000000   \n",
       "3      200045      2.5       2.0   74.846154  23.923077    0.861538   \n",
       "4      200046      2.6       2.0  125.000000  29.000000    1.000000   \n",
       "\n",
       "       sodium  potassium  hemoglobin        wbc  hematocrit    platelet   ptt  \\\n",
       "0  141.416667   5.066667   16.800000   5.200000   53.100000  267.000000  36.0   \n",
       "1  135.916667   3.670833   12.729167   8.266667   36.725000  140.208333  25.1   \n",
       "2  145.230769   5.484615    9.800000  11.500000   29.100000  212.000000  36.0   \n",
       "3  147.461538   4.623077   10.369231  14.730769   31.300000  237.230769  26.5   \n",
       "4  138.384615   5.023077   16.392308   3.403846   50.569231  263.307692  36.0   \n",
       "\n",
       "  ckd_ethnicity  \n",
       "0        0white  \n",
       "1        0white  \n",
       "2        0white  \n",
       "3        0white  \n",
       "4        0black  "
      ]
     },
     "execution_count": 56,
     "metadata": {},
     "output_type": "execute_result"
    }
   ],
   "source": [
    "df_agg_labs_new.head()"
   ]
  },
  {
   "cell_type": "markdown",
   "id": "009483eb",
   "metadata": {},
   "source": [
    "#### Merging all 3 tables together"
   ]
  },
  {
   "cell_type": "code",
   "execution_count": 57,
   "id": "89636679",
   "metadata": {},
   "outputs": [],
   "source": [
    "merged_table = df_agg_labs_new.merge(df_agg_vitals_new, on='icustay_id', how='inner').merge(demographics_windowed, on='icustay_id', how='inner')"
   ]
  },
  {
   "cell_type": "code",
   "execution_count": 58,
   "id": "1dd4f3b7",
   "metadata": {},
   "outputs": [
    {
     "data": {
      "text/plain": [
       "Index(['icustay_id', 'albumin', 'bacteria', 'glucose', 'bun', 'creatinine',\n",
       "       'sodium', 'potassium', 'hemoglobin', 'wbc', 'hematocrit', 'platelet',\n",
       "       'ptt', 'ckd_ethnicity', 'heartrate', 'sysbp', 'diasbp', 'meanbp',\n",
       "       'resprate', 'tempc', 'spo2', 'specificgravity', 'pedaledema',\n",
       "       'appetite_median', 'subject_id', 'hadm_id', 'gender', 'dod',\n",
       "       'admittime', 'dischtime', 'los_hospital', 'admission_age', 'ethnicity',\n",
       "       'ethnicity_grouped', 'hospital_expire_flag', 'hospstay_seq',\n",
       "       'first_hosp_stay', 'intime', 'outtime', 'los_icu', 'icustay_seq',\n",
       "       'first_icu_stay_current_hosp', 'first_icu_stay_patient',\n",
       "       'first_careunit', 'deathtime_icu', 'label_death_icu', 'label_cor_art',\n",
       "       'diabetes_mellitus', 'ckd', 'anemia_flag', 'predtime', 'delta_t_pred'],\n",
       "      dtype='object')"
      ]
     },
     "execution_count": 58,
     "metadata": {},
     "output_type": "execute_result"
    }
   ],
   "source": [
    "merged_table.columns"
   ]
  },
  {
   "cell_type": "code",
   "execution_count": 59,
   "id": "3812f0cb",
   "metadata": {},
   "outputs": [
    {
     "data": {
      "text/html": [
       "<div>\n",
       "<style scoped>\n",
       "    .dataframe tbody tr th:only-of-type {\n",
       "        vertical-align: middle;\n",
       "    }\n",
       "\n",
       "    .dataframe tbody tr th {\n",
       "        vertical-align: top;\n",
       "    }\n",
       "\n",
       "    .dataframe thead th {\n",
       "        text-align: right;\n",
       "    }\n",
       "</style>\n",
       "<table border=\"1\" class=\"dataframe\">\n",
       "  <thead>\n",
       "    <tr style=\"text-align: right;\">\n",
       "      <th></th>\n",
       "      <th>icustay_id</th>\n",
       "      <th>albumin</th>\n",
       "      <th>bacteria</th>\n",
       "      <th>glucose</th>\n",
       "      <th>bun</th>\n",
       "      <th>creatinine</th>\n",
       "      <th>sodium</th>\n",
       "      <th>potassium</th>\n",
       "      <th>hemoglobin</th>\n",
       "      <th>wbc</th>\n",
       "      <th>...</th>\n",
       "      <th>first_icu_stay_patient</th>\n",
       "      <th>first_careunit</th>\n",
       "      <th>deathtime_icu</th>\n",
       "      <th>label_death_icu</th>\n",
       "      <th>label_cor_art</th>\n",
       "      <th>diabetes_mellitus</th>\n",
       "      <th>ckd</th>\n",
       "      <th>anemia_flag</th>\n",
       "      <th>predtime</th>\n",
       "      <th>delta_t_pred</th>\n",
       "    </tr>\n",
       "  </thead>\n",
       "  <tbody>\n",
       "    <tr>\n",
       "      <th>0</th>\n",
       "      <td>200017</td>\n",
       "      <td>2.6</td>\n",
       "      <td>2.0</td>\n",
       "      <td>125.000000</td>\n",
       "      <td>29.000000</td>\n",
       "      <td>1.000000</td>\n",
       "      <td>141.416667</td>\n",
       "      <td>5.066667</td>\n",
       "      <td>16.800000</td>\n",
       "      <td>5.200000</td>\n",
       "      <td>...</td>\n",
       "      <td>True</td>\n",
       "      <td>NICU</td>\n",
       "      <td>NaT</td>\n",
       "      <td>0</td>\n",
       "      <td>0</td>\n",
       "      <td>0</td>\n",
       "      <td>0</td>\n",
       "      <td>0</td>\n",
       "      <td>2138-03-21 21:54:36</td>\n",
       "      <td>53 days 19:18:05</td>\n",
       "    </tr>\n",
       "    <tr>\n",
       "      <th>1</th>\n",
       "      <td>200033</td>\n",
       "      <td>2.7</td>\n",
       "      <td>1.0</td>\n",
       "      <td>151.916667</td>\n",
       "      <td>15.833333</td>\n",
       "      <td>0.675000</td>\n",
       "      <td>135.916667</td>\n",
       "      <td>3.670833</td>\n",
       "      <td>12.729167</td>\n",
       "      <td>8.266667</td>\n",
       "      <td>...</td>\n",
       "      <td>True</td>\n",
       "      <td>SICU</td>\n",
       "      <td>2198-08-21 11:15:00</td>\n",
       "      <td>1</td>\n",
       "      <td>0</td>\n",
       "      <td>1</td>\n",
       "      <td>0</td>\n",
       "      <td>0</td>\n",
       "      <td>2198-08-11 17:56:17</td>\n",
       "      <td>9 days 21:03:01</td>\n",
       "    </tr>\n",
       "    <tr>\n",
       "      <th>2</th>\n",
       "      <td>200037</td>\n",
       "      <td>2.6</td>\n",
       "      <td>2.0</td>\n",
       "      <td>125.000000</td>\n",
       "      <td>29.000000</td>\n",
       "      <td>1.000000</td>\n",
       "      <td>145.230769</td>\n",
       "      <td>5.484615</td>\n",
       "      <td>9.800000</td>\n",
       "      <td>11.500000</td>\n",
       "      <td>...</td>\n",
       "      <td>True</td>\n",
       "      <td>NICU</td>\n",
       "      <td>NaT</td>\n",
       "      <td>0</td>\n",
       "      <td>0</td>\n",
       "      <td>0</td>\n",
       "      <td>0</td>\n",
       "      <td>0</td>\n",
       "      <td>2141-08-11 09:29:48</td>\n",
       "      <td>14 days 07:47:08</td>\n",
       "    </tr>\n",
       "    <tr>\n",
       "      <th>3</th>\n",
       "      <td>200045</td>\n",
       "      <td>2.5</td>\n",
       "      <td>2.0</td>\n",
       "      <td>74.846154</td>\n",
       "      <td>23.923077</td>\n",
       "      <td>0.861538</td>\n",
       "      <td>147.461538</td>\n",
       "      <td>4.623077</td>\n",
       "      <td>10.369231</td>\n",
       "      <td>14.730769</td>\n",
       "      <td>...</td>\n",
       "      <td>False</td>\n",
       "      <td>SICU</td>\n",
       "      <td>NaT</td>\n",
       "      <td>0</td>\n",
       "      <td>0</td>\n",
       "      <td>1</td>\n",
       "      <td>0</td>\n",
       "      <td>0</td>\n",
       "      <td>2116-07-14 15:40:58</td>\n",
       "      <td>16 days 00:56:02</td>\n",
       "    </tr>\n",
       "    <tr>\n",
       "      <th>4</th>\n",
       "      <td>200046</td>\n",
       "      <td>2.6</td>\n",
       "      <td>2.0</td>\n",
       "      <td>125.000000</td>\n",
       "      <td>29.000000</td>\n",
       "      <td>1.000000</td>\n",
       "      <td>138.384615</td>\n",
       "      <td>5.023077</td>\n",
       "      <td>16.392308</td>\n",
       "      <td>3.403846</td>\n",
       "      <td>...</td>\n",
       "      <td>True</td>\n",
       "      <td>NICU</td>\n",
       "      <td>NaT</td>\n",
       "      <td>0</td>\n",
       "      <td>0</td>\n",
       "      <td>0</td>\n",
       "      <td>0</td>\n",
       "      <td>0</td>\n",
       "      <td>2154-05-05 15:52:33</td>\n",
       "      <td>82 days 03:21:51</td>\n",
       "    </tr>\n",
       "  </tbody>\n",
       "</table>\n",
       "<p>5 rows × 52 columns</p>\n",
       "</div>"
      ],
      "text/plain": [
       "   icustay_id  albumin  bacteria     glucose        bun  creatinine  \\\n",
       "0      200017      2.6       2.0  125.000000  29.000000    1.000000   \n",
       "1      200033      2.7       1.0  151.916667  15.833333    0.675000   \n",
       "2      200037      2.6       2.0  125.000000  29.000000    1.000000   \n",
       "3      200045      2.5       2.0   74.846154  23.923077    0.861538   \n",
       "4      200046      2.6       2.0  125.000000  29.000000    1.000000   \n",
       "\n",
       "       sodium  potassium  hemoglobin        wbc  ...  first_icu_stay_patient  \\\n",
       "0  141.416667   5.066667   16.800000   5.200000  ...                    True   \n",
       "1  135.916667   3.670833   12.729167   8.266667  ...                    True   \n",
       "2  145.230769   5.484615    9.800000  11.500000  ...                    True   \n",
       "3  147.461538   4.623077   10.369231  14.730769  ...                   False   \n",
       "4  138.384615   5.023077   16.392308   3.403846  ...                    True   \n",
       "\n",
       "   first_careunit       deathtime_icu label_death_icu  label_cor_art  \\\n",
       "0            NICU                 NaT               0              0   \n",
       "1            SICU 2198-08-21 11:15:00               1              0   \n",
       "2            NICU                 NaT               0              0   \n",
       "3            SICU                 NaT               0              0   \n",
       "4            NICU                 NaT               0              0   \n",
       "\n",
       "   diabetes_mellitus  ckd  anemia_flag            predtime     delta_t_pred  \n",
       "0                  0    0            0 2138-03-21 21:54:36 53 days 19:18:05  \n",
       "1                  1    0            0 2198-08-11 17:56:17  9 days 21:03:01  \n",
       "2                  0    0            0 2141-08-11 09:29:48 14 days 07:47:08  \n",
       "3                  1    0            0 2116-07-14 15:40:58 16 days 00:56:02  \n",
       "4                  0    0            0 2154-05-05 15:52:33 82 days 03:21:51  \n",
       "\n",
       "[5 rows x 52 columns]"
      ]
     },
     "execution_count": 59,
     "metadata": {},
     "output_type": "execute_result"
    }
   ],
   "source": [
    "merged_table.head()"
   ]
  },
  {
   "cell_type": "code",
   "execution_count": 60,
   "id": "d4f2a82b",
   "metadata": {},
   "outputs": [
    {
     "name": "stdout",
     "output_type": "stream",
     "text": [
      "Number of unique icustay_id:  8405\n",
      "Number of CKD vitals:\n",
      "0    7868\n",
      "1     537\n",
      "Name: ckd, dtype: int64\n"
     ]
    }
   ],
   "source": [
    "print(\"Number of unique icustay_id: \",merged_table['icustay_id'].nunique())\n",
    "print(\"Number of CKD vitals:\")\n",
    "dd = merged_table[['icustay_id','ckd']].drop_duplicates(subset=['icustay_id'])\n",
    "print(dd['ckd'].value_counts())"
   ]
  },
  {
   "cell_type": "markdown",
   "id": "f3e31569",
   "metadata": {},
   "source": [
    "#### keeping records that have exactly WINDOW_LENGTH data in both labs and vitals"
   ]
  },
  {
   "cell_type": "code",
   "execution_count": 61,
   "id": "f4ac0655",
   "metadata": {},
   "outputs": [
    {
     "name": "stdout",
     "output_type": "stream",
     "text": [
      "3038\n"
     ]
    }
   ],
   "source": [
    "# Calculate the difference between max and min charttime for labs_windowed\n",
    "labs_diff = labs_windowed.groupby('icustay_id')['charttime'].apply(lambda x: x.max() - x.min())\n",
    "\n",
    "# Calculate the difference between max and min charttime for vitals_windowed\n",
    "vitals_diff = vitals_windowed.groupby('icustay_id')['charttime'].apply(lambda x: x.max() - x.min())\n",
    "\n",
    "# Filter the icustay_id where the difference is grater than or equal to Window_length in both labs and vitals\n",
    "filtered_icustay_ids = labs_diff[(labs_diff == pd.Timedelta(hours=WINDOW_LENGTH)) & (vitals_diff == pd.Timedelta(hours=WINDOW_LENGTH))].index.tolist()\n",
    "\n",
    "# Print the length of icustay_id\n",
    "print(len(filtered_icustay_ids))"
   ]
  },
  {
   "cell_type": "code",
   "execution_count": 62,
   "id": "b968ca7b",
   "metadata": {},
   "outputs": [],
   "source": [
    "merged_table= merged_table[merged_table['icustay_id'].isin(filtered_icustay_ids)]"
   ]
  },
  {
   "cell_type": "code",
   "execution_count": 63,
   "id": "23a6934c",
   "metadata": {},
   "outputs": [
    {
     "data": {
      "text/plain": [
       "(3038, 52)"
      ]
     },
     "execution_count": 63,
     "metadata": {},
     "output_type": "execute_result"
    }
   ],
   "source": [
    "merged_table.shape"
   ]
  },
  {
   "cell_type": "code",
   "execution_count": 64,
   "id": "b088d4be",
   "metadata": {},
   "outputs": [
    {
     "data": {
      "text/plain": [
       "0    2882\n",
       "1     156\n",
       "Name: ckd, dtype: int64"
      ]
     },
     "execution_count": 64,
     "metadata": {},
     "output_type": "execute_result"
    }
   ],
   "source": [
    "merged_table['ckd'].value_counts()"
   ]
  },
  {
   "cell_type": "code",
   "execution_count": 65,
   "id": "c442a308",
   "metadata": {},
   "outputs": [
    {
     "data": {
      "text/plain": [
       "Index(['icustay_id', 'albumin', 'bacteria', 'glucose', 'bun', 'creatinine',\n",
       "       'sodium', 'potassium', 'hemoglobin', 'wbc', 'hematocrit', 'platelet',\n",
       "       'ptt', 'ckd_ethnicity', 'heartrate', 'sysbp', 'diasbp', 'meanbp',\n",
       "       'resprate', 'tempc', 'spo2', 'specificgravity', 'pedaledema',\n",
       "       'appetite_median', 'subject_id', 'hadm_id', 'gender', 'dod',\n",
       "       'admittime', 'dischtime', 'los_hospital', 'admission_age', 'ethnicity',\n",
       "       'ethnicity_grouped', 'hospital_expire_flag', 'hospstay_seq',\n",
       "       'first_hosp_stay', 'intime', 'outtime', 'los_icu', 'icustay_seq',\n",
       "       'first_icu_stay_current_hosp', 'first_icu_stay_patient',\n",
       "       'first_careunit', 'deathtime_icu', 'label_death_icu', 'label_cor_art',\n",
       "       'diabetes_mellitus', 'ckd', 'anemia_flag', 'predtime', 'delta_t_pred'],\n",
       "      dtype='object')"
      ]
     },
     "execution_count": 65,
     "metadata": {},
     "output_type": "execute_result"
    }
   ],
   "source": [
    "merged_table.columns"
   ]
  },
  {
   "cell_type": "markdown",
   "id": "43cdea11",
   "metadata": {},
   "source": [
    "#### Dropping other irrelevent columns"
   ]
  },
  {
   "cell_type": "code",
   "execution_count": 66,
   "id": "1e5ed099",
   "metadata": {},
   "outputs": [],
   "source": [
    "merged_table=merged_table.drop(['subject_id','hadm_id','dod','admittime', 'dischtime','los_hospital','ethnicity','hospital_expire_flag','hospstay_seq', 'first_hosp_stay', 'intime','outtime', 'los_icu', 'icustay_seq', 'first_icu_stay_current_hosp','first_icu_stay_patient', 'first_careunit', 'deathtime_icu','label_death_icu', 'predtime', 'delta_t_pred'],axis=1)"
   ]
  },
  {
   "cell_type": "code",
   "execution_count": 67,
   "id": "429b2026",
   "metadata": {},
   "outputs": [
    {
     "data": {
      "text/html": [
       "<div>\n",
       "<style scoped>\n",
       "    .dataframe tbody tr th:only-of-type {\n",
       "        vertical-align: middle;\n",
       "    }\n",
       "\n",
       "    .dataframe tbody tr th {\n",
       "        vertical-align: top;\n",
       "    }\n",
       "\n",
       "    .dataframe thead th {\n",
       "        text-align: right;\n",
       "    }\n",
       "</style>\n",
       "<table border=\"1\" class=\"dataframe\">\n",
       "  <thead>\n",
       "    <tr style=\"text-align: right;\">\n",
       "      <th></th>\n",
       "      <th>icustay_id</th>\n",
       "      <th>albumin</th>\n",
       "      <th>bacteria</th>\n",
       "      <th>glucose</th>\n",
       "      <th>bun</th>\n",
       "      <th>creatinine</th>\n",
       "      <th>sodium</th>\n",
       "      <th>potassium</th>\n",
       "      <th>hemoglobin</th>\n",
       "      <th>wbc</th>\n",
       "      <th>...</th>\n",
       "      <th>specificgravity</th>\n",
       "      <th>pedaledema</th>\n",
       "      <th>appetite_median</th>\n",
       "      <th>gender</th>\n",
       "      <th>admission_age</th>\n",
       "      <th>ethnicity_grouped</th>\n",
       "      <th>label_cor_art</th>\n",
       "      <th>diabetes_mellitus</th>\n",
       "      <th>ckd</th>\n",
       "      <th>anemia_flag</th>\n",
       "    </tr>\n",
       "  </thead>\n",
       "  <tbody>\n",
       "    <tr>\n",
       "      <th>3</th>\n",
       "      <td>200045</td>\n",
       "      <td>2.500000</td>\n",
       "      <td>2.0</td>\n",
       "      <td>74.846154</td>\n",
       "      <td>23.923077</td>\n",
       "      <td>0.861538</td>\n",
       "      <td>147.461538</td>\n",
       "      <td>4.623077</td>\n",
       "      <td>10.369231</td>\n",
       "      <td>14.730769</td>\n",
       "      <td>...</td>\n",
       "      <td>1.02</td>\n",
       "      <td>NaN</td>\n",
       "      <td>3.0</td>\n",
       "      <td>F</td>\n",
       "      <td>73.941807</td>\n",
       "      <td>white</td>\n",
       "      <td>0</td>\n",
       "      <td>1</td>\n",
       "      <td>0</td>\n",
       "      <td>0</td>\n",
       "    </tr>\n",
       "    <tr>\n",
       "      <th>4</th>\n",
       "      <td>200046</td>\n",
       "      <td>2.600000</td>\n",
       "      <td>2.0</td>\n",
       "      <td>125.000000</td>\n",
       "      <td>29.000000</td>\n",
       "      <td>1.000000</td>\n",
       "      <td>138.384615</td>\n",
       "      <td>5.023077</td>\n",
       "      <td>16.392308</td>\n",
       "      <td>3.403846</td>\n",
       "      <td>...</td>\n",
       "      <td>1.02</td>\n",
       "      <td>NaN</td>\n",
       "      <td>3.0</td>\n",
       "      <td>F</td>\n",
       "      <td>0.001811</td>\n",
       "      <td>black</td>\n",
       "      <td>0</td>\n",
       "      <td>0</td>\n",
       "      <td>0</td>\n",
       "      <td>0</td>\n",
       "    </tr>\n",
       "    <tr>\n",
       "      <th>8</th>\n",
       "      <td>200065</td>\n",
       "      <td>2.461538</td>\n",
       "      <td>2.0</td>\n",
       "      <td>168.538462</td>\n",
       "      <td>41.730769</td>\n",
       "      <td>3.419231</td>\n",
       "      <td>138.769231</td>\n",
       "      <td>3.923077</td>\n",
       "      <td>9.230769</td>\n",
       "      <td>37.330769</td>\n",
       "      <td>...</td>\n",
       "      <td>1.02</td>\n",
       "      <td>NaN</td>\n",
       "      <td>3.0</td>\n",
       "      <td>F</td>\n",
       "      <td>45.112386</td>\n",
       "      <td>white</td>\n",
       "      <td>0</td>\n",
       "      <td>0</td>\n",
       "      <td>0</td>\n",
       "      <td>1</td>\n",
       "    </tr>\n",
       "    <tr>\n",
       "      <th>10</th>\n",
       "      <td>200077</td>\n",
       "      <td>3.000000</td>\n",
       "      <td>2.0</td>\n",
       "      <td>203.000000</td>\n",
       "      <td>65.153846</td>\n",
       "      <td>3.961538</td>\n",
       "      <td>138.384615</td>\n",
       "      <td>4.653846</td>\n",
       "      <td>8.769231</td>\n",
       "      <td>11.246154</td>\n",
       "      <td>...</td>\n",
       "      <td>1.02</td>\n",
       "      <td>NaN</td>\n",
       "      <td>3.0</td>\n",
       "      <td>M</td>\n",
       "      <td>75.272650</td>\n",
       "      <td>unknown</td>\n",
       "      <td>1</td>\n",
       "      <td>0</td>\n",
       "      <td>0</td>\n",
       "      <td>0</td>\n",
       "    </tr>\n",
       "    <tr>\n",
       "      <th>13</th>\n",
       "      <td>200109</td>\n",
       "      <td>2.600000</td>\n",
       "      <td>1.0</td>\n",
       "      <td>113.461538</td>\n",
       "      <td>10.000000</td>\n",
       "      <td>0.469231</td>\n",
       "      <td>138.307692</td>\n",
       "      <td>3.730769</td>\n",
       "      <td>10.515385</td>\n",
       "      <td>9.138462</td>\n",
       "      <td>...</td>\n",
       "      <td>1.02</td>\n",
       "      <td>NaN</td>\n",
       "      <td>3.0</td>\n",
       "      <td>M</td>\n",
       "      <td>71.611182</td>\n",
       "      <td>unknown</td>\n",
       "      <td>1</td>\n",
       "      <td>0</td>\n",
       "      <td>0</td>\n",
       "      <td>1</td>\n",
       "    </tr>\n",
       "  </tbody>\n",
       "</table>\n",
       "<p>5 rows × 31 columns</p>\n",
       "</div>"
      ],
      "text/plain": [
       "    icustay_id   albumin  bacteria     glucose        bun  creatinine  \\\n",
       "3       200045  2.500000       2.0   74.846154  23.923077    0.861538   \n",
       "4       200046  2.600000       2.0  125.000000  29.000000    1.000000   \n",
       "8       200065  2.461538       2.0  168.538462  41.730769    3.419231   \n",
       "10      200077  3.000000       2.0  203.000000  65.153846    3.961538   \n",
       "13      200109  2.600000       1.0  113.461538  10.000000    0.469231   \n",
       "\n",
       "        sodium  potassium  hemoglobin        wbc  ...  specificgravity  \\\n",
       "3   147.461538   4.623077   10.369231  14.730769  ...             1.02   \n",
       "4   138.384615   5.023077   16.392308   3.403846  ...             1.02   \n",
       "8   138.769231   3.923077    9.230769  37.330769  ...             1.02   \n",
       "10  138.384615   4.653846    8.769231  11.246154  ...             1.02   \n",
       "13  138.307692   3.730769   10.515385   9.138462  ...             1.02   \n",
       "\n",
       "    pedaledema  appetite_median gender  admission_age  ethnicity_grouped  \\\n",
       "3          NaN              3.0      F      73.941807              white   \n",
       "4          NaN              3.0      F       0.001811              black   \n",
       "8          NaN              3.0      F      45.112386              white   \n",
       "10         NaN              3.0      M      75.272650            unknown   \n",
       "13         NaN              3.0      M      71.611182            unknown   \n",
       "\n",
       "    label_cor_art  diabetes_mellitus  ckd  anemia_flag  \n",
       "3               0                  1    0            0  \n",
       "4               0                  0    0            0  \n",
       "8               0                  0    0            1  \n",
       "10              1                  0    0            0  \n",
       "13              1                  0    0            1  \n",
       "\n",
       "[5 rows x 31 columns]"
      ]
     },
     "execution_count": 67,
     "metadata": {},
     "output_type": "execute_result"
    }
   ],
   "source": [
    "merged_table.head()"
   ]
  },
  {
   "cell_type": "code",
   "execution_count": 68,
   "id": "208fb787",
   "metadata": {},
   "outputs": [
    {
     "data": {
      "text/plain": [
       "Index(['icustay_id', 'albumin', 'bacteria', 'glucose', 'bun', 'creatinine',\n",
       "       'sodium', 'potassium', 'hemoglobin', 'wbc', 'hematocrit', 'platelet',\n",
       "       'ptt', 'ckd_ethnicity', 'heartrate', 'sysbp', 'diasbp', 'meanbp',\n",
       "       'resprate', 'tempc', 'spo2', 'specificgravity', 'pedaledema',\n",
       "       'appetite_median', 'gender', 'admission_age', 'ethnicity_grouped',\n",
       "       'label_cor_art', 'diabetes_mellitus', 'ckd', 'anemia_flag'],\n",
       "      dtype='object')"
      ]
     },
     "execution_count": 68,
     "metadata": {},
     "output_type": "execute_result"
    }
   ],
   "source": [
    "merged_table.columns"
   ]
  },
  {
   "cell_type": "markdown",
   "id": "c5a411a3",
   "metadata": {},
   "source": [
    "#### Dropping rows which have ethnicity_grouped \"middle_eastern\", \"portuguese\", \"alaska_native\", \"pacific_islander\""
   ]
  },
  {
   "cell_type": "code",
   "execution_count": 69,
   "id": "c7a57f3e",
   "metadata": {},
   "outputs": [],
   "source": [
    "ethnicities_to_drop = [\"middle_eastern\", \"portuguese\", \"alaska_native\", \"pacific_islander\"]\n",
    "merged_table = merged_table[~merged_table['ethnicity_grouped'].isin(ethnicities_to_drop)]"
   ]
  },
  {
   "cell_type": "code",
   "execution_count": 70,
   "id": "f7e47e84",
   "metadata": {},
   "outputs": [
    {
     "data": {
      "text/plain": [
       "0white       1894\n",
       "0unknown      524\n",
       "0black        251\n",
       "1white        127\n",
       "0hispanic     104\n",
       "0asian         95\n",
       "1unknown       14\n",
       "1black         11\n",
       "1hispanic       2\n",
       "1asian          2\n",
       "Name: ckd_ethnicity, dtype: int64"
      ]
     },
     "execution_count": 70,
     "metadata": {},
     "output_type": "execute_result"
    }
   ],
   "source": [
    "merged_table['ckd_ethnicity'].value_counts()"
   ]
  },
  {
   "cell_type": "markdown",
   "id": "2dc062c7",
   "metadata": {},
   "source": [
    "Removing pedaledema because it has 8365 missing values out of total 8405 rows"
   ]
  },
  {
   "cell_type": "code",
   "execution_count": 71,
   "id": "83c45f00",
   "metadata": {},
   "outputs": [],
   "source": [
    "merged_table=merged_table.drop('pedaledema',axis=1)"
   ]
  },
  {
   "cell_type": "code",
   "execution_count": 72,
   "id": "fb4c3738",
   "metadata": {},
   "outputs": [
    {
     "data": {
      "text/plain": [
       "0"
      ]
     },
     "execution_count": 72,
     "metadata": {},
     "output_type": "execute_result"
    }
   ],
   "source": [
    "merged_table.isna().sum().sum()"
   ]
  },
  {
   "cell_type": "markdown",
   "id": "904bee67",
   "metadata": {},
   "source": [
    "#### Grouping Ages "
   ]
  },
  {
   "cell_type": "code",
   "execution_count": 73,
   "id": "aa8e3471",
   "metadata": {},
   "outputs": [],
   "source": [
    "age_ranges = [0, 9, 19, 29, 39, 49, 59, 69, 79, 89, 400]\n",
    "\n",
    "age_labels = ['0-9', '10-19', '20-29', '30-39', '40-49', '50-59', '60-69', '70-79', '80-89', '90+']\n",
    "\n",
    "merged_table['age_group'] = pd.cut(merged_table['admission_age'], bins=age_ranges, labels=age_labels, right=False)"
   ]
  },
  {
   "cell_type": "code",
   "execution_count": 74,
   "id": "73469c1f",
   "metadata": {},
   "outputs": [
    {
     "data": {
      "text/plain": [
       "Index(['icustay_id', 'albumin', 'bacteria', 'glucose', 'bun', 'creatinine',\n",
       "       'sodium', 'potassium', 'hemoglobin', 'wbc', 'hematocrit', 'platelet',\n",
       "       'ptt', 'ckd_ethnicity', 'heartrate', 'sysbp', 'diasbp', 'meanbp',\n",
       "       'resprate', 'tempc', 'spo2', 'specificgravity', 'appetite_median',\n",
       "       'gender', 'admission_age', 'ethnicity_grouped', 'label_cor_art',\n",
       "       'diabetes_mellitus', 'ckd', 'anemia_flag', 'age_group'],\n",
       "      dtype='object')"
      ]
     },
     "execution_count": 74,
     "metadata": {},
     "output_type": "execute_result"
    }
   ],
   "source": [
    "merged_table.columns"
   ]
  },
  {
   "cell_type": "code",
   "execution_count": 75,
   "id": "823a3e7f",
   "metadata": {},
   "outputs": [
    {
     "data": {
      "text/html": [
       "<div>\n",
       "<style scoped>\n",
       "    .dataframe tbody tr th:only-of-type {\n",
       "        vertical-align: middle;\n",
       "    }\n",
       "\n",
       "    .dataframe tbody tr th {\n",
       "        vertical-align: top;\n",
       "    }\n",
       "\n",
       "    .dataframe thead th {\n",
       "        text-align: right;\n",
       "    }\n",
       "</style>\n",
       "<table border=\"1\" class=\"dataframe\">\n",
       "  <thead>\n",
       "    <tr style=\"text-align: right;\">\n",
       "      <th></th>\n",
       "      <th>icustay_id</th>\n",
       "      <th>albumin</th>\n",
       "      <th>bacteria</th>\n",
       "      <th>glucose</th>\n",
       "      <th>bun</th>\n",
       "      <th>creatinine</th>\n",
       "      <th>sodium</th>\n",
       "      <th>potassium</th>\n",
       "      <th>hemoglobin</th>\n",
       "      <th>wbc</th>\n",
       "      <th>...</th>\n",
       "      <th>specificgravity</th>\n",
       "      <th>appetite_median</th>\n",
       "      <th>gender</th>\n",
       "      <th>admission_age</th>\n",
       "      <th>ethnicity_grouped</th>\n",
       "      <th>label_cor_art</th>\n",
       "      <th>diabetes_mellitus</th>\n",
       "      <th>ckd</th>\n",
       "      <th>anemia_flag</th>\n",
       "      <th>age_group</th>\n",
       "    </tr>\n",
       "  </thead>\n",
       "  <tbody>\n",
       "    <tr>\n",
       "      <th>3</th>\n",
       "      <td>200045</td>\n",
       "      <td>2.500000</td>\n",
       "      <td>2.0</td>\n",
       "      <td>74.846154</td>\n",
       "      <td>23.923077</td>\n",
       "      <td>0.861538</td>\n",
       "      <td>147.461538</td>\n",
       "      <td>4.623077</td>\n",
       "      <td>10.369231</td>\n",
       "      <td>14.730769</td>\n",
       "      <td>...</td>\n",
       "      <td>1.02</td>\n",
       "      <td>3.0</td>\n",
       "      <td>F</td>\n",
       "      <td>73.941807</td>\n",
       "      <td>white</td>\n",
       "      <td>0</td>\n",
       "      <td>1</td>\n",
       "      <td>0</td>\n",
       "      <td>0</td>\n",
       "      <td>70-79</td>\n",
       "    </tr>\n",
       "    <tr>\n",
       "      <th>4</th>\n",
       "      <td>200046</td>\n",
       "      <td>2.600000</td>\n",
       "      <td>2.0</td>\n",
       "      <td>125.000000</td>\n",
       "      <td>29.000000</td>\n",
       "      <td>1.000000</td>\n",
       "      <td>138.384615</td>\n",
       "      <td>5.023077</td>\n",
       "      <td>16.392308</td>\n",
       "      <td>3.403846</td>\n",
       "      <td>...</td>\n",
       "      <td>1.02</td>\n",
       "      <td>3.0</td>\n",
       "      <td>F</td>\n",
       "      <td>0.001811</td>\n",
       "      <td>black</td>\n",
       "      <td>0</td>\n",
       "      <td>0</td>\n",
       "      <td>0</td>\n",
       "      <td>0</td>\n",
       "      <td>0-9</td>\n",
       "    </tr>\n",
       "    <tr>\n",
       "      <th>8</th>\n",
       "      <td>200065</td>\n",
       "      <td>2.461538</td>\n",
       "      <td>2.0</td>\n",
       "      <td>168.538462</td>\n",
       "      <td>41.730769</td>\n",
       "      <td>3.419231</td>\n",
       "      <td>138.769231</td>\n",
       "      <td>3.923077</td>\n",
       "      <td>9.230769</td>\n",
       "      <td>37.330769</td>\n",
       "      <td>...</td>\n",
       "      <td>1.02</td>\n",
       "      <td>3.0</td>\n",
       "      <td>F</td>\n",
       "      <td>45.112386</td>\n",
       "      <td>white</td>\n",
       "      <td>0</td>\n",
       "      <td>0</td>\n",
       "      <td>0</td>\n",
       "      <td>1</td>\n",
       "      <td>40-49</td>\n",
       "    </tr>\n",
       "    <tr>\n",
       "      <th>10</th>\n",
       "      <td>200077</td>\n",
       "      <td>3.000000</td>\n",
       "      <td>2.0</td>\n",
       "      <td>203.000000</td>\n",
       "      <td>65.153846</td>\n",
       "      <td>3.961538</td>\n",
       "      <td>138.384615</td>\n",
       "      <td>4.653846</td>\n",
       "      <td>8.769231</td>\n",
       "      <td>11.246154</td>\n",
       "      <td>...</td>\n",
       "      <td>1.02</td>\n",
       "      <td>3.0</td>\n",
       "      <td>M</td>\n",
       "      <td>75.272650</td>\n",
       "      <td>unknown</td>\n",
       "      <td>1</td>\n",
       "      <td>0</td>\n",
       "      <td>0</td>\n",
       "      <td>0</td>\n",
       "      <td>70-79</td>\n",
       "    </tr>\n",
       "    <tr>\n",
       "      <th>13</th>\n",
       "      <td>200109</td>\n",
       "      <td>2.600000</td>\n",
       "      <td>1.0</td>\n",
       "      <td>113.461538</td>\n",
       "      <td>10.000000</td>\n",
       "      <td>0.469231</td>\n",
       "      <td>138.307692</td>\n",
       "      <td>3.730769</td>\n",
       "      <td>10.515385</td>\n",
       "      <td>9.138462</td>\n",
       "      <td>...</td>\n",
       "      <td>1.02</td>\n",
       "      <td>3.0</td>\n",
       "      <td>M</td>\n",
       "      <td>71.611182</td>\n",
       "      <td>unknown</td>\n",
       "      <td>1</td>\n",
       "      <td>0</td>\n",
       "      <td>0</td>\n",
       "      <td>1</td>\n",
       "      <td>70-79</td>\n",
       "    </tr>\n",
       "  </tbody>\n",
       "</table>\n",
       "<p>5 rows × 31 columns</p>\n",
       "</div>"
      ],
      "text/plain": [
       "    icustay_id   albumin  bacteria     glucose        bun  creatinine  \\\n",
       "3       200045  2.500000       2.0   74.846154  23.923077    0.861538   \n",
       "4       200046  2.600000       2.0  125.000000  29.000000    1.000000   \n",
       "8       200065  2.461538       2.0  168.538462  41.730769    3.419231   \n",
       "10      200077  3.000000       2.0  203.000000  65.153846    3.961538   \n",
       "13      200109  2.600000       1.0  113.461538  10.000000    0.469231   \n",
       "\n",
       "        sodium  potassium  hemoglobin        wbc  ...  specificgravity  \\\n",
       "3   147.461538   4.623077   10.369231  14.730769  ...             1.02   \n",
       "4   138.384615   5.023077   16.392308   3.403846  ...             1.02   \n",
       "8   138.769231   3.923077    9.230769  37.330769  ...             1.02   \n",
       "10  138.384615   4.653846    8.769231  11.246154  ...             1.02   \n",
       "13  138.307692   3.730769   10.515385   9.138462  ...             1.02   \n",
       "\n",
       "    appetite_median  gender admission_age  ethnicity_grouped  label_cor_art  \\\n",
       "3               3.0       F     73.941807              white              0   \n",
       "4               3.0       F      0.001811              black              0   \n",
       "8               3.0       F     45.112386              white              0   \n",
       "10              3.0       M     75.272650            unknown              1   \n",
       "13              3.0       M     71.611182            unknown              1   \n",
       "\n",
       "    diabetes_mellitus  ckd  anemia_flag  age_group  \n",
       "3                   1    0            0      70-79  \n",
       "4                   0    0            0        0-9  \n",
       "8                   0    0            1      40-49  \n",
       "10                  0    0            0      70-79  \n",
       "13                  0    0            1      70-79  \n",
       "\n",
       "[5 rows x 31 columns]"
      ]
     },
     "execution_count": 75,
     "metadata": {},
     "output_type": "execute_result"
    }
   ],
   "source": [
    "merged_table.head()"
   ]
  },
  {
   "cell_type": "code",
   "execution_count": 76,
   "id": "e0027626",
   "metadata": {},
   "outputs": [
    {
     "data": {
      "text/plain": [
       "3       70-79\n",
       "4         0-9\n",
       "8       40-49\n",
       "10      70-79\n",
       "13      70-79\n",
       "        ...  \n",
       "8390    60-69\n",
       "8394      0-9\n",
       "8399    50-59\n",
       "8400    50-59\n",
       "8401      0-9\n",
       "Name: age_group, Length: 3024, dtype: category\n",
       "Categories (10, object): ['0-9' < '10-19' < '20-29' < '30-39' ... '60-69' < '70-79' < '80-89' < '90+']"
      ]
     },
     "execution_count": 76,
     "metadata": {},
     "output_type": "execute_result"
    }
   ],
   "source": [
    "merged_table['age_group']"
   ]
  },
  {
   "cell_type": "code",
   "execution_count": 77,
   "id": "701150da",
   "metadata": {},
   "outputs": [],
   "source": [
    "merged_table=merged_table.drop('admission_age',axis=1)"
   ]
  },
  {
   "cell_type": "markdown",
   "id": "33296ecc",
   "metadata": {},
   "source": [
    "#### Train Test Split based solely on ckd column"
   ]
  },
  {
   "cell_type": "code",
   "execution_count": 78,
   "id": "dedcee46",
   "metadata": {},
   "outputs": [],
   "source": [
    "X= merged_table.drop(['ckd','ckd_ethnicity'],axis=1)\n",
    "y=merged_table['ckd']"
   ]
  },
  {
   "cell_type": "code",
   "execution_count": 79,
   "id": "a4ce7c39",
   "metadata": {},
   "outputs": [],
   "source": [
    "X_train, X_test, y_train, y_test = train_test_split(X, y, test_size=0.25, stratify=y)"
   ]
  },
  {
   "cell_type": "code",
   "execution_count": 80,
   "id": "aa28e07b",
   "metadata": {},
   "outputs": [
    {
     "data": {
      "text/plain": [
       "0    2151\n",
       "1     117\n",
       "Name: ckd, dtype: int64"
      ]
     },
     "execution_count": 80,
     "metadata": {},
     "output_type": "execute_result"
    }
   ],
   "source": [
    "y_train.value_counts()"
   ]
  },
  {
   "cell_type": "code",
   "execution_count": 81,
   "id": "ded48f6f",
   "metadata": {},
   "outputs": [
    {
     "data": {
      "text/plain": [
       "0    717\n",
       "1     39\n",
       "Name: ckd, dtype: int64"
      ]
     },
     "execution_count": 81,
     "metadata": {},
     "output_type": "execute_result"
    }
   ],
   "source": [
    "y_test.value_counts()"
   ]
  },
  {
   "cell_type": "markdown",
   "id": "c73ab317",
   "metadata": {},
   "source": [
    "#### Random Under/Over Sampling"
   ]
  },
  {
   "cell_type": "code",
   "execution_count": 96,
   "id": "7994db5c",
   "metadata": {},
   "outputs": [],
   "source": [
    "def evaluationTest(classifier,X, y):  \n",
    "    y_pred = classifier.predict(X)\n",
    "    precision = precision_score(y, y_pred)\n",
    "    recall = recall_score(y, y_pred)\n",
    "    f1 = f1_score(y, y_pred)\n",
    "    accuracy = accuracy_score(y, y_pred)\n",
    "    print(\"Precision:\", precision)\n",
    "    print(\"Recall:\", recall)\n",
    "    print(\"F1 Score:\", f1)\n",
    "    print(\"Accuracy:\", accuracy)\n",
    "    return pd.DataFrame(y_pred)    \n",
    "\n",
    "def cross_val_with_sampling(clf, X,y, resampling = None):\n",
    "    from sklearn.model_selection import StratifiedKFold\n",
    "    \n",
    "    X = X.values\n",
    "    y = y.values\n",
    "    \n",
    "    kfold = StratifiedKFold(n_splits=5, shuffle=True, random_state=42)\n",
    "    \n",
    "    for train_index, test_index in kfold.split(X, y):\n",
    "        X_train, X_test = X[train_index], X[test_index]\n",
    "        y_train, y_test = y[train_index], y[test_index]\n",
    "        \n",
    "        if resampling == None:\n",
    "            print(\"No resampling: Train:\", y_train.shape[0] , \"Test:\", y_test.shape[0])\n",
    "        elif (resampling.lower() == 'under'):\n",
    "            sampler = RandomUnderSampler(random_state=42)\n",
    "            X_train, y_train = sampler.fit_resample(X_train, y_train)\n",
    "            print(\"Under sampling: Train:\", y_train.shape[0] , \"Test:\", y_test.shape[0])\n",
    "        elif (resampling.lower() == 'over'):\n",
    "            sampler = SMOTE(random_state=42)\n",
    "            X_train, y_train = sampler.fit_resample(X_train, y_train)\n",
    "            print(\"Over sampling: Train:\", y_train.shape[0] , \"Test:\", y_test.shape[0])\n",
    "        \n",
    "        clf.fit(X_train, y_train)\n",
    "        y_pred_validation = evaluationTest(clf, X_test, y_test)\n",
    "    \n",
    "    return clf, y_pred_validation"
   ]
  },
  {
   "cell_type": "code",
   "execution_count": 101,
   "id": "00754933",
   "metadata": {},
   "outputs": [
    {
     "name": "stdout",
     "output_type": "stream",
     "text": [
      "Under sampling: Train: 200 Test: 484\n",
      "Precision: 0.13142857142857142\n",
      "Recall: 0.92\n",
      "F1 Score: 0.23\n",
      "Accuracy: 0.6818181818181818\n",
      "Under sampling: Train: 200 Test: 484\n",
      "Precision: 0.14189189189189189\n",
      "Recall: 0.84\n",
      "F1 Score: 0.24277456647398843\n",
      "Accuracy: 0.7293388429752066\n",
      "Under sampling: Train: 200 Test: 484\n",
      "Precision: 0.12025316455696203\n",
      "Recall: 0.76\n",
      "F1 Score: 0.20765027322404372\n",
      "Accuracy: 0.7004132231404959\n",
      "Under sampling: Train: 200 Test: 484\n",
      "Precision: 0.14545454545454545\n",
      "Recall: 0.96\n",
      "F1 Score: 0.2526315789473684\n",
      "Accuracy: 0.7066115702479339\n",
      "Under sampling: Train: 200 Test: 483\n",
      "Precision: 0.13043478260869565\n",
      "Recall: 0.84\n",
      "F1 Score: 0.22580645161290322\n",
      "Accuracy: 0.7018633540372671\n",
      "----------------------TEST-------------------------------------\n",
      "Precision: 0.15121951219512195\n",
      "Recall: 1.0\n",
      "F1 Score: 0.2627118644067797\n",
      "Accuracy: 0.7123966942148761\n"
     ]
    },
    {
     "name": "stderr",
     "output_type": "stream",
     "text": [
      "C:\\Users\\aakru\\anaconda3\\lib\\site-packages\\sklearn\\base.py:443: UserWarning: X has feature names, but RandomForestClassifier was fitted without feature names\n",
      "  warnings.warn(\n"
     ]
    },
    {
     "data": {
      "text/html": [
       "<div>\n",
       "<style scoped>\n",
       "    .dataframe tbody tr th:only-of-type {\n",
       "        vertical-align: middle;\n",
       "    }\n",
       "\n",
       "    .dataframe tbody tr th {\n",
       "        vertical-align: top;\n",
       "    }\n",
       "\n",
       "    .dataframe thead th {\n",
       "        text-align: right;\n",
       "    }\n",
       "</style>\n",
       "<table border=\"1\" class=\"dataframe\">\n",
       "  <thead>\n",
       "    <tr style=\"text-align: right;\">\n",
       "      <th></th>\n",
       "      <th>0</th>\n",
       "    </tr>\n",
       "  </thead>\n",
       "  <tbody>\n",
       "    <tr>\n",
       "      <th>0</th>\n",
       "      <td>0</td>\n",
       "    </tr>\n",
       "    <tr>\n",
       "      <th>1</th>\n",
       "      <td>1</td>\n",
       "    </tr>\n",
       "    <tr>\n",
       "      <th>2</th>\n",
       "      <td>0</td>\n",
       "    </tr>\n",
       "    <tr>\n",
       "      <th>3</th>\n",
       "      <td>1</td>\n",
       "    </tr>\n",
       "    <tr>\n",
       "      <th>4</th>\n",
       "      <td>0</td>\n",
       "    </tr>\n",
       "    <tr>\n",
       "      <th>...</th>\n",
       "      <td>...</td>\n",
       "    </tr>\n",
       "    <tr>\n",
       "      <th>600</th>\n",
       "      <td>0</td>\n",
       "    </tr>\n",
       "    <tr>\n",
       "      <th>601</th>\n",
       "      <td>0</td>\n",
       "    </tr>\n",
       "    <tr>\n",
       "      <th>602</th>\n",
       "      <td>1</td>\n",
       "    </tr>\n",
       "    <tr>\n",
       "      <th>603</th>\n",
       "      <td>0</td>\n",
       "    </tr>\n",
       "    <tr>\n",
       "      <th>604</th>\n",
       "      <td>1</td>\n",
       "    </tr>\n",
       "  </tbody>\n",
       "</table>\n",
       "<p>605 rows × 1 columns</p>\n",
       "</div>"
      ],
      "text/plain": [
       "     0\n",
       "0    0\n",
       "1    1\n",
       "2    0\n",
       "3    1\n",
       "4    0\n",
       "..  ..\n",
       "600  0\n",
       "601  0\n",
       "602  1\n",
       "603  0\n",
       "604  1\n",
       "\n",
       "[605 rows x 1 columns]"
      ]
     },
     "execution_count": 101,
     "metadata": {},
     "output_type": "execute_result"
    }
   ],
   "source": [
    "X_train=X_train.drop(['ethnicity_grouped'],axis=1)\n",
    "X_test=X_test.drop(['ethnicity_grouped'],axis=1)\n",
    "X_train, X_test, y_train, y_test = train_test_split(X, y, test_size=0.20, stratify=y, random_state=42)\n",
    "stratified_icustay_id_train=X_train['icustay_id'].unique()\n",
    "stratified_icustay_id_test=X_test['icustay_id'].unique()\n",
    "X_onehot_train = pd.get_dummies(X_train)\n",
    "X_onehot_test = pd.get_dummies(X_test)\n",
    "\n",
    "rf_ros = RandomForestClassifier(max_features='log2')\n",
    "\n",
    "rf_1, y_val = cross_val_with_sampling(rf_ros, X_onehot_train,y_train, resampling = \"under\")\n",
    "print(\"----------------------TEST-------------------------------------\")\n",
    "evaluationTest(rf_1, X_onehot_test, y_test)"
   ]
  },
  {
   "cell_type": "code",
   "execution_count": 85,
   "id": "32637451",
   "metadata": {},
   "outputs": [
    {
     "data": {
      "text/plain": [
       "\"\\nTEST SCORES(UNDER SAMPLING): \\nWith eth - \\nPrecision: 0.14551083591331268\\nRecall: 0.8103448275862069\\nF1 Score: 0.24671916010498685\\nAccuracy: 0.7127127127127127\\nCV F1- \\n\\nw/o ethnicity-\\nPrecision: 0.1402439024390244\\nRecall: 0.7931034482758621\\nF1 Score: 0.2383419689119171\\nAccuracy: 0.7057057057057057\\ncm = confusion_matrix(y_test,y_pre\\n\\n\\nTEST SCORES (OVER SAMPLING)\\nwith eth- \\nPrecision: 0.15492957746478872\\nRecall: 0.7586206896551724\\nF1 Score: 0.2573099415204678\\nAccuracy: 0.7457457457457457\\n\\nwithout eth-\\nPrecision: 0.14685314685314685\\nRecall: 0.7241379310344828\\nF1 Score: 0.2441860465116279\\nAccuracy: 0.7397397397397397\\n\\nTEST SCORES (SMOTE)\\ncv is highest-- 0.90 with eth, 0.89 without eth\\nwith eth-\\nPrecision: 0.17777777777777778\\nRecall: 0.6896551724137931\\nF1 Score: 0.2826855123674912\\nAccuracy: 0.7967967967967968\\n\\nwithout eth- \\nPrecision: 0.17777777777777778\\nRecall: 0.6896551724137931\\nF1 Score: 0.2826855123674912\\nAccuracy: 0.7967967967967968\\n\\ngot best estimator RandomForestClassifier(max_features='log2'), with cv f1 around 0.97 but the test perfromance is--\\n\\nwith eth- (even recall is low?)\\nPrecision: 0.2413793103448276\\nRecall: 0.1794871794871795\\nF1 Score: 0.20588235294117646\\nAccuracy: 0.9285714285714286\\n\\nwithout eth a little better (in terms of recall, pre and f1)-\\nPrecision: 0.3103448275862069\\nRecall: 0.23076923076923078\\nF1 Score: 0.2647058823529412\\nAccuracy: 0.9338624338624338\\n\\n\""
      ]
     },
     "execution_count": 85,
     "metadata": {},
     "output_type": "execute_result"
    }
   ],
   "source": [
    "'''\n",
    "rus = RandomUnderSampler(random_state=42)\n",
    "X_train_rus, y_train_rus = rus.fit_resample(X_train, y_train)\n",
    "'''\n",
    "from imblearn.over_sampling import RandomOverSampler\n",
    "from imblearn.over_sampling import SMOTE\n",
    "rus = SMOTE(random_state=42)\n",
    "X_train_rus= X_train\n",
    "y_train_rus=y_train\n",
    "#X_train_rus, y_train_rus = rus.fit_resample(X_train, y_train)\n",
    "'''\n",
    "TEST SCORES(UNDER SAMPLING): \n",
    "With eth - \n",
    "Precision: 0.14551083591331268\n",
    "Recall: 0.8103448275862069\n",
    "F1 Score: 0.24671916010498685\n",
    "Accuracy: 0.7127127127127127\n",
    "CV F1- \n",
    "\n",
    "w/o ethnicity-\n",
    "Precision: 0.1402439024390244\n",
    "Recall: 0.7931034482758621\n",
    "F1 Score: 0.2383419689119171\n",
    "Accuracy: 0.7057057057057057\n",
    "cm = confusion_matrix(y_test,y_pre\n",
    "\n",
    "\n",
    "TEST SCORES (OVER SAMPLING)\n",
    "with eth- \n",
    "Precision: 0.15492957746478872\n",
    "Recall: 0.7586206896551724\n",
    "F1 Score: 0.2573099415204678\n",
    "Accuracy: 0.7457457457457457\n",
    "\n",
    "without eth-\n",
    "Precision: 0.14685314685314685\n",
    "Recall: 0.7241379310344828\n",
    "F1 Score: 0.2441860465116279\n",
    "Accuracy: 0.7397397397397397\n",
    "\n",
    "TEST SCORES (SMOTE)\n",
    "cv is highest-- 0.90 with eth, 0.89 without eth\n",
    "with eth-\n",
    "Precision: 0.17777777777777778\n",
    "Recall: 0.6896551724137931\n",
    "F1 Score: 0.2826855123674912\n",
    "Accuracy: 0.7967967967967968\n",
    "\n",
    "without eth- \n",
    "Precision: 0.17777777777777778\n",
    "Recall: 0.6896551724137931\n",
    "F1 Score: 0.2826855123674912\n",
    "Accuracy: 0.7967967967967968\n",
    "\n",
    "got best estimator RandomForestClassifier(max_features='log2'), with cv f1 around 0.97 but the test perfromance is--\n",
    "\n",
    "with eth- (even recall is low?)\n",
    "Precision: 0.2413793103448276\n",
    "Recall: 0.1794871794871795\n",
    "F1 Score: 0.20588235294117646\n",
    "Accuracy: 0.9285714285714286\n",
    "\n",
    "without eth a little better (in terms of recall, pre and f1)-\n",
    "Precision: 0.3103448275862069\n",
    "Recall: 0.23076923076923078\n",
    "F1 Score: 0.2647058823529412\n",
    "Accuracy: 0.9338624338624338\n",
    "\n",
    "'''"
   ]
  },
  {
   "cell_type": "code",
   "execution_count": 86,
   "id": "fade254e",
   "metadata": {},
   "outputs": [
    {
     "data": {
      "text/plain": [
       "0    2151\n",
       "1     117\n",
       "Name: ckd, dtype: int64"
      ]
     },
     "execution_count": 86,
     "metadata": {},
     "output_type": "execute_result"
    }
   ],
   "source": [
    " y_train_rus.value_counts()"
   ]
  },
  {
   "cell_type": "code",
   "execution_count": 87,
   "id": "69b39563",
   "metadata": {},
   "outputs": [
    {
     "data": {
      "text/plain": [
       "(2268, 28)"
      ]
     },
     "execution_count": 87,
     "metadata": {},
     "output_type": "execute_result"
    }
   ],
   "source": [
    "X_train_rus.shape"
   ]
  },
  {
   "cell_type": "markdown",
   "id": "a64a98a4",
   "metadata": {},
   "source": [
    "#### sepearating ckd_ethnicity again now that it has been stratified "
   ]
  },
  {
   "cell_type": "code",
   "execution_count": 88,
   "id": "0e74fe64",
   "metadata": {},
   "outputs": [
    {
     "data": {
      "text/plain": [
       "Index(['icustay_id', 'albumin', 'bacteria', 'glucose', 'bun', 'creatinine',\n",
       "       'sodium', 'potassium', 'hemoglobin', 'wbc', 'hematocrit', 'platelet',\n",
       "       'ptt', 'heartrate', 'sysbp', 'diasbp', 'meanbp', 'resprate', 'tempc',\n",
       "       'spo2', 'specificgravity', 'appetite_median', 'gender',\n",
       "       'ethnicity_grouped', 'label_cor_art', 'diabetes_mellitus',\n",
       "       'anemia_flag', 'age_group'],\n",
       "      dtype='object')"
      ]
     },
     "execution_count": 88,
     "metadata": {},
     "output_type": "execute_result"
    }
   ],
   "source": [
    "X_train_rus.columns"
   ]
  },
  {
   "cell_type": "code",
   "execution_count": 89,
   "id": "fa0e7a26",
   "metadata": {},
   "outputs": [],
   "source": [
    "X_train_rus = X_train_rus.merge(merged_table[['icustay_id', 'ckd']], on='icustay_id', how='inner')"
   ]
  },
  {
   "cell_type": "code",
   "execution_count": 90,
   "id": "6dffa722",
   "metadata": {},
   "outputs": [
    {
     "data": {
      "text/plain": [
       "(2268, 29)"
      ]
     },
     "execution_count": 90,
     "metadata": {},
     "output_type": "execute_result"
    }
   ],
   "source": [
    "X_train_rus.shape"
   ]
  },
  {
   "cell_type": "code",
   "execution_count": 91,
   "id": "57b4f23d",
   "metadata": {},
   "outputs": [
    {
     "data": {
      "text/plain": [
       "Index(['icustay_id', 'albumin', 'bacteria', 'glucose', 'bun', 'creatinine',\n",
       "       'sodium', 'potassium', 'hemoglobin', 'wbc', 'hematocrit', 'platelet',\n",
       "       'ptt', 'heartrate', 'sysbp', 'diasbp', 'meanbp', 'resprate', 'tempc',\n",
       "       'spo2', 'specificgravity', 'appetite_median', 'gender',\n",
       "       'ethnicity_grouped', 'label_cor_art', 'diabetes_mellitus',\n",
       "       'anemia_flag', 'age_group', 'ckd'],\n",
       "      dtype='object')"
      ]
     },
     "execution_count": 91,
     "metadata": {},
     "output_type": "execute_result"
    }
   ],
   "source": [
    "X_train_rus.columns"
   ]
  },
  {
   "cell_type": "code",
   "execution_count": 92,
   "id": "97344881",
   "metadata": {},
   "outputs": [],
   "source": [
    "y_train_rus= X_train_rus['ckd']\n",
    "X_train_rus= X_train_rus.drop('ckd',axis=1)"
   ]
  },
  {
   "cell_type": "code",
   "execution_count": 93,
   "id": "572cd7fb",
   "metadata": {},
   "outputs": [
    {
     "data": {
      "text/plain": [
       "0    2151\n",
       "1     117\n",
       "Name: ckd, dtype: int64"
      ]
     },
     "execution_count": 93,
     "metadata": {},
     "output_type": "execute_result"
    }
   ],
   "source": [
    "y_train_rus.value_counts()"
   ]
  },
  {
   "cell_type": "code",
   "execution_count": 94,
   "id": "d41d2fbe",
   "metadata": {},
   "outputs": [],
   "source": [
    "stratified_icustay_id_train=X_train_rus['icustay_id'].unique()\n",
    "stratified_icustay_id_test=X_test['icustay_id'].unique()"
   ]
  },
  {
   "cell_type": "code",
   "execution_count": 95,
   "id": "3902a6fc",
   "metadata": {},
   "outputs": [],
   "source": [
    "X_train_rus=X_train_rus.drop('icustay_id',axis=1)"
   ]
  },
  {
   "cell_type": "markdown",
   "id": "f3cf8b81",
   "metadata": {},
   "source": [
    "#### Encoding"
   ]
  },
  {
   "cell_type": "code",
   "execution_count": 96,
   "id": "90c0e190",
   "metadata": {},
   "outputs": [],
   "source": [
    "X_onehot_train = pd.get_dummies(X_train_rus)"
   ]
  },
  {
   "cell_type": "code",
   "execution_count": 97,
   "id": "050d952f",
   "metadata": {},
   "outputs": [
    {
     "data": {
      "text/plain": [
       "Index(['albumin', 'bacteria', 'glucose', 'bun', 'creatinine', 'sodium',\n",
       "       'potassium', 'hemoglobin', 'wbc', 'hematocrit', 'platelet', 'ptt',\n",
       "       'heartrate', 'sysbp', 'diasbp', 'meanbp', 'resprate', 'tempc', 'spo2',\n",
       "       'specificgravity', 'appetite_median', 'label_cor_art',\n",
       "       'diabetes_mellitus', 'anemia_flag', 'gender_F', 'gender_M',\n",
       "       'ethnicity_grouped_asian', 'ethnicity_grouped_black',\n",
       "       'ethnicity_grouped_hispanic', 'ethnicity_grouped_unknown',\n",
       "       'ethnicity_grouped_white', 'age_group_0-9', 'age_group_10-19',\n",
       "       'age_group_20-29', 'age_group_30-39', 'age_group_40-49',\n",
       "       'age_group_50-59', 'age_group_60-69', 'age_group_70-79',\n",
       "       'age_group_80-89', 'age_group_90+'],\n",
       "      dtype='object')"
      ]
     },
     "execution_count": 97,
     "metadata": {},
     "output_type": "execute_result"
    }
   ],
   "source": [
    "X_onehot_train.columns"
   ]
  },
  {
   "cell_type": "code",
   "execution_count": 98,
   "id": "870df067",
   "metadata": {},
   "outputs": [],
   "source": [
    "X_onehot_train, y_train_rus = rus.fit_resample(X_onehot_train, y_train_rus)"
   ]
  },
  {
   "cell_type": "markdown",
   "id": "e4619302",
   "metadata": {},
   "source": [
    "#### Random Forest Model"
   ]
  },
  {
   "cell_type": "code",
   "execution_count": 99,
   "id": "b05c5390",
   "metadata": {},
   "outputs": [],
   "source": [
    "param_grid = {\n",
    "    'n_estimators': [100, 200, 300],\n",
    "    'max_depth': [None, 5, 10],\n",
    "    'min_samples_split': [2, 5, 10],\n",
    "    'min_samples_leaf': [1, 2, 4],\n",
    "    'max_features': ['sqrt', 'log2']\n",
    "}"
   ]
  },
  {
   "cell_type": "code",
   "execution_count": 100,
   "id": "b24ede87",
   "metadata": {},
   "outputs": [],
   "source": [
    "rf = RandomForestClassifier()"
   ]
  },
  {
   "cell_type": "code",
   "execution_count": 101,
   "id": "1050d9c7",
   "metadata": {},
   "outputs": [
    {
     "data": {
      "text/plain": [
       "0    2151\n",
       "1    2151\n",
       "Name: ckd, dtype: int64"
      ]
     },
     "execution_count": 101,
     "metadata": {},
     "output_type": "execute_result"
    }
   ],
   "source": [
    "y_train_rus.value_counts()"
   ]
  },
  {
   "cell_type": "code",
   "execution_count": 102,
   "id": "5759b4d2",
   "metadata": {},
   "outputs": [
    {
     "data": {
      "text/plain": [
       "GridSearchCV(cv=5, estimator=RandomForestClassifier(),\n",
       "             param_grid={'max_depth': [None, 5, 10],\n",
       "                         'max_features': ['sqrt', 'log2'],\n",
       "                         'min_samples_leaf': [1, 2, 4],\n",
       "                         'min_samples_split': [2, 5, 10],\n",
       "                         'n_estimators': [100, 200, 300]},\n",
       "             scoring='f1')"
      ]
     },
     "execution_count": 102,
     "metadata": {},
     "output_type": "execute_result"
    }
   ],
   "source": [
    "grid_search = GridSearchCV(rf, param_grid, cv=5, scoring='f1')\n",
    "grid_search.fit(X_onehot_train, y_train_rus)"
   ]
  },
  {
   "cell_type": "code",
   "execution_count": 103,
   "id": "ffdea06b",
   "metadata": {},
   "outputs": [
    {
     "data": {
      "text/plain": [
       "RandomForestClassifier(max_features='log2')"
      ]
     },
     "execution_count": 103,
     "metadata": {},
     "output_type": "execute_result"
    }
   ],
   "source": [
    "grid_search.best_estimator_"
   ]
  },
  {
   "cell_type": "code",
   "execution_count": 104,
   "id": "007598de",
   "metadata": {},
   "outputs": [
    {
     "data": {
      "text/plain": [
       "0.9777689928319194"
      ]
     },
     "execution_count": 104,
     "metadata": {},
     "output_type": "execute_result"
    }
   ],
   "source": [
    "grid_search.best_score_"
   ]
  },
  {
   "cell_type": "markdown",
   "id": "a9d6c5b4",
   "metadata": {},
   "source": [
    "#### Using best model with cross validation with ethnicity"
   ]
  },
  {
   "cell_type": "code",
   "execution_count": 105,
   "id": "4fd6a0fc",
   "metadata": {},
   "outputs": [
    {
     "data": {
      "text/plain": [
       "0.9725900789837395"
      ]
     },
     "execution_count": 105,
     "metadata": {},
     "output_type": "execute_result"
    }
   ],
   "source": [
    "rf_same = RandomForestClassifier(max_features='log2')\n",
    "cv_scores = cross_val_score(rf_same, X_onehot_train, y_train_rus, cv=5, scoring='f1')\n",
    "cv_scores.mean()"
   ]
  },
  {
   "cell_type": "markdown",
   "id": "cbd27c1b",
   "metadata": {},
   "source": [
    "#### Now same model, without ethnicity "
   ]
  },
  {
   "cell_type": "code",
   "execution_count": 106,
   "id": "fede1e1b",
   "metadata": {},
   "outputs": [],
   "source": [
    "rf_same = RandomForestClassifier(max_features='log2')"
   ]
  },
  {
   "cell_type": "code",
   "execution_count": 107,
   "id": "21f7c9e9",
   "metadata": {},
   "outputs": [],
   "source": [
    "X_train_no_eth= X_onehot_train.drop(['ethnicity_grouped_asian', 'ethnicity_grouped_black',\n",
    "       'ethnicity_grouped_hispanic', 'ethnicity_grouped_unknown',\n",
    "       'ethnicity_grouped_white'],axis=1)"
   ]
  },
  {
   "cell_type": "code",
   "execution_count": 108,
   "id": "5ae5fcef",
   "metadata": {},
   "outputs": [
    {
     "data": {
      "text/plain": [
       "Index(['albumin', 'bacteria', 'glucose', 'bun', 'creatinine', 'sodium',\n",
       "       'potassium', 'hemoglobin', 'wbc', 'hematocrit', 'platelet', 'ptt',\n",
       "       'heartrate', 'sysbp', 'diasbp', 'meanbp', 'resprate', 'tempc', 'spo2',\n",
       "       'specificgravity', 'appetite_median', 'label_cor_art',\n",
       "       'diabetes_mellitus', 'anemia_flag', 'gender_F', 'gender_M',\n",
       "       'age_group_0-9', 'age_group_10-19', 'age_group_20-29',\n",
       "       'age_group_30-39', 'age_group_40-49', 'age_group_50-59',\n",
       "       'age_group_60-69', 'age_group_70-79', 'age_group_80-89',\n",
       "       'age_group_90+'],\n",
       "      dtype='object')"
      ]
     },
     "execution_count": 108,
     "metadata": {},
     "output_type": "execute_result"
    }
   ],
   "source": [
    "X_train_no_eth.columns"
   ]
  },
  {
   "cell_type": "code",
   "execution_count": 109,
   "id": "d4872c9e",
   "metadata": {},
   "outputs": [],
   "source": [
    "cv_scores = cross_val_score(rf_same, X_train_no_eth, y_train_rus, cv=5, scoring='f1')"
   ]
  },
  {
   "cell_type": "code",
   "execution_count": 110,
   "id": "4fd31f8c",
   "metadata": {},
   "outputs": [
    {
     "data": {
      "text/plain": [
       "array([0.95318127, 0.98504028, 0.9793578 , 0.98165138, 0.9804822 ])"
      ]
     },
     "execution_count": 110,
     "metadata": {},
     "output_type": "execute_result"
    }
   ],
   "source": [
    "cv_scores"
   ]
  },
  {
   "cell_type": "code",
   "execution_count": 111,
   "id": "9551fed0",
   "metadata": {},
   "outputs": [
    {
     "data": {
      "text/plain": [
       "0.9759425854726496"
      ]
     },
     "execution_count": 111,
     "metadata": {},
     "output_type": "execute_result"
    }
   ],
   "source": [
    "cv_scores.mean()"
   ]
  },
  {
   "cell_type": "markdown",
   "id": "9ce4ddd9",
   "metadata": {},
   "source": [
    "#### Test Score with ethnicity"
   ]
  },
  {
   "cell_type": "code",
   "execution_count": 112,
   "id": "9d6a2655",
   "metadata": {},
   "outputs": [
    {
     "data": {
      "text/plain": [
       "RandomForestClassifier(max_features='log2')"
      ]
     },
     "execution_count": 112,
     "metadata": {},
     "output_type": "execute_result"
    }
   ],
   "source": [
    "rf_same.fit(X_onehot_train,y_train_rus)"
   ]
  },
  {
   "cell_type": "code",
   "execution_count": 113,
   "id": "74a4ad52",
   "metadata": {},
   "outputs": [],
   "source": [
    "X_test_onehot=pd.get_dummies(X_test)"
   ]
  },
  {
   "cell_type": "code",
   "execution_count": 114,
   "id": "d76b1be3",
   "metadata": {},
   "outputs": [
    {
     "data": {
      "text/plain": [
       "Index(['icustay_id', 'albumin', 'bacteria', 'glucose', 'bun', 'creatinine',\n",
       "       'sodium', 'potassium', 'hemoglobin', 'wbc', 'hematocrit', 'platelet',\n",
       "       'ptt', 'heartrate', 'sysbp', 'diasbp', 'meanbp', 'resprate', 'tempc',\n",
       "       'spo2', 'specificgravity', 'appetite_median', 'label_cor_art',\n",
       "       'diabetes_mellitus', 'anemia_flag', 'gender_F', 'gender_M',\n",
       "       'ethnicity_grouped_asian', 'ethnicity_grouped_black',\n",
       "       'ethnicity_grouped_hispanic', 'ethnicity_grouped_unknown',\n",
       "       'ethnicity_grouped_white', 'age_group_0-9', 'age_group_10-19',\n",
       "       'age_group_20-29', 'age_group_30-39', 'age_group_40-49',\n",
       "       'age_group_50-59', 'age_group_60-69', 'age_group_70-79',\n",
       "       'age_group_80-89', 'age_group_90+'],\n",
       "      dtype='object')"
      ]
     },
     "execution_count": 114,
     "metadata": {},
     "output_type": "execute_result"
    }
   ],
   "source": [
    "X_test_onehot.columns"
   ]
  },
  {
   "cell_type": "code",
   "execution_count": 115,
   "id": "107236f2",
   "metadata": {},
   "outputs": [],
   "source": [
    "X_test_onehot = X_test_onehot.merge(merged_table[['icustay_id', 'ckd']], on='icustay_id', how='inner')"
   ]
  },
  {
   "cell_type": "code",
   "execution_count": 116,
   "id": "41a041bd",
   "metadata": {},
   "outputs": [],
   "source": [
    "y_test= X_test_onehot['ckd']\n",
    "X_test_onehot= X_test_onehot.drop('ckd',axis=1)"
   ]
  },
  {
   "cell_type": "code",
   "execution_count": 117,
   "id": "992f02c0",
   "metadata": {},
   "outputs": [],
   "source": [
    "X_test_onehot=X_test_onehot.drop('icustay_id',axis=1)"
   ]
  },
  {
   "cell_type": "code",
   "execution_count": 118,
   "id": "ad6a9bfa",
   "metadata": {},
   "outputs": [],
   "source": [
    "y_pred=rf_same.predict(X_test_onehot)"
   ]
  },
  {
   "cell_type": "code",
   "execution_count": 119,
   "id": "b1d6979b",
   "metadata": {},
   "outputs": [],
   "source": [
    "precision = precision_score(y_test, y_pred)\n",
    "recall = recall_score(y_test, y_pred)\n",
    "f1 = f1_score(y_test, y_pred)\n",
    "accuracy = accuracy_score(y_test, y_pred)"
   ]
  },
  {
   "cell_type": "code",
   "execution_count": 120,
   "id": "af1c1882",
   "metadata": {
    "scrolled": true
   },
   "outputs": [
    {
     "name": "stdout",
     "output_type": "stream",
     "text": [
      "Precision: 0.25925925925925924\n",
      "Recall: 0.1794871794871795\n",
      "F1 Score: 0.21212121212121213\n",
      "Accuracy: 0.9312169312169312\n"
     ]
    }
   ],
   "source": [
    "print(\"Precision:\", precision)\n",
    "print(\"Recall:\", recall)\n",
    "print(\"F1 Score:\", f1)\n",
    "print(\"Accuracy:\", accuracy)"
   ]
  },
  {
   "cell_type": "code",
   "execution_count": 121,
   "id": "adfa9c73",
   "metadata": {},
   "outputs": [
    {
     "name": "stdout",
     "output_type": "stream",
     "text": [
      "[[697  20]\n",
      " [ 32   7]]\n"
     ]
    }
   ],
   "source": [
    "#Observation 188 means high false positive but very low false negative which is good, true positive are very high too\n",
    "\n",
    "#The diagonal elements of the matrix represent the number of correctly classified samples (true positives and true negatives), while the off-diagonal elements represent the number of misclassified samples (false positives and false negatives).\n",
    "\n",
    "cm = confusion_matrix(y_test, y_pred)\n",
    "print(cm)"
   ]
  },
  {
   "cell_type": "markdown",
   "id": "8a191820",
   "metadata": {},
   "source": [
    "#### Test score without ethnicity"
   ]
  },
  {
   "cell_type": "code",
   "execution_count": 122,
   "id": "a33732c8",
   "metadata": {},
   "outputs": [],
   "source": [
    "X_test_onehot_noeth=X_test_onehot.drop(['ethnicity_grouped_asian', 'ethnicity_grouped_black',\n",
    "       'ethnicity_grouped_hispanic', 'ethnicity_grouped_unknown',\n",
    "       'ethnicity_grouped_white'],axis=1)"
   ]
  },
  {
   "cell_type": "code",
   "execution_count": 123,
   "id": "3b35ec45",
   "metadata": {},
   "outputs": [
    {
     "data": {
      "text/plain": [
       "RandomForestClassifier(max_features='log2')"
      ]
     },
     "execution_count": 123,
     "metadata": {},
     "output_type": "execute_result"
    }
   ],
   "source": [
    "rf_same.fit(X_train_no_eth,y_train_rus)"
   ]
  },
  {
   "cell_type": "code",
   "execution_count": 124,
   "id": "33882aa1",
   "metadata": {},
   "outputs": [],
   "source": [
    "y_pred_noeth=rf_same.predict(X_test_onehot_noeth)"
   ]
  },
  {
   "cell_type": "code",
   "execution_count": 125,
   "id": "7e2ce1b1",
   "metadata": {},
   "outputs": [],
   "source": [
    "precision = precision_score(y_test, y_pred_noeth)\n",
    "recall = recall_score(y_test, y_pred_noeth)\n",
    "f1 = f1_score(y_test, y_pred_noeth)\n",
    "accuracy = accuracy_score(y_test, y_pred_noeth)"
   ]
  },
  {
   "cell_type": "code",
   "execution_count": 126,
   "id": "db1125f2",
   "metadata": {},
   "outputs": [
    {
     "name": "stdout",
     "output_type": "stream",
     "text": [
      "Precision: 0.36\n",
      "Recall: 0.23076923076923078\n",
      "F1 Score: 0.28125\n",
      "Accuracy: 0.9391534391534392\n"
     ]
    }
   ],
   "source": [
    "print(\"Precision:\", precision)\n",
    "print(\"Recall:\", recall)\n",
    "print(\"F1 Score:\", f1)\n",
    "print(\"Accuracy:\", accuracy)"
   ]
  },
  {
   "cell_type": "code",
   "execution_count": 127,
   "id": "a407b106",
   "metadata": {},
   "outputs": [
    {
     "name": "stdout",
     "output_type": "stream",
     "text": [
      "[[701  16]\n",
      " [ 30   9]]\n"
     ]
    }
   ],
   "source": [
    "cm = confusion_matrix(y_test,y_pred_noeth)\n",
    "print(cm)"
   ]
  },
  {
   "cell_type": "markdown",
   "id": "aa855bbf",
   "metadata": {},
   "source": [
    "# Time Series"
   ]
  },
  {
   "cell_type": "code",
   "execution_count": 102,
   "id": "454e9734",
   "metadata": {
    "scrolled": true
   },
   "outputs": [
    {
     "data": {
      "text/plain": [
       "'\\nRandom Under sampling -\\n\\nCross-validation scores: [0.66       0.62       0.5        0.78       0.71428571]\\nMean cross-validation score: 0.6548571428571429\\nPrecision: 0.6129032258064516\\nRecall: 0.6129032258064516\\nF1 Score: 0.6129032258064516\\nAccuracy: 0.6190476190476191\\n\\nClassification report:\\n              precision    recall  f1-score   support\\n\\n           0       0.62      0.62      0.62        32\\n           1       0.61      0.61      0.61        31\\n\\n    accuracy                           0.62        63\\n   macro avg       0.62      0.62      0.62        63\\nweighted avg       0.62      0.62      0.62        63\\n\\n\\n\\nRandom Over Sampling- \\n\\nCross-validation scores: [0.84182015 0.85791757 0.86117137 0.85249458 0.85683297]\\nMean cross-validation score: 0.8540473275159046\\nPrecision: 0.8263565891472868\\nRecall: 0.9301919720767888\\nF1 Score: 0.8752052545155993\\nAccuracy: 0.8681699913269731\\n\\nClassification report:\\n              precision    recall  f1-score   support\\n\\n           0       0.92      0.81      0.86       580\\n           1       0.83      0.93      0.88       573\\n\\n    accuracy                           0.87      1153\\n   macro avg       0.87      0.87      0.87      1153\\nweighted avg       0.87      0.87      0.87      1153\\n\\n\\n\\nSMOTE- \\n\\nCross-validation scores: [0.84290358 0.84924078 0.84707158 0.8329718  0.84815618]\\nMean cross-validation score: 0.8440687844739049\\nPrecision: 0.7986463620981388\\nRecall: 0.87569573283859\\nF1 Score: 0.8353982300884956\\nAccuracy: 0.8386816999132697\\n\\nClassification report:\\n              precision    recall  f1-score   support\\n\\n           0       0.88      0.81      0.84       614\\n           1       0.80      0.88      0.84       539\\n\\n    accuracy                           0.84      1153\\n   macro avg       0.84      0.84      0.84      1153\\nweighted avg       0.84      0.84      0.84      1153\\n\\n'"
      ]
     },
     "execution_count": 102,
     "metadata": {},
     "output_type": "execute_result"
    }
   ],
   "source": [
    "labs_windowed\n",
    "\n",
    "'''\n",
    "Random Under sampling -\n",
    "\n",
    "Cross-validation scores: [0.66       0.62       0.5        0.78       0.71428571]\n",
    "Mean cross-validation score: 0.6548571428571429\n",
    "Precision: 0.6129032258064516\n",
    "Recall: 0.6129032258064516\n",
    "F1 Score: 0.6129032258064516\n",
    "Accuracy: 0.6190476190476191\n",
    "\n",
    "Classification report:\n",
    "              precision    recall  f1-score   support\n",
    "\n",
    "           0       0.62      0.62      0.62        32\n",
    "           1       0.61      0.61      0.61        31\n",
    "\n",
    "    accuracy                           0.62        63\n",
    "   macro avg       0.62      0.62      0.62        63\n",
    "weighted avg       0.62      0.62      0.62        63\n",
    "\n",
    "\n",
    "\n",
    "Random Over Sampling- \n",
    "\n",
    "Cross-validation scores: [0.84182015 0.85791757 0.86117137 0.85249458 0.85683297]\n",
    "Mean cross-validation score: 0.8540473275159046\n",
    "Precision: 0.8263565891472868\n",
    "Recall: 0.9301919720767888\n",
    "F1 Score: 0.8752052545155993\n",
    "Accuracy: 0.8681699913269731\n",
    "\n",
    "Classification report:\n",
    "              precision    recall  f1-score   support\n",
    "\n",
    "           0       0.92      0.81      0.86       580\n",
    "           1       0.83      0.93      0.88       573\n",
    "\n",
    "    accuracy                           0.87      1153\n",
    "   macro avg       0.87      0.87      0.87      1153\n",
    "weighted avg       0.87      0.87      0.87      1153\n",
    "\n",
    "\n",
    "\n",
    "SMOTE- \n",
    "\n",
    "Cross-validation scores: [0.84290358 0.84924078 0.84707158 0.8329718  0.84815618]\n",
    "Mean cross-validation score: 0.8440687844739049\n",
    "Precision: 0.7986463620981388\n",
    "Recall: 0.87569573283859\n",
    "F1 Score: 0.8353982300884956\n",
    "Accuracy: 0.8386816999132697\n",
    "\n",
    "Classification report:\n",
    "              precision    recall  f1-score   support\n",
    "\n",
    "           0       0.88      0.81      0.84       614\n",
    "           1       0.80      0.88      0.84       539\n",
    "\n",
    "    accuracy                           0.84      1153\n",
    "   macro avg       0.84      0.84      0.84      1153\n",
    "weighted avg       0.84      0.84      0.84      1153\n",
    "\n",
    "'''"
   ]
  },
  {
   "cell_type": "code",
   "execution_count": 103,
   "id": "c7939991",
   "metadata": {},
   "outputs": [
    {
     "data": {
      "text/html": [
       "<div>\n",
       "<style scoped>\n",
       "    .dataframe tbody tr th:only-of-type {\n",
       "        vertical-align: middle;\n",
       "    }\n",
       "\n",
       "    .dataframe tbody tr th {\n",
       "        vertical-align: top;\n",
       "    }\n",
       "\n",
       "    .dataframe thead th {\n",
       "        text-align: right;\n",
       "    }\n",
       "</style>\n",
       "<table border=\"1\" class=\"dataframe\">\n",
       "  <thead>\n",
       "    <tr style=\"text-align: right;\">\n",
       "      <th></th>\n",
       "      <th>icustay_id</th>\n",
       "      <th>charttime</th>\n",
       "      <th>subject_id</th>\n",
       "      <th>aniongap</th>\n",
       "      <th>albumin</th>\n",
       "      <th>bands</th>\n",
       "      <th>bicarbonate</th>\n",
       "      <th>bilirubin</th>\n",
       "      <th>creatinine</th>\n",
       "      <th>chloride</th>\n",
       "      <th>...</th>\n",
       "      <th>ptt</th>\n",
       "      <th>inr</th>\n",
       "      <th>pt</th>\n",
       "      <th>sodium</th>\n",
       "      <th>bun</th>\n",
       "      <th>wbc</th>\n",
       "      <th>bacteria</th>\n",
       "      <th>ckd</th>\n",
       "      <th>predtime</th>\n",
       "      <th>delta_t_pred</th>\n",
       "    </tr>\n",
       "  </thead>\n",
       "  <tbody>\n",
       "    <tr>\n",
       "      <th>0</th>\n",
       "      <td>218958</td>\n",
       "      <td>2132-08-24 16:00:00</td>\n",
       "      <td>14137.0</td>\n",
       "      <td>13.0</td>\n",
       "      <td>2.6</td>\n",
       "      <td>3.0</td>\n",
       "      <td>25.0</td>\n",
       "      <td>8.5</td>\n",
       "      <td>1.0</td>\n",
       "      <td>105.0</td>\n",
       "      <td>...</td>\n",
       "      <td>36.0</td>\n",
       "      <td>1.3</td>\n",
       "      <td>14.5</td>\n",
       "      <td>139.0</td>\n",
       "      <td>29.0</td>\n",
       "      <td>11.5</td>\n",
       "      <td>2.0</td>\n",
       "      <td>0</td>\n",
       "      <td>2132-08-28 17:07:00</td>\n",
       "      <td>10 days 00:34:00</td>\n",
       "    </tr>\n",
       "    <tr>\n",
       "      <th>1</th>\n",
       "      <td>218958</td>\n",
       "      <td>2132-08-25 00:00:00</td>\n",
       "      <td>14137.0</td>\n",
       "      <td>13.0</td>\n",
       "      <td>2.6</td>\n",
       "      <td>3.0</td>\n",
       "      <td>25.0</td>\n",
       "      <td>8.5</td>\n",
       "      <td>1.0</td>\n",
       "      <td>105.0</td>\n",
       "      <td>...</td>\n",
       "      <td>36.0</td>\n",
       "      <td>1.3</td>\n",
       "      <td>14.5</td>\n",
       "      <td>139.0</td>\n",
       "      <td>29.0</td>\n",
       "      <td>11.5</td>\n",
       "      <td>2.0</td>\n",
       "      <td>0</td>\n",
       "      <td>2132-08-28 17:07:00</td>\n",
       "      <td>10 days 00:34:00</td>\n",
       "    </tr>\n",
       "    <tr>\n",
       "      <th>2</th>\n",
       "      <td>218958</td>\n",
       "      <td>2132-08-25 08:00:00</td>\n",
       "      <td>14137.0</td>\n",
       "      <td>13.0</td>\n",
       "      <td>2.6</td>\n",
       "      <td>3.0</td>\n",
       "      <td>25.0</td>\n",
       "      <td>8.5</td>\n",
       "      <td>1.0</td>\n",
       "      <td>105.0</td>\n",
       "      <td>...</td>\n",
       "      <td>36.0</td>\n",
       "      <td>1.3</td>\n",
       "      <td>14.5</td>\n",
       "      <td>139.0</td>\n",
       "      <td>29.0</td>\n",
       "      <td>11.5</td>\n",
       "      <td>2.0</td>\n",
       "      <td>0</td>\n",
       "      <td>2132-08-28 17:07:00</td>\n",
       "      <td>10 days 00:34:00</td>\n",
       "    </tr>\n",
       "    <tr>\n",
       "      <th>3</th>\n",
       "      <td>218958</td>\n",
       "      <td>2132-08-25 16:00:00</td>\n",
       "      <td>14137.0</td>\n",
       "      <td>13.0</td>\n",
       "      <td>2.6</td>\n",
       "      <td>3.0</td>\n",
       "      <td>25.0</td>\n",
       "      <td>8.5</td>\n",
       "      <td>1.0</td>\n",
       "      <td>105.0</td>\n",
       "      <td>...</td>\n",
       "      <td>36.0</td>\n",
       "      <td>1.3</td>\n",
       "      <td>14.5</td>\n",
       "      <td>139.0</td>\n",
       "      <td>29.0</td>\n",
       "      <td>11.5</td>\n",
       "      <td>2.0</td>\n",
       "      <td>0</td>\n",
       "      <td>2132-08-28 17:07:00</td>\n",
       "      <td>10 days 00:34:00</td>\n",
       "    </tr>\n",
       "    <tr>\n",
       "      <th>4</th>\n",
       "      <td>218958</td>\n",
       "      <td>2132-08-26 00:00:00</td>\n",
       "      <td>14137.0</td>\n",
       "      <td>13.0</td>\n",
       "      <td>2.6</td>\n",
       "      <td>3.0</td>\n",
       "      <td>25.0</td>\n",
       "      <td>8.5</td>\n",
       "      <td>1.0</td>\n",
       "      <td>105.0</td>\n",
       "      <td>...</td>\n",
       "      <td>36.0</td>\n",
       "      <td>1.3</td>\n",
       "      <td>14.5</td>\n",
       "      <td>139.0</td>\n",
       "      <td>29.0</td>\n",
       "      <td>11.5</td>\n",
       "      <td>2.0</td>\n",
       "      <td>0</td>\n",
       "      <td>2132-08-28 17:07:00</td>\n",
       "      <td>10 days 00:34:00</td>\n",
       "    </tr>\n",
       "    <tr>\n",
       "      <th>5</th>\n",
       "      <td>218958</td>\n",
       "      <td>2132-08-26 08:00:00</td>\n",
       "      <td>14137.0</td>\n",
       "      <td>13.0</td>\n",
       "      <td>2.6</td>\n",
       "      <td>3.0</td>\n",
       "      <td>25.0</td>\n",
       "      <td>8.5</td>\n",
       "      <td>1.0</td>\n",
       "      <td>105.0</td>\n",
       "      <td>...</td>\n",
       "      <td>36.0</td>\n",
       "      <td>1.3</td>\n",
       "      <td>14.5</td>\n",
       "      <td>139.0</td>\n",
       "      <td>29.0</td>\n",
       "      <td>11.5</td>\n",
       "      <td>2.0</td>\n",
       "      <td>0</td>\n",
       "      <td>2132-08-28 17:07:00</td>\n",
       "      <td>10 days 00:34:00</td>\n",
       "    </tr>\n",
       "    <tr>\n",
       "      <th>6</th>\n",
       "      <td>218958</td>\n",
       "      <td>2132-08-26 16:00:00</td>\n",
       "      <td>14137.0</td>\n",
       "      <td>13.0</td>\n",
       "      <td>2.6</td>\n",
       "      <td>3.0</td>\n",
       "      <td>25.0</td>\n",
       "      <td>8.5</td>\n",
       "      <td>1.0</td>\n",
       "      <td>105.0</td>\n",
       "      <td>...</td>\n",
       "      <td>36.0</td>\n",
       "      <td>1.3</td>\n",
       "      <td>14.5</td>\n",
       "      <td>139.0</td>\n",
       "      <td>29.0</td>\n",
       "      <td>11.5</td>\n",
       "      <td>2.0</td>\n",
       "      <td>0</td>\n",
       "      <td>2132-08-28 17:07:00</td>\n",
       "      <td>10 days 00:34:00</td>\n",
       "    </tr>\n",
       "    <tr>\n",
       "      <th>7</th>\n",
       "      <td>218958</td>\n",
       "      <td>2132-08-27 00:00:00</td>\n",
       "      <td>14137.0</td>\n",
       "      <td>13.0</td>\n",
       "      <td>2.6</td>\n",
       "      <td>3.0</td>\n",
       "      <td>25.0</td>\n",
       "      <td>8.5</td>\n",
       "      <td>1.0</td>\n",
       "      <td>105.0</td>\n",
       "      <td>...</td>\n",
       "      <td>36.0</td>\n",
       "      <td>1.3</td>\n",
       "      <td>14.5</td>\n",
       "      <td>139.0</td>\n",
       "      <td>29.0</td>\n",
       "      <td>11.5</td>\n",
       "      <td>2.0</td>\n",
       "      <td>0</td>\n",
       "      <td>2132-08-28 17:07:00</td>\n",
       "      <td>10 days 00:34:00</td>\n",
       "    </tr>\n",
       "    <tr>\n",
       "      <th>8</th>\n",
       "      <td>218958</td>\n",
       "      <td>2132-08-27 08:00:00</td>\n",
       "      <td>14137.0</td>\n",
       "      <td>13.0</td>\n",
       "      <td>2.6</td>\n",
       "      <td>3.0</td>\n",
       "      <td>25.0</td>\n",
       "      <td>8.5</td>\n",
       "      <td>1.0</td>\n",
       "      <td>105.0</td>\n",
       "      <td>...</td>\n",
       "      <td>36.0</td>\n",
       "      <td>1.3</td>\n",
       "      <td>14.5</td>\n",
       "      <td>139.0</td>\n",
       "      <td>29.0</td>\n",
       "      <td>11.5</td>\n",
       "      <td>2.0</td>\n",
       "      <td>0</td>\n",
       "      <td>2132-08-28 17:07:00</td>\n",
       "      <td>10 days 00:34:00</td>\n",
       "    </tr>\n",
       "    <tr>\n",
       "      <th>9</th>\n",
       "      <td>218958</td>\n",
       "      <td>2132-08-27 16:00:00</td>\n",
       "      <td>14137.0</td>\n",
       "      <td>13.0</td>\n",
       "      <td>2.6</td>\n",
       "      <td>3.0</td>\n",
       "      <td>25.0</td>\n",
       "      <td>8.5</td>\n",
       "      <td>1.0</td>\n",
       "      <td>105.0</td>\n",
       "      <td>...</td>\n",
       "      <td>36.0</td>\n",
       "      <td>1.3</td>\n",
       "      <td>14.5</td>\n",
       "      <td>139.0</td>\n",
       "      <td>29.0</td>\n",
       "      <td>11.5</td>\n",
       "      <td>2.0</td>\n",
       "      <td>0</td>\n",
       "      <td>2132-08-28 17:07:00</td>\n",
       "      <td>10 days 00:34:00</td>\n",
       "    </tr>\n",
       "    <tr>\n",
       "      <th>10</th>\n",
       "      <td>218958</td>\n",
       "      <td>2132-08-28 00:00:00</td>\n",
       "      <td>14137.0</td>\n",
       "      <td>13.0</td>\n",
       "      <td>2.6</td>\n",
       "      <td>3.0</td>\n",
       "      <td>25.0</td>\n",
       "      <td>8.5</td>\n",
       "      <td>1.0</td>\n",
       "      <td>105.0</td>\n",
       "      <td>...</td>\n",
       "      <td>36.0</td>\n",
       "      <td>1.3</td>\n",
       "      <td>14.5</td>\n",
       "      <td>139.0</td>\n",
       "      <td>29.0</td>\n",
       "      <td>11.5</td>\n",
       "      <td>2.0</td>\n",
       "      <td>0</td>\n",
       "      <td>2132-08-28 17:07:00</td>\n",
       "      <td>10 days 00:34:00</td>\n",
       "    </tr>\n",
       "    <tr>\n",
       "      <th>11</th>\n",
       "      <td>218958</td>\n",
       "      <td>2132-08-28 08:00:00</td>\n",
       "      <td>14137.0</td>\n",
       "      <td>13.0</td>\n",
       "      <td>2.6</td>\n",
       "      <td>3.0</td>\n",
       "      <td>25.0</td>\n",
       "      <td>8.5</td>\n",
       "      <td>1.0</td>\n",
       "      <td>105.0</td>\n",
       "      <td>...</td>\n",
       "      <td>36.0</td>\n",
       "      <td>1.3</td>\n",
       "      <td>14.5</td>\n",
       "      <td>139.0</td>\n",
       "      <td>29.0</td>\n",
       "      <td>11.5</td>\n",
       "      <td>2.0</td>\n",
       "      <td>0</td>\n",
       "      <td>2132-08-28 17:07:00</td>\n",
       "      <td>10 days 00:34:00</td>\n",
       "    </tr>\n",
       "    <tr>\n",
       "      <th>12</th>\n",
       "      <td>218958</td>\n",
       "      <td>2132-08-28 16:00:00</td>\n",
       "      <td>14137.0</td>\n",
       "      <td>13.0</td>\n",
       "      <td>2.6</td>\n",
       "      <td>3.0</td>\n",
       "      <td>25.0</td>\n",
       "      <td>8.5</td>\n",
       "      <td>1.0</td>\n",
       "      <td>105.0</td>\n",
       "      <td>...</td>\n",
       "      <td>36.0</td>\n",
       "      <td>1.3</td>\n",
       "      <td>14.5</td>\n",
       "      <td>139.0</td>\n",
       "      <td>29.0</td>\n",
       "      <td>11.5</td>\n",
       "      <td>2.0</td>\n",
       "      <td>0</td>\n",
       "      <td>2132-08-28 17:07:00</td>\n",
       "      <td>10 days 00:34:00</td>\n",
       "    </tr>\n",
       "  </tbody>\n",
       "</table>\n",
       "<p>13 rows × 26 columns</p>\n",
       "</div>"
      ],
      "text/plain": [
       "    icustay_id           charttime  subject_id  aniongap  albumin  bands  \\\n",
       "0       218958 2132-08-24 16:00:00     14137.0      13.0      2.6    3.0   \n",
       "1       218958 2132-08-25 00:00:00     14137.0      13.0      2.6    3.0   \n",
       "2       218958 2132-08-25 08:00:00     14137.0      13.0      2.6    3.0   \n",
       "3       218958 2132-08-25 16:00:00     14137.0      13.0      2.6    3.0   \n",
       "4       218958 2132-08-26 00:00:00     14137.0      13.0      2.6    3.0   \n",
       "5       218958 2132-08-26 08:00:00     14137.0      13.0      2.6    3.0   \n",
       "6       218958 2132-08-26 16:00:00     14137.0      13.0      2.6    3.0   \n",
       "7       218958 2132-08-27 00:00:00     14137.0      13.0      2.6    3.0   \n",
       "8       218958 2132-08-27 08:00:00     14137.0      13.0      2.6    3.0   \n",
       "9       218958 2132-08-27 16:00:00     14137.0      13.0      2.6    3.0   \n",
       "10      218958 2132-08-28 00:00:00     14137.0      13.0      2.6    3.0   \n",
       "11      218958 2132-08-28 08:00:00     14137.0      13.0      2.6    3.0   \n",
       "12      218958 2132-08-28 16:00:00     14137.0      13.0      2.6    3.0   \n",
       "\n",
       "    bicarbonate  bilirubin  creatinine  chloride  ...   ptt  inr    pt  \\\n",
       "0          25.0        8.5         1.0     105.0  ...  36.0  1.3  14.5   \n",
       "1          25.0        8.5         1.0     105.0  ...  36.0  1.3  14.5   \n",
       "2          25.0        8.5         1.0     105.0  ...  36.0  1.3  14.5   \n",
       "3          25.0        8.5         1.0     105.0  ...  36.0  1.3  14.5   \n",
       "4          25.0        8.5         1.0     105.0  ...  36.0  1.3  14.5   \n",
       "5          25.0        8.5         1.0     105.0  ...  36.0  1.3  14.5   \n",
       "6          25.0        8.5         1.0     105.0  ...  36.0  1.3  14.5   \n",
       "7          25.0        8.5         1.0     105.0  ...  36.0  1.3  14.5   \n",
       "8          25.0        8.5         1.0     105.0  ...  36.0  1.3  14.5   \n",
       "9          25.0        8.5         1.0     105.0  ...  36.0  1.3  14.5   \n",
       "10         25.0        8.5         1.0     105.0  ...  36.0  1.3  14.5   \n",
       "11         25.0        8.5         1.0     105.0  ...  36.0  1.3  14.5   \n",
       "12         25.0        8.5         1.0     105.0  ...  36.0  1.3  14.5   \n",
       "\n",
       "    sodium   bun   wbc  bacteria  ckd            predtime     delta_t_pred  \n",
       "0    139.0  29.0  11.5       2.0    0 2132-08-28 17:07:00 10 days 00:34:00  \n",
       "1    139.0  29.0  11.5       2.0    0 2132-08-28 17:07:00 10 days 00:34:00  \n",
       "2    139.0  29.0  11.5       2.0    0 2132-08-28 17:07:00 10 days 00:34:00  \n",
       "3    139.0  29.0  11.5       2.0    0 2132-08-28 17:07:00 10 days 00:34:00  \n",
       "4    139.0  29.0  11.5       2.0    0 2132-08-28 17:07:00 10 days 00:34:00  \n",
       "5    139.0  29.0  11.5       2.0    0 2132-08-28 17:07:00 10 days 00:34:00  \n",
       "6    139.0  29.0  11.5       2.0    0 2132-08-28 17:07:00 10 days 00:34:00  \n",
       "7    139.0  29.0  11.5       2.0    0 2132-08-28 17:07:00 10 days 00:34:00  \n",
       "8    139.0  29.0  11.5       2.0    0 2132-08-28 17:07:00 10 days 00:34:00  \n",
       "9    139.0  29.0  11.5       2.0    0 2132-08-28 17:07:00 10 days 00:34:00  \n",
       "10   139.0  29.0  11.5       2.0    0 2132-08-28 17:07:00 10 days 00:34:00  \n",
       "11   139.0  29.0  11.5       2.0    0 2132-08-28 17:07:00 10 days 00:34:00  \n",
       "12   139.0  29.0  11.5       2.0    0 2132-08-28 17:07:00 10 days 00:34:00  \n",
       "\n",
       "[13 rows x 26 columns]"
      ]
     },
     "execution_count": 103,
     "metadata": {},
     "output_type": "execute_result"
    }
   ],
   "source": [
    "labs_windowed[labs_windowed['icustay_id']==218958]"
   ]
  },
  {
   "cell_type": "code",
   "execution_count": 104,
   "id": "221ddadf",
   "metadata": {
    "scrolled": true
   },
   "outputs": [
    {
     "data": {
      "text/html": [
       "<div>\n",
       "<style scoped>\n",
       "    .dataframe tbody tr th:only-of-type {\n",
       "        vertical-align: middle;\n",
       "    }\n",
       "\n",
       "    .dataframe tbody tr th {\n",
       "        vertical-align: top;\n",
       "    }\n",
       "\n",
       "    .dataframe thead th {\n",
       "        text-align: right;\n",
       "    }\n",
       "</style>\n",
       "<table border=\"1\" class=\"dataframe\">\n",
       "  <thead>\n",
       "    <tr style=\"text-align: right;\">\n",
       "      <th></th>\n",
       "      <th>icustay_id</th>\n",
       "      <th>charttime</th>\n",
       "      <th>subject_id</th>\n",
       "      <th>aniongap</th>\n",
       "      <th>albumin</th>\n",
       "      <th>bands</th>\n",
       "      <th>bicarbonate</th>\n",
       "      <th>bilirubin</th>\n",
       "      <th>creatinine</th>\n",
       "      <th>chloride</th>\n",
       "      <th>...</th>\n",
       "      <th>ptt</th>\n",
       "      <th>inr</th>\n",
       "      <th>pt</th>\n",
       "      <th>sodium</th>\n",
       "      <th>bun</th>\n",
       "      <th>wbc</th>\n",
       "      <th>bacteria</th>\n",
       "      <th>ckd</th>\n",
       "      <th>predtime</th>\n",
       "      <th>delta_t_pred</th>\n",
       "    </tr>\n",
       "  </thead>\n",
       "  <tbody>\n",
       "    <tr>\n",
       "      <th>534933</th>\n",
       "      <td>224889</td>\n",
       "      <td>2114-03-12 01:00:00</td>\n",
       "      <td>26649.0</td>\n",
       "      <td>13.0</td>\n",
       "      <td>1.8</td>\n",
       "      <td>2.0</td>\n",
       "      <td>18.0</td>\n",
       "      <td>0.5</td>\n",
       "      <td>0.80</td>\n",
       "      <td>112.0</td>\n",
       "      <td>...</td>\n",
       "      <td>36.50</td>\n",
       "      <td>1.2</td>\n",
       "      <td>13.3</td>\n",
       "      <td>139.0</td>\n",
       "      <td>23.0</td>\n",
       "      <td>2.70</td>\n",
       "      <td>2.0</td>\n",
       "      <td>0</td>\n",
       "      <td>2114-03-16 01:26:12</td>\n",
       "      <td>19 days 16:15:36</td>\n",
       "    </tr>\n",
       "    <tr>\n",
       "      <th>534934</th>\n",
       "      <td>224889</td>\n",
       "      <td>2114-03-12 09:00:00</td>\n",
       "      <td>26649.0</td>\n",
       "      <td>16.0</td>\n",
       "      <td>1.8</td>\n",
       "      <td>2.0</td>\n",
       "      <td>17.0</td>\n",
       "      <td>0.5</td>\n",
       "      <td>0.85</td>\n",
       "      <td>109.5</td>\n",
       "      <td>...</td>\n",
       "      <td>36.50</td>\n",
       "      <td>1.2</td>\n",
       "      <td>13.3</td>\n",
       "      <td>137.5</td>\n",
       "      <td>20.5</td>\n",
       "      <td>4.45</td>\n",
       "      <td>2.0</td>\n",
       "      <td>0</td>\n",
       "      <td>2114-03-16 01:26:12</td>\n",
       "      <td>19 days 16:15:36</td>\n",
       "    </tr>\n",
       "    <tr>\n",
       "      <th>534935</th>\n",
       "      <td>224889</td>\n",
       "      <td>2114-03-12 17:00:00</td>\n",
       "      <td>26649.0</td>\n",
       "      <td>17.0</td>\n",
       "      <td>2.2</td>\n",
       "      <td>2.0</td>\n",
       "      <td>18.0</td>\n",
       "      <td>0.5</td>\n",
       "      <td>0.95</td>\n",
       "      <td>108.0</td>\n",
       "      <td>...</td>\n",
       "      <td>36.50</td>\n",
       "      <td>1.2</td>\n",
       "      <td>13.3</td>\n",
       "      <td>138.0</td>\n",
       "      <td>19.5</td>\n",
       "      <td>6.40</td>\n",
       "      <td>2.0</td>\n",
       "      <td>0</td>\n",
       "      <td>2114-03-16 01:26:12</td>\n",
       "      <td>19 days 16:15:36</td>\n",
       "    </tr>\n",
       "    <tr>\n",
       "      <th>534936</th>\n",
       "      <td>224889</td>\n",
       "      <td>2114-03-13 01:00:00</td>\n",
       "      <td>26649.0</td>\n",
       "      <td>15.0</td>\n",
       "      <td>2.2</td>\n",
       "      <td>2.0</td>\n",
       "      <td>20.0</td>\n",
       "      <td>0.7</td>\n",
       "      <td>1.00</td>\n",
       "      <td>105.0</td>\n",
       "      <td>...</td>\n",
       "      <td>68.70</td>\n",
       "      <td>1.9</td>\n",
       "      <td>17.1</td>\n",
       "      <td>135.0</td>\n",
       "      <td>20.0</td>\n",
       "      <td>8.80</td>\n",
       "      <td>2.0</td>\n",
       "      <td>0</td>\n",
       "      <td>2114-03-16 01:26:12</td>\n",
       "      <td>19 days 16:15:36</td>\n",
       "    </tr>\n",
       "    <tr>\n",
       "      <th>534937</th>\n",
       "      <td>224889</td>\n",
       "      <td>2114-03-13 09:00:00</td>\n",
       "      <td>26649.0</td>\n",
       "      <td>15.5</td>\n",
       "      <td>2.5</td>\n",
       "      <td>2.0</td>\n",
       "      <td>22.0</td>\n",
       "      <td>0.8</td>\n",
       "      <td>1.05</td>\n",
       "      <td>106.0</td>\n",
       "      <td>...</td>\n",
       "      <td>104.55</td>\n",
       "      <td>2.0</td>\n",
       "      <td>17.2</td>\n",
       "      <td>139.5</td>\n",
       "      <td>19.0</td>\n",
       "      <td>7.50</td>\n",
       "      <td>2.0</td>\n",
       "      <td>0</td>\n",
       "      <td>2114-03-16 01:26:12</td>\n",
       "      <td>19 days 16:15:36</td>\n",
       "    </tr>\n",
       "    <tr>\n",
       "      <th>534938</th>\n",
       "      <td>224889</td>\n",
       "      <td>2114-03-13 17:00:00</td>\n",
       "      <td>26649.0</td>\n",
       "      <td>15.5</td>\n",
       "      <td>2.5</td>\n",
       "      <td>2.0</td>\n",
       "      <td>22.0</td>\n",
       "      <td>0.8</td>\n",
       "      <td>1.05</td>\n",
       "      <td>106.0</td>\n",
       "      <td>...</td>\n",
       "      <td>51.80</td>\n",
       "      <td>1.4</td>\n",
       "      <td>14.5</td>\n",
       "      <td>139.5</td>\n",
       "      <td>19.0</td>\n",
       "      <td>7.10</td>\n",
       "      <td>2.0</td>\n",
       "      <td>0</td>\n",
       "      <td>2114-03-16 01:26:12</td>\n",
       "      <td>19 days 16:15:36</td>\n",
       "    </tr>\n",
       "    <tr>\n",
       "      <th>534939</th>\n",
       "      <td>224889</td>\n",
       "      <td>2114-03-14 01:00:00</td>\n",
       "      <td>26649.0</td>\n",
       "      <td>12.0</td>\n",
       "      <td>2.5</td>\n",
       "      <td>2.0</td>\n",
       "      <td>26.0</td>\n",
       "      <td>1.0</td>\n",
       "      <td>1.00</td>\n",
       "      <td>107.0</td>\n",
       "      <td>...</td>\n",
       "      <td>44.30</td>\n",
       "      <td>1.3</td>\n",
       "      <td>13.9</td>\n",
       "      <td>142.0</td>\n",
       "      <td>18.0</td>\n",
       "      <td>7.60</td>\n",
       "      <td>2.0</td>\n",
       "      <td>0</td>\n",
       "      <td>2114-03-16 01:26:12</td>\n",
       "      <td>19 days 16:15:36</td>\n",
       "    </tr>\n",
       "    <tr>\n",
       "      <th>534940</th>\n",
       "      <td>224889</td>\n",
       "      <td>2114-03-14 09:00:00</td>\n",
       "      <td>26649.0</td>\n",
       "      <td>12.0</td>\n",
       "      <td>2.5</td>\n",
       "      <td>2.0</td>\n",
       "      <td>26.0</td>\n",
       "      <td>1.0</td>\n",
       "      <td>1.00</td>\n",
       "      <td>107.0</td>\n",
       "      <td>...</td>\n",
       "      <td>44.30</td>\n",
       "      <td>1.3</td>\n",
       "      <td>13.9</td>\n",
       "      <td>142.0</td>\n",
       "      <td>18.0</td>\n",
       "      <td>7.60</td>\n",
       "      <td>2.0</td>\n",
       "      <td>0</td>\n",
       "      <td>2114-03-16 01:26:12</td>\n",
       "      <td>19 days 16:15:36</td>\n",
       "    </tr>\n",
       "    <tr>\n",
       "      <th>534941</th>\n",
       "      <td>224889</td>\n",
       "      <td>2114-03-14 17:00:00</td>\n",
       "      <td>26649.0</td>\n",
       "      <td>12.0</td>\n",
       "      <td>2.5</td>\n",
       "      <td>2.0</td>\n",
       "      <td>28.0</td>\n",
       "      <td>1.0</td>\n",
       "      <td>1.00</td>\n",
       "      <td>107.0</td>\n",
       "      <td>...</td>\n",
       "      <td>37.70</td>\n",
       "      <td>1.2</td>\n",
       "      <td>13.6</td>\n",
       "      <td>144.0</td>\n",
       "      <td>20.0</td>\n",
       "      <td>7.50</td>\n",
       "      <td>2.0</td>\n",
       "      <td>0</td>\n",
       "      <td>2114-03-16 01:26:12</td>\n",
       "      <td>19 days 16:15:36</td>\n",
       "    </tr>\n",
       "    <tr>\n",
       "      <th>534942</th>\n",
       "      <td>224889</td>\n",
       "      <td>2114-03-15 01:00:00</td>\n",
       "      <td>26649.0</td>\n",
       "      <td>11.0</td>\n",
       "      <td>2.5</td>\n",
       "      <td>2.0</td>\n",
       "      <td>27.0</td>\n",
       "      <td>1.0</td>\n",
       "      <td>0.90</td>\n",
       "      <td>107.0</td>\n",
       "      <td>...</td>\n",
       "      <td>36.90</td>\n",
       "      <td>1.2</td>\n",
       "      <td>13.3</td>\n",
       "      <td>142.0</td>\n",
       "      <td>20.0</td>\n",
       "      <td>6.40</td>\n",
       "      <td>2.0</td>\n",
       "      <td>0</td>\n",
       "      <td>2114-03-16 01:26:12</td>\n",
       "      <td>19 days 16:15:36</td>\n",
       "    </tr>\n",
       "    <tr>\n",
       "      <th>534943</th>\n",
       "      <td>224889</td>\n",
       "      <td>2114-03-15 09:00:00</td>\n",
       "      <td>26649.0</td>\n",
       "      <td>11.0</td>\n",
       "      <td>2.5</td>\n",
       "      <td>2.0</td>\n",
       "      <td>27.0</td>\n",
       "      <td>1.0</td>\n",
       "      <td>0.90</td>\n",
       "      <td>107.0</td>\n",
       "      <td>...</td>\n",
       "      <td>36.90</td>\n",
       "      <td>1.2</td>\n",
       "      <td>13.3</td>\n",
       "      <td>142.0</td>\n",
       "      <td>20.0</td>\n",
       "      <td>6.40</td>\n",
       "      <td>2.0</td>\n",
       "      <td>0</td>\n",
       "      <td>2114-03-16 01:26:12</td>\n",
       "      <td>19 days 16:15:36</td>\n",
       "    </tr>\n",
       "    <tr>\n",
       "      <th>534944</th>\n",
       "      <td>224889</td>\n",
       "      <td>2114-03-15 17:00:00</td>\n",
       "      <td>26649.0</td>\n",
       "      <td>9.0</td>\n",
       "      <td>2.5</td>\n",
       "      <td>2.0</td>\n",
       "      <td>30.0</td>\n",
       "      <td>1.0</td>\n",
       "      <td>0.90</td>\n",
       "      <td>108.0</td>\n",
       "      <td>...</td>\n",
       "      <td>36.90</td>\n",
       "      <td>1.2</td>\n",
       "      <td>13.3</td>\n",
       "      <td>144.0</td>\n",
       "      <td>20.0</td>\n",
       "      <td>5.60</td>\n",
       "      <td>2.0</td>\n",
       "      <td>0</td>\n",
       "      <td>2114-03-16 01:26:12</td>\n",
       "      <td>19 days 16:15:36</td>\n",
       "    </tr>\n",
       "    <tr>\n",
       "      <th>534945</th>\n",
       "      <td>224889</td>\n",
       "      <td>2114-03-16 01:00:00</td>\n",
       "      <td>26649.0</td>\n",
       "      <td>10.0</td>\n",
       "      <td>2.5</td>\n",
       "      <td>2.0</td>\n",
       "      <td>31.0</td>\n",
       "      <td>1.0</td>\n",
       "      <td>0.90</td>\n",
       "      <td>107.0</td>\n",
       "      <td>...</td>\n",
       "      <td>35.70</td>\n",
       "      <td>1.2</td>\n",
       "      <td>13.5</td>\n",
       "      <td>145.0</td>\n",
       "      <td>21.0</td>\n",
       "      <td>5.00</td>\n",
       "      <td>2.0</td>\n",
       "      <td>0</td>\n",
       "      <td>2114-03-16 01:26:12</td>\n",
       "      <td>19 days 16:15:36</td>\n",
       "    </tr>\n",
       "  </tbody>\n",
       "</table>\n",
       "<p>13 rows × 26 columns</p>\n",
       "</div>"
      ],
      "text/plain": [
       "        icustay_id           charttime  subject_id  aniongap  albumin  bands  \\\n",
       "534933      224889 2114-03-12 01:00:00     26649.0      13.0      1.8    2.0   \n",
       "534934      224889 2114-03-12 09:00:00     26649.0      16.0      1.8    2.0   \n",
       "534935      224889 2114-03-12 17:00:00     26649.0      17.0      2.2    2.0   \n",
       "534936      224889 2114-03-13 01:00:00     26649.0      15.0      2.2    2.0   \n",
       "534937      224889 2114-03-13 09:00:00     26649.0      15.5      2.5    2.0   \n",
       "534938      224889 2114-03-13 17:00:00     26649.0      15.5      2.5    2.0   \n",
       "534939      224889 2114-03-14 01:00:00     26649.0      12.0      2.5    2.0   \n",
       "534940      224889 2114-03-14 09:00:00     26649.0      12.0      2.5    2.0   \n",
       "534941      224889 2114-03-14 17:00:00     26649.0      12.0      2.5    2.0   \n",
       "534942      224889 2114-03-15 01:00:00     26649.0      11.0      2.5    2.0   \n",
       "534943      224889 2114-03-15 09:00:00     26649.0      11.0      2.5    2.0   \n",
       "534944      224889 2114-03-15 17:00:00     26649.0       9.0      2.5    2.0   \n",
       "534945      224889 2114-03-16 01:00:00     26649.0      10.0      2.5    2.0   \n",
       "\n",
       "        bicarbonate  bilirubin  creatinine  chloride  ...     ptt  inr    pt  \\\n",
       "534933         18.0        0.5        0.80     112.0  ...   36.50  1.2  13.3   \n",
       "534934         17.0        0.5        0.85     109.5  ...   36.50  1.2  13.3   \n",
       "534935         18.0        0.5        0.95     108.0  ...   36.50  1.2  13.3   \n",
       "534936         20.0        0.7        1.00     105.0  ...   68.70  1.9  17.1   \n",
       "534937         22.0        0.8        1.05     106.0  ...  104.55  2.0  17.2   \n",
       "534938         22.0        0.8        1.05     106.0  ...   51.80  1.4  14.5   \n",
       "534939         26.0        1.0        1.00     107.0  ...   44.30  1.3  13.9   \n",
       "534940         26.0        1.0        1.00     107.0  ...   44.30  1.3  13.9   \n",
       "534941         28.0        1.0        1.00     107.0  ...   37.70  1.2  13.6   \n",
       "534942         27.0        1.0        0.90     107.0  ...   36.90  1.2  13.3   \n",
       "534943         27.0        1.0        0.90     107.0  ...   36.90  1.2  13.3   \n",
       "534944         30.0        1.0        0.90     108.0  ...   36.90  1.2  13.3   \n",
       "534945         31.0        1.0        0.90     107.0  ...   35.70  1.2  13.5   \n",
       "\n",
       "        sodium   bun   wbc  bacteria  ckd            predtime     delta_t_pred  \n",
       "534933   139.0  23.0  2.70       2.0    0 2114-03-16 01:26:12 19 days 16:15:36  \n",
       "534934   137.5  20.5  4.45       2.0    0 2114-03-16 01:26:12 19 days 16:15:36  \n",
       "534935   138.0  19.5  6.40       2.0    0 2114-03-16 01:26:12 19 days 16:15:36  \n",
       "534936   135.0  20.0  8.80       2.0    0 2114-03-16 01:26:12 19 days 16:15:36  \n",
       "534937   139.5  19.0  7.50       2.0    0 2114-03-16 01:26:12 19 days 16:15:36  \n",
       "534938   139.5  19.0  7.10       2.0    0 2114-03-16 01:26:12 19 days 16:15:36  \n",
       "534939   142.0  18.0  7.60       2.0    0 2114-03-16 01:26:12 19 days 16:15:36  \n",
       "534940   142.0  18.0  7.60       2.0    0 2114-03-16 01:26:12 19 days 16:15:36  \n",
       "534941   144.0  20.0  7.50       2.0    0 2114-03-16 01:26:12 19 days 16:15:36  \n",
       "534942   142.0  20.0  6.40       2.0    0 2114-03-16 01:26:12 19 days 16:15:36  \n",
       "534943   142.0  20.0  6.40       2.0    0 2114-03-16 01:26:12 19 days 16:15:36  \n",
       "534944   144.0  20.0  5.60       2.0    0 2114-03-16 01:26:12 19 days 16:15:36  \n",
       "534945   145.0  21.0  5.00       2.0    0 2114-03-16 01:26:12 19 days 16:15:36  \n",
       "\n",
       "[13 rows x 26 columns]"
      ]
     },
     "execution_count": 104,
     "metadata": {},
     "output_type": "execute_result"
    }
   ],
   "source": [
    "labs_windowed[labs_windowed['icustay_id']==224889]"
   ]
  },
  {
   "cell_type": "code",
   "execution_count": 105,
   "id": "718f6dc0",
   "metadata": {},
   "outputs": [
    {
     "data": {
      "text/plain": [
       "'\\nfor icu_id in labs_windowed[\\'icustay_id\\'].unique():\\n    icu_data =  labs_windowed[labs_windowed[\\'icustay_id\\'] == icu_id]\\n    diff = icu_data[\\'charttime\\'].max() - icu_data[\\'charttime\\'].min()\\n    if diff < pd.Timedelta(days=3):\\n        print(f\"ICU stay ID {icu_id}: {diff}\")\\n'"
      ]
     },
     "execution_count": 105,
     "metadata": {},
     "output_type": "execute_result"
    }
   ],
   "source": [
    "#Observation: 1 patient has approximately half of the data that we actually need\n",
    "'''\n",
    "for icu_id in labs_windowed['icustay_id'].unique():\n",
    "    icu_data =  labs_windowed[labs_windowed['icustay_id'] == icu_id]\n",
    "    diff = icu_data['charttime'].max() - icu_data['charttime'].min()\n",
    "    if diff < pd.Timedelta(days=3):\n",
    "        print(f\"ICU stay ID {icu_id}: {diff}\")\n",
    "'''"
   ]
  },
  {
   "cell_type": "code",
   "execution_count": 106,
   "id": "a9196b0b",
   "metadata": {},
   "outputs": [
    {
     "data": {
      "text/plain": [
       "\"\\nct=0\\nfor icu_id in vitals_windowed['icustay_id'].unique():\\n    icu_data_v =  vitals_windowed[vitals_windowed['icustay_id'] == icu_id]\\n    diff_v = icu_data_v['charttime'].max() - icu_data_v['charttime'].min()\\n    icu_data_l =  labs_windowed[labs_windowed['icustay_id'] == icu_id]\\n    diff_l = icu_data_l['charttime'].max() - icu_data_l['charttime'].min()\\n    if diff_v == pd.Timedelta(hours=WINDOW_LENGTH) and diff_l == pd.Timedelta(hours=WINDOW_LENGTH):\\n        ct+=1\\nprint(ct)\\n\""
      ]
     },
     "execution_count": 106,
     "metadata": {},
     "output_type": "execute_result"
    }
   ],
   "source": [
    "#Observation: 3038 instances have a total of 4 days (exact) data in both labs and vitals\n",
    "#Observation: 4011 instances have a total of 2 days (exact) data in both labs and vitals\n",
    "'''\n",
    "ct=0\n",
    "for icu_id in vitals_windowed['icustay_id'].unique():\n",
    "    icu_data_v =  vitals_windowed[vitals_windowed['icustay_id'] == icu_id]\n",
    "    diff_v = icu_data_v['charttime'].max() - icu_data_v['charttime'].min()\n",
    "    icu_data_l =  labs_windowed[labs_windowed['icustay_id'] == icu_id]\n",
    "    diff_l = icu_data_l['charttime'].max() - icu_data_l['charttime'].min()\n",
    "    if diff_v == pd.Timedelta(hours=WINDOW_LENGTH) and diff_l == pd.Timedelta(hours=WINDOW_LENGTH):\n",
    "        ct+=1\n",
    "print(ct)\n",
    "'''"
   ]
  },
  {
   "cell_type": "markdown",
   "id": "a53b012e",
   "metadata": {},
   "source": [
    "#### Filtering records that have exactly 4 days (96 hours) of data in both labs and vitals"
   ]
  },
  {
   "cell_type": "code",
   "execution_count": 107,
   "id": "0eb16ca7",
   "metadata": {},
   "outputs": [
    {
     "name": "stdout",
     "output_type": "stream",
     "text": [
      "3038\n"
     ]
    }
   ],
   "source": [
    "# Calculate the difference between max and min charttime for labs_windowed\n",
    "labs_diff = labs_windowed.groupby('icustay_id')['charttime'].apply(lambda x: x.max() - x.min())\n",
    "\n",
    "# Calculate the difference between max and min charttime for vitals_windowed\n",
    "vitals_diff = vitals_windowed.groupby('icustay_id')['charttime'].apply(lambda x: x.max() - x.min())\n",
    "\n",
    "# Filter the icustay_id where the difference is equal to 96 hours (4 days) in both labs and vitals\n",
    "filtered_icustay_ids = labs_diff[(labs_diff == pd.Timedelta(hours=WINDOW_LENGTH)) & (vitals_diff == pd.Timedelta(hours=WINDOW_LENGTH))].index.tolist()\n",
    "\n",
    "# Print the length of icustay_id\n",
    "print(len(filtered_icustay_ids))"
   ]
  },
  {
   "cell_type": "code",
   "execution_count": 108,
   "id": "3a109765",
   "metadata": {},
   "outputs": [],
   "source": [
    "filtered_labs_windowed = labs_windowed[labs_windowed['icustay_id'].isin(filtered_icustay_ids)]"
   ]
  },
  {
   "cell_type": "code",
   "execution_count": 109,
   "id": "3c9bd6ce",
   "metadata": {},
   "outputs": [
    {
     "data": {
      "text/html": [
       "<div>\n",
       "<style scoped>\n",
       "    .dataframe tbody tr th:only-of-type {\n",
       "        vertical-align: middle;\n",
       "    }\n",
       "\n",
       "    .dataframe tbody tr th {\n",
       "        vertical-align: top;\n",
       "    }\n",
       "\n",
       "    .dataframe thead th {\n",
       "        text-align: right;\n",
       "    }\n",
       "</style>\n",
       "<table border=\"1\" class=\"dataframe\">\n",
       "  <thead>\n",
       "    <tr style=\"text-align: right;\">\n",
       "      <th></th>\n",
       "      <th>icustay_id</th>\n",
       "      <th>charttime</th>\n",
       "      <th>subject_id</th>\n",
       "      <th>aniongap</th>\n",
       "      <th>albumin</th>\n",
       "      <th>bands</th>\n",
       "      <th>bicarbonate</th>\n",
       "      <th>bilirubin</th>\n",
       "      <th>creatinine</th>\n",
       "      <th>chloride</th>\n",
       "      <th>...</th>\n",
       "      <th>ptt</th>\n",
       "      <th>inr</th>\n",
       "      <th>pt</th>\n",
       "      <th>sodium</th>\n",
       "      <th>bun</th>\n",
       "      <th>wbc</th>\n",
       "      <th>bacteria</th>\n",
       "      <th>ckd</th>\n",
       "      <th>predtime</th>\n",
       "      <th>delta_t_pred</th>\n",
       "    </tr>\n",
       "  </thead>\n",
       "  <tbody>\n",
       "  </tbody>\n",
       "</table>\n",
       "<p>0 rows × 26 columns</p>\n",
       "</div>"
      ],
      "text/plain": [
       "Empty DataFrame\n",
       "Columns: [icustay_id, charttime, subject_id, aniongap, albumin, bands, bicarbonate, bilirubin, creatinine, chloride, glucose, hematocrit, hemoglobin, lactate, platelet, potassium, ptt, inr, pt, sodium, bun, wbc, bacteria, ckd, predtime, delta_t_pred]\n",
       "Index: []\n",
       "\n",
       "[0 rows x 26 columns]"
      ]
     },
     "execution_count": 109,
     "metadata": {},
     "output_type": "execute_result"
    }
   ],
   "source": [
    "filtered_labs_windowed[filtered_labs_windowed['icustay_id']==253641] "
   ]
  },
  {
   "cell_type": "code",
   "execution_count": 110,
   "id": "1fd450b7",
   "metadata": {},
   "outputs": [
    {
     "data": {
      "text/html": [
       "<div>\n",
       "<style scoped>\n",
       "    .dataframe tbody tr th:only-of-type {\n",
       "        vertical-align: middle;\n",
       "    }\n",
       "\n",
       "    .dataframe tbody tr th {\n",
       "        vertical-align: top;\n",
       "    }\n",
       "\n",
       "    .dataframe thead th {\n",
       "        text-align: right;\n",
       "    }\n",
       "</style>\n",
       "<table border=\"1\" class=\"dataframe\">\n",
       "  <thead>\n",
       "    <tr style=\"text-align: right;\">\n",
       "      <th></th>\n",
       "      <th>icustay_id</th>\n",
       "      <th>charttime</th>\n",
       "      <th>subject_id</th>\n",
       "      <th>aniongap</th>\n",
       "      <th>albumin</th>\n",
       "      <th>bands</th>\n",
       "      <th>bicarbonate</th>\n",
       "      <th>bilirubin</th>\n",
       "      <th>creatinine</th>\n",
       "      <th>chloride</th>\n",
       "      <th>...</th>\n",
       "      <th>ptt</th>\n",
       "      <th>inr</th>\n",
       "      <th>pt</th>\n",
       "      <th>sodium</th>\n",
       "      <th>bun</th>\n",
       "      <th>wbc</th>\n",
       "      <th>bacteria</th>\n",
       "      <th>ckd</th>\n",
       "      <th>predtime</th>\n",
       "      <th>delta_t_pred</th>\n",
       "    </tr>\n",
       "  </thead>\n",
       "  <tbody>\n",
       "    <tr>\n",
       "      <th>41</th>\n",
       "      <td>241427</td>\n",
       "      <td>2151-11-07 01:00:00</td>\n",
       "      <td>28970.0</td>\n",
       "      <td>11.0</td>\n",
       "      <td>2.6</td>\n",
       "      <td>3.0</td>\n",
       "      <td>23.0</td>\n",
       "      <td>4.3</td>\n",
       "      <td>1.0</td>\n",
       "      <td>108.0</td>\n",
       "      <td>...</td>\n",
       "      <td>36.0</td>\n",
       "      <td>1.3</td>\n",
       "      <td>14.5</td>\n",
       "      <td>138.0</td>\n",
       "      <td>29.0</td>\n",
       "      <td>11.5</td>\n",
       "      <td>2.0</td>\n",
       "      <td>0</td>\n",
       "      <td>2151-11-11 01:49:18</td>\n",
       "      <td>27 days 17:57:20</td>\n",
       "    </tr>\n",
       "    <tr>\n",
       "      <th>42</th>\n",
       "      <td>241427</td>\n",
       "      <td>2151-11-07 09:00:00</td>\n",
       "      <td>28970.0</td>\n",
       "      <td>11.0</td>\n",
       "      <td>2.6</td>\n",
       "      <td>3.0</td>\n",
       "      <td>23.0</td>\n",
       "      <td>4.3</td>\n",
       "      <td>1.0</td>\n",
       "      <td>108.0</td>\n",
       "      <td>...</td>\n",
       "      <td>36.0</td>\n",
       "      <td>1.3</td>\n",
       "      <td>14.5</td>\n",
       "      <td>138.0</td>\n",
       "      <td>29.0</td>\n",
       "      <td>11.5</td>\n",
       "      <td>2.0</td>\n",
       "      <td>0</td>\n",
       "      <td>2151-11-11 01:49:18</td>\n",
       "      <td>27 days 17:57:20</td>\n",
       "    </tr>\n",
       "    <tr>\n",
       "      <th>43</th>\n",
       "      <td>241427</td>\n",
       "      <td>2151-11-07 17:00:00</td>\n",
       "      <td>28970.0</td>\n",
       "      <td>11.0</td>\n",
       "      <td>2.6</td>\n",
       "      <td>3.0</td>\n",
       "      <td>23.0</td>\n",
       "      <td>4.3</td>\n",
       "      <td>1.0</td>\n",
       "      <td>108.0</td>\n",
       "      <td>...</td>\n",
       "      <td>36.0</td>\n",
       "      <td>1.3</td>\n",
       "      <td>14.5</td>\n",
       "      <td>138.0</td>\n",
       "      <td>29.0</td>\n",
       "      <td>11.5</td>\n",
       "      <td>2.0</td>\n",
       "      <td>0</td>\n",
       "      <td>2151-11-11 01:49:18</td>\n",
       "      <td>27 days 17:57:20</td>\n",
       "    </tr>\n",
       "    <tr>\n",
       "      <th>44</th>\n",
       "      <td>241427</td>\n",
       "      <td>2151-11-08 01:00:00</td>\n",
       "      <td>28970.0</td>\n",
       "      <td>11.0</td>\n",
       "      <td>2.6</td>\n",
       "      <td>3.0</td>\n",
       "      <td>23.0</td>\n",
       "      <td>4.3</td>\n",
       "      <td>1.0</td>\n",
       "      <td>108.0</td>\n",
       "      <td>...</td>\n",
       "      <td>36.0</td>\n",
       "      <td>1.3</td>\n",
       "      <td>14.5</td>\n",
       "      <td>138.0</td>\n",
       "      <td>29.0</td>\n",
       "      <td>11.5</td>\n",
       "      <td>2.0</td>\n",
       "      <td>0</td>\n",
       "      <td>2151-11-11 01:49:18</td>\n",
       "      <td>27 days 17:57:20</td>\n",
       "    </tr>\n",
       "    <tr>\n",
       "      <th>45</th>\n",
       "      <td>241427</td>\n",
       "      <td>2151-11-08 09:00:00</td>\n",
       "      <td>28970.0</td>\n",
       "      <td>11.0</td>\n",
       "      <td>2.6</td>\n",
       "      <td>3.0</td>\n",
       "      <td>23.0</td>\n",
       "      <td>4.3</td>\n",
       "      <td>1.0</td>\n",
       "      <td>108.0</td>\n",
       "      <td>...</td>\n",
       "      <td>36.0</td>\n",
       "      <td>1.3</td>\n",
       "      <td>14.5</td>\n",
       "      <td>138.0</td>\n",
       "      <td>29.0</td>\n",
       "      <td>11.5</td>\n",
       "      <td>2.0</td>\n",
       "      <td>0</td>\n",
       "      <td>2151-11-11 01:49:18</td>\n",
       "      <td>27 days 17:57:20</td>\n",
       "    </tr>\n",
       "  </tbody>\n",
       "</table>\n",
       "<p>5 rows × 26 columns</p>\n",
       "</div>"
      ],
      "text/plain": [
       "    icustay_id           charttime  subject_id  aniongap  albumin  bands  \\\n",
       "41      241427 2151-11-07 01:00:00     28970.0      11.0      2.6    3.0   \n",
       "42      241427 2151-11-07 09:00:00     28970.0      11.0      2.6    3.0   \n",
       "43      241427 2151-11-07 17:00:00     28970.0      11.0      2.6    3.0   \n",
       "44      241427 2151-11-08 01:00:00     28970.0      11.0      2.6    3.0   \n",
       "45      241427 2151-11-08 09:00:00     28970.0      11.0      2.6    3.0   \n",
       "\n",
       "    bicarbonate  bilirubin  creatinine  chloride  ...   ptt  inr    pt  \\\n",
       "41         23.0        4.3         1.0     108.0  ...  36.0  1.3  14.5   \n",
       "42         23.0        4.3         1.0     108.0  ...  36.0  1.3  14.5   \n",
       "43         23.0        4.3         1.0     108.0  ...  36.0  1.3  14.5   \n",
       "44         23.0        4.3         1.0     108.0  ...  36.0  1.3  14.5   \n",
       "45         23.0        4.3         1.0     108.0  ...  36.0  1.3  14.5   \n",
       "\n",
       "    sodium   bun   wbc  bacteria  ckd            predtime     delta_t_pred  \n",
       "41   138.0  29.0  11.5       2.0    0 2151-11-11 01:49:18 27 days 17:57:20  \n",
       "42   138.0  29.0  11.5       2.0    0 2151-11-11 01:49:18 27 days 17:57:20  \n",
       "43   138.0  29.0  11.5       2.0    0 2151-11-11 01:49:18 27 days 17:57:20  \n",
       "44   138.0  29.0  11.5       2.0    0 2151-11-11 01:49:18 27 days 17:57:20  \n",
       "45   138.0  29.0  11.5       2.0    0 2151-11-11 01:49:18 27 days 17:57:20  \n",
       "\n",
       "[5 rows x 26 columns]"
      ]
     },
     "execution_count": 110,
     "metadata": {},
     "output_type": "execute_result"
    }
   ],
   "source": [
    "filtered_labs_windowed.head()"
   ]
  },
  {
   "cell_type": "code",
   "execution_count": 111,
   "id": "60b241e6",
   "metadata": {},
   "outputs": [
    {
     "data": {
      "text/plain": [
       "Index(['icustay_id', 'charttime', 'subject_id', 'aniongap', 'albumin', 'bands',\n",
       "       'bicarbonate', 'bilirubin', 'creatinine', 'chloride', 'glucose',\n",
       "       'hematocrit', 'hemoglobin', 'lactate', 'platelet', 'potassium', 'ptt',\n",
       "       'inr', 'pt', 'sodium', 'bun', 'wbc', 'bacteria', 'ckd', 'predtime',\n",
       "       'delta_t_pred'],\n",
       "      dtype='object')"
      ]
     },
     "execution_count": 111,
     "metadata": {},
     "output_type": "execute_result"
    }
   ],
   "source": [
    "filtered_labs_windowed.columns"
   ]
  },
  {
   "cell_type": "markdown",
   "id": "84994043",
   "metadata": {},
   "source": [
    "#### Grouping data"
   ]
  },
  {
   "cell_type": "code",
   "execution_count": 112,
   "id": "b47b0e40",
   "metadata": {},
   "outputs": [],
   "source": [
    "feature_labs= ['aniongap', 'albumin', 'bands',\n",
    "       'bicarbonate', 'bilirubin', 'creatinine', 'chloride', 'glucose',\n",
    "       'hematocrit', 'hemoglobin', 'lactate', 'platelet', 'potassium', 'ptt',\n",
    "       'inr', 'pt', 'sodium', 'bun', 'wbc', 'bacteria']"
   ]
  },
  {
   "cell_type": "code",
   "execution_count": 113,
   "id": "276e1a7f",
   "metadata": {},
   "outputs": [],
   "source": [
    "grouped_data_labs = filtered_labs_windowed.sort_values(['icustay_id', 'charttime']).groupby('icustay_id')[feature_labs + ['ckd']]"
   ]
  },
  {
   "cell_type": "code",
   "execution_count": 114,
   "id": "4ffc88c7",
   "metadata": {},
   "outputs": [
    {
     "data": {
      "text/html": [
       "<div>\n",
       "<style scoped>\n",
       "    .dataframe tbody tr th:only-of-type {\n",
       "        vertical-align: middle;\n",
       "    }\n",
       "\n",
       "    .dataframe tbody tr th {\n",
       "        vertical-align: top;\n",
       "    }\n",
       "\n",
       "    .dataframe thead th {\n",
       "        text-align: right;\n",
       "    }\n",
       "</style>\n",
       "<table border=\"1\" class=\"dataframe\">\n",
       "  <thead>\n",
       "    <tr style=\"text-align: right;\">\n",
       "      <th></th>\n",
       "      <th>aniongap</th>\n",
       "      <th>albumin</th>\n",
       "      <th>bands</th>\n",
       "      <th>bicarbonate</th>\n",
       "      <th>bilirubin</th>\n",
       "      <th>creatinine</th>\n",
       "      <th>chloride</th>\n",
       "      <th>glucose</th>\n",
       "      <th>hematocrit</th>\n",
       "      <th>hemoglobin</th>\n",
       "      <th>...</th>\n",
       "      <th>platelet</th>\n",
       "      <th>potassium</th>\n",
       "      <th>ptt</th>\n",
       "      <th>inr</th>\n",
       "      <th>pt</th>\n",
       "      <th>sodium</th>\n",
       "      <th>bun</th>\n",
       "      <th>wbc</th>\n",
       "      <th>bacteria</th>\n",
       "      <th>ckd</th>\n",
       "    </tr>\n",
       "  </thead>\n",
       "  <tbody>\n",
       "    <tr>\n",
       "      <th>305206</th>\n",
       "      <td>18.0</td>\n",
       "      <td>2.5</td>\n",
       "      <td>3.0</td>\n",
       "      <td>17.0</td>\n",
       "      <td>3.2</td>\n",
       "      <td>0.7</td>\n",
       "      <td>113.0</td>\n",
       "      <td>103.0</td>\n",
       "      <td>34.6</td>\n",
       "      <td>11.5</td>\n",
       "      <td>...</td>\n",
       "      <td>234.0</td>\n",
       "      <td>3.7</td>\n",
       "      <td>26.5</td>\n",
       "      <td>1.0</td>\n",
       "      <td>11.8</td>\n",
       "      <td>144.0</td>\n",
       "      <td>14.0</td>\n",
       "      <td>15.4</td>\n",
       "      <td>2.0</td>\n",
       "      <td>0</td>\n",
       "    </tr>\n",
       "    <tr>\n",
       "      <th>305207</th>\n",
       "      <td>18.0</td>\n",
       "      <td>2.5</td>\n",
       "      <td>3.0</td>\n",
       "      <td>17.0</td>\n",
       "      <td>3.2</td>\n",
       "      <td>0.7</td>\n",
       "      <td>113.0</td>\n",
       "      <td>103.0</td>\n",
       "      <td>34.6</td>\n",
       "      <td>11.5</td>\n",
       "      <td>...</td>\n",
       "      <td>234.0</td>\n",
       "      <td>3.7</td>\n",
       "      <td>26.5</td>\n",
       "      <td>1.0</td>\n",
       "      <td>11.8</td>\n",
       "      <td>144.0</td>\n",
       "      <td>14.0</td>\n",
       "      <td>15.4</td>\n",
       "      <td>2.0</td>\n",
       "      <td>0</td>\n",
       "    </tr>\n",
       "    <tr>\n",
       "      <th>305208</th>\n",
       "      <td>18.0</td>\n",
       "      <td>2.5</td>\n",
       "      <td>3.0</td>\n",
       "      <td>17.0</td>\n",
       "      <td>3.2</td>\n",
       "      <td>0.7</td>\n",
       "      <td>113.0</td>\n",
       "      <td>103.0</td>\n",
       "      <td>34.6</td>\n",
       "      <td>11.5</td>\n",
       "      <td>...</td>\n",
       "      <td>234.0</td>\n",
       "      <td>3.7</td>\n",
       "      <td>26.5</td>\n",
       "      <td>1.0</td>\n",
       "      <td>11.8</td>\n",
       "      <td>144.0</td>\n",
       "      <td>14.0</td>\n",
       "      <td>15.4</td>\n",
       "      <td>2.0</td>\n",
       "      <td>0</td>\n",
       "    </tr>\n",
       "    <tr>\n",
       "      <th>305209</th>\n",
       "      <td>18.0</td>\n",
       "      <td>2.5</td>\n",
       "      <td>3.0</td>\n",
       "      <td>17.0</td>\n",
       "      <td>3.2</td>\n",
       "      <td>0.7</td>\n",
       "      <td>113.0</td>\n",
       "      <td>103.0</td>\n",
       "      <td>34.6</td>\n",
       "      <td>11.5</td>\n",
       "      <td>...</td>\n",
       "      <td>234.0</td>\n",
       "      <td>3.7</td>\n",
       "      <td>26.5</td>\n",
       "      <td>1.0</td>\n",
       "      <td>11.8</td>\n",
       "      <td>144.0</td>\n",
       "      <td>14.0</td>\n",
       "      <td>15.4</td>\n",
       "      <td>2.0</td>\n",
       "      <td>0</td>\n",
       "    </tr>\n",
       "    <tr>\n",
       "      <th>305210</th>\n",
       "      <td>11.0</td>\n",
       "      <td>2.5</td>\n",
       "      <td>3.0</td>\n",
       "      <td>24.0</td>\n",
       "      <td>3.2</td>\n",
       "      <td>0.8</td>\n",
       "      <td>118.0</td>\n",
       "      <td>18.0</td>\n",
       "      <td>30.1</td>\n",
       "      <td>10.2</td>\n",
       "      <td>...</td>\n",
       "      <td>239.0</td>\n",
       "      <td>4.8</td>\n",
       "      <td>26.5</td>\n",
       "      <td>1.0</td>\n",
       "      <td>11.8</td>\n",
       "      <td>148.0</td>\n",
       "      <td>20.0</td>\n",
       "      <td>20.8</td>\n",
       "      <td>2.0</td>\n",
       "      <td>0</td>\n",
       "    </tr>\n",
       "    <tr>\n",
       "      <th>...</th>\n",
       "      <td>...</td>\n",
       "      <td>...</td>\n",
       "      <td>...</td>\n",
       "      <td>...</td>\n",
       "      <td>...</td>\n",
       "      <td>...</td>\n",
       "      <td>...</td>\n",
       "      <td>...</td>\n",
       "      <td>...</td>\n",
       "      <td>...</td>\n",
       "      <td>...</td>\n",
       "      <td>...</td>\n",
       "      <td>...</td>\n",
       "      <td>...</td>\n",
       "      <td>...</td>\n",
       "      <td>...</td>\n",
       "      <td>...</td>\n",
       "      <td>...</td>\n",
       "      <td>...</td>\n",
       "      <td>...</td>\n",
       "      <td>...</td>\n",
       "    </tr>\n",
       "    <tr>\n",
       "      <th>164145</th>\n",
       "      <td>16.0</td>\n",
       "      <td>2.6</td>\n",
       "      <td>3.0</td>\n",
       "      <td>22.0</td>\n",
       "      <td>4.6</td>\n",
       "      <td>1.0</td>\n",
       "      <td>100.0</td>\n",
       "      <td>125.0</td>\n",
       "      <td>48.5</td>\n",
       "      <td>14.9</td>\n",
       "      <td>...</td>\n",
       "      <td>356.0</td>\n",
       "      <td>5.4</td>\n",
       "      <td>36.0</td>\n",
       "      <td>1.3</td>\n",
       "      <td>14.5</td>\n",
       "      <td>133.0</td>\n",
       "      <td>29.0</td>\n",
       "      <td>15.7</td>\n",
       "      <td>2.0</td>\n",
       "      <td>0</td>\n",
       "    </tr>\n",
       "    <tr>\n",
       "      <th>164146</th>\n",
       "      <td>16.0</td>\n",
       "      <td>2.6</td>\n",
       "      <td>3.0</td>\n",
       "      <td>22.0</td>\n",
       "      <td>4.6</td>\n",
       "      <td>1.0</td>\n",
       "      <td>100.0</td>\n",
       "      <td>125.0</td>\n",
       "      <td>48.5</td>\n",
       "      <td>14.9</td>\n",
       "      <td>...</td>\n",
       "      <td>356.0</td>\n",
       "      <td>5.4</td>\n",
       "      <td>36.0</td>\n",
       "      <td>1.3</td>\n",
       "      <td>14.5</td>\n",
       "      <td>133.0</td>\n",
       "      <td>29.0</td>\n",
       "      <td>15.7</td>\n",
       "      <td>2.0</td>\n",
       "      <td>0</td>\n",
       "    </tr>\n",
       "    <tr>\n",
       "      <th>164147</th>\n",
       "      <td>16.0</td>\n",
       "      <td>2.6</td>\n",
       "      <td>3.0</td>\n",
       "      <td>22.0</td>\n",
       "      <td>4.6</td>\n",
       "      <td>1.0</td>\n",
       "      <td>100.0</td>\n",
       "      <td>125.0</td>\n",
       "      <td>48.5</td>\n",
       "      <td>14.9</td>\n",
       "      <td>...</td>\n",
       "      <td>356.0</td>\n",
       "      <td>5.4</td>\n",
       "      <td>36.0</td>\n",
       "      <td>1.3</td>\n",
       "      <td>14.5</td>\n",
       "      <td>133.0</td>\n",
       "      <td>29.0</td>\n",
       "      <td>15.7</td>\n",
       "      <td>2.0</td>\n",
       "      <td>0</td>\n",
       "    </tr>\n",
       "    <tr>\n",
       "      <th>164148</th>\n",
       "      <td>16.0</td>\n",
       "      <td>2.6</td>\n",
       "      <td>3.0</td>\n",
       "      <td>22.0</td>\n",
       "      <td>4.6</td>\n",
       "      <td>1.0</td>\n",
       "      <td>100.0</td>\n",
       "      <td>125.0</td>\n",
       "      <td>48.5</td>\n",
       "      <td>14.9</td>\n",
       "      <td>...</td>\n",
       "      <td>356.0</td>\n",
       "      <td>5.4</td>\n",
       "      <td>36.0</td>\n",
       "      <td>1.3</td>\n",
       "      <td>14.5</td>\n",
       "      <td>133.0</td>\n",
       "      <td>29.0</td>\n",
       "      <td>15.7</td>\n",
       "      <td>2.0</td>\n",
       "      <td>0</td>\n",
       "    </tr>\n",
       "    <tr>\n",
       "      <th>164149</th>\n",
       "      <td>16.0</td>\n",
       "      <td>2.6</td>\n",
       "      <td>3.0</td>\n",
       "      <td>22.0</td>\n",
       "      <td>4.6</td>\n",
       "      <td>1.0</td>\n",
       "      <td>100.0</td>\n",
       "      <td>125.0</td>\n",
       "      <td>48.5</td>\n",
       "      <td>14.9</td>\n",
       "      <td>...</td>\n",
       "      <td>356.0</td>\n",
       "      <td>5.4</td>\n",
       "      <td>36.0</td>\n",
       "      <td>1.3</td>\n",
       "      <td>14.5</td>\n",
       "      <td>133.0</td>\n",
       "      <td>29.0</td>\n",
       "      <td>15.7</td>\n",
       "      <td>2.0</td>\n",
       "      <td>0</td>\n",
       "    </tr>\n",
       "  </tbody>\n",
       "</table>\n",
       "<p>15190 rows × 21 columns</p>\n",
       "</div>"
      ],
      "text/plain": [
       "        aniongap  albumin  bands  bicarbonate  bilirubin  creatinine  \\\n",
       "305206      18.0      2.5    3.0         17.0        3.2         0.7   \n",
       "305207      18.0      2.5    3.0         17.0        3.2         0.7   \n",
       "305208      18.0      2.5    3.0         17.0        3.2         0.7   \n",
       "305209      18.0      2.5    3.0         17.0        3.2         0.7   \n",
       "305210      11.0      2.5    3.0         24.0        3.2         0.8   \n",
       "...          ...      ...    ...          ...        ...         ...   \n",
       "164145      16.0      2.6    3.0         22.0        4.6         1.0   \n",
       "164146      16.0      2.6    3.0         22.0        4.6         1.0   \n",
       "164147      16.0      2.6    3.0         22.0        4.6         1.0   \n",
       "164148      16.0      2.6    3.0         22.0        4.6         1.0   \n",
       "164149      16.0      2.6    3.0         22.0        4.6         1.0   \n",
       "\n",
       "        chloride  glucose  hematocrit  hemoglobin  ...  platelet  potassium  \\\n",
       "305206     113.0    103.0        34.6        11.5  ...     234.0        3.7   \n",
       "305207     113.0    103.0        34.6        11.5  ...     234.0        3.7   \n",
       "305208     113.0    103.0        34.6        11.5  ...     234.0        3.7   \n",
       "305209     113.0    103.0        34.6        11.5  ...     234.0        3.7   \n",
       "305210     118.0     18.0        30.1        10.2  ...     239.0        4.8   \n",
       "...          ...      ...         ...         ...  ...       ...        ...   \n",
       "164145     100.0    125.0        48.5        14.9  ...     356.0        5.4   \n",
       "164146     100.0    125.0        48.5        14.9  ...     356.0        5.4   \n",
       "164147     100.0    125.0        48.5        14.9  ...     356.0        5.4   \n",
       "164148     100.0    125.0        48.5        14.9  ...     356.0        5.4   \n",
       "164149     100.0    125.0        48.5        14.9  ...     356.0        5.4   \n",
       "\n",
       "         ptt  inr    pt  sodium   bun   wbc  bacteria  ckd  \n",
       "305206  26.5  1.0  11.8   144.0  14.0  15.4       2.0    0  \n",
       "305207  26.5  1.0  11.8   144.0  14.0  15.4       2.0    0  \n",
       "305208  26.5  1.0  11.8   144.0  14.0  15.4       2.0    0  \n",
       "305209  26.5  1.0  11.8   144.0  14.0  15.4       2.0    0  \n",
       "305210  26.5  1.0  11.8   148.0  20.0  20.8       2.0    0  \n",
       "...      ...  ...   ...     ...   ...   ...       ...  ...  \n",
       "164145  36.0  1.3  14.5   133.0  29.0  15.7       2.0    0  \n",
       "164146  36.0  1.3  14.5   133.0  29.0  15.7       2.0    0  \n",
       "164147  36.0  1.3  14.5   133.0  29.0  15.7       2.0    0  \n",
       "164148  36.0  1.3  14.5   133.0  29.0  15.7       2.0    0  \n",
       "164149  36.0  1.3  14.5   133.0  29.0  15.7       2.0    0  \n",
       "\n",
       "[15190 rows x 21 columns]"
      ]
     },
     "execution_count": 114,
     "metadata": {},
     "output_type": "execute_result"
    }
   ],
   "source": [
    "grouped_data_labs.head()"
   ]
  },
  {
   "cell_type": "code",
   "execution_count": 115,
   "id": "528bbd9d",
   "metadata": {},
   "outputs": [],
   "source": [
    "# Concatenate groups into a NumPy array\n",
    "data = np.concatenate([group.values for _, group in grouped_data_labs])\n",
    "\n",
    "# Extract features (X) and target (y)\n",
    "X = data[:, :-1]  # Exclude the last column 'ckd'\n",
    "y = data[:, -1]   # Select only the last column 'ckd'\n",
    "\n",
    "# Perform train-test split\n",
    "X_train, X_test, y_train, y_test = train_test_split(X, y, test_size=0.2)"
   ]
  },
  {
   "cell_type": "code",
   "execution_count": 116,
   "id": "31308be0",
   "metadata": {},
   "outputs": [
    {
     "data": {
      "text/plain": [
       "array([[18. ,  2.5,  3. , ..., 14. , 15.4,  2. ],\n",
       "       [18. ,  2.5,  3. , ..., 14. , 15.4,  2. ],\n",
       "       [18. ,  2.5,  3. , ..., 14. , 15.4,  2. ],\n",
       "       ...,\n",
       "       [15. ,  2.6,  3. , ..., 29. , 15.7,  2. ],\n",
       "       [15. ,  2.6,  3. , ..., 29. , 15.7,  2. ],\n",
       "       [15. ,  2.6,  3. , ..., 29. , 15.7,  2. ]])"
      ]
     },
     "execution_count": 116,
     "metadata": {},
     "output_type": "execute_result"
    }
   ],
   "source": [
    "X"
   ]
  },
  {
   "cell_type": "code",
   "execution_count": 117,
   "id": "820d0128",
   "metadata": {},
   "outputs": [
    {
     "data": {
      "text/plain": [
       "(39494, 20)"
      ]
     },
     "execution_count": 117,
     "metadata": {},
     "output_type": "execute_result"
    }
   ],
   "source": [
    "X.shape"
   ]
  },
  {
   "cell_type": "code",
   "execution_count": 118,
   "id": "be78c6e3",
   "metadata": {},
   "outputs": [
    {
     "data": {
      "text/plain": [
       "(39494,)"
      ]
     },
     "execution_count": 118,
     "metadata": {},
     "output_type": "execute_result"
    }
   ],
   "source": [
    "y.shape"
   ]
  },
  {
   "cell_type": "code",
   "execution_count": 119,
   "id": "863c9499",
   "metadata": {},
   "outputs": [
    {
     "data": {
      "text/plain": [
       "array([0., 1.])"
      ]
     },
     "execution_count": 119,
     "metadata": {},
     "output_type": "execute_result"
    }
   ],
   "source": [
    "np.unique(y)"
   ]
  },
  {
   "cell_type": "code",
   "execution_count": 120,
   "id": "2f296f00",
   "metadata": {},
   "outputs": [
    {
     "data": {
      "text/plain": [
       "(31595, 20)"
      ]
     },
     "execution_count": 120,
     "metadata": {},
     "output_type": "execute_result"
    }
   ],
   "source": [
    "X_train.shape"
   ]
  },
  {
   "cell_type": "code",
   "execution_count": 121,
   "id": "79ea2d2d",
   "metadata": {},
   "outputs": [
    {
     "data": {
      "text/plain": [
       "(31595,)"
      ]
     },
     "execution_count": 121,
     "metadata": {},
     "output_type": "execute_result"
    }
   ],
   "source": [
    "y_train.shape"
   ]
  },
  {
   "cell_type": "markdown",
   "id": "7428d3c3",
   "metadata": {},
   "source": [
    "#### Rocket for lab (working)"
   ]
  },
  {
   "cell_type": "code",
   "execution_count": 146,
   "id": "07ed8788",
   "metadata": {},
   "outputs": [],
   "source": [
    "X = []\n",
    "y = []\n",
    "for _, group in grouped_data_labs:\n",
    "    group_values = group[feature_labs].values.T\n",
    "        \n",
    "    X.append(group_values)\n",
    "    y.append(group['ckd'].iloc[0])\n",
    "    \n",
    "X = np.array(X)\n",
    "y = np.array(y)\n",
    "    \n",
    "X_train, X_test, y_train, y_test = train_test_split(X, y, test_size=0.2)"
   ]
  },
  {
   "cell_type": "code",
   "execution_count": 147,
   "id": "db180633",
   "metadata": {},
   "outputs": [
    {
     "data": {
      "text/plain": [
       "(3038, 20, 13)"
      ]
     },
     "execution_count": 147,
     "metadata": {},
     "output_type": "execute_result"
    }
   ],
   "source": [
    "X.shape"
   ]
  },
  {
   "cell_type": "code",
   "execution_count": 148,
   "id": "9fcce9c9",
   "metadata": {},
   "outputs": [
    {
     "data": {
      "text/plain": [
       "(3038,)"
      ]
     },
     "execution_count": 148,
     "metadata": {},
     "output_type": "execute_result"
    }
   ],
   "source": [
    "y.shape"
   ]
  },
  {
   "cell_type": "markdown",
   "id": "d6cd918b",
   "metadata": {},
   "source": [
    "#### Random undersampling for labs"
   ]
  },
  {
   "cell_type": "code",
   "execution_count": 170,
   "id": "f80ea0fc",
   "metadata": {},
   "outputs": [],
   "source": [
    "n_samples, n_features, n_channels = X.shape\n",
    "X_2d = X.reshape((n_samples, n_features*n_channels))\n",
    "rusLab = SMOTE(random_state=42)\n",
    "X_resampled, y_resampled = rusLab.fit_resample(X_2d, y)\n",
    "X_resampled = X_resampled.reshape((X_resampled.shape[0], n_features, n_channels))    \n",
    "X_train, X_test, y_train, y_test = train_test_split(X_resampled, y_resampled, test_size=0.2)"
   ]
  },
  {
   "cell_type": "code",
   "execution_count": 171,
   "id": "b3b82aba",
   "metadata": {},
   "outputs": [],
   "source": [
    "rocket = Rocket(num_kernels=100)\n",
    "rocket.fit(X_train)\n",
    "X_train_transformed = rocket.transform(X_train)\n",
    "X_test_transformed = rocket.transform(X_test)"
   ]
  },
  {
   "cell_type": "code",
   "execution_count": 172,
   "id": "6d8b5718",
   "metadata": {},
   "outputs": [
    {
     "name": "stderr",
     "output_type": "stream",
     "text": [
      "C:\\Users\\aakru\\anaconda3\\lib\\site-packages\\sklearn\\linear_model\\_logistic.py:814: ConvergenceWarning: lbfgs failed to converge (status=1):\n",
      "STOP: TOTAL NO. of ITERATIONS REACHED LIMIT.\n",
      "\n",
      "Increase the number of iterations (max_iter) or scale the data as shown in:\n",
      "    https://scikit-learn.org/stable/modules/preprocessing.html\n",
      "Please also refer to the documentation for alternative solver options:\n",
      "    https://scikit-learn.org/stable/modules/linear_model.html#logistic-regression\n",
      "  n_iter_i = _check_optimize_result(\n",
      "C:\\Users\\aakru\\anaconda3\\lib\\site-packages\\sklearn\\linear_model\\_logistic.py:814: ConvergenceWarning: lbfgs failed to converge (status=1):\n",
      "STOP: TOTAL NO. of ITERATIONS REACHED LIMIT.\n",
      "\n",
      "Increase the number of iterations (max_iter) or scale the data as shown in:\n",
      "    https://scikit-learn.org/stable/modules/preprocessing.html\n",
      "Please also refer to the documentation for alternative solver options:\n",
      "    https://scikit-learn.org/stable/modules/linear_model.html#logistic-regression\n",
      "  n_iter_i = _check_optimize_result(\n",
      "C:\\Users\\aakru\\anaconda3\\lib\\site-packages\\sklearn\\linear_model\\_logistic.py:814: ConvergenceWarning: lbfgs failed to converge (status=1):\n",
      "STOP: TOTAL NO. of ITERATIONS REACHED LIMIT.\n",
      "\n",
      "Increase the number of iterations (max_iter) or scale the data as shown in:\n",
      "    https://scikit-learn.org/stable/modules/preprocessing.html\n",
      "Please also refer to the documentation for alternative solver options:\n",
      "    https://scikit-learn.org/stable/modules/linear_model.html#logistic-regression\n",
      "  n_iter_i = _check_optimize_result(\n",
      "C:\\Users\\aakru\\anaconda3\\lib\\site-packages\\sklearn\\linear_model\\_logistic.py:814: ConvergenceWarning: lbfgs failed to converge (status=1):\n",
      "STOP: TOTAL NO. of ITERATIONS REACHED LIMIT.\n",
      "\n",
      "Increase the number of iterations (max_iter) or scale the data as shown in:\n",
      "    https://scikit-learn.org/stable/modules/preprocessing.html\n",
      "Please also refer to the documentation for alternative solver options:\n",
      "    https://scikit-learn.org/stable/modules/linear_model.html#logistic-regression\n",
      "  n_iter_i = _check_optimize_result(\n",
      "C:\\Users\\aakru\\anaconda3\\lib\\site-packages\\sklearn\\linear_model\\_logistic.py:814: ConvergenceWarning: lbfgs failed to converge (status=1):\n",
      "STOP: TOTAL NO. of ITERATIONS REACHED LIMIT.\n",
      "\n",
      "Increase the number of iterations (max_iter) or scale the data as shown in:\n",
      "    https://scikit-learn.org/stable/modules/preprocessing.html\n",
      "Please also refer to the documentation for alternative solver options:\n",
      "    https://scikit-learn.org/stable/modules/linear_model.html#logistic-regression\n",
      "  n_iter_i = _check_optimize_result(\n"
     ]
    },
    {
     "name": "stdout",
     "output_type": "stream",
     "text": [
      "Cross-validation scores: [0.84290358 0.83839479 0.82321041 0.81453362 0.8318872 ]\n",
      "Mean cross-validation score: 0.830185921133341\n"
     ]
    },
    {
     "name": "stderr",
     "output_type": "stream",
     "text": [
      "C:\\Users\\aakru\\anaconda3\\lib\\site-packages\\sklearn\\linear_model\\_logistic.py:814: ConvergenceWarning: lbfgs failed to converge (status=1):\n",
      "STOP: TOTAL NO. of ITERATIONS REACHED LIMIT.\n",
      "\n",
      "Increase the number of iterations (max_iter) or scale the data as shown in:\n",
      "    https://scikit-learn.org/stable/modules/preprocessing.html\n",
      "Please also refer to the documentation for alternative solver options:\n",
      "    https://scikit-learn.org/stable/modules/linear_model.html#logistic-regression\n",
      "  n_iter_i = _check_optimize_result(\n"
     ]
    }
   ],
   "source": [
    "clf = LogisticRegression()\n",
    "cv_scores = cross_val_score(clf, X_train_transformed, y_train, cv=5)\n",
    "print(\"Cross-validation scores:\", cv_scores)\n",
    "print(\"Mean cross-validation score:\", np.mean(cv_scores))\n",
    "    \n",
    "clf.fit(X_train_transformed, y_train)\n",
    "y_pred = clf.predict(X_test_transformed)"
   ]
  },
  {
   "cell_type": "code",
   "execution_count": 173,
   "id": "1739e3e2",
   "metadata": {},
   "outputs": [
    {
     "name": "stderr",
     "output_type": "stream",
     "text": [
      "C:\\Users\\aakru\\anaconda3\\lib\\site-packages\\sklearn\\linear_model\\_logistic.py:814: ConvergenceWarning: lbfgs failed to converge (status=1):\n",
      "STOP: TOTAL NO. of ITERATIONS REACHED LIMIT.\n",
      "\n",
      "Increase the number of iterations (max_iter) or scale the data as shown in:\n",
      "    https://scikit-learn.org/stable/modules/preprocessing.html\n",
      "Please also refer to the documentation for alternative solver options:\n",
      "    https://scikit-learn.org/stable/modules/linear_model.html#logistic-regression\n",
      "  n_iter_i = _check_optimize_result(\n",
      "C:\\Users\\aakru\\anaconda3\\lib\\site-packages\\sklearn\\linear_model\\_logistic.py:814: ConvergenceWarning: lbfgs failed to converge (status=1):\n",
      "STOP: TOTAL NO. of ITERATIONS REACHED LIMIT.\n",
      "\n",
      "Increase the number of iterations (max_iter) or scale the data as shown in:\n",
      "    https://scikit-learn.org/stable/modules/preprocessing.html\n",
      "Please also refer to the documentation for alternative solver options:\n",
      "    https://scikit-learn.org/stable/modules/linear_model.html#logistic-regression\n",
      "  n_iter_i = _check_optimize_result(\n",
      "C:\\Users\\aakru\\anaconda3\\lib\\site-packages\\sklearn\\linear_model\\_logistic.py:814: ConvergenceWarning: lbfgs failed to converge (status=1):\n",
      "STOP: TOTAL NO. of ITERATIONS REACHED LIMIT.\n",
      "\n",
      "Increase the number of iterations (max_iter) or scale the data as shown in:\n",
      "    https://scikit-learn.org/stable/modules/preprocessing.html\n",
      "Please also refer to the documentation for alternative solver options:\n",
      "    https://scikit-learn.org/stable/modules/linear_model.html#logistic-regression\n",
      "  n_iter_i = _check_optimize_result(\n",
      "C:\\Users\\aakru\\anaconda3\\lib\\site-packages\\sklearn\\linear_model\\_logistic.py:814: ConvergenceWarning: lbfgs failed to converge (status=1):\n",
      "STOP: TOTAL NO. of ITERATIONS REACHED LIMIT.\n",
      "\n",
      "Increase the number of iterations (max_iter) or scale the data as shown in:\n",
      "    https://scikit-learn.org/stable/modules/preprocessing.html\n",
      "Please also refer to the documentation for alternative solver options:\n",
      "    https://scikit-learn.org/stable/modules/linear_model.html#logistic-regression\n",
      "  n_iter_i = _check_optimize_result(\n",
      "C:\\Users\\aakru\\anaconda3\\lib\\site-packages\\sklearn\\linear_model\\_logistic.py:814: ConvergenceWarning: lbfgs failed to converge (status=1):\n",
      "STOP: TOTAL NO. of ITERATIONS REACHED LIMIT.\n",
      "\n",
      "Increase the number of iterations (max_iter) or scale the data as shown in:\n",
      "    https://scikit-learn.org/stable/modules/preprocessing.html\n",
      "Please also refer to the documentation for alternative solver options:\n",
      "    https://scikit-learn.org/stable/modules/linear_model.html#logistic-regression\n",
      "  n_iter_i = _check_optimize_result(\n"
     ]
    },
    {
     "name": "stdout",
     "output_type": "stream",
     "text": [
      "Cross-validation scores: [0.84290358 0.84924078 0.84707158 0.8329718  0.84815618]\n",
      "Mean cross-validation score: 0.8440687844739049\n",
      "Precision: 0.7986463620981388\n",
      "Recall: 0.87569573283859\n",
      "F1 Score: 0.8353982300884956\n",
      "Accuracy: 0.8386816999132697\n",
      "\n",
      "Classification report:\n",
      "              precision    recall  f1-score   support\n",
      "\n",
      "           0       0.88      0.81      0.84       614\n",
      "           1       0.80      0.88      0.84       539\n",
      "\n",
      "    accuracy                           0.84      1153\n",
      "   macro avg       0.84      0.84      0.84      1153\n",
      "weighted avg       0.84      0.84      0.84      1153\n",
      "\n"
     ]
    },
    {
     "name": "stderr",
     "output_type": "stream",
     "text": [
      "C:\\Users\\aakru\\anaconda3\\lib\\site-packages\\sklearn\\linear_model\\_logistic.py:814: ConvergenceWarning: lbfgs failed to converge (status=1):\n",
      "STOP: TOTAL NO. of ITERATIONS REACHED LIMIT.\n",
      "\n",
      "Increase the number of iterations (max_iter) or scale the data as shown in:\n",
      "    https://scikit-learn.org/stable/modules/preprocessing.html\n",
      "Please also refer to the documentation for alternative solver options:\n",
      "    https://scikit-learn.org/stable/modules/linear_model.html#logistic-regression\n",
      "  n_iter_i = _check_optimize_result(\n"
     ]
    }
   ],
   "source": [
    "def printEvaluationScores(X_train_transformed, X_test_transformed, y_train, y_test):\n",
    "    clf = LogisticRegression(random_state=42, max_iter=1000)\n",
    "    cv_scores = cross_val_score(clf, X_train_transformed, y_train, cv=5)\n",
    "    print(\"Cross-validation scores:\", cv_scores)\n",
    "    print(\"Mean cross-validation score:\", np.mean(cv_scores))\n",
    "    \n",
    "    clf.fit(X_train_transformed, y_train)\n",
    "    y_pred = clf.predict(X_test_transformed)\n",
    "    #accuracy = accuracy_score(y_test, y_pred)\n",
    "    precision = precision_score(y_test, y_pred)\n",
    "    recall = recall_score(y_test, y_pred)\n",
    "    f1 = f1_score(y_test, y_pred)\n",
    "    accuracy = accuracy_score(y_test, y_pred)\n",
    "    print(\"Precision:\", precision)\n",
    "    print(\"Recall:\", recall)\n",
    "    print(\"F1 Score:\", f1)\n",
    "    print(\"Accuracy:\", accuracy)\n",
    "    #print(\"Accuracy:\", accuracy)\n",
    "    print(\"\\nClassification report:\")\n",
    "    print(classification_report(y_test, y_pred))\n",
    "printEvaluationScores(X_train_transformed, X_test_transformed, y_train, y_test)"
   ]
  },
  {
   "cell_type": "markdown",
   "id": "bd3914e6",
   "metadata": {},
   "source": [
    "#### with only albumin and creatinine"
   ]
  },
  {
   "cell_type": "code",
   "execution_count": 174,
   "id": "5f014805",
   "metadata": {},
   "outputs": [
    {
     "data": {
      "text/html": [
       "<div>\n",
       "<style scoped>\n",
       "    .dataframe tbody tr th:only-of-type {\n",
       "        vertical-align: middle;\n",
       "    }\n",
       "\n",
       "    .dataframe tbody tr th {\n",
       "        vertical-align: top;\n",
       "    }\n",
       "\n",
       "    .dataframe thead th {\n",
       "        text-align: right;\n",
       "    }\n",
       "</style>\n",
       "<table border=\"1\" class=\"dataframe\">\n",
       "  <thead>\n",
       "    <tr style=\"text-align: right;\">\n",
       "      <th></th>\n",
       "      <th>albumin</th>\n",
       "      <th>creatinine</th>\n",
       "      <th>ckd</th>\n",
       "    </tr>\n",
       "  </thead>\n",
       "  <tbody>\n",
       "    <tr>\n",
       "      <th>305206</th>\n",
       "      <td>2.5</td>\n",
       "      <td>0.7</td>\n",
       "      <td>0</td>\n",
       "    </tr>\n",
       "    <tr>\n",
       "      <th>305207</th>\n",
       "      <td>2.5</td>\n",
       "      <td>0.7</td>\n",
       "      <td>0</td>\n",
       "    </tr>\n",
       "    <tr>\n",
       "      <th>305208</th>\n",
       "      <td>2.5</td>\n",
       "      <td>0.7</td>\n",
       "      <td>0</td>\n",
       "    </tr>\n",
       "    <tr>\n",
       "      <th>305209</th>\n",
       "      <td>2.5</td>\n",
       "      <td>0.7</td>\n",
       "      <td>0</td>\n",
       "    </tr>\n",
       "    <tr>\n",
       "      <th>305210</th>\n",
       "      <td>2.5</td>\n",
       "      <td>0.8</td>\n",
       "      <td>0</td>\n",
       "    </tr>\n",
       "    <tr>\n",
       "      <th>...</th>\n",
       "      <td>...</td>\n",
       "      <td>...</td>\n",
       "      <td>...</td>\n",
       "    </tr>\n",
       "    <tr>\n",
       "      <th>164145</th>\n",
       "      <td>2.6</td>\n",
       "      <td>1.0</td>\n",
       "      <td>0</td>\n",
       "    </tr>\n",
       "    <tr>\n",
       "      <th>164146</th>\n",
       "      <td>2.6</td>\n",
       "      <td>1.0</td>\n",
       "      <td>0</td>\n",
       "    </tr>\n",
       "    <tr>\n",
       "      <th>164147</th>\n",
       "      <td>2.6</td>\n",
       "      <td>1.0</td>\n",
       "      <td>0</td>\n",
       "    </tr>\n",
       "    <tr>\n",
       "      <th>164148</th>\n",
       "      <td>2.6</td>\n",
       "      <td>1.0</td>\n",
       "      <td>0</td>\n",
       "    </tr>\n",
       "    <tr>\n",
       "      <th>164149</th>\n",
       "      <td>2.6</td>\n",
       "      <td>1.0</td>\n",
       "      <td>0</td>\n",
       "    </tr>\n",
       "  </tbody>\n",
       "</table>\n",
       "<p>15190 rows × 3 columns</p>\n",
       "</div>"
      ],
      "text/plain": [
       "        albumin  creatinine  ckd\n",
       "305206      2.5         0.7    0\n",
       "305207      2.5         0.7    0\n",
       "305208      2.5         0.7    0\n",
       "305209      2.5         0.7    0\n",
       "305210      2.5         0.8    0\n",
       "...         ...         ...  ...\n",
       "164145      2.6         1.0    0\n",
       "164146      2.6         1.0    0\n",
       "164147      2.6         1.0    0\n",
       "164148      2.6         1.0    0\n",
       "164149      2.6         1.0    0\n",
       "\n",
       "[15190 rows x 3 columns]"
      ]
     },
     "execution_count": 174,
     "metadata": {},
     "output_type": "execute_result"
    }
   ],
   "source": [
    "feature_labs= ['albumin','creatinine']\n",
    "grouped_data_labs = filtered_labs_windowed.sort_values(['icustay_id', 'charttime']).groupby('icustay_id')[feature_labs + ['ckd']]\n",
    "grouped_data_labs.head()"
   ]
  },
  {
   "cell_type": "code",
   "execution_count": 175,
   "id": "6e2611a1",
   "metadata": {},
   "outputs": [],
   "source": [
    "X = []\n",
    "y = []\n",
    "for _, group in grouped_data_labs:\n",
    "    group_values = group[feature_labs].values.T\n",
    "        \n",
    "    X.append(group_values)\n",
    "    y.append(group['ckd'].iloc[0])\n",
    "    \n",
    "X = np.array(X)\n",
    "y = np.array(y)\n",
    "    \n",
    "n_samples, n_features, n_channels = X.shape\n",
    "X_2d = X.reshape((n_samples, n_features*n_channels))\n",
    "\n",
    "rusLabCrAl = RandomUnderSampler(random_state=42)\n",
    "X_resampledCrAl, y_resampledCrAl = rusLabCrAl.fit_resample(X_2d, y)\n",
    "\n",
    "X_resampledCrAl = X_resampledCrAl.reshape((X_resampledCrAl.shape[0], n_features, n_channels))    \n",
    "X_train, X_test, y_train, y_test = train_test_split(X_resampledCrAl, y_resampledCrAl, test_size=0.2)"
   ]
  },
  {
   "cell_type": "code",
   "execution_count": 176,
   "id": "89681d93",
   "metadata": {},
   "outputs": [],
   "source": [
    "rocket = Rocket(num_kernels=100)\n",
    "rocket.fit(X_train)\n",
    "X_train_transformed = rocket.transform(X_train)\n",
    "X_test_transformed = rocket.transform(X_test)"
   ]
  },
  {
   "cell_type": "code",
   "execution_count": 177,
   "id": "30d5ce3d",
   "metadata": {
    "scrolled": true
   },
   "outputs": [
    {
     "name": "stdout",
     "output_type": "stream",
     "text": [
      "Cross-validation scores: [0.52       0.62       0.64       0.56       0.57142857]\n",
      "Mean cross-validation score: 0.5822857142857144\n"
     ]
    },
    {
     "name": "stderr",
     "output_type": "stream",
     "text": [
      "C:\\Users\\aakru\\anaconda3\\lib\\site-packages\\sklearn\\linear_model\\_logistic.py:814: ConvergenceWarning: lbfgs failed to converge (status=1):\n",
      "STOP: TOTAL NO. of ITERATIONS REACHED LIMIT.\n",
      "\n",
      "Increase the number of iterations (max_iter) or scale the data as shown in:\n",
      "    https://scikit-learn.org/stable/modules/preprocessing.html\n",
      "Please also refer to the documentation for alternative solver options:\n",
      "    https://scikit-learn.org/stable/modules/linear_model.html#logistic-regression\n",
      "  n_iter_i = _check_optimize_result(\n",
      "C:\\Users\\aakru\\anaconda3\\lib\\site-packages\\sklearn\\linear_model\\_logistic.py:814: ConvergenceWarning: lbfgs failed to converge (status=1):\n",
      "STOP: TOTAL NO. of ITERATIONS REACHED LIMIT.\n",
      "\n",
      "Increase the number of iterations (max_iter) or scale the data as shown in:\n",
      "    https://scikit-learn.org/stable/modules/preprocessing.html\n",
      "Please also refer to the documentation for alternative solver options:\n",
      "    https://scikit-learn.org/stable/modules/linear_model.html#logistic-regression\n",
      "  n_iter_i = _check_optimize_result(\n",
      "C:\\Users\\aakru\\anaconda3\\lib\\site-packages\\sklearn\\linear_model\\_logistic.py:814: ConvergenceWarning: lbfgs failed to converge (status=1):\n",
      "STOP: TOTAL NO. of ITERATIONS REACHED LIMIT.\n",
      "\n",
      "Increase the number of iterations (max_iter) or scale the data as shown in:\n",
      "    https://scikit-learn.org/stable/modules/preprocessing.html\n",
      "Please also refer to the documentation for alternative solver options:\n",
      "    https://scikit-learn.org/stable/modules/linear_model.html#logistic-regression\n",
      "  n_iter_i = _check_optimize_result(\n",
      "C:\\Users\\aakru\\anaconda3\\lib\\site-packages\\sklearn\\linear_model\\_logistic.py:814: ConvergenceWarning: lbfgs failed to converge (status=1):\n",
      "STOP: TOTAL NO. of ITERATIONS REACHED LIMIT.\n",
      "\n",
      "Increase the number of iterations (max_iter) or scale the data as shown in:\n",
      "    https://scikit-learn.org/stable/modules/preprocessing.html\n",
      "Please also refer to the documentation for alternative solver options:\n",
      "    https://scikit-learn.org/stable/modules/linear_model.html#logistic-regression\n",
      "  n_iter_i = _check_optimize_result(\n",
      "C:\\Users\\aakru\\anaconda3\\lib\\site-packages\\sklearn\\linear_model\\_logistic.py:814: ConvergenceWarning: lbfgs failed to converge (status=1):\n",
      "STOP: TOTAL NO. of ITERATIONS REACHED LIMIT.\n",
      "\n",
      "Increase the number of iterations (max_iter) or scale the data as shown in:\n",
      "    https://scikit-learn.org/stable/modules/preprocessing.html\n",
      "Please also refer to the documentation for alternative solver options:\n",
      "    https://scikit-learn.org/stable/modules/linear_model.html#logistic-regression\n",
      "  n_iter_i = _check_optimize_result(\n",
      "C:\\Users\\aakru\\anaconda3\\lib\\site-packages\\sklearn\\linear_model\\_logistic.py:814: ConvergenceWarning: lbfgs failed to converge (status=1):\n",
      "STOP: TOTAL NO. of ITERATIONS REACHED LIMIT.\n",
      "\n",
      "Increase the number of iterations (max_iter) or scale the data as shown in:\n",
      "    https://scikit-learn.org/stable/modules/preprocessing.html\n",
      "Please also refer to the documentation for alternative solver options:\n",
      "    https://scikit-learn.org/stable/modules/linear_model.html#logistic-regression\n",
      "  n_iter_i = _check_optimize_result(\n"
     ]
    }
   ],
   "source": [
    "clf = LogisticRegression()\n",
    "cv_scores = cross_val_score(clf, X_train_transformed, y_train, cv=5)\n",
    "print(\"Cross-validation scores:\", cv_scores)\n",
    "print(\"Mean cross-validation score:\", np.mean(cv_scores))\n",
    "    \n",
    "clf.fit(X_train_transformed, y_train)\n",
    "y_pred = clf.predict(X_test_transformed)"
   ]
  },
  {
   "cell_type": "code",
   "execution_count": 178,
   "id": "dc69ffe5",
   "metadata": {},
   "outputs": [
    {
     "name": "stdout",
     "output_type": "stream",
     "text": [
      "Cross-validation scores: [0.52       0.64       0.66       0.54       0.57142857]\n",
      "Mean cross-validation score: 0.5862857142857143\n",
      "Accuracy: 0.7301587301587301\n",
      "\n",
      "Classification report:\n",
      "              precision    recall  f1-score   support\n",
      "\n",
      "           0       0.68      0.70      0.69        27\n",
      "           1       0.77      0.75      0.76        36\n",
      "\n",
      "    accuracy                           0.73        63\n",
      "   macro avg       0.73      0.73      0.73        63\n",
      "weighted avg       0.73      0.73      0.73        63\n",
      "\n"
     ]
    }
   ],
   "source": [
    "def printEvaluationScores(X_train_transformed, X_test_transformed, y_train, y_test):\n",
    "    clf = LogisticRegression(random_state=42, max_iter=1000)\n",
    "    cv_scores = cross_val_score(clf, X_train_transformed, y_train, cv=5)\n",
    "    print(\"Cross-validation scores:\", cv_scores)\n",
    "    print(\"Mean cross-validation score:\", np.mean(cv_scores))\n",
    "    \n",
    "    clf.fit(X_train_transformed, y_train)\n",
    "    y_pred = clf.predict(X_test_transformed)\n",
    "    accuracy = accuracy_score(y_test, y_pred)\n",
    "    print(\"Accuracy:\", accuracy)\n",
    "    print(\"\\nClassification report:\")\n",
    "    print(classification_report(y_test, y_pred))\n",
    "printEvaluationScores(X_train_transformed, X_test_transformed, y_train, y_test)"
   ]
  },
  {
   "cell_type": "markdown",
   "id": "f8ab91f7",
   "metadata": {},
   "source": [
    "#### Just albumin "
   ]
  },
  {
   "cell_type": "code",
   "execution_count": 179,
   "id": "bc19e845",
   "metadata": {},
   "outputs": [
    {
     "name": "stderr",
     "output_type": "stream",
     "text": [
      "C:\\Users\\aakru\\anaconda3\\lib\\site-packages\\sklearn\\linear_model\\_logistic.py:814: ConvergenceWarning: lbfgs failed to converge (status=1):\n",
      "STOP: TOTAL NO. of ITERATIONS REACHED LIMIT.\n",
      "\n",
      "Increase the number of iterations (max_iter) or scale the data as shown in:\n",
      "    https://scikit-learn.org/stable/modules/preprocessing.html\n",
      "Please also refer to the documentation for alternative solver options:\n",
      "    https://scikit-learn.org/stable/modules/linear_model.html#logistic-regression\n",
      "  n_iter_i = _check_optimize_result(\n",
      "C:\\Users\\aakru\\anaconda3\\lib\\site-packages\\sklearn\\linear_model\\_logistic.py:814: ConvergenceWarning: lbfgs failed to converge (status=1):\n",
      "STOP: TOTAL NO. of ITERATIONS REACHED LIMIT.\n",
      "\n",
      "Increase the number of iterations (max_iter) or scale the data as shown in:\n",
      "    https://scikit-learn.org/stable/modules/preprocessing.html\n",
      "Please also refer to the documentation for alternative solver options:\n",
      "    https://scikit-learn.org/stable/modules/linear_model.html#logistic-regression\n",
      "  n_iter_i = _check_optimize_result(\n",
      "C:\\Users\\aakru\\anaconda3\\lib\\site-packages\\sklearn\\linear_model\\_logistic.py:814: ConvergenceWarning: lbfgs failed to converge (status=1):\n",
      "STOP: TOTAL NO. of ITERATIONS REACHED LIMIT.\n",
      "\n",
      "Increase the number of iterations (max_iter) or scale the data as shown in:\n",
      "    https://scikit-learn.org/stable/modules/preprocessing.html\n",
      "Please also refer to the documentation for alternative solver options:\n",
      "    https://scikit-learn.org/stable/modules/linear_model.html#logistic-regression\n",
      "  n_iter_i = _check_optimize_result(\n",
      "C:\\Users\\aakru\\anaconda3\\lib\\site-packages\\sklearn\\linear_model\\_logistic.py:814: ConvergenceWarning: lbfgs failed to converge (status=1):\n",
      "STOP: TOTAL NO. of ITERATIONS REACHED LIMIT.\n",
      "\n",
      "Increase the number of iterations (max_iter) or scale the data as shown in:\n",
      "    https://scikit-learn.org/stable/modules/preprocessing.html\n",
      "Please also refer to the documentation for alternative solver options:\n",
      "    https://scikit-learn.org/stable/modules/linear_model.html#logistic-regression\n",
      "  n_iter_i = _check_optimize_result(\n",
      "C:\\Users\\aakru\\anaconda3\\lib\\site-packages\\sklearn\\linear_model\\_logistic.py:814: ConvergenceWarning: lbfgs failed to converge (status=1):\n",
      "STOP: TOTAL NO. of ITERATIONS REACHED LIMIT.\n",
      "\n",
      "Increase the number of iterations (max_iter) or scale the data as shown in:\n",
      "    https://scikit-learn.org/stable/modules/preprocessing.html\n",
      "Please also refer to the documentation for alternative solver options:\n",
      "    https://scikit-learn.org/stable/modules/linear_model.html#logistic-regression\n",
      "  n_iter_i = _check_optimize_result(\n"
     ]
    },
    {
     "name": "stdout",
     "output_type": "stream",
     "text": [
      "Cross-validation scores: [0.94650206 0.94032922 0.94238683 0.94444444 0.94650206]\n",
      "Mean cross-validation score: 0.9440329218106998\n"
     ]
    },
    {
     "name": "stderr",
     "output_type": "stream",
     "text": [
      "C:\\Users\\aakru\\anaconda3\\lib\\site-packages\\sklearn\\linear_model\\_logistic.py:814: ConvergenceWarning: lbfgs failed to converge (status=1):\n",
      "STOP: TOTAL NO. of ITERATIONS REACHED LIMIT.\n",
      "\n",
      "Increase the number of iterations (max_iter) or scale the data as shown in:\n",
      "    https://scikit-learn.org/stable/modules/preprocessing.html\n",
      "Please also refer to the documentation for alternative solver options:\n",
      "    https://scikit-learn.org/stable/modules/linear_model.html#logistic-regression\n",
      "  n_iter_i = _check_optimize_result(\n"
     ]
    }
   ],
   "source": [
    "feature_labs= ['albumin']\n",
    "grouped_data_labs = filtered_labs_windowed.sort_values(['icustay_id', 'charttime']).groupby('icustay_id')[feature_labs + ['ckd']]\n",
    "\n",
    "\n",
    "X = []\n",
    "y = []\n",
    "for _, group in grouped_data_labs:\n",
    "    group_values = group[feature_labs].values.T\n",
    "        \n",
    "    X.append(group_values)\n",
    "    y.append(group['ckd'].iloc[0])\n",
    "    \n",
    "X = np.array(X)\n",
    "y = np.array(y)\n",
    "    \n",
    "X_train, X_test, y_train, y_test = train_test_split(X, y, test_size=0.2)\n",
    "\n",
    "\n",
    "rocket = Rocket(num_kernels=100)\n",
    "rocket.fit(X_train)\n",
    "X_train_transformed = rocket.transform(X_train)\n",
    "X_test_transformed = rocket.transform(X_test)\n",
    "\n",
    "\n",
    "clf = LogisticRegression()\n",
    "cv_scores = cross_val_score(clf, X_train_transformed, y_train, cv=5)\n",
    "print(\"Cross-validation scores:\", cv_scores)\n",
    "print(\"Mean cross-validation score:\", np.mean(cv_scores))\n",
    "    \n",
    "clf.fit(X_train_transformed, y_train)\n",
    "y_pred = clf.predict(X_test_transformed)"
   ]
  },
  {
   "cell_type": "code",
   "execution_count": 180,
   "id": "3ecca95a",
   "metadata": {},
   "outputs": [
    {
     "name": "stdout",
     "output_type": "stream",
     "text": [
      "Cross-validation scores: [0.94444444 0.94238683 0.94238683 0.94238683 0.94650206]\n",
      "Mean cross-validation score: 0.9436213991769549\n",
      "Accuracy: 0.9473684210526315\n",
      "\n",
      "Classification report:\n",
      "              precision    recall  f1-score   support\n",
      "\n",
      "           0       0.96      0.99      0.97       580\n",
      "           1       0.17      0.04      0.06        28\n",
      "\n",
      "    accuracy                           0.95       608\n",
      "   macro avg       0.56      0.51      0.52       608\n",
      "weighted avg       0.92      0.95      0.93       608\n",
      "\n"
     ]
    }
   ],
   "source": [
    "def printEvaluationScores(X_train_transformed, X_test_transformed, y_train, y_test):\n",
    "    clf = LogisticRegression(random_state=42, max_iter=1000)\n",
    "    cv_scores = cross_val_score(clf, X_train_transformed, y_train, cv=5)\n",
    "    print(\"Cross-validation scores:\", cv_scores)\n",
    "    print(\"Mean cross-validation score:\", np.mean(cv_scores))\n",
    "    \n",
    "    clf.fit(X_train_transformed, y_train)\n",
    "    y_pred = clf.predict(X_test_transformed)\n",
    "    accuracy = accuracy_score(y_test, y_pred)\n",
    "    print(\"Accuracy:\", accuracy)\n",
    "    print(\"\\nClassification report:\")\n",
    "    print(classification_report(y_test, y_pred))\n",
    "printEvaluationScores(X_train_transformed, X_test_transformed, y_train, y_test)"
   ]
  },
  {
   "cell_type": "markdown",
   "id": "736644f7",
   "metadata": {},
   "source": [
    "#### Time series on Vitals"
   ]
  },
  {
   "cell_type": "code",
   "execution_count": 181,
   "id": "9e368592",
   "metadata": {},
   "outputs": [
    {
     "data": {
      "text/html": [
       "<div>\n",
       "<style scoped>\n",
       "    .dataframe tbody tr th:only-of-type {\n",
       "        vertical-align: middle;\n",
       "    }\n",
       "\n",
       "    .dataframe tbody tr th {\n",
       "        vertical-align: top;\n",
       "    }\n",
       "\n",
       "    .dataframe thead th {\n",
       "        text-align: right;\n",
       "    }\n",
       "</style>\n",
       "<table border=\"1\" class=\"dataframe\">\n",
       "  <thead>\n",
       "    <tr style=\"text-align: right;\">\n",
       "      <th></th>\n",
       "      <th>icustay_id</th>\n",
       "      <th>charttime</th>\n",
       "      <th>heartrate</th>\n",
       "      <th>sysbp</th>\n",
       "      <th>diasbp</th>\n",
       "      <th>meanbp</th>\n",
       "      <th>resprate</th>\n",
       "      <th>tempc</th>\n",
       "      <th>spo2</th>\n",
       "      <th>glucose</th>\n",
       "      <th>rbc</th>\n",
       "      <th>specificgravity</th>\n",
       "      <th>pedaledema</th>\n",
       "      <th>appetite_median</th>\n",
       "      <th>ckd</th>\n",
       "    </tr>\n",
       "  </thead>\n",
       "  <tbody>\n",
       "    <tr>\n",
       "      <th>0</th>\n",
       "      <td>218958</td>\n",
       "      <td>2132-08-24 16:00:00</td>\n",
       "      <td>140.0</td>\n",
       "      <td>120.0</td>\n",
       "      <td>58.5</td>\n",
       "      <td>78.0</td>\n",
       "      <td>20.5</td>\n",
       "      <td>37.111111</td>\n",
       "      <td>98.0</td>\n",
       "      <td>130.0</td>\n",
       "      <td>4.75</td>\n",
       "      <td>1.02</td>\n",
       "      <td>-1.0</td>\n",
       "      <td>3.0</td>\n",
       "      <td>0</td>\n",
       "    </tr>\n",
       "    <tr>\n",
       "      <th>1</th>\n",
       "      <td>218958</td>\n",
       "      <td>2132-08-24 17:00:00</td>\n",
       "      <td>144.0</td>\n",
       "      <td>120.0</td>\n",
       "      <td>58.5</td>\n",
       "      <td>78.0</td>\n",
       "      <td>20.5</td>\n",
       "      <td>37.111111</td>\n",
       "      <td>98.0</td>\n",
       "      <td>130.0</td>\n",
       "      <td>4.75</td>\n",
       "      <td>1.02</td>\n",
       "      <td>-1.0</td>\n",
       "      <td>3.0</td>\n",
       "      <td>0</td>\n",
       "    </tr>\n",
       "    <tr>\n",
       "      <th>2</th>\n",
       "      <td>218958</td>\n",
       "      <td>2132-08-24 18:00:00</td>\n",
       "      <td>150.0</td>\n",
       "      <td>120.0</td>\n",
       "      <td>58.5</td>\n",
       "      <td>78.0</td>\n",
       "      <td>20.5</td>\n",
       "      <td>37.111111</td>\n",
       "      <td>98.0</td>\n",
       "      <td>130.0</td>\n",
       "      <td>4.75</td>\n",
       "      <td>1.02</td>\n",
       "      <td>-1.0</td>\n",
       "      <td>3.0</td>\n",
       "      <td>0</td>\n",
       "    </tr>\n",
       "    <tr>\n",
       "      <th>3</th>\n",
       "      <td>218958</td>\n",
       "      <td>2132-08-24 19:00:00</td>\n",
       "      <td>144.0</td>\n",
       "      <td>120.0</td>\n",
       "      <td>58.5</td>\n",
       "      <td>78.0</td>\n",
       "      <td>20.5</td>\n",
       "      <td>37.111111</td>\n",
       "      <td>98.0</td>\n",
       "      <td>130.0</td>\n",
       "      <td>4.75</td>\n",
       "      <td>1.02</td>\n",
       "      <td>-1.0</td>\n",
       "      <td>3.0</td>\n",
       "      <td>0</td>\n",
       "    </tr>\n",
       "    <tr>\n",
       "      <th>4</th>\n",
       "      <td>218958</td>\n",
       "      <td>2132-08-24 20:00:00</td>\n",
       "      <td>126.0</td>\n",
       "      <td>120.0</td>\n",
       "      <td>58.5</td>\n",
       "      <td>78.0</td>\n",
       "      <td>20.5</td>\n",
       "      <td>37.111111</td>\n",
       "      <td>98.0</td>\n",
       "      <td>130.0</td>\n",
       "      <td>4.75</td>\n",
       "      <td>1.02</td>\n",
       "      <td>-1.0</td>\n",
       "      <td>3.0</td>\n",
       "      <td>0</td>\n",
       "    </tr>\n",
       "  </tbody>\n",
       "</table>\n",
       "</div>"
      ],
      "text/plain": [
       "   icustay_id           charttime  heartrate  sysbp  diasbp  meanbp  resprate  \\\n",
       "0      218958 2132-08-24 16:00:00      140.0  120.0    58.5    78.0      20.5   \n",
       "1      218958 2132-08-24 17:00:00      144.0  120.0    58.5    78.0      20.5   \n",
       "2      218958 2132-08-24 18:00:00      150.0  120.0    58.5    78.0      20.5   \n",
       "3      218958 2132-08-24 19:00:00      144.0  120.0    58.5    78.0      20.5   \n",
       "4      218958 2132-08-24 20:00:00      126.0  120.0    58.5    78.0      20.5   \n",
       "\n",
       "       tempc  spo2  glucose   rbc  specificgravity  pedaledema  \\\n",
       "0  37.111111  98.0    130.0  4.75             1.02        -1.0   \n",
       "1  37.111111  98.0    130.0  4.75             1.02        -1.0   \n",
       "2  37.111111  98.0    130.0  4.75             1.02        -1.0   \n",
       "3  37.111111  98.0    130.0  4.75             1.02        -1.0   \n",
       "4  37.111111  98.0    130.0  4.75             1.02        -1.0   \n",
       "\n",
       "   appetite_median  ckd  \n",
       "0              3.0    0  \n",
       "1              3.0    0  \n",
       "2              3.0    0  \n",
       "3              3.0    0  \n",
       "4              3.0    0  "
      ]
     },
     "execution_count": 181,
     "metadata": {},
     "output_type": "execute_result"
    }
   ],
   "source": [
    "vitals_windowed.head()\n",
    "\n",
    "'''\n",
    "Random under sampling-\n",
    "Cross-validation scores: [0.6        0.66       0.58       0.68       0.59183673]\n",
    "Mean cross-validation score: 0.6223673469387755\n",
    "Precision: 0.6333333333333333\n",
    "Recall: 0.6333333333333333\n",
    "F1 Score: 0.6333333333333333\n",
    "Accuracy: 0.6507936507936508\n",
    "\n",
    "Classification report:\n",
    "              precision    recall  f1-score   support\n",
    "\n",
    "           0       0.67      0.67      0.67        33\n",
    "           1       0.63      0.63      0.63        30\n",
    "\n",
    "    accuracy                           0.65        63\n",
    "   macro avg       0.65      0.65      0.65        63\n",
    "weighted avg       0.65      0.65      0.65        63\n",
    "\n",
    "\n",
    "\n",
    "Random Over sampling-\n",
    "Cross-validation scores: [0.78873239 0.78091106 0.80151844 0.79284165 0.80151844]\n",
    "Mean cross-validation score: 0.7931043964437384\n",
    "Precision: 0.7908011869436202\n",
    "Recall: 0.8868552412645591\n",
    "F1 Score: 0.836078431372549\n",
    "Accuracy: 0.818733738074588\n",
    "\n",
    "Classification report:\n",
    "              precision    recall  f1-score   support\n",
    "\n",
    "           0       0.86      0.74      0.80       552\n",
    "           1       0.79      0.89      0.84       601\n",
    "\n",
    "    accuracy                           0.82      1153\n",
    "   macro avg       0.82      0.82      0.82      1153\n",
    "weighted avg       0.82      0.82      0.82      1153\n",
    "\n",
    "\n",
    "\n",
    "SMOTE-\n",
    "Cross-validation scores: [0.79414951 0.79718004 0.79067245 0.80802603 0.80694143]\n",
    "Mean cross-validation score: 0.7993938938150846\n",
    "Precision: 0.7920489296636085\n",
    "Recall: 0.8691275167785235\n",
    "F1 Score: 0.8288\n",
    "Accuracy: 0.8143972246313964\n",
    "\n",
    "Classification report:\n",
    "              precision    recall  f1-score   support\n",
    "\n",
    "           0       0.84      0.76      0.80       557\n",
    "           1       0.79      0.87      0.83       596\n",
    "\n",
    "    accuracy                           0.81      1153\n",
    "   macro avg       0.82      0.81      0.81      1153\n",
    "weighted avg       0.82      0.81      0.81      1153\n",
    "'''"
   ]
  },
  {
   "cell_type": "code",
   "execution_count": 182,
   "id": "610feb02",
   "metadata": {},
   "outputs": [
    {
     "data": {
      "text/html": [
       "<div>\n",
       "<style scoped>\n",
       "    .dataframe tbody tr th:only-of-type {\n",
       "        vertical-align: middle;\n",
       "    }\n",
       "\n",
       "    .dataframe tbody tr th {\n",
       "        vertical-align: top;\n",
       "    }\n",
       "\n",
       "    .dataframe thead th {\n",
       "        text-align: right;\n",
       "    }\n",
       "</style>\n",
       "<table border=\"1\" class=\"dataframe\">\n",
       "  <thead>\n",
       "    <tr style=\"text-align: right;\">\n",
       "      <th></th>\n",
       "      <th>icustay_id</th>\n",
       "      <th>time_diff</th>\n",
       "    </tr>\n",
       "  </thead>\n",
       "  <tbody>\n",
       "    <tr>\n",
       "      <th>count</th>\n",
       "      <td>8405.000000</td>\n",
       "      <td>8405.000000</td>\n",
       "    </tr>\n",
       "    <tr>\n",
       "      <th>mean</th>\n",
       "      <td>249984.620345</td>\n",
       "      <td>95.661273</td>\n",
       "    </tr>\n",
       "    <tr>\n",
       "      <th>std</th>\n",
       "      <td>28585.253432</td>\n",
       "      <td>1.806917</td>\n",
       "    </tr>\n",
       "    <tr>\n",
       "      <th>min</th>\n",
       "      <td>200017.000000</td>\n",
       "      <td>71.000000</td>\n",
       "    </tr>\n",
       "    <tr>\n",
       "      <th>25%</th>\n",
       "      <td>225578.000000</td>\n",
       "      <td>95.000000</td>\n",
       "    </tr>\n",
       "    <tr>\n",
       "      <th>50%</th>\n",
       "      <td>250040.000000</td>\n",
       "      <td>96.000000</td>\n",
       "    </tr>\n",
       "    <tr>\n",
       "      <th>75%</th>\n",
       "      <td>274430.000000</td>\n",
       "      <td>96.000000</td>\n",
       "    </tr>\n",
       "    <tr>\n",
       "      <th>max</th>\n",
       "      <td>299992.000000</td>\n",
       "      <td>107.000000</td>\n",
       "    </tr>\n",
       "  </tbody>\n",
       "</table>\n",
       "</div>"
      ],
      "text/plain": [
       "          icustay_id    time_diff\n",
       "count    8405.000000  8405.000000\n",
       "mean   249984.620345    95.661273\n",
       "std     28585.253432     1.806917\n",
       "min    200017.000000    71.000000\n",
       "25%    225578.000000    95.000000\n",
       "50%    250040.000000    96.000000\n",
       "75%    274430.000000    96.000000\n",
       "max    299992.000000   107.000000"
      ]
     },
     "execution_count": 182,
     "metadata": {},
     "output_type": "execute_result"
    }
   ],
   "source": [
    "vv = vitals_windowed\n",
    "vv['charttime'] = pd.to_datetime(vv['charttime'])\n",
    "vv['time_diff'] = vv.groupby('icustay_id')['charttime'].diff().dt.total_seconds() / 3600\n",
    "vv['time_diff'].fillna(0, inplace=True)\n",
    "\n",
    "column_sum = vv.groupby('icustay_id')['time_diff'].sum()\n",
    "column_sum_df = column_sum.to_frame().reset_index()\n",
    "column_sum_df.columns = ['icustay_id', 'time_diff']\n",
    "#filtered_df = vitals_windowed[vitals_windowed['icustay_id'] == 286937]\n",
    "column_sum_df.describe()"
   ]
  },
  {
   "cell_type": "code",
   "execution_count": 183,
   "id": "6d5e8547",
   "metadata": {},
   "outputs": [
    {
     "data": {
      "text/html": [
       "<div>\n",
       "<style scoped>\n",
       "    .dataframe tbody tr th:only-of-type {\n",
       "        vertical-align: middle;\n",
       "    }\n",
       "\n",
       "    .dataframe tbody tr th {\n",
       "        vertical-align: top;\n",
       "    }\n",
       "\n",
       "    .dataframe thead th {\n",
       "        text-align: right;\n",
       "    }\n",
       "</style>\n",
       "<table border=\"1\" class=\"dataframe\">\n",
       "  <thead>\n",
       "    <tr style=\"text-align: right;\">\n",
       "      <th></th>\n",
       "      <th>icustay_id</th>\n",
       "      <th>charttime</th>\n",
       "      <th>heartrate</th>\n",
       "      <th>sysbp</th>\n",
       "      <th>diasbp</th>\n",
       "      <th>meanbp</th>\n",
       "      <th>resprate</th>\n",
       "      <th>tempc</th>\n",
       "      <th>spo2</th>\n",
       "      <th>glucose</th>\n",
       "      <th>rbc</th>\n",
       "      <th>specificgravity</th>\n",
       "      <th>pedaledema</th>\n",
       "      <th>appetite_median</th>\n",
       "      <th>ckd</th>\n",
       "      <th>time_diff</th>\n",
       "    </tr>\n",
       "  </thead>\n",
       "  <tbody>\n",
       "    <tr>\n",
       "      <th>397810</th>\n",
       "      <td>286937</td>\n",
       "      <td>2142-08-06 03:00:00</td>\n",
       "      <td>67.0</td>\n",
       "      <td>112.0</td>\n",
       "      <td>39.0</td>\n",
       "      <td>62.0</td>\n",
       "      <td>21.0</td>\n",
       "      <td>37.900002</td>\n",
       "      <td>99.0</td>\n",
       "      <td>173.0</td>\n",
       "      <td>3.99</td>\n",
       "      <td>1.02</td>\n",
       "      <td>-1.0</td>\n",
       "      <td>3.0</td>\n",
       "      <td>0</td>\n",
       "      <td>0.0</td>\n",
       "    </tr>\n",
       "    <tr>\n",
       "      <th>397811</th>\n",
       "      <td>286937</td>\n",
       "      <td>2142-08-06 04:00:00</td>\n",
       "      <td>67.0</td>\n",
       "      <td>112.0</td>\n",
       "      <td>39.0</td>\n",
       "      <td>62.0</td>\n",
       "      <td>21.0</td>\n",
       "      <td>37.900002</td>\n",
       "      <td>99.0</td>\n",
       "      <td>173.0</td>\n",
       "      <td>3.99</td>\n",
       "      <td>1.02</td>\n",
       "      <td>-1.0</td>\n",
       "      <td>3.0</td>\n",
       "      <td>0</td>\n",
       "      <td>1.0</td>\n",
       "    </tr>\n",
       "    <tr>\n",
       "      <th>397812</th>\n",
       "      <td>286937</td>\n",
       "      <td>2142-08-06 05:00:00</td>\n",
       "      <td>67.0</td>\n",
       "      <td>112.0</td>\n",
       "      <td>39.0</td>\n",
       "      <td>62.0</td>\n",
       "      <td>21.0</td>\n",
       "      <td>37.900002</td>\n",
       "      <td>99.0</td>\n",
       "      <td>173.0</td>\n",
       "      <td>3.99</td>\n",
       "      <td>1.02</td>\n",
       "      <td>-1.0</td>\n",
       "      <td>3.0</td>\n",
       "      <td>0</td>\n",
       "      <td>1.0</td>\n",
       "    </tr>\n",
       "    <tr>\n",
       "      <th>397813</th>\n",
       "      <td>286937</td>\n",
       "      <td>2142-08-06 06:00:00</td>\n",
       "      <td>67.0</td>\n",
       "      <td>112.0</td>\n",
       "      <td>39.0</td>\n",
       "      <td>62.0</td>\n",
       "      <td>21.0</td>\n",
       "      <td>37.900002</td>\n",
       "      <td>99.0</td>\n",
       "      <td>173.0</td>\n",
       "      <td>3.99</td>\n",
       "      <td>1.02</td>\n",
       "      <td>-1.0</td>\n",
       "      <td>3.0</td>\n",
       "      <td>0</td>\n",
       "      <td>1.0</td>\n",
       "    </tr>\n",
       "    <tr>\n",
       "      <th>397814</th>\n",
       "      <td>286937</td>\n",
       "      <td>2142-08-06 07:00:00</td>\n",
       "      <td>67.0</td>\n",
       "      <td>112.0</td>\n",
       "      <td>39.0</td>\n",
       "      <td>62.0</td>\n",
       "      <td>21.0</td>\n",
       "      <td>37.900002</td>\n",
       "      <td>99.0</td>\n",
       "      <td>173.0</td>\n",
       "      <td>3.99</td>\n",
       "      <td>1.02</td>\n",
       "      <td>-1.0</td>\n",
       "      <td>3.0</td>\n",
       "      <td>0</td>\n",
       "      <td>1.0</td>\n",
       "    </tr>\n",
       "    <tr>\n",
       "      <th>...</th>\n",
       "      <td>...</td>\n",
       "      <td>...</td>\n",
       "      <td>...</td>\n",
       "      <td>...</td>\n",
       "      <td>...</td>\n",
       "      <td>...</td>\n",
       "      <td>...</td>\n",
       "      <td>...</td>\n",
       "      <td>...</td>\n",
       "      <td>...</td>\n",
       "      <td>...</td>\n",
       "      <td>...</td>\n",
       "      <td>...</td>\n",
       "      <td>...</td>\n",
       "      <td>...</td>\n",
       "      <td>...</td>\n",
       "    </tr>\n",
       "    <tr>\n",
       "      <th>397877</th>\n",
       "      <td>286937</td>\n",
       "      <td>2142-08-08 22:00:00</td>\n",
       "      <td>67.0</td>\n",
       "      <td>112.0</td>\n",
       "      <td>39.0</td>\n",
       "      <td>62.0</td>\n",
       "      <td>21.0</td>\n",
       "      <td>37.900002</td>\n",
       "      <td>99.0</td>\n",
       "      <td>173.0</td>\n",
       "      <td>3.99</td>\n",
       "      <td>1.02</td>\n",
       "      <td>-1.0</td>\n",
       "      <td>3.0</td>\n",
       "      <td>0</td>\n",
       "      <td>1.0</td>\n",
       "    </tr>\n",
       "    <tr>\n",
       "      <th>397878</th>\n",
       "      <td>286937</td>\n",
       "      <td>2142-08-08 23:00:00</td>\n",
       "      <td>67.0</td>\n",
       "      <td>112.0</td>\n",
       "      <td>39.0</td>\n",
       "      <td>62.0</td>\n",
       "      <td>21.0</td>\n",
       "      <td>37.900002</td>\n",
       "      <td>99.0</td>\n",
       "      <td>173.0</td>\n",
       "      <td>3.99</td>\n",
       "      <td>1.02</td>\n",
       "      <td>-1.0</td>\n",
       "      <td>3.0</td>\n",
       "      <td>0</td>\n",
       "      <td>1.0</td>\n",
       "    </tr>\n",
       "    <tr>\n",
       "      <th>397879</th>\n",
       "      <td>286937</td>\n",
       "      <td>2142-08-09 00:00:00</td>\n",
       "      <td>67.0</td>\n",
       "      <td>112.0</td>\n",
       "      <td>39.0</td>\n",
       "      <td>62.0</td>\n",
       "      <td>21.0</td>\n",
       "      <td>37.900002</td>\n",
       "      <td>99.0</td>\n",
       "      <td>173.0</td>\n",
       "      <td>3.99</td>\n",
       "      <td>1.02</td>\n",
       "      <td>-1.0</td>\n",
       "      <td>3.0</td>\n",
       "      <td>0</td>\n",
       "      <td>1.0</td>\n",
       "    </tr>\n",
       "    <tr>\n",
       "      <th>397880</th>\n",
       "      <td>286937</td>\n",
       "      <td>2142-08-09 01:00:00</td>\n",
       "      <td>67.0</td>\n",
       "      <td>112.0</td>\n",
       "      <td>39.0</td>\n",
       "      <td>62.0</td>\n",
       "      <td>21.0</td>\n",
       "      <td>37.900002</td>\n",
       "      <td>99.0</td>\n",
       "      <td>173.0</td>\n",
       "      <td>3.99</td>\n",
       "      <td>1.02</td>\n",
       "      <td>-1.0</td>\n",
       "      <td>3.0</td>\n",
       "      <td>0</td>\n",
       "      <td>1.0</td>\n",
       "    </tr>\n",
       "    <tr>\n",
       "      <th>397881</th>\n",
       "      <td>286937</td>\n",
       "      <td>2142-08-09 02:00:00</td>\n",
       "      <td>67.0</td>\n",
       "      <td>112.0</td>\n",
       "      <td>39.0</td>\n",
       "      <td>62.0</td>\n",
       "      <td>21.0</td>\n",
       "      <td>37.900002</td>\n",
       "      <td>99.0</td>\n",
       "      <td>173.0</td>\n",
       "      <td>3.99</td>\n",
       "      <td>1.02</td>\n",
       "      <td>-1.0</td>\n",
       "      <td>3.0</td>\n",
       "      <td>0</td>\n",
       "      <td>1.0</td>\n",
       "    </tr>\n",
       "  </tbody>\n",
       "</table>\n",
       "<p>72 rows × 16 columns</p>\n",
       "</div>"
      ],
      "text/plain": [
       "        icustay_id           charttime  heartrate  sysbp  diasbp  meanbp  \\\n",
       "397810      286937 2142-08-06 03:00:00       67.0  112.0    39.0    62.0   \n",
       "397811      286937 2142-08-06 04:00:00       67.0  112.0    39.0    62.0   \n",
       "397812      286937 2142-08-06 05:00:00       67.0  112.0    39.0    62.0   \n",
       "397813      286937 2142-08-06 06:00:00       67.0  112.0    39.0    62.0   \n",
       "397814      286937 2142-08-06 07:00:00       67.0  112.0    39.0    62.0   \n",
       "...            ...                 ...        ...    ...     ...     ...   \n",
       "397877      286937 2142-08-08 22:00:00       67.0  112.0    39.0    62.0   \n",
       "397878      286937 2142-08-08 23:00:00       67.0  112.0    39.0    62.0   \n",
       "397879      286937 2142-08-09 00:00:00       67.0  112.0    39.0    62.0   \n",
       "397880      286937 2142-08-09 01:00:00       67.0  112.0    39.0    62.0   \n",
       "397881      286937 2142-08-09 02:00:00       67.0  112.0    39.0    62.0   \n",
       "\n",
       "        resprate      tempc  spo2  glucose   rbc  specificgravity  pedaledema  \\\n",
       "397810      21.0  37.900002  99.0    173.0  3.99             1.02        -1.0   \n",
       "397811      21.0  37.900002  99.0    173.0  3.99             1.02        -1.0   \n",
       "397812      21.0  37.900002  99.0    173.0  3.99             1.02        -1.0   \n",
       "397813      21.0  37.900002  99.0    173.0  3.99             1.02        -1.0   \n",
       "397814      21.0  37.900002  99.0    173.0  3.99             1.02        -1.0   \n",
       "...          ...        ...   ...      ...   ...              ...         ...   \n",
       "397877      21.0  37.900002  99.0    173.0  3.99             1.02        -1.0   \n",
       "397878      21.0  37.900002  99.0    173.0  3.99             1.02        -1.0   \n",
       "397879      21.0  37.900002  99.0    173.0  3.99             1.02        -1.0   \n",
       "397880      21.0  37.900002  99.0    173.0  3.99             1.02        -1.0   \n",
       "397881      21.0  37.900002  99.0    173.0  3.99             1.02        -1.0   \n",
       "\n",
       "        appetite_median  ckd  time_diff  \n",
       "397810              3.0    0        0.0  \n",
       "397811              3.0    0        1.0  \n",
       "397812              3.0    0        1.0  \n",
       "397813              3.0    0        1.0  \n",
       "397814              3.0    0        1.0  \n",
       "...                 ...  ...        ...  \n",
       "397877              3.0    0        1.0  \n",
       "397878              3.0    0        1.0  \n",
       "397879              3.0    0        1.0  \n",
       "397880              3.0    0        1.0  \n",
       "397881              3.0    0        1.0  \n",
       "\n",
       "[72 rows x 16 columns]"
      ]
     },
     "execution_count": 183,
     "metadata": {},
     "output_type": "execute_result"
    }
   ],
   "source": [
    "filtered_df = vitals_windowed[vitals_windowed['icustay_id'] == 286937]\n",
    "filtered_df"
   ]
  },
  {
   "cell_type": "code",
   "execution_count": 199,
   "id": "050f13c7",
   "metadata": {},
   "outputs": [],
   "source": [
    "def RocketForVitals(vitals_windowed):\n",
    "    vitals_windowed = vitals_windowed[vitals_windowed['icustay_id'].isin(filtered_icustay_ids)]\n",
    "    vitals_windowed['charttime'] = pd.to_datetime(vitals_windowed['charttime'])\n",
    "    feature_columns = ['heartrate', 'sysbp', 'diasbp', 'meanbp', 'resprate', 'tempc', 'spo2', 'glucose', 'rbc', 'specificgravity', 'appetite_median']\n",
    "    \n",
    "    grouped_data = vitals_windowed.sort_values(['icustay_id', 'charttime']).groupby('icustay_id')[feature_columns + ['ckd']]\n",
    "    \n",
    "    X = []\n",
    "    y = []\n",
    "    for _, group in grouped_data:\n",
    "        group_values = group[feature_columns].values.T\n",
    "        num_timestamps = group_values.shape[1]\n",
    "        \n",
    "        if num_timestamps < WINDOW_LENGTH:\n",
    "            padded_values = np.pad(group_values, ((0, 0), (0, WINDOW_LENGTH - num_timestamps)), 'constant', constant_values=0)\n",
    "        elif num_timestamps > WINDOW_LENGTH:        \n",
    "            padded_values = group_values[:, :WINDOW_LENGTH]\n",
    "        else:        \n",
    "            padded_values = group_values\n",
    "        \n",
    "        X.append(padded_values)\n",
    "        y.append(group['ckd'].iloc[0])\n",
    "    \n",
    "    X = np.array(X)\n",
    "    y = np.array(y)\n",
    "    \n",
    "    n_samples, n_features, n_channels = X.shape\n",
    "    X_2d = X.reshape((n_samples, n_features*n_channels))\n",
    "\n",
    "    rus = SMOTE(random_state=42)\n",
    "    X_resampled, y_resampled = rus.fit_resample(X_2d, y)\n",
    "\n",
    "    X_resampled = X_resampled.reshape((X_resampled.shape[0], n_features, n_channels))    \n",
    "    X_train, X_test, y_train, y_test = train_test_split(X_resampled, y_resampled, test_size=0.2)\n",
    "    \n",
    "    #X_train, X_test, y_train, y_test = train_test_split(X, y, test_size=0.2, random_state=42)\n",
    "    print(\"X_train shape: \",X_train.shape,\"\\ny_train shape: \",y_train.shape)\n",
    "    \n",
    "    rocket = Rocket(num_kernels=100, random_state=42)\n",
    "    rocket.fit(X_train)\n",
    "    X_train_transformed = rocket.transform(X_train)\n",
    "    X_test_transformed = rocket.transform(X_test)\n",
    "    return X_train_transformed, X_test_transformed,y_train,y_test"
   ]
  },
  {
   "cell_type": "code",
   "execution_count": 200,
   "id": "2c051938",
   "metadata": {},
   "outputs": [
    {
     "name": "stderr",
     "output_type": "stream",
     "text": [
      "C:\\Users\\aakru\\AppData\\Local\\Temp\\ipykernel_1672\\3571907915.py:3: SettingWithCopyWarning: \n",
      "A value is trying to be set on a copy of a slice from a DataFrame.\n",
      "Try using .loc[row_indexer,col_indexer] = value instead\n",
      "\n",
      "See the caveats in the documentation: https://pandas.pydata.org/pandas-docs/stable/user_guide/indexing.html#returning-a-view-versus-a-copy\n",
      "  vitals_windowed['charttime'] = pd.to_datetime(vitals_windowed['charttime'])\n"
     ]
    },
    {
     "name": "stdout",
     "output_type": "stream",
     "text": [
      "X_train shape:  (4611, 11, 96) \n",
      "y_train shape:  (4611,)\n"
     ]
    }
   ],
   "source": [
    "X_train_transformed, X_test_transformed, y_train, y_test = RocketForVitals(vitals_windowed)"
   ]
  },
  {
   "cell_type": "code",
   "execution_count": 201,
   "id": "9e0c4a46",
   "metadata": {},
   "outputs": [
    {
     "data": {
      "text/plain": [
       "((4611, 200), (4611,))"
      ]
     },
     "execution_count": 201,
     "metadata": {},
     "output_type": "execute_result"
    }
   ],
   "source": [
    "X_train_transformed.shape, y_train.shape"
   ]
  },
  {
   "cell_type": "code",
   "execution_count": 202,
   "id": "169e42d6",
   "metadata": {},
   "outputs": [],
   "source": [
    "def printEvaluationScores(X_train_transformed, X_test_transformed, y_train, y_test):\n",
    "    clf = LogisticRegression(random_state=42, max_iter=1000)\n",
    "    cv_scores = cross_val_score(clf, X_train_transformed, y_train, cv=5)\n",
    "    print(\"Cross-validation scores:\", cv_scores)\n",
    "    print(\"Mean cross-validation score:\", np.mean(cv_scores))\n",
    "    \n",
    "    clf.fit(X_train_transformed, y_train)\n",
    "    y_pred = clf.predict(X_test_transformed)\n",
    "    #accuracy = accuracy_score(y_test, y_pred)\n",
    "    precision = precision_score(y_test, y_pred)\n",
    "    recall = recall_score(y_test, y_pred)\n",
    "    f1 = f1_score(y_test, y_pred)\n",
    "    accuracy = accuracy_score(y_test, y_pred)\n",
    "    print(\"Precision:\", precision)\n",
    "    print(\"Recall:\", recall)\n",
    "    print(\"F1 Score:\", f1)\n",
    "    print(\"Accuracy:\", accuracy)\n",
    "    #print(\"Accuracy:\", accuracy)\n",
    "    print(\"\\nClassification report:\")\n",
    "    print(classification_report(y_test, y_pred))"
   ]
  },
  {
   "cell_type": "code",
   "execution_count": 203,
   "id": "93dd0d3f",
   "metadata": {},
   "outputs": [
    {
     "name": "stderr",
     "output_type": "stream",
     "text": [
      "C:\\Users\\aakru\\anaconda3\\lib\\site-packages\\sklearn\\linear_model\\_logistic.py:814: ConvergenceWarning: lbfgs failed to converge (status=1):\n",
      "STOP: TOTAL NO. of ITERATIONS REACHED LIMIT.\n",
      "\n",
      "Increase the number of iterations (max_iter) or scale the data as shown in:\n",
      "    https://scikit-learn.org/stable/modules/preprocessing.html\n",
      "Please also refer to the documentation for alternative solver options:\n",
      "    https://scikit-learn.org/stable/modules/linear_model.html#logistic-regression\n",
      "  n_iter_i = _check_optimize_result(\n",
      "C:\\Users\\aakru\\anaconda3\\lib\\site-packages\\sklearn\\linear_model\\_logistic.py:814: ConvergenceWarning: lbfgs failed to converge (status=1):\n",
      "STOP: TOTAL NO. of ITERATIONS REACHED LIMIT.\n",
      "\n",
      "Increase the number of iterations (max_iter) or scale the data as shown in:\n",
      "    https://scikit-learn.org/stable/modules/preprocessing.html\n",
      "Please also refer to the documentation for alternative solver options:\n",
      "    https://scikit-learn.org/stable/modules/linear_model.html#logistic-regression\n",
      "  n_iter_i = _check_optimize_result(\n",
      "C:\\Users\\aakru\\anaconda3\\lib\\site-packages\\sklearn\\linear_model\\_logistic.py:814: ConvergenceWarning: lbfgs failed to converge (status=1):\n",
      "STOP: TOTAL NO. of ITERATIONS REACHED LIMIT.\n",
      "\n",
      "Increase the number of iterations (max_iter) or scale the data as shown in:\n",
      "    https://scikit-learn.org/stable/modules/preprocessing.html\n",
      "Please also refer to the documentation for alternative solver options:\n",
      "    https://scikit-learn.org/stable/modules/linear_model.html#logistic-regression\n",
      "  n_iter_i = _check_optimize_result(\n",
      "C:\\Users\\aakru\\anaconda3\\lib\\site-packages\\sklearn\\linear_model\\_logistic.py:814: ConvergenceWarning: lbfgs failed to converge (status=1):\n",
      "STOP: TOTAL NO. of ITERATIONS REACHED LIMIT.\n",
      "\n",
      "Increase the number of iterations (max_iter) or scale the data as shown in:\n",
      "    https://scikit-learn.org/stable/modules/preprocessing.html\n",
      "Please also refer to the documentation for alternative solver options:\n",
      "    https://scikit-learn.org/stable/modules/linear_model.html#logistic-regression\n",
      "  n_iter_i = _check_optimize_result(\n",
      "C:\\Users\\aakru\\anaconda3\\lib\\site-packages\\sklearn\\linear_model\\_logistic.py:814: ConvergenceWarning: lbfgs failed to converge (status=1):\n",
      "STOP: TOTAL NO. of ITERATIONS REACHED LIMIT.\n",
      "\n",
      "Increase the number of iterations (max_iter) or scale the data as shown in:\n",
      "    https://scikit-learn.org/stable/modules/preprocessing.html\n",
      "Please also refer to the documentation for alternative solver options:\n",
      "    https://scikit-learn.org/stable/modules/linear_model.html#logistic-regression\n",
      "  n_iter_i = _check_optimize_result(\n"
     ]
    },
    {
     "name": "stdout",
     "output_type": "stream",
     "text": [
      "Cross-validation scores: [0.79414951 0.79718004 0.79067245 0.80802603 0.80694143]\n",
      "Mean cross-validation score: 0.7993938938150846\n",
      "Precision: 0.7920489296636085\n",
      "Recall: 0.8691275167785235\n",
      "F1 Score: 0.8288\n",
      "Accuracy: 0.8143972246313964\n",
      "\n",
      "Classification report:\n",
      "              precision    recall  f1-score   support\n",
      "\n",
      "           0       0.84      0.76      0.80       557\n",
      "           1       0.79      0.87      0.83       596\n",
      "\n",
      "    accuracy                           0.81      1153\n",
      "   macro avg       0.82      0.81      0.81      1153\n",
      "weighted avg       0.82      0.81      0.81      1153\n",
      "\n"
     ]
    },
    {
     "name": "stderr",
     "output_type": "stream",
     "text": [
      "C:\\Users\\aakru\\anaconda3\\lib\\site-packages\\sklearn\\linear_model\\_logistic.py:814: ConvergenceWarning: lbfgs failed to converge (status=1):\n",
      "STOP: TOTAL NO. of ITERATIONS REACHED LIMIT.\n",
      "\n",
      "Increase the number of iterations (max_iter) or scale the data as shown in:\n",
      "    https://scikit-learn.org/stable/modules/preprocessing.html\n",
      "Please also refer to the documentation for alternative solver options:\n",
      "    https://scikit-learn.org/stable/modules/linear_model.html#logistic-regression\n",
      "  n_iter_i = _check_optimize_result(\n"
     ]
    }
   ],
   "source": [
    "printEvaluationScores(X_train_transformed, X_test_transformed, y_train, y_test)"
   ]
  },
  {
   "cell_type": "markdown",
   "id": "11fcfbf2",
   "metadata": {},
   "source": [
    "## Multimodal Approach"
   ]
  },
  {
   "cell_type": "markdown",
   "id": "30e2b7c5",
   "metadata": {},
   "source": [
    "####  labs and vitals"
   ]
  },
  {
   "cell_type": "code",
   "execution_count": 122,
   "id": "1fa7f8a8",
   "metadata": {},
   "outputs": [],
   "source": [
    "filtered_vitals_windowed = vitals_windowed[vitals_windowed['icustay_id'].isin(filtered_icustay_ids)]"
   ]
  },
  {
   "cell_type": "code",
   "execution_count": 123,
   "id": "85ac5b98",
   "metadata": {},
   "outputs": [
    {
     "data": {
      "text/plain": [
       "0    2882\n",
       "1     156\n",
       "Name: ckd, dtype: int64"
      ]
     },
     "execution_count": 123,
     "metadata": {},
     "output_type": "execute_result"
    }
   ],
   "source": [
    "dd = filtered_vitals_windowed[['icustay_id','ckd']].drop_duplicates(subset=['icustay_id'])\n",
    "dd['ckd'].value_counts()"
   ]
  },
  {
   "cell_type": "code",
   "execution_count": 124,
   "id": "14b441e9",
   "metadata": {},
   "outputs": [
    {
     "data": {
      "text/plain": [
       "((3038, 2), 3038, 3038)"
      ]
     },
     "execution_count": 124,
     "metadata": {},
     "output_type": "execute_result"
    }
   ],
   "source": [
    "dd.shape, dd['icustay_id'].nunique(),filtered_labs_windowed['icustay_id'].nunique()"
   ]
  },
  {
   "cell_type": "code",
   "execution_count": 299,
   "id": "2d782610",
   "metadata": {},
   "outputs": [
    {
     "data": {
      "text/plain": [
       "'\\nn_samples, n_features, n_channels = X_train_vitals.shape\\nX_2d = X_train_vitals.reshape((n_samples, n_features * n_channels))\\nrus = RandomOverSampler(random_state=42)\\nX_resampled_vitals, y_resampled_vitals = rus.fit_resample(X_2d, y_train_vitals)\\nX_resampled_vitals = X_resampled_vitals.reshape((X_resampled_vitals.shape[0], n_features, n_channels))\\nX_train_vitals = X_resampled_vitals\\ny_train_vitals = y_resampled_vitals\\n'"
      ]
     },
     "execution_count": 299,
     "metadata": {},
     "output_type": "execute_result"
    }
   ],
   "source": [
    "# LABS\n",
    "feature_labs = [ 'albumin', 'bicarbonate', 'creatinine', 'chloride', 'hematocrit', 'hemoglobin', 'potassium', 'sodium', 'bun', 'wbc', 'bacteria']\n",
    "grouped_data_labs = filtered_labs_windowed.sort_values(['icustay_id', 'charttime']).groupby('icustay_id')[feature_labs + ['ckd']]\n",
    "\n",
    "# VITALS\n",
    "feature_columns = [ 'sysbp', 'diasbp', 'meanbp', 'spo2', 'glucose', 'rbc', 'specificgravity', 'appetite_median']\n",
    "grouped_data_vitals = vitals_windowed.sort_values(['icustay_id', 'charttime']).groupby('icustay_id')[feature_columns + ['ckd']]\n",
    "\n",
    "# Get unique icustay_id values\n",
    "icustay_ids = grouped_data_labs.groups.keys()\n",
    "\n",
    "# Split icustay_id into training and test sets\n",
    "train_size = int(0.8 * len(icustay_ids))\n",
    "#train_ids = list(icustay_ids)[:train_size]\n",
    "#test_ids = list(icustay_ids)[train_size:]\n",
    "train_ids=stratified_icustay_id_train\n",
    "test_ids=stratified_icustay_id_test\n",
    "#test_ids.remove(278494)\n",
    "\n",
    "# Prepare the data for training (Labs)\n",
    "X_train_labs = []\n",
    "X_test_labs = []\n",
    "y_train_labs = []\n",
    "y_test_labs = []\n",
    "\n",
    "for icustay_id, group in grouped_data_labs:\n",
    "    if icustay_id in train_ids:\n",
    "        lab_values = group[feature_labs].values.T\n",
    "        X_train_labs.append(lab_values)\n",
    "        y_train_labs.append(group['ckd'].iloc[0])\n",
    "    elif icustay_id in test_ids:\n",
    "        lab_values = group[feature_labs].values.T\n",
    "        X_test_labs.append(lab_values)\n",
    "        y_test_labs.append(group['ckd'].iloc[0])\n",
    "\n",
    "X_train_labs = np.array(X_train_labs)\n",
    "X_test_labs = np.array(X_test_labs)\n",
    "y_train_labs = np.array(y_train_labs)\n",
    "y_test_labs = np.array(y_test_labs)\n",
    "\n",
    "'''\n",
    "n_samples, n_features, n_channels = X_train_labs.shape\n",
    "X_2d = X_train_labs.reshape((n_samples, n_features * n_channels))\n",
    "rus = RandomOverSampler(random_state=42)\n",
    "X_resampled_labs, y_resampled_labs = rus.fit_resample(X_2d, y_train_labs)\n",
    "X_resampled_labs = X_resampled_labs.reshape((X_resampled_labs.shape[0], n_features, n_channels))\n",
    "X_train_labs = X_resampled_labs\n",
    "y_train_labs = y_resampled_labs\n",
    "'''\n",
    "\n",
    "# Prepare the data for training (Vitals)\n",
    "X_train_vitals = []\n",
    "X_test_vitals = []\n",
    "y_train_vitals = []\n",
    "y_test_vitals = []\n",
    "\n",
    "for icustay_id, group in grouped_data_vitals:\n",
    "    if icustay_id in train_ids:\n",
    "        vital_values = group[feature_columns].values.T\n",
    "        X_train_vitals.append(vital_values)\n",
    "        y_train_vitals.append(group['ckd'].iloc[0])\n",
    "    elif icustay_id in test_ids:\n",
    "        vital_values = group[feature_columns].values.T\n",
    "        X_test_vitals.append(vital_values)\n",
    "        y_test_vitals.append(group['ckd'].iloc[0])\n",
    "\n",
    "X_train_vitals = np.array(X_train_vitals)\n",
    "X_test_vitals = np.array(X_test_vitals)\n",
    "y_train_vitals = np.array(y_train_vitals)\n",
    "y_test_vitals = np.array(y_test_vitals)\n",
    "\n",
    "'''\n",
    "n_samples, n_features, n_channels = X_train_vitals.shape\n",
    "X_2d = X_train_vitals.reshape((n_samples, n_features * n_channels))\n",
    "rus = RandomOverSampler(random_state=42)\n",
    "X_resampled_vitals, y_resampled_vitals = rus.fit_resample(X_2d, y_train_vitals)\n",
    "X_resampled_vitals = X_resampled_vitals.reshape((X_resampled_vitals.shape[0], n_features, n_channels))\n",
    "X_train_vitals = X_resampled_vitals\n",
    "y_train_vitals = y_resampled_vitals\n",
    "'''"
   ]
  },
  {
   "cell_type": "code",
   "execution_count": 300,
   "id": "0b92a0b2",
   "metadata": {},
   "outputs": [],
   "source": [
    "from sklearn.model_selection import StratifiedKFold\n",
    "from sklearn.metrics import precision_score, recall_score, f1_score, accuracy_score\n",
    "from imblearn.under_sampling import RandomUnderSampler\n",
    "from imblearn.over_sampling import SMOTE\n",
    "from sklearn.linear_model import LogisticRegression\n",
    "import numpy as np\n",
    "import pandas as pd\n",
    "\n",
    "\n",
    "def evaluationTest(classifier,X, y):  \n",
    "    y_pred = classifier.predict(X)\n",
    "    precision = precision_score(y, y_pred)\n",
    "    recall = recall_score(y, y_pred)\n",
    "    f1 = f1_score(y, y_pred)\n",
    "    accuracy = accuracy_score(y, y_pred)\n",
    "    print(\"Precision:\", precision)\n",
    "    print(\"Recall:\", recall)\n",
    "    print(\"F1 Score:\", f1)\n",
    "    print(\"Accuracy:\", accuracy)\n",
    "    \n",
    "    print(\"\\nClassification report:\")\n",
    "    print(classification_report(y, y_pred))\n",
    "\n",
    "    return pd.DataFrame(y_pred)    \n",
    "\n",
    "def cross_val_with_sampling_timeseries(clf, X, y, Xt, resampling=None):\n",
    "    kfold = StratifiedKFold(n_splits=5, shuffle=True, random_state=42)\n",
    "    eval_metrics = []\n",
    "    label0_prec=0\n",
    "    label0_rec=0\n",
    "    label0_f1=0\n",
    "\n",
    "    \n",
    "    label1_prec=0\n",
    "    label1_rec=0\n",
    "    label1_f1=0\n",
    "\n",
    "    \n",
    "    acc1=0\n",
    "    \n",
    "    for train_index, test_index in kfold.split(X, y):\n",
    "        X_train, X_test = X[train_index], X[test_index]\n",
    "        y_train, y_test = y[train_index], y[test_index]\n",
    "        \n",
    "        # Reshape the training data\n",
    "        n_samples_train, n_features_train, n_channels_train = X_train.shape\n",
    "        X_train_2d = X_train.reshape((n_samples_train, n_features_train * n_channels_train))\n",
    "        \n",
    "        if resampling is None:\n",
    "            print(\"No resampling: Train:\", y_train.shape[0], \"Test:\", y_test.shape[0])\n",
    "        elif resampling.lower() == 'under':\n",
    "            sampler = RandomUnderSampler(random_state=42)\n",
    "            X_train_resampled, y_train_resampled = sampler.fit_resample(X_train_2d, y_train)\n",
    "            print(\"Under sampling: Train:\", y_train_resampled.shape[0], \"Test:\", y_test.shape[0])\n",
    "        elif resampling.lower() == 'over':\n",
    "            sampler = SMOTE(random_state=42)\n",
    "            X_train_resampled, y_train_resampled = sampler.fit_resample(X_train_2d, y_train)\n",
    "            print(\"Over sampling: Train:\", y_train_resampled.shape[0], \"Test:\", y_test.shape[0])\n",
    "        \n",
    "        # Reshape the resampled training data\n",
    "        X_train_resampled = X_train_resampled.reshape((X_train_resampled.shape[0], n_features_train, n_channels_train))\n",
    "        y_train_resampled = y_train_resampled\n",
    "        \n",
    "        rocket = Rocket(num_kernels=100, random_state=42)\n",
    "        rocket.fit(X_train_resampled)\n",
    "        X_train_transformed = rocket.transform(X_train_resampled)\n",
    "        X_test_transformed = rocket.transform(X_test) \n",
    "        Xt_transformed = rocket.transform(Xt) \n",
    "        \n",
    "        print(X_train_transformed.shape,X_test_transformed.shape,Xt_transformed.shape)\n",
    "    \n",
    "        clf.fit(X_train_transformed, y_train_resampled)\n",
    "        y_pred_validation = evaluationTest(clf, X_test_transformed, y_test)\n",
    "        \n",
    "        \n",
    "        clf_res=classification_report(y_test,y_pred_validation,output_dict=True)\n",
    "        label0, label1, acc=(clf_res['0'],clf_res['1'],clf_res['accuracy'])\n",
    "        print(\"ACCURACY\",acc)\n",
    "\n",
    "        label0_prec+=label0['precision']\n",
    "        label0_rec+=label0['recall']\n",
    "        label0_f1+=label0['f1-score']\n",
    "        \n",
    "        label1_prec+=label1['precision']\n",
    "        label1_rec+=label1['recall']\n",
    "        label1_f1+=label1['f1-score']\n",
    "        \n",
    "        acc1+=acc\n",
    "        \n",
    "    print(\"label 0 precision \",label0_prec/5, \"\\nlabel 0 recall \", label0_rec/5,\"\\nlabel 0 f1 \",label0_f1/5)\n",
    "    print(\"\\n\\nlabel 1 precision \",label1_prec/5, \"\\nlabel 1 recall \", label1_rec/5,\"\\nlabel 1 f1 \",label1_f1/5)\n",
    "    print(\"\\n\\nAccuracy \",acc1/5)\n",
    "    \n",
    "\n",
    "    \n",
    "    \n",
    "    return clf, y_pred_validation, Xt_transformed"
   ]
  },
  {
   "cell_type": "code",
   "execution_count": 301,
   "id": "5576c9fb",
   "metadata": {},
   "outputs": [
    {
     "data": {
      "text/plain": [
       "'\\n\\n#Labs\\nrocket_lab = Rocket(num_kernels=100, random_state=42)\\nrocket_lab.fit(X_train_labs)\\nX_train_transformed_labs = rocket_lab.transform(X_train_labs)\\nX_test_transformed_labs = rocket_lab.transform(X_test_labs) \\nclf_lab = LogisticRegression(random_state=42, max_iter=1000)\\nclf_lab.fit(X_train_transformed_labs,y_train_labs)\\n\\n#Vitals\\nrocket_vital = Rocket(num_kernels=100, random_state=42)\\nrocket_vital.fit(X_train_vitals)\\nX_train_transformed_vital = rocket_vital.transform(X_train_vitals)\\nX_test_transformed_vital = rocket_vital.transform(X_test_vitals)\\n\\nclf_vital = LogisticRegression(random_state=42, max_iter=1000)\\nclf_vital.fit(X_train_transformed_vital,y_train_vitals)\\n'"
      ]
     },
     "execution_count": 301,
     "metadata": {},
     "output_type": "execute_result"
    }
   ],
   "source": [
    "#Rocket and LR\n",
    "'''\n",
    "\n",
    "#Labs\n",
    "rocket_lab = Rocket(num_kernels=100, random_state=42)\n",
    "rocket_lab.fit(X_train_labs)\n",
    "X_train_transformed_labs = rocket_lab.transform(X_train_labs)\n",
    "X_test_transformed_labs = rocket_lab.transform(X_test_labs) \n",
    "clf_lab = LogisticRegression(random_state=42, max_iter=1000)\n",
    "clf_lab.fit(X_train_transformed_labs,y_train_labs)\n",
    "\n",
    "#Vitals\n",
    "rocket_vital = Rocket(num_kernels=100, random_state=42)\n",
    "rocket_vital.fit(X_train_vitals)\n",
    "X_train_transformed_vital = rocket_vital.transform(X_train_vitals)\n",
    "X_test_transformed_vital = rocket_vital.transform(X_test_vitals)\n",
    "\n",
    "clf_vital = LogisticRegression(random_state=42, max_iter=1000)\n",
    "clf_vital.fit(X_train_transformed_vital,y_train_vitals)\n",
    "'''"
   ]
  },
  {
   "cell_type": "code",
   "execution_count": 302,
   "id": "dd87b85e",
   "metadata": {},
   "outputs": [
    {
     "name": "stdout",
     "output_type": "stream",
     "text": [
      "Over sampling: Train: 3670 Test: 484\n",
      "(3670, 200) (484, 200) (605, 200)\n"
     ]
    },
    {
     "name": "stderr",
     "output_type": "stream",
     "text": [
      "C:\\Users\\aakru\\anaconda3\\lib\\site-packages\\sklearn\\linear_model\\_logistic.py:814: ConvergenceWarning: lbfgs failed to converge (status=1):\n",
      "STOP: TOTAL NO. of ITERATIONS REACHED LIMIT.\n",
      "\n",
      "Increase the number of iterations (max_iter) or scale the data as shown in:\n",
      "    https://scikit-learn.org/stable/modules/preprocessing.html\n",
      "Please also refer to the documentation for alternative solver options:\n",
      "    https://scikit-learn.org/stable/modules/linear_model.html#logistic-regression\n",
      "  n_iter_i = _check_optimize_result(\n"
     ]
    },
    {
     "name": "stdout",
     "output_type": "stream",
     "text": [
      "Precision: 0.16304347826086957\n",
      "Recall: 0.6\n",
      "F1 Score: 0.25641025641025644\n",
      "Accuracy: 0.8202479338842975\n",
      "\n",
      "Classification report:\n",
      "              precision    recall  f1-score   support\n",
      "\n",
      "           0       0.97      0.83      0.90       459\n",
      "           1       0.16      0.60      0.26        25\n",
      "\n",
      "    accuracy                           0.82       484\n",
      "   macro avg       0.57      0.72      0.58       484\n",
      "weighted avg       0.93      0.82      0.86       484\n",
      "\n",
      "ACCURACY 0.8202479338842975\n",
      "Over sampling: Train: 3670 Test: 484\n",
      "(3670, 200) (484, 200) (605, 200)\n"
     ]
    },
    {
     "name": "stderr",
     "output_type": "stream",
     "text": [
      "C:\\Users\\aakru\\anaconda3\\lib\\site-packages\\sklearn\\linear_model\\_logistic.py:814: ConvergenceWarning: lbfgs failed to converge (status=1):\n",
      "STOP: TOTAL NO. of ITERATIONS REACHED LIMIT.\n",
      "\n",
      "Increase the number of iterations (max_iter) or scale the data as shown in:\n",
      "    https://scikit-learn.org/stable/modules/preprocessing.html\n",
      "Please also refer to the documentation for alternative solver options:\n",
      "    https://scikit-learn.org/stable/modules/linear_model.html#logistic-regression\n",
      "  n_iter_i = _check_optimize_result(\n"
     ]
    },
    {
     "name": "stdout",
     "output_type": "stream",
     "text": [
      "Precision: 0.10309278350515463\n",
      "Recall: 0.4\n",
      "F1 Score: 0.16393442622950818\n",
      "Accuracy: 0.7892561983471075\n",
      "\n",
      "Classification report:\n",
      "              precision    recall  f1-score   support\n",
      "\n",
      "           0       0.96      0.81      0.88       459\n",
      "           1       0.10      0.40      0.16        25\n",
      "\n",
      "    accuracy                           0.79       484\n",
      "   macro avg       0.53      0.61      0.52       484\n",
      "weighted avg       0.92      0.79      0.84       484\n",
      "\n",
      "ACCURACY 0.7892561983471075\n",
      "Over sampling: Train: 3670 Test: 484\n",
      "(3670, 200) (484, 200) (605, 200)\n"
     ]
    },
    {
     "name": "stderr",
     "output_type": "stream",
     "text": [
      "C:\\Users\\aakru\\anaconda3\\lib\\site-packages\\sklearn\\linear_model\\_logistic.py:814: ConvergenceWarning: lbfgs failed to converge (status=1):\n",
      "STOP: TOTAL NO. of ITERATIONS REACHED LIMIT.\n",
      "\n",
      "Increase the number of iterations (max_iter) or scale the data as shown in:\n",
      "    https://scikit-learn.org/stable/modules/preprocessing.html\n",
      "Please also refer to the documentation for alternative solver options:\n",
      "    https://scikit-learn.org/stable/modules/linear_model.html#logistic-regression\n",
      "  n_iter_i = _check_optimize_result(\n"
     ]
    },
    {
     "name": "stdout",
     "output_type": "stream",
     "text": [
      "Precision: 0.08333333333333333\n",
      "Recall: 0.28\n",
      "F1 Score: 0.12844036697247707\n",
      "Accuracy: 0.8037190082644629\n",
      "\n",
      "Classification report:\n",
      "              precision    recall  f1-score   support\n",
      "\n",
      "           0       0.95      0.83      0.89       459\n",
      "           1       0.08      0.28      0.13        25\n",
      "\n",
      "    accuracy                           0.80       484\n",
      "   macro avg       0.52      0.56      0.51       484\n",
      "weighted avg       0.91      0.80      0.85       484\n",
      "\n",
      "ACCURACY 0.8037190082644629\n",
      "Over sampling: Train: 3670 Test: 484\n",
      "(3670, 200) (484, 200) (605, 200)\n"
     ]
    },
    {
     "name": "stderr",
     "output_type": "stream",
     "text": [
      "C:\\Users\\aakru\\anaconda3\\lib\\site-packages\\sklearn\\linear_model\\_logistic.py:814: ConvergenceWarning: lbfgs failed to converge (status=1):\n",
      "STOP: TOTAL NO. of ITERATIONS REACHED LIMIT.\n",
      "\n",
      "Increase the number of iterations (max_iter) or scale the data as shown in:\n",
      "    https://scikit-learn.org/stable/modules/preprocessing.html\n",
      "Please also refer to the documentation for alternative solver options:\n",
      "    https://scikit-learn.org/stable/modules/linear_model.html#logistic-regression\n",
      "  n_iter_i = _check_optimize_result(\n"
     ]
    },
    {
     "name": "stdout",
     "output_type": "stream",
     "text": [
      "Precision: 0.08333333333333333\n",
      "Recall: 0.28\n",
      "F1 Score: 0.12844036697247707\n",
      "Accuracy: 0.8037190082644629\n",
      "\n",
      "Classification report:\n",
      "              precision    recall  f1-score   support\n",
      "\n",
      "           0       0.95      0.83      0.89       459\n",
      "           1       0.08      0.28      0.13        25\n",
      "\n",
      "    accuracy                           0.80       484\n",
      "   macro avg       0.52      0.56      0.51       484\n",
      "weighted avg       0.91      0.80      0.85       484\n",
      "\n",
      "ACCURACY 0.8037190082644629\n",
      "Over sampling: Train: 3672 Test: 483\n",
      "(3672, 200) (483, 200) (605, 200)\n",
      "Precision: 0.0851063829787234\n",
      "Recall: 0.32\n",
      "F1 Score: 0.13445378151260504\n",
      "Accuracy: 0.7867494824016563\n",
      "\n",
      "Classification report:\n",
      "              precision    recall  f1-score   support\n",
      "\n",
      "           0       0.96      0.81      0.88       458\n",
      "           1       0.09      0.32      0.13        25\n",
      "\n",
      "    accuracy                           0.79       483\n",
      "   macro avg       0.52      0.57      0.51       483\n",
      "weighted avg       0.91      0.79      0.84       483\n",
      "\n",
      "ACCURACY 0.7867494824016563\n",
      "label 0 precision  0.9604056613020051 \n",
      "label 0 recall  0.8238833233438936 \n",
      "label 0 f1  0.8868813724724453\n",
      "\n",
      "\n",
      "label 1 precision  0.10358186228228286 \n",
      "label 1 recall  0.376 \n",
      "label 1 f1  0.16233583961946477\n",
      "\n",
      "\n",
      "Accuracy  0.8007383262323973\n",
      "----------------------TEST-------------------------------------\n",
      "Precision: 0.09615384615384616\n",
      "Recall: 0.3225806451612903\n",
      "F1 Score: 0.14814814814814817\n",
      "Accuracy: 0.8099173553719008\n",
      "\n",
      "Classification report:\n",
      "              precision    recall  f1-score   support\n",
      "\n",
      "           0       0.96      0.84      0.89       574\n",
      "           1       0.10      0.32      0.15        31\n",
      "\n",
      "    accuracy                           0.81       605\n",
      "   macro avg       0.53      0.58      0.52       605\n",
      "weighted avg       0.91      0.81      0.85       605\n",
      "\n"
     ]
    },
    {
     "name": "stderr",
     "output_type": "stream",
     "text": [
      "C:\\Users\\aakru\\anaconda3\\lib\\site-packages\\sklearn\\linear_model\\_logistic.py:814: ConvergenceWarning: lbfgs failed to converge (status=1):\n",
      "STOP: TOTAL NO. of ITERATIONS REACHED LIMIT.\n",
      "\n",
      "Increase the number of iterations (max_iter) or scale the data as shown in:\n",
      "    https://scikit-learn.org/stable/modules/preprocessing.html\n",
      "Please also refer to the documentation for alternative solver options:\n",
      "    https://scikit-learn.org/stable/modules/linear_model.html#logistic-regression\n",
      "  n_iter_i = _check_optimize_result(\n"
     ]
    },
    {
     "data": {
      "text/html": [
       "<div>\n",
       "<style scoped>\n",
       "    .dataframe tbody tr th:only-of-type {\n",
       "        vertical-align: middle;\n",
       "    }\n",
       "\n",
       "    .dataframe tbody tr th {\n",
       "        vertical-align: top;\n",
       "    }\n",
       "\n",
       "    .dataframe thead th {\n",
       "        text-align: right;\n",
       "    }\n",
       "</style>\n",
       "<table border=\"1\" class=\"dataframe\">\n",
       "  <thead>\n",
       "    <tr style=\"text-align: right;\">\n",
       "      <th></th>\n",
       "      <th>0</th>\n",
       "    </tr>\n",
       "  </thead>\n",
       "  <tbody>\n",
       "    <tr>\n",
       "      <th>0</th>\n",
       "      <td>0</td>\n",
       "    </tr>\n",
       "    <tr>\n",
       "      <th>1</th>\n",
       "      <td>0</td>\n",
       "    </tr>\n",
       "    <tr>\n",
       "      <th>2</th>\n",
       "      <td>1</td>\n",
       "    </tr>\n",
       "    <tr>\n",
       "      <th>3</th>\n",
       "      <td>0</td>\n",
       "    </tr>\n",
       "    <tr>\n",
       "      <th>4</th>\n",
       "      <td>0</td>\n",
       "    </tr>\n",
       "    <tr>\n",
       "      <th>...</th>\n",
       "      <td>...</td>\n",
       "    </tr>\n",
       "    <tr>\n",
       "      <th>600</th>\n",
       "      <td>0</td>\n",
       "    </tr>\n",
       "    <tr>\n",
       "      <th>601</th>\n",
       "      <td>0</td>\n",
       "    </tr>\n",
       "    <tr>\n",
       "      <th>602</th>\n",
       "      <td>0</td>\n",
       "    </tr>\n",
       "    <tr>\n",
       "      <th>603</th>\n",
       "      <td>0</td>\n",
       "    </tr>\n",
       "    <tr>\n",
       "      <th>604</th>\n",
       "      <td>0</td>\n",
       "    </tr>\n",
       "  </tbody>\n",
       "</table>\n",
       "<p>605 rows × 1 columns</p>\n",
       "</div>"
      ],
      "text/plain": [
       "     0\n",
       "0    0\n",
       "1    0\n",
       "2    1\n",
       "3    0\n",
       "4    0\n",
       "..  ..\n",
       "600  0\n",
       "601  0\n",
       "602  0\n",
       "603  0\n",
       "604  0\n",
       "\n",
       "[605 rows x 1 columns]"
      ]
     },
     "execution_count": 302,
     "metadata": {},
     "output_type": "execute_result"
    }
   ],
   "source": [
    "#Labs\n",
    "clf_lab = LogisticRegression(random_state=42, max_iter=1000)\n",
    "\n",
    "lab_1, y_val_lab,X_test_labs = cross_val_with_sampling_timeseries(clf_lab, X_train_labs, y_train_labs,X_test_labs, resampling = \"over\")\n",
    "print(\"----------------------TEST-------------------------------------\")\n",
    "evaluationTest(lab_1,X_test_labs, y_test_labs)\n",
    "\n"
   ]
  },
  {
   "cell_type": "code",
   "execution_count": 201,
   "id": "f28e0ac1",
   "metadata": {},
   "outputs": [
    {
     "data": {
      "text/plain": [
       "(605, 200)"
      ]
     },
     "execution_count": 201,
     "metadata": {},
     "output_type": "execute_result"
    }
   ],
   "source": [
    "X_test_labs.shape"
   ]
  },
  {
   "cell_type": "code",
   "execution_count": 303,
   "id": "117d07cb",
   "metadata": {},
   "outputs": [
    {
     "name": "stdout",
     "output_type": "stream",
     "text": [
      "Over sampling: Train: 3670 Test: 484\n",
      "(3670, 200) (484, 200) (605, 200)\n"
     ]
    },
    {
     "name": "stderr",
     "output_type": "stream",
     "text": [
      "C:\\Users\\aakru\\anaconda3\\lib\\site-packages\\sklearn\\linear_model\\_logistic.py:814: ConvergenceWarning: lbfgs failed to converge (status=1):\n",
      "STOP: TOTAL NO. of ITERATIONS REACHED LIMIT.\n",
      "\n",
      "Increase the number of iterations (max_iter) or scale the data as shown in:\n",
      "    https://scikit-learn.org/stable/modules/preprocessing.html\n",
      "Please also refer to the documentation for alternative solver options:\n",
      "    https://scikit-learn.org/stable/modules/linear_model.html#logistic-regression\n",
      "  n_iter_i = _check_optimize_result(\n"
     ]
    },
    {
     "name": "stdout",
     "output_type": "stream",
     "text": [
      "Precision: 0.06666666666666667\n",
      "Recall: 0.36\n",
      "F1 Score: 0.11250000000000002\n",
      "Accuracy: 0.7066115702479339\n",
      "\n",
      "Classification report:\n",
      "              precision    recall  f1-score   support\n",
      "\n",
      "           0       0.95      0.73      0.82       459\n",
      "           1       0.07      0.36      0.11        25\n",
      "\n",
      "    accuracy                           0.71       484\n",
      "   macro avg       0.51      0.54      0.47       484\n",
      "weighted avg       0.91      0.71      0.79       484\n",
      "\n",
      "ACCURACY 0.7066115702479339\n",
      "Over sampling: Train: 3670 Test: 484\n",
      "(3670, 200) (484, 200) (605, 200)\n"
     ]
    },
    {
     "name": "stderr",
     "output_type": "stream",
     "text": [
      "C:\\Users\\aakru\\anaconda3\\lib\\site-packages\\sklearn\\linear_model\\_logistic.py:814: ConvergenceWarning: lbfgs failed to converge (status=1):\n",
      "STOP: TOTAL NO. of ITERATIONS REACHED LIMIT.\n",
      "\n",
      "Increase the number of iterations (max_iter) or scale the data as shown in:\n",
      "    https://scikit-learn.org/stable/modules/preprocessing.html\n",
      "Please also refer to the documentation for alternative solver options:\n",
      "    https://scikit-learn.org/stable/modules/linear_model.html#logistic-regression\n",
      "  n_iter_i = _check_optimize_result(\n"
     ]
    },
    {
     "name": "stdout",
     "output_type": "stream",
     "text": [
      "Precision: 0.056910569105691054\n",
      "Recall: 0.28\n",
      "F1 Score: 0.09459459459459459\n",
      "Accuracy: 0.7231404958677686\n",
      "\n",
      "Classification report:\n",
      "              precision    recall  f1-score   support\n",
      "\n",
      "           0       0.95      0.75      0.84       459\n",
      "           1       0.06      0.28      0.09        25\n",
      "\n",
      "    accuracy                           0.72       484\n",
      "   macro avg       0.50      0.51      0.47       484\n",
      "weighted avg       0.90      0.72      0.80       484\n",
      "\n",
      "ACCURACY 0.7231404958677686\n",
      "Over sampling: Train: 3670 Test: 484\n",
      "(3670, 200) (484, 200) (605, 200)\n"
     ]
    },
    {
     "name": "stderr",
     "output_type": "stream",
     "text": [
      "C:\\Users\\aakru\\anaconda3\\lib\\site-packages\\sklearn\\linear_model\\_logistic.py:814: ConvergenceWarning: lbfgs failed to converge (status=1):\n",
      "STOP: TOTAL NO. of ITERATIONS REACHED LIMIT.\n",
      "\n",
      "Increase the number of iterations (max_iter) or scale the data as shown in:\n",
      "    https://scikit-learn.org/stable/modules/preprocessing.html\n",
      "Please also refer to the documentation for alternative solver options:\n",
      "    https://scikit-learn.org/stable/modules/linear_model.html#logistic-regression\n",
      "  n_iter_i = _check_optimize_result(\n"
     ]
    },
    {
     "name": "stdout",
     "output_type": "stream",
     "text": [
      "Precision: 0.07894736842105263\n",
      "Recall: 0.36\n",
      "F1 Score: 0.1294964028776978\n",
      "Accuracy: 0.75\n",
      "\n",
      "Classification report:\n",
      "              precision    recall  f1-score   support\n",
      "\n",
      "           0       0.96      0.77      0.85       459\n",
      "           1       0.08      0.36      0.13        25\n",
      "\n",
      "    accuracy                           0.75       484\n",
      "   macro avg       0.52      0.57      0.49       484\n",
      "weighted avg       0.91      0.75      0.82       484\n",
      "\n",
      "ACCURACY 0.75\n",
      "Over sampling: Train: 3670 Test: 484\n",
      "(3670, 200) (484, 200) (605, 200)\n"
     ]
    },
    {
     "name": "stderr",
     "output_type": "stream",
     "text": [
      "C:\\Users\\aakru\\anaconda3\\lib\\site-packages\\sklearn\\linear_model\\_logistic.py:814: ConvergenceWarning: lbfgs failed to converge (status=1):\n",
      "STOP: TOTAL NO. of ITERATIONS REACHED LIMIT.\n",
      "\n",
      "Increase the number of iterations (max_iter) or scale the data as shown in:\n",
      "    https://scikit-learn.org/stable/modules/preprocessing.html\n",
      "Please also refer to the documentation for alternative solver options:\n",
      "    https://scikit-learn.org/stable/modules/linear_model.html#logistic-regression\n",
      "  n_iter_i = _check_optimize_result(\n"
     ]
    },
    {
     "name": "stdout",
     "output_type": "stream",
     "text": [
      "Precision: 0.10483870967741936\n",
      "Recall: 0.52\n",
      "F1 Score: 0.174496644295302\n",
      "Accuracy: 0.7458677685950413\n",
      "\n",
      "Classification report:\n",
      "              precision    recall  f1-score   support\n",
      "\n",
      "           0       0.97      0.76      0.85       459\n",
      "           1       0.10      0.52      0.17        25\n",
      "\n",
      "    accuracy                           0.75       484\n",
      "   macro avg       0.54      0.64      0.51       484\n",
      "weighted avg       0.92      0.75      0.81       484\n",
      "\n",
      "ACCURACY 0.7458677685950413\n",
      "Over sampling: Train: 3672 Test: 483\n",
      "(3672, 200) (483, 200) (605, 200)\n",
      "Precision: 0.06722689075630252\n",
      "Recall: 0.32\n",
      "F1 Score: 0.11111111111111112\n",
      "Accuracy: 0.7349896480331263\n",
      "\n",
      "Classification report:\n",
      "              precision    recall  f1-score   support\n",
      "\n",
      "           0       0.95      0.76      0.84       458\n",
      "           1       0.07      0.32      0.11        25\n",
      "\n",
      "    accuracy                           0.73       483\n",
      "   macro avg       0.51      0.54      0.48       483\n",
      "weighted avg       0.91      0.73      0.81       483\n",
      "\n",
      "ACCURACY 0.7349896480331263\n",
      "label 0 precision  0.9562026717337895 \n",
      "label 0 recall  0.7519641141269705 \n",
      "label 0 f1  0.8417965786249807\n",
      "\n",
      "\n",
      "label 1 precision  0.07491804092542645 \n",
      "label 1 recall  0.368 \n",
      "label 1 f1  0.12443975057574112\n",
      "\n",
      "\n",
      "Accuracy  0.732121896548774\n",
      "----------------------TEST-------------------------------------\n",
      "Precision: 0.07692307692307693\n",
      "Recall: 0.3548387096774194\n",
      "F1 Score: 0.12643678160919541\n",
      "Accuracy: 0.7487603305785124\n",
      "\n",
      "Classification report:\n",
      "              precision    recall  f1-score   support\n",
      "\n",
      "           0       0.96      0.77      0.85       574\n",
      "           1       0.08      0.35      0.13        31\n",
      "\n",
      "    accuracy                           0.75       605\n",
      "   macro avg       0.52      0.56      0.49       605\n",
      "weighted avg       0.91      0.75      0.82       605\n",
      "\n"
     ]
    },
    {
     "name": "stderr",
     "output_type": "stream",
     "text": [
      "C:\\Users\\aakru\\anaconda3\\lib\\site-packages\\sklearn\\linear_model\\_logistic.py:814: ConvergenceWarning: lbfgs failed to converge (status=1):\n",
      "STOP: TOTAL NO. of ITERATIONS REACHED LIMIT.\n",
      "\n",
      "Increase the number of iterations (max_iter) or scale the data as shown in:\n",
      "    https://scikit-learn.org/stable/modules/preprocessing.html\n",
      "Please also refer to the documentation for alternative solver options:\n",
      "    https://scikit-learn.org/stable/modules/linear_model.html#logistic-regression\n",
      "  n_iter_i = _check_optimize_result(\n"
     ]
    },
    {
     "data": {
      "text/html": [
       "<div>\n",
       "<style scoped>\n",
       "    .dataframe tbody tr th:only-of-type {\n",
       "        vertical-align: middle;\n",
       "    }\n",
       "\n",
       "    .dataframe tbody tr th {\n",
       "        vertical-align: top;\n",
       "    }\n",
       "\n",
       "    .dataframe thead th {\n",
       "        text-align: right;\n",
       "    }\n",
       "</style>\n",
       "<table border=\"1\" class=\"dataframe\">\n",
       "  <thead>\n",
       "    <tr style=\"text-align: right;\">\n",
       "      <th></th>\n",
       "      <th>0</th>\n",
       "    </tr>\n",
       "  </thead>\n",
       "  <tbody>\n",
       "    <tr>\n",
       "      <th>0</th>\n",
       "      <td>0</td>\n",
       "    </tr>\n",
       "    <tr>\n",
       "      <th>1</th>\n",
       "      <td>0</td>\n",
       "    </tr>\n",
       "    <tr>\n",
       "      <th>2</th>\n",
       "      <td>1</td>\n",
       "    </tr>\n",
       "    <tr>\n",
       "      <th>3</th>\n",
       "      <td>0</td>\n",
       "    </tr>\n",
       "    <tr>\n",
       "      <th>4</th>\n",
       "      <td>0</td>\n",
       "    </tr>\n",
       "    <tr>\n",
       "      <th>...</th>\n",
       "      <td>...</td>\n",
       "    </tr>\n",
       "    <tr>\n",
       "      <th>600</th>\n",
       "      <td>1</td>\n",
       "    </tr>\n",
       "    <tr>\n",
       "      <th>601</th>\n",
       "      <td>0</td>\n",
       "    </tr>\n",
       "    <tr>\n",
       "      <th>602</th>\n",
       "      <td>0</td>\n",
       "    </tr>\n",
       "    <tr>\n",
       "      <th>603</th>\n",
       "      <td>1</td>\n",
       "    </tr>\n",
       "    <tr>\n",
       "      <th>604</th>\n",
       "      <td>0</td>\n",
       "    </tr>\n",
       "  </tbody>\n",
       "</table>\n",
       "<p>605 rows × 1 columns</p>\n",
       "</div>"
      ],
      "text/plain": [
       "     0\n",
       "0    0\n",
       "1    0\n",
       "2    1\n",
       "3    0\n",
       "4    0\n",
       "..  ..\n",
       "600  1\n",
       "601  0\n",
       "602  0\n",
       "603  1\n",
       "604  0\n",
       "\n",
       "[605 rows x 1 columns]"
      ]
     },
     "execution_count": 303,
     "metadata": {},
     "output_type": "execute_result"
    }
   ],
   "source": [
    "#Vitals \n",
    "clf_vital = LogisticRegression(random_state=42, max_iter=1000)\n",
    "\n",
    "vital_1, y_val_vital,X_test_vitals = cross_val_with_sampling_timeseries(clf_vital, X_train_vitals, y_train_vitals,X_test_vitals, resampling = \"over\")\n",
    "print(\"----------------------TEST-------------------------------------\")\n",
    "evaluationTest(vital_1,X_test_vitals, y_test_vitals)"
   ]
  },
  {
   "cell_type": "markdown",
   "id": "caf7d26d",
   "metadata": {},
   "source": [
    "#### Static model"
   ]
  },
  {
   "cell_type": "code",
   "execution_count": 158,
   "id": "a6f0c537",
   "metadata": {},
   "outputs": [],
   "source": [
    "# Split the merged_table into train and test data\n",
    "train_data = merged_table.loc[merged_table['icustay_id'].isin(train_ids)]\n",
    "test_data = merged_table.loc[merged_table['icustay_id'].isin(test_ids)]"
   ]
  },
  {
   "cell_type": "code",
   "execution_count": 159,
   "id": "f66cdf96",
   "metadata": {},
   "outputs": [
    {
     "name": "stdout",
     "output_type": "stream",
     "text": [
      "set()\n"
     ]
    }
   ],
   "source": [
    "test_ids_not_in_table = set(test_ids) - set(merged_table['icustay_id'])\n",
    "print(test_ids_not_in_table)"
   ]
  },
  {
   "cell_type": "code",
   "execution_count": 160,
   "id": "4b5c0165",
   "metadata": {},
   "outputs": [
    {
     "data": {
      "text/plain": [
       "((605, 30), 605)"
      ]
     },
     "execution_count": 160,
     "metadata": {},
     "output_type": "execute_result"
    }
   ],
   "source": [
    "test_data.shape,len(test_ids)"
   ]
  },
  {
   "cell_type": "code",
   "execution_count": 161,
   "id": "dc27b491",
   "metadata": {},
   "outputs": [
    {
     "data": {
      "text/plain": [
       "(2419, 30)"
      ]
     },
     "execution_count": 161,
     "metadata": {},
     "output_type": "execute_result"
    }
   ],
   "source": [
    "train_data.shape"
   ]
  },
  {
   "cell_type": "code",
   "execution_count": 162,
   "id": "691ddf55",
   "metadata": {},
   "outputs": [
    {
     "data": {
      "text/plain": [
       "Index(['icustay_id', 'albumin', 'bacteria', 'glucose', 'bun', 'creatinine',\n",
       "       'sodium', 'potassium', 'hemoglobin', 'wbc', 'hematocrit', 'platelet',\n",
       "       'ptt', 'ckd_ethnicity', 'heartrate', 'sysbp', 'diasbp', 'meanbp',\n",
       "       'resprate', 'tempc', 'spo2', 'specificgravity', 'appetite_median',\n",
       "       'gender', 'ethnicity_grouped', 'label_cor_art', 'diabetes_mellitus',\n",
       "       'ckd', 'anemia_flag', 'age_group'],\n",
       "      dtype='object')"
      ]
     },
     "execution_count": 162,
     "metadata": {},
     "output_type": "execute_result"
    }
   ],
   "source": [
    "train_data.columns"
   ]
  },
  {
   "cell_type": "code",
   "execution_count": 179,
   "id": "2a94432b",
   "metadata": {},
   "outputs": [],
   "source": [
    "X_train_static=train_data[['gender', 'ethnicity_grouped', 'label_cor_art', 'diabetes_mellitus', 'anemia_flag', 'age_group']]    #,'ethnicity_grouped'\n",
    "y_train_static=train_data['ckd']\n",
    "X_train_static=pd.get_dummies(X_train_static)"
   ]
  },
  {
   "cell_type": "code",
   "execution_count": 180,
   "id": "22c642a2",
   "metadata": {},
   "outputs": [],
   "source": [
    "X_test_static=test_data[['gender', 'ethnicity_grouped', 'label_cor_art', 'diabetes_mellitus', 'anemia_flag', 'age_group']]    #,'ethnicity_grouped'\n",
    "y_test_static=test_data['ckd']\n",
    "X_test_static=pd.get_dummies(X_test_static)"
   ]
  },
  {
   "cell_type": "code",
   "execution_count": 181,
   "id": "e0c8c297",
   "metadata": {},
   "outputs": [
    {
     "data": {
      "text/plain": [
       "((2419, 20), (31595,))"
      ]
     },
     "execution_count": 181,
     "metadata": {},
     "output_type": "execute_result"
    }
   ],
   "source": [
    "X_train_static.shape,y_train.shape"
   ]
  },
  {
   "cell_type": "code",
   "execution_count": 186,
   "id": "0a80b0a8",
   "metadata": {},
   "outputs": [],
   "source": [
    "def evaluationTest(classifier,X, y):  \n",
    "    y_pred = classifier.predict(X)\n",
    "    precision = precision_score(y, y_pred)\n",
    "    recall = recall_score(y, y_pred)\n",
    "    f1 = f1_score(y, y_pred)\n",
    "    accuracy = accuracy_score(y, y_pred)\n",
    "    print(\"Precision:\", precision)\n",
    "    print(\"Recall:\", recall)\n",
    "    print(\"F1 Score:\", f1)\n",
    "    print(\"Accuracy:\", accuracy)\n",
    "    return pd.DataFrame(y_pred)    \n",
    "\n",
    "def cross_val_with_sampling(clf, X,y, resampling = None):\n",
    "    from sklearn.model_selection import StratifiedKFold\n",
    "    \n",
    "    X = X.values\n",
    "    y = y.values\n",
    "    \n",
    "    kfold = StratifiedKFold(n_splits=5, shuffle=True, random_state=42)\n",
    "    \n",
    "    for train_index, test_index in kfold.split(X, y):\n",
    "        X_train, X_test = X[train_index], X[test_index]\n",
    "        y_train, y_test = y[train_index], y[test_index]\n",
    "        \n",
    "        if resampling == None:\n",
    "            print(\"No resampling: Train:\", y_train.shape[0] , \"Test:\", y_test.shape[0])\n",
    "        elif (resampling.lower() == 'under'):\n",
    "            sampler = RandomUnderSampler(random_state=42)\n",
    "            X_train, y_train = sampler.fit_resample(X_train, y_train)\n",
    "            print(\"Under sampling: Train:\", y_train.shape[0] , \"Test:\", y_test.shape[0])\n",
    "        elif (resampling.lower() == 'over'):\n",
    "            sampler = SMOTE(random_state=42)\n",
    "            X_train, y_train = sampler.fit_resample(X_train, y_train)\n",
    "            print(\"Over sampling: Train:\", y_train.shape[0] , \"Test:\", y_test.shape[0])\n",
    "        \n",
    "        clf.fit(X_train, y_train)\n",
    "        y_pred_validation = evaluationTest(clf, X_test, y_test)\n",
    "    \n",
    "    return clf, y_pred_validation"
   ]
  },
  {
   "cell_type": "code",
   "execution_count": 187,
   "id": "ba225ac5",
   "metadata": {},
   "outputs": [
    {
     "name": "stdout",
     "output_type": "stream",
     "text": [
      "Over sampling: Train: 3670 Test: 484\n",
      "Precision: 0.08849557522123894\n",
      "Recall: 0.4\n",
      "F1 Score: 0.14492753623188404\n",
      "Accuracy: 0.756198347107438\n",
      "Over sampling: Train: 3670 Test: 484\n",
      "Precision: 0.09859154929577464\n",
      "Recall: 0.56\n",
      "F1 Score: 0.16766467065868262\n",
      "Accuracy: 0.7128099173553719\n",
      "Over sampling: Train: 3670 Test: 484\n",
      "Precision: 0.08653846153846154\n",
      "Recall: 0.36\n",
      "F1 Score: 0.13953488372093023\n",
      "Accuracy: 0.7706611570247934\n",
      "Over sampling: Train: 3670 Test: 484\n",
      "Precision: 0.08256880733944955\n",
      "Recall: 0.36\n",
      "F1 Score: 0.13432835820895522\n",
      "Accuracy: 0.7603305785123967\n",
      "Over sampling: Train: 3672 Test: 483\n",
      "Precision: 0.09420289855072464\n",
      "Recall: 0.52\n",
      "F1 Score: 0.15950920245398773\n",
      "Accuracy: 0.7163561076604554\n",
      "----------------------TEST-------------------------------------\n",
      "Precision: 0.10948905109489052\n",
      "Recall: 0.4838709677419355\n",
      "F1 Score: 0.17857142857142858\n",
      "Accuracy: 0.771900826446281\n"
     ]
    },
    {
     "name": "stderr",
     "output_type": "stream",
     "text": [
      "C:\\Users\\aakru\\anaconda3\\lib\\site-packages\\sklearn\\base.py:443: UserWarning: X has feature names, but RandomForestClassifier was fitted without feature names\n",
      "  warnings.warn(\n"
     ]
    },
    {
     "data": {
      "text/html": [
       "<div>\n",
       "<style scoped>\n",
       "    .dataframe tbody tr th:only-of-type {\n",
       "        vertical-align: middle;\n",
       "    }\n",
       "\n",
       "    .dataframe tbody tr th {\n",
       "        vertical-align: top;\n",
       "    }\n",
       "\n",
       "    .dataframe thead th {\n",
       "        text-align: right;\n",
       "    }\n",
       "</style>\n",
       "<table border=\"1\" class=\"dataframe\">\n",
       "  <thead>\n",
       "    <tr style=\"text-align: right;\">\n",
       "      <th></th>\n",
       "      <th>0</th>\n",
       "    </tr>\n",
       "  </thead>\n",
       "  <tbody>\n",
       "    <tr>\n",
       "      <th>0</th>\n",
       "      <td>0</td>\n",
       "    </tr>\n",
       "    <tr>\n",
       "      <th>1</th>\n",
       "      <td>0</td>\n",
       "    </tr>\n",
       "    <tr>\n",
       "      <th>2</th>\n",
       "      <td>1</td>\n",
       "    </tr>\n",
       "    <tr>\n",
       "      <th>3</th>\n",
       "      <td>1</td>\n",
       "    </tr>\n",
       "    <tr>\n",
       "      <th>4</th>\n",
       "      <td>0</td>\n",
       "    </tr>\n",
       "    <tr>\n",
       "      <th>...</th>\n",
       "      <td>...</td>\n",
       "    </tr>\n",
       "    <tr>\n",
       "      <th>600</th>\n",
       "      <td>1</td>\n",
       "    </tr>\n",
       "    <tr>\n",
       "      <th>601</th>\n",
       "      <td>0</td>\n",
       "    </tr>\n",
       "    <tr>\n",
       "      <th>602</th>\n",
       "      <td>0</td>\n",
       "    </tr>\n",
       "    <tr>\n",
       "      <th>603</th>\n",
       "      <td>0</td>\n",
       "    </tr>\n",
       "    <tr>\n",
       "      <th>604</th>\n",
       "      <td>0</td>\n",
       "    </tr>\n",
       "  </tbody>\n",
       "</table>\n",
       "<p>605 rows × 1 columns</p>\n",
       "</div>"
      ],
      "text/plain": [
       "     0\n",
       "0    0\n",
       "1    0\n",
       "2    1\n",
       "3    1\n",
       "4    0\n",
       "..  ..\n",
       "600  1\n",
       "601  0\n",
       "602  0\n",
       "603  0\n",
       "604  0\n",
       "\n",
       "[605 rows x 1 columns]"
      ]
     },
     "execution_count": 187,
     "metadata": {},
     "output_type": "execute_result"
    }
   ],
   "source": [
    "rf_ros = RandomForestClassifier(max_features='log2')\n",
    "\n",
    "rf_1, y_val = cross_val_with_sampling(rf_ros, X_train_static,y_train_static, resampling = \"over\")\n",
    "print(\"----------------------TEST-------------------------------------\")\n",
    "evaluationTest(rf_1, X_test_static, y_test_static)"
   ]
  },
  {
   "cell_type": "code",
   "execution_count": 161,
   "id": "374d5523",
   "metadata": {},
   "outputs": [
    {
     "data": {
      "text/plain": [
       "RandomForestClassifier(max_features='log2')"
      ]
     },
     "execution_count": 161,
     "metadata": {},
     "output_type": "execute_result"
    }
   ],
   "source": [
    "rus = RandomOverSampler(random_state=42)\n",
    "X_resampled_static, y_resampled_static = rus.fit_resample(X_train_static, y_train_static)\n",
    "#X_resampled_vitals = X_resampled_vitals.reshape((X_resampled_vitals.shape[0], n_features, n_channels))\n",
    "X_train_static = X_resampled_static\n",
    "y_train_static = y_resampled_static\n",
    "rf_same.fit(X_train_static,y_train_static)"
   ]
  },
  {
   "cell_type": "code",
   "execution_count": 162,
   "id": "cd67aa04",
   "metadata": {},
   "outputs": [
    {
     "data": {
      "text/plain": [
       "((4302,), (4302,))"
      ]
     },
     "execution_count": 162,
     "metadata": {},
     "output_type": "execute_result"
    }
   ],
   "source": [
    "y_train_static.shape,y_train_labs.shape"
   ]
  },
  {
   "cell_type": "markdown",
   "id": "6b4f1cae",
   "metadata": {},
   "source": [
    "#### Static with just demographics"
   ]
  },
  {
   "cell_type": "code",
   "execution_count": 172,
   "id": "1a750948",
   "metadata": {},
   "outputs": [
    {
     "name": "stdout",
     "output_type": "stream",
     "text": [
      "set()\n"
     ]
    },
    {
     "ename": "AttributeError",
     "evalue": "'numpy.ndarray' object has no attribute 'values'",
     "output_type": "error",
     "traceback": [
      "\u001b[1;31m---------------------------------------------------------------------------\u001b[0m",
      "\u001b[1;31mAttributeError\u001b[0m                            Traceback (most recent call last)",
      "\u001b[1;32m~\\AppData\\Local\\Temp\\ipykernel_1880\\1824083136.py\u001b[0m in \u001b[0;36m<module>\u001b[1;34m\u001b[0m\n\u001b[0;32m     56\u001b[0m \u001b[0mrf_ros\u001b[0m \u001b[1;33m=\u001b[0m \u001b[0mRandomForestClassifier\u001b[0m\u001b[1;33m(\u001b[0m\u001b[0mmax_features\u001b[0m\u001b[1;33m=\u001b[0m\u001b[1;34m'log2'\u001b[0m\u001b[1;33m)\u001b[0m\u001b[1;33m\u001b[0m\u001b[1;33m\u001b[0m\u001b[0m\n\u001b[0;32m     57\u001b[0m \u001b[1;33m\u001b[0m\u001b[0m\n\u001b[1;32m---> 58\u001b[1;33m \u001b[0mrf_1\u001b[0m\u001b[1;33m,\u001b[0m \u001b[0my_val\u001b[0m \u001b[1;33m=\u001b[0m \u001b[0mcross_val_with_sampling\u001b[0m\u001b[1;33m(\u001b[0m\u001b[0mrf_ros\u001b[0m\u001b[1;33m,\u001b[0m \u001b[0mX_train_static\u001b[0m\u001b[1;33m,\u001b[0m\u001b[0my_train\u001b[0m\u001b[1;33m,\u001b[0m \u001b[0mresampling\u001b[0m \u001b[1;33m=\u001b[0m \u001b[1;34m\"under\"\u001b[0m\u001b[1;33m)\u001b[0m\u001b[1;33m\u001b[0m\u001b[1;33m\u001b[0m\u001b[0m\n\u001b[0m\u001b[0;32m     59\u001b[0m \u001b[0mprint\u001b[0m\u001b[1;33m(\u001b[0m\u001b[1;34m\"----------------------TEST-------------------------------------\"\u001b[0m\u001b[1;33m)\u001b[0m\u001b[1;33m\u001b[0m\u001b[1;33m\u001b[0m\u001b[0m\n\u001b[0;32m     60\u001b[0m \u001b[0mevaluationTest\u001b[0m\u001b[1;33m(\u001b[0m\u001b[0mrf_1\u001b[0m\u001b[1;33m,\u001b[0m \u001b[0mX_test_static\u001b[0m\u001b[1;33m,\u001b[0m \u001b[0my_test\u001b[0m\u001b[1;33m)\u001b[0m\u001b[1;33m\u001b[0m\u001b[1;33m\u001b[0m\u001b[0m\n",
      "\u001b[1;32m~\\AppData\\Local\\Temp\\ipykernel_1880\\1824083136.py\u001b[0m in \u001b[0;36mcross_val_with_sampling\u001b[1;34m(clf, X, y, resampling)\u001b[0m\n\u001b[0;32m     30\u001b[0m \u001b[1;33m\u001b[0m\u001b[0m\n\u001b[0;32m     31\u001b[0m     \u001b[0mX\u001b[0m \u001b[1;33m=\u001b[0m \u001b[0mX\u001b[0m\u001b[1;33m.\u001b[0m\u001b[0mvalues\u001b[0m\u001b[1;33m\u001b[0m\u001b[1;33m\u001b[0m\u001b[0m\n\u001b[1;32m---> 32\u001b[1;33m     \u001b[0my\u001b[0m \u001b[1;33m=\u001b[0m \u001b[0my\u001b[0m\u001b[1;33m.\u001b[0m\u001b[0mvalues\u001b[0m\u001b[1;33m\u001b[0m\u001b[1;33m\u001b[0m\u001b[0m\n\u001b[0m\u001b[0;32m     33\u001b[0m \u001b[1;33m\u001b[0m\u001b[0m\n\u001b[0;32m     34\u001b[0m     \u001b[0mkfold\u001b[0m \u001b[1;33m=\u001b[0m \u001b[0mStratifiedKFold\u001b[0m\u001b[1;33m(\u001b[0m\u001b[0mn_splits\u001b[0m\u001b[1;33m=\u001b[0m\u001b[1;36m5\u001b[0m\u001b[1;33m,\u001b[0m \u001b[0mshuffle\u001b[0m\u001b[1;33m=\u001b[0m\u001b[1;32mTrue\u001b[0m\u001b[1;33m,\u001b[0m \u001b[0mrandom_state\u001b[0m\u001b[1;33m=\u001b[0m\u001b[1;36m42\u001b[0m\u001b[1;33m)\u001b[0m\u001b[1;33m\u001b[0m\u001b[1;33m\u001b[0m\u001b[0m\n",
      "\u001b[1;31mAttributeError\u001b[0m: 'numpy.ndarray' object has no attribute 'values'"
     ]
    }
   ],
   "source": [
    "# Split the merged_table into train and test data\n",
    "train_data = merged_table.loc[merged_table['icustay_id'].isin(train_ids)]\n",
    "test_data = merged_table.loc[merged_table['icustay_id'].isin(test_ids)]\n",
    "\n",
    "test_ids_not_in_table = set(test_ids) - set(merged_table['icustay_id'])\n",
    "print(test_ids_not_in_table)\n",
    "\n",
    "X_train_static=train_data[['gender', 'ethnicity_grouped', 'label_cor_art', 'diabetes_mellitus', 'anemia_flag', 'age_group']]\n",
    "y_train_static=train_data['ckd']\n",
    "X_train_static=pd.get_dummies(X_train_static)\n",
    "\n",
    "X_test_static=test_data[['gender', 'ethnicity_grouped', 'label_cor_art', 'diabetes_mellitus', 'anemia_flag', 'age_group']]\n",
    "y_test_static=test_data['ckd']\n",
    "X_test_static=pd.get_dummies(X_test_static)\n",
    "\n",
    "rus = RandomOverSampler(random_state=42)\n",
    "X_resampled_static, y_resampled_static = rus.fit_resample(X_train_static, y_train_static)\n",
    "#X_resampled_vitals = X_resampled_vitals.reshape((X_resampled_vitals.shape[0], n_features, n_channels))\n",
    "X_train_static = X_resampled_static\n",
    "y_train_static = y_resampled_static\n",
    "rf_same.fit(X_train_static,y_train_static)"
   ]
  },
  {
   "cell_type": "code",
   "execution_count": 202,
   "id": "559112e3",
   "metadata": {},
   "outputs": [],
   "source": [
    "def soft_voting(clf_lab, clf_vital,clf3, weights, X_test_transformed_lab, X_test_transformed_vital, y_test_labs,y_test_vitals,Xstatic,ystatic):\n",
    "    '''\n",
    "    if X_test_transformed_lab.ndim == 3:\n",
    "        X_test_transformed_lab = X_test_transformed_lab.reshape(X_test_transformed_lab.shape[0], -1)\n",
    "    if X_test_transformed_vital.ndim == 3:\n",
    "        X_test_transformed_vital = X_test_transformed_vital.reshape(X_test_transformed_vital.shape[0], -1)\n",
    "    '''\n",
    "    # Obtain the probability estimates for each class\n",
    "    prob_lab = clf_lab.predict_proba(X_test_transformed_lab)\n",
    "    prob_vital = clf_vital.predict_proba(X_test_transformed_vital)\n",
    "    prob_static = clf3.predict_proba(Xstatic)\n",
    "\n",
    "    # Combine the probability estimates using weighted averaging\n",
    "    weighted_prob = (weights[0] * prob_lab + weights[1] * prob_vital  +  weights[2] * prob_static) / np.sum(weights)\n",
    "    #print(weighted_prob)\n",
    "\n",
    "    # Make the final prediction based on the highest probability\n",
    "    y_pred = np.argmax(weighted_prob, axis=1)\n",
    "    \n",
    "    #print(np.sum(y_test_labs))\n",
    "\n",
    "    # Calculate accuracy\n",
    "    acc = np.sum(y_pred == y_test_labs)/len(y_pred)\n",
    "    #accuracy = accuracy_score(y_test, y_pred)\n",
    "    precision = precision_score(y_test_labs, y_pred)\n",
    "    recall = recall_score(y_test_labs, y_pred)\n",
    "    f1 = f1_score(y_test_labs, y_pred)\n",
    "    accuracy = accuracy_score(y_test_labs, y_pred)\n",
    "    print(\"Precision:\", precision)\n",
    "    print(\"Recall:\", recall)\n",
    "    print(\"F1 Score:\", f1)\n",
    "    print(\"Accuracy:\", accuracy)\n",
    "    #print(\"Accuracy:\", accuracy)\n",
    "    #print(acc)\n",
    "\n",
    "    return y_pred"
   ]
  },
  {
   "cell_type": "markdown",
   "id": "9df1142a",
   "metadata": {},
   "source": [
    "#### Obtaining Weights"
   ]
  },
  {
   "cell_type": "code",
   "execution_count": 165,
   "id": "f7ab7494",
   "metadata": {},
   "outputs": [
    {
     "name": "stdout",
     "output_type": "stream",
     "text": [
      "Cross-validation scores: [0.84815618 0.86567164 0.86446105 0.85559175 0.86180631]\n",
      "Mean cross-validation score: 0.8591373858404989\n",
      "Cross-validation scores: [0.79471545 0.80237154 0.79881657 0.80244399 0.80981595]\n",
      "Mean cross-validation score: 0.8016326998954781\n",
      "Cross-validation scores: [0.89069767 0.94199536 0.94186047 0.91627907 0.92093023]\n",
      "Mean cross-validation score: 0.9223525602978471\n",
      "Cross-validation scores: [0.83159117 0.85365854 0.85       0.84534884 0.85232558]\n",
      "Mean cross-validation score: 0.846584825648921\n"
     ]
    }
   ],
   "source": [
    "def printEvaluationScores(X_train_static, y_train_static):\n",
    "    cv_scores = cross_val_score(rf_same, X_train_static, y_train_static, cv=5, scoring='f1')\n",
    "    print(\"Cross-validation scores:\", cv_scores)\n",
    "    print(\"Mean cross-validation score:\", np.mean(cv_scores))\n",
    "    cv_scores = cross_val_score(rf_same, X_train_static, y_train_static, cv=5, scoring='precision')\n",
    "    print(\"Cross-validation scores:\", cv_scores)\n",
    "    print(\"Mean cross-validation score:\", np.mean(cv_scores))\n",
    "    cv_scores = cross_val_score(rf_same, X_train_static, y_train_static, cv=5, scoring='recall')\n",
    "    print(\"Cross-validation scores:\", cv_scores)\n",
    "    print(\"Mean cross-validation score:\", np.mean(cv_scores))\n",
    "    cv_scores = cross_val_score(rf_same, X_train_static, y_train_static, cv=5, scoring='accuracy')\n",
    "    print(\"Cross-validation scores:\", cv_scores)\n",
    "    print(\"Mean cross-validation score:\", np.mean(cv_scores))\n",
    "printEvaluationScores(X_train_static, y_train_static)"
   ]
  },
  {
   "cell_type": "code",
   "execution_count": 167,
   "id": "02255b26",
   "metadata": {},
   "outputs": [
    {
     "name": "stderr",
     "output_type": "stream",
     "text": [
      "C:\\Users\\aakru\\anaconda3\\lib\\site-packages\\sklearn\\linear_model\\_logistic.py:814: ConvergenceWarning: lbfgs failed to converge (status=1):\n",
      "STOP: TOTAL NO. of ITERATIONS REACHED LIMIT.\n",
      "\n",
      "Increase the number of iterations (max_iter) or scale the data as shown in:\n",
      "    https://scikit-learn.org/stable/modules/preprocessing.html\n",
      "Please also refer to the documentation for alternative solver options:\n",
      "    https://scikit-learn.org/stable/modules/linear_model.html#logistic-regression\n",
      "  n_iter_i = _check_optimize_result(\n",
      "C:\\Users\\aakru\\anaconda3\\lib\\site-packages\\sklearn\\linear_model\\_logistic.py:814: ConvergenceWarning: lbfgs failed to converge (status=1):\n",
      "STOP: TOTAL NO. of ITERATIONS REACHED LIMIT.\n",
      "\n",
      "Increase the number of iterations (max_iter) or scale the data as shown in:\n",
      "    https://scikit-learn.org/stable/modules/preprocessing.html\n",
      "Please also refer to the documentation for alternative solver options:\n",
      "    https://scikit-learn.org/stable/modules/linear_model.html#logistic-regression\n",
      "  n_iter_i = _check_optimize_result(\n",
      "C:\\Users\\aakru\\anaconda3\\lib\\site-packages\\sklearn\\linear_model\\_logistic.py:814: ConvergenceWarning: lbfgs failed to converge (status=1):\n",
      "STOP: TOTAL NO. of ITERATIONS REACHED LIMIT.\n",
      "\n",
      "Increase the number of iterations (max_iter) or scale the data as shown in:\n",
      "    https://scikit-learn.org/stable/modules/preprocessing.html\n",
      "Please also refer to the documentation for alternative solver options:\n",
      "    https://scikit-learn.org/stable/modules/linear_model.html#logistic-regression\n",
      "  n_iter_i = _check_optimize_result(\n",
      "C:\\Users\\aakru\\anaconda3\\lib\\site-packages\\sklearn\\linear_model\\_logistic.py:814: ConvergenceWarning: lbfgs failed to converge (status=1):\n",
      "STOP: TOTAL NO. of ITERATIONS REACHED LIMIT.\n",
      "\n",
      "Increase the number of iterations (max_iter) or scale the data as shown in:\n",
      "    https://scikit-learn.org/stable/modules/preprocessing.html\n",
      "Please also refer to the documentation for alternative solver options:\n",
      "    https://scikit-learn.org/stable/modules/linear_model.html#logistic-regression\n",
      "  n_iter_i = _check_optimize_result(\n",
      "C:\\Users\\aakru\\anaconda3\\lib\\site-packages\\sklearn\\linear_model\\_logistic.py:814: ConvergenceWarning: lbfgs failed to converge (status=1):\n",
      "STOP: TOTAL NO. of ITERATIONS REACHED LIMIT.\n",
      "\n",
      "Increase the number of iterations (max_iter) or scale the data as shown in:\n",
      "    https://scikit-learn.org/stable/modules/preprocessing.html\n",
      "Please also refer to the documentation for alternative solver options:\n",
      "    https://scikit-learn.org/stable/modules/linear_model.html#logistic-regression\n",
      "  n_iter_i = _check_optimize_result(\n"
     ]
    },
    {
     "name": "stdout",
     "output_type": "stream",
     "text": [
      "Cross-validation scores: [0.87973998 0.88888889 0.89632829 0.88043478 0.88423374]\n",
      "Mean cross-validation score: 0.885925136232417\n"
     ]
    },
    {
     "name": "stderr",
     "output_type": "stream",
     "text": [
      "C:\\Users\\aakru\\anaconda3\\lib\\site-packages\\sklearn\\linear_model\\_logistic.py:814: ConvergenceWarning: lbfgs failed to converge (status=1):\n",
      "STOP: TOTAL NO. of ITERATIONS REACHED LIMIT.\n",
      "\n",
      "Increase the number of iterations (max_iter) or scale the data as shown in:\n",
      "    https://scikit-learn.org/stable/modules/preprocessing.html\n",
      "Please also refer to the documentation for alternative solver options:\n",
      "    https://scikit-learn.org/stable/modules/linear_model.html#logistic-regression\n",
      "  n_iter_i = _check_optimize_result(\n",
      "C:\\Users\\aakru\\anaconda3\\lib\\site-packages\\sklearn\\linear_model\\_logistic.py:814: ConvergenceWarning: lbfgs failed to converge (status=1):\n",
      "STOP: TOTAL NO. of ITERATIONS REACHED LIMIT.\n",
      "\n",
      "Increase the number of iterations (max_iter) or scale the data as shown in:\n",
      "    https://scikit-learn.org/stable/modules/preprocessing.html\n",
      "Please also refer to the documentation for alternative solver options:\n",
      "    https://scikit-learn.org/stable/modules/linear_model.html#logistic-regression\n",
      "  n_iter_i = _check_optimize_result(\n",
      "C:\\Users\\aakru\\anaconda3\\lib\\site-packages\\sklearn\\linear_model\\_logistic.py:814: ConvergenceWarning: lbfgs failed to converge (status=1):\n",
      "STOP: TOTAL NO. of ITERATIONS REACHED LIMIT.\n",
      "\n",
      "Increase the number of iterations (max_iter) or scale the data as shown in:\n",
      "    https://scikit-learn.org/stable/modules/preprocessing.html\n",
      "Please also refer to the documentation for alternative solver options:\n",
      "    https://scikit-learn.org/stable/modules/linear_model.html#logistic-regression\n",
      "  n_iter_i = _check_optimize_result(\n",
      "C:\\Users\\aakru\\anaconda3\\lib\\site-packages\\sklearn\\linear_model\\_logistic.py:814: ConvergenceWarning: lbfgs failed to converge (status=1):\n",
      "STOP: TOTAL NO. of ITERATIONS REACHED LIMIT.\n",
      "\n",
      "Increase the number of iterations (max_iter) or scale the data as shown in:\n",
      "    https://scikit-learn.org/stable/modules/preprocessing.html\n",
      "Please also refer to the documentation for alternative solver options:\n",
      "    https://scikit-learn.org/stable/modules/linear_model.html#logistic-regression\n",
      "  n_iter_i = _check_optimize_result(\n",
      "C:\\Users\\aakru\\anaconda3\\lib\\site-packages\\sklearn\\linear_model\\_logistic.py:814: ConvergenceWarning: lbfgs failed to converge (status=1):\n",
      "STOP: TOTAL NO. of ITERATIONS REACHED LIMIT.\n",
      "\n",
      "Increase the number of iterations (max_iter) or scale the data as shown in:\n",
      "    https://scikit-learn.org/stable/modules/preprocessing.html\n",
      "Please also refer to the documentation for alternative solver options:\n",
      "    https://scikit-learn.org/stable/modules/linear_model.html#logistic-regression\n",
      "  n_iter_i = _check_optimize_result(\n"
     ]
    },
    {
     "name": "stdout",
     "output_type": "stream",
     "text": [
      "Cross-validation scores: [0.82352941 0.83778234 0.83669355 0.82653061 0.84067086]\n",
      "Mean cross-validation score: 0.8330413545595816\n"
     ]
    },
    {
     "name": "stderr",
     "output_type": "stream",
     "text": [
      "C:\\Users\\aakru\\anaconda3\\lib\\site-packages\\sklearn\\linear_model\\_logistic.py:814: ConvergenceWarning: lbfgs failed to converge (status=1):\n",
      "STOP: TOTAL NO. of ITERATIONS REACHED LIMIT.\n",
      "\n",
      "Increase the number of iterations (max_iter) or scale the data as shown in:\n",
      "    https://scikit-learn.org/stable/modules/preprocessing.html\n",
      "Please also refer to the documentation for alternative solver options:\n",
      "    https://scikit-learn.org/stable/modules/linear_model.html#logistic-regression\n",
      "  n_iter_i = _check_optimize_result(\n",
      "C:\\Users\\aakru\\anaconda3\\lib\\site-packages\\sklearn\\linear_model\\_logistic.py:814: ConvergenceWarning: lbfgs failed to converge (status=1):\n",
      "STOP: TOTAL NO. of ITERATIONS REACHED LIMIT.\n",
      "\n",
      "Increase the number of iterations (max_iter) or scale the data as shown in:\n",
      "    https://scikit-learn.org/stable/modules/preprocessing.html\n",
      "Please also refer to the documentation for alternative solver options:\n",
      "    https://scikit-learn.org/stable/modules/linear_model.html#logistic-regression\n",
      "  n_iter_i = _check_optimize_result(\n",
      "C:\\Users\\aakru\\anaconda3\\lib\\site-packages\\sklearn\\linear_model\\_logistic.py:814: ConvergenceWarning: lbfgs failed to converge (status=1):\n",
      "STOP: TOTAL NO. of ITERATIONS REACHED LIMIT.\n",
      "\n",
      "Increase the number of iterations (max_iter) or scale the data as shown in:\n",
      "    https://scikit-learn.org/stable/modules/preprocessing.html\n",
      "Please also refer to the documentation for alternative solver options:\n",
      "    https://scikit-learn.org/stable/modules/linear_model.html#logistic-regression\n",
      "  n_iter_i = _check_optimize_result(\n",
      "C:\\Users\\aakru\\anaconda3\\lib\\site-packages\\sklearn\\linear_model\\_logistic.py:814: ConvergenceWarning: lbfgs failed to converge (status=1):\n",
      "STOP: TOTAL NO. of ITERATIONS REACHED LIMIT.\n",
      "\n",
      "Increase the number of iterations (max_iter) or scale the data as shown in:\n",
      "    https://scikit-learn.org/stable/modules/preprocessing.html\n",
      "Please also refer to the documentation for alternative solver options:\n",
      "    https://scikit-learn.org/stable/modules/linear_model.html#logistic-regression\n",
      "  n_iter_i = _check_optimize_result(\n",
      "C:\\Users\\aakru\\anaconda3\\lib\\site-packages\\sklearn\\linear_model\\_logistic.py:814: ConvergenceWarning: lbfgs failed to converge (status=1):\n",
      "STOP: TOTAL NO. of ITERATIONS REACHED LIMIT.\n",
      "\n",
      "Increase the number of iterations (max_iter) or scale the data as shown in:\n",
      "    https://scikit-learn.org/stable/modules/preprocessing.html\n",
      "Please also refer to the documentation for alternative solver options:\n",
      "    https://scikit-learn.org/stable/modules/linear_model.html#logistic-regression\n",
      "  n_iter_i = _check_optimize_result(\n"
     ]
    },
    {
     "name": "stdout",
     "output_type": "stream",
     "text": [
      "Cross-validation scores: [0.94418605 0.94663573 0.96511628 0.94186047 0.93255814]\n",
      "Mean cross-validation score: 0.9460713322182054\n"
     ]
    },
    {
     "name": "stderr",
     "output_type": "stream",
     "text": [
      "C:\\Users\\aakru\\anaconda3\\lib\\site-packages\\sklearn\\linear_model\\_logistic.py:814: ConvergenceWarning: lbfgs failed to converge (status=1):\n",
      "STOP: TOTAL NO. of ITERATIONS REACHED LIMIT.\n",
      "\n",
      "Increase the number of iterations (max_iter) or scale the data as shown in:\n",
      "    https://scikit-learn.org/stable/modules/preprocessing.html\n",
      "Please also refer to the documentation for alternative solver options:\n",
      "    https://scikit-learn.org/stable/modules/linear_model.html#logistic-regression\n",
      "  n_iter_i = _check_optimize_result(\n",
      "C:\\Users\\aakru\\anaconda3\\lib\\site-packages\\sklearn\\linear_model\\_logistic.py:814: ConvergenceWarning: lbfgs failed to converge (status=1):\n",
      "STOP: TOTAL NO. of ITERATIONS REACHED LIMIT.\n",
      "\n",
      "Increase the number of iterations (max_iter) or scale the data as shown in:\n",
      "    https://scikit-learn.org/stable/modules/preprocessing.html\n",
      "Please also refer to the documentation for alternative solver options:\n",
      "    https://scikit-learn.org/stable/modules/linear_model.html#logistic-regression\n",
      "  n_iter_i = _check_optimize_result(\n",
      "C:\\Users\\aakru\\anaconda3\\lib\\site-packages\\sklearn\\linear_model\\_logistic.py:814: ConvergenceWarning: lbfgs failed to converge (status=1):\n",
      "STOP: TOTAL NO. of ITERATIONS REACHED LIMIT.\n",
      "\n",
      "Increase the number of iterations (max_iter) or scale the data as shown in:\n",
      "    https://scikit-learn.org/stable/modules/preprocessing.html\n",
      "Please also refer to the documentation for alternative solver options:\n",
      "    https://scikit-learn.org/stable/modules/linear_model.html#logistic-regression\n",
      "  n_iter_i = _check_optimize_result(\n",
      "C:\\Users\\aakru\\anaconda3\\lib\\site-packages\\sklearn\\linear_model\\_logistic.py:814: ConvergenceWarning: lbfgs failed to converge (status=1):\n",
      "STOP: TOTAL NO. of ITERATIONS REACHED LIMIT.\n",
      "\n",
      "Increase the number of iterations (max_iter) or scale the data as shown in:\n",
      "    https://scikit-learn.org/stable/modules/preprocessing.html\n",
      "Please also refer to the documentation for alternative solver options:\n",
      "    https://scikit-learn.org/stable/modules/linear_model.html#logistic-regression\n",
      "  n_iter_i = _check_optimize_result(\n"
     ]
    },
    {
     "name": "stdout",
     "output_type": "stream",
     "text": [
      "Cross-validation scores: [0.87108014 0.8815331  0.88837209 0.87209302 0.87790698]\n",
      "Mean cross-validation score: 0.8781970666882749\n"
     ]
    },
    {
     "name": "stderr",
     "output_type": "stream",
     "text": [
      "C:\\Users\\aakru\\anaconda3\\lib\\site-packages\\sklearn\\linear_model\\_logistic.py:814: ConvergenceWarning: lbfgs failed to converge (status=1):\n",
      "STOP: TOTAL NO. of ITERATIONS REACHED LIMIT.\n",
      "\n",
      "Increase the number of iterations (max_iter) or scale the data as shown in:\n",
      "    https://scikit-learn.org/stable/modules/preprocessing.html\n",
      "Please also refer to the documentation for alternative solver options:\n",
      "    https://scikit-learn.org/stable/modules/linear_model.html#logistic-regression\n",
      "  n_iter_i = _check_optimize_result(\n"
     ]
    }
   ],
   "source": [
    "def printEvaluationScores(X_train_transformed_labs, y_train_labs):\n",
    "    cv_scores = cross_val_score(clf_lab, X_train_transformed_labs,y_train_labs, cv=5, scoring='f1')\n",
    "    print(\"Cross-validation scores:\", cv_scores)\n",
    "    print(\"Mean cross-validation score:\", np.mean(cv_scores))\n",
    "    cv_scores = cross_val_score(clf_lab,X_train_transformed_labs,y_train_labs, cv=5, scoring='precision')\n",
    "    print(\"Cross-validation scores:\", cv_scores)\n",
    "    print(\"Mean cross-validation score:\", np.mean(cv_scores))\n",
    "    cv_scores = cross_val_score(clf_lab, X_train_transformed_labs, y_train_labs, cv=5, scoring='recall')\n",
    "    print(\"Cross-validation scores:\", cv_scores)\n",
    "    print(\"Mean cross-validation score:\", np.mean(cv_scores))\n",
    "    cv_scores = cross_val_score(clf_lab, X_train_transformed_labs,y_train_labs, cv=5, scoring='accuracy')\n",
    "    print(\"Cross-validation scores:\", cv_scores)\n",
    "    print(\"Mean cross-validation score:\", np.mean(cv_scores))\n",
    "printEvaluationScores(X_train_transformed_labs, y_train_labs)"
   ]
  },
  {
   "cell_type": "code",
   "execution_count": 168,
   "id": "1ebfc668",
   "metadata": {},
   "outputs": [
    {
     "name": "stderr",
     "output_type": "stream",
     "text": [
      "C:\\Users\\aakru\\anaconda3\\lib\\site-packages\\sklearn\\linear_model\\_logistic.py:814: ConvergenceWarning: lbfgs failed to converge (status=1):\n",
      "STOP: TOTAL NO. of ITERATIONS REACHED LIMIT.\n",
      "\n",
      "Increase the number of iterations (max_iter) or scale the data as shown in:\n",
      "    https://scikit-learn.org/stable/modules/preprocessing.html\n",
      "Please also refer to the documentation for alternative solver options:\n",
      "    https://scikit-learn.org/stable/modules/linear_model.html#logistic-regression\n",
      "  n_iter_i = _check_optimize_result(\n",
      "C:\\Users\\aakru\\anaconda3\\lib\\site-packages\\sklearn\\linear_model\\_logistic.py:814: ConvergenceWarning: lbfgs failed to converge (status=1):\n",
      "STOP: TOTAL NO. of ITERATIONS REACHED LIMIT.\n",
      "\n",
      "Increase the number of iterations (max_iter) or scale the data as shown in:\n",
      "    https://scikit-learn.org/stable/modules/preprocessing.html\n",
      "Please also refer to the documentation for alternative solver options:\n",
      "    https://scikit-learn.org/stable/modules/linear_model.html#logistic-regression\n",
      "  n_iter_i = _check_optimize_result(\n",
      "C:\\Users\\aakru\\anaconda3\\lib\\site-packages\\sklearn\\linear_model\\_logistic.py:814: ConvergenceWarning: lbfgs failed to converge (status=1):\n",
      "STOP: TOTAL NO. of ITERATIONS REACHED LIMIT.\n",
      "\n",
      "Increase the number of iterations (max_iter) or scale the data as shown in:\n",
      "    https://scikit-learn.org/stable/modules/preprocessing.html\n",
      "Please also refer to the documentation for alternative solver options:\n",
      "    https://scikit-learn.org/stable/modules/linear_model.html#logistic-regression\n",
      "  n_iter_i = _check_optimize_result(\n",
      "C:\\Users\\aakru\\anaconda3\\lib\\site-packages\\sklearn\\linear_model\\_logistic.py:814: ConvergenceWarning: lbfgs failed to converge (status=1):\n",
      "STOP: TOTAL NO. of ITERATIONS REACHED LIMIT.\n",
      "\n",
      "Increase the number of iterations (max_iter) or scale the data as shown in:\n",
      "    https://scikit-learn.org/stable/modules/preprocessing.html\n",
      "Please also refer to the documentation for alternative solver options:\n",
      "    https://scikit-learn.org/stable/modules/linear_model.html#logistic-regression\n",
      "  n_iter_i = _check_optimize_result(\n",
      "C:\\Users\\aakru\\anaconda3\\lib\\site-packages\\sklearn\\linear_model\\_logistic.py:814: ConvergenceWarning: lbfgs failed to converge (status=1):\n",
      "STOP: TOTAL NO. of ITERATIONS REACHED LIMIT.\n",
      "\n",
      "Increase the number of iterations (max_iter) or scale the data as shown in:\n",
      "    https://scikit-learn.org/stable/modules/preprocessing.html\n",
      "Please also refer to the documentation for alternative solver options:\n",
      "    https://scikit-learn.org/stable/modules/linear_model.html#logistic-regression\n",
      "  n_iter_i = _check_optimize_result(\n"
     ]
    },
    {
     "name": "stdout",
     "output_type": "stream",
     "text": [
      "Cross-validation scores: [0.8544102  0.85471898 0.86892178 0.85714286 0.85623003]\n",
      "Mean cross-validation score: 0.8582847697751091\n"
     ]
    },
    {
     "name": "stderr",
     "output_type": "stream",
     "text": [
      "C:\\Users\\aakru\\anaconda3\\lib\\site-packages\\sklearn\\linear_model\\_logistic.py:814: ConvergenceWarning: lbfgs failed to converge (status=1):\n",
      "STOP: TOTAL NO. of ITERATIONS REACHED LIMIT.\n",
      "\n",
      "Increase the number of iterations (max_iter) or scale the data as shown in:\n",
      "    https://scikit-learn.org/stable/modules/preprocessing.html\n",
      "Please also refer to the documentation for alternative solver options:\n",
      "    https://scikit-learn.org/stable/modules/linear_model.html#logistic-regression\n",
      "  n_iter_i = _check_optimize_result(\n",
      "C:\\Users\\aakru\\anaconda3\\lib\\site-packages\\sklearn\\linear_model\\_logistic.py:814: ConvergenceWarning: lbfgs failed to converge (status=1):\n",
      "STOP: TOTAL NO. of ITERATIONS REACHED LIMIT.\n",
      "\n",
      "Increase the number of iterations (max_iter) or scale the data as shown in:\n",
      "    https://scikit-learn.org/stable/modules/preprocessing.html\n",
      "Please also refer to the documentation for alternative solver options:\n",
      "    https://scikit-learn.org/stable/modules/linear_model.html#logistic-regression\n",
      "  n_iter_i = _check_optimize_result(\n",
      "C:\\Users\\aakru\\anaconda3\\lib\\site-packages\\sklearn\\linear_model\\_logistic.py:814: ConvergenceWarning: lbfgs failed to converge (status=1):\n",
      "STOP: TOTAL NO. of ITERATIONS REACHED LIMIT.\n",
      "\n",
      "Increase the number of iterations (max_iter) or scale the data as shown in:\n",
      "    https://scikit-learn.org/stable/modules/preprocessing.html\n",
      "Please also refer to the documentation for alternative solver options:\n",
      "    https://scikit-learn.org/stable/modules/linear_model.html#logistic-regression\n",
      "  n_iter_i = _check_optimize_result(\n",
      "C:\\Users\\aakru\\anaconda3\\lib\\site-packages\\sklearn\\linear_model\\_logistic.py:814: ConvergenceWarning: lbfgs failed to converge (status=1):\n",
      "STOP: TOTAL NO. of ITERATIONS REACHED LIMIT.\n",
      "\n",
      "Increase the number of iterations (max_iter) or scale the data as shown in:\n",
      "    https://scikit-learn.org/stable/modules/preprocessing.html\n",
      "Please also refer to the documentation for alternative solver options:\n",
      "    https://scikit-learn.org/stable/modules/linear_model.html#logistic-regression\n",
      "  n_iter_i = _check_optimize_result(\n",
      "C:\\Users\\aakru\\anaconda3\\lib\\site-packages\\sklearn\\linear_model\\_logistic.py:814: ConvergenceWarning: lbfgs failed to converge (status=1):\n",
      "STOP: TOTAL NO. of ITERATIONS REACHED LIMIT.\n",
      "\n",
      "Increase the number of iterations (max_iter) or scale the data as shown in:\n",
      "    https://scikit-learn.org/stable/modules/preprocessing.html\n",
      "Please also refer to the documentation for alternative solver options:\n",
      "    https://scikit-learn.org/stable/modules/linear_model.html#logistic-regression\n",
      "  n_iter_i = _check_optimize_result(\n"
     ]
    },
    {
     "name": "stdout",
     "output_type": "stream",
     "text": [
      "Cross-validation scores: [0.78669276 0.78710938 0.79651163 0.79640719 0.78978389]\n",
      "Mean cross-validation score: 0.7913009675623144\n"
     ]
    },
    {
     "name": "stderr",
     "output_type": "stream",
     "text": [
      "C:\\Users\\aakru\\anaconda3\\lib\\site-packages\\sklearn\\linear_model\\_logistic.py:814: ConvergenceWarning: lbfgs failed to converge (status=1):\n",
      "STOP: TOTAL NO. of ITERATIONS REACHED LIMIT.\n",
      "\n",
      "Increase the number of iterations (max_iter) or scale the data as shown in:\n",
      "    https://scikit-learn.org/stable/modules/preprocessing.html\n",
      "Please also refer to the documentation for alternative solver options:\n",
      "    https://scikit-learn.org/stable/modules/linear_model.html#logistic-regression\n",
      "  n_iter_i = _check_optimize_result(\n",
      "C:\\Users\\aakru\\anaconda3\\lib\\site-packages\\sklearn\\linear_model\\_logistic.py:814: ConvergenceWarning: lbfgs failed to converge (status=1):\n",
      "STOP: TOTAL NO. of ITERATIONS REACHED LIMIT.\n",
      "\n",
      "Increase the number of iterations (max_iter) or scale the data as shown in:\n",
      "    https://scikit-learn.org/stable/modules/preprocessing.html\n",
      "Please also refer to the documentation for alternative solver options:\n",
      "    https://scikit-learn.org/stable/modules/linear_model.html#logistic-regression\n",
      "  n_iter_i = _check_optimize_result(\n",
      "C:\\Users\\aakru\\anaconda3\\lib\\site-packages\\sklearn\\linear_model\\_logistic.py:814: ConvergenceWarning: lbfgs failed to converge (status=1):\n",
      "STOP: TOTAL NO. of ITERATIONS REACHED LIMIT.\n",
      "\n",
      "Increase the number of iterations (max_iter) or scale the data as shown in:\n",
      "    https://scikit-learn.org/stable/modules/preprocessing.html\n",
      "Please also refer to the documentation for alternative solver options:\n",
      "    https://scikit-learn.org/stable/modules/linear_model.html#logistic-regression\n",
      "  n_iter_i = _check_optimize_result(\n",
      "C:\\Users\\aakru\\anaconda3\\lib\\site-packages\\sklearn\\linear_model\\_logistic.py:814: ConvergenceWarning: lbfgs failed to converge (status=1):\n",
      "STOP: TOTAL NO. of ITERATIONS REACHED LIMIT.\n",
      "\n",
      "Increase the number of iterations (max_iter) or scale the data as shown in:\n",
      "    https://scikit-learn.org/stable/modules/preprocessing.html\n",
      "Please also refer to the documentation for alternative solver options:\n",
      "    https://scikit-learn.org/stable/modules/linear_model.html#logistic-regression\n",
      "  n_iter_i = _check_optimize_result(\n",
      "C:\\Users\\aakru\\anaconda3\\lib\\site-packages\\sklearn\\linear_model\\_logistic.py:814: ConvergenceWarning: lbfgs failed to converge (status=1):\n",
      "STOP: TOTAL NO. of ITERATIONS REACHED LIMIT.\n",
      "\n",
      "Increase the number of iterations (max_iter) or scale the data as shown in:\n",
      "    https://scikit-learn.org/stable/modules/preprocessing.html\n",
      "Please also refer to the documentation for alternative solver options:\n",
      "    https://scikit-learn.org/stable/modules/linear_model.html#logistic-regression\n",
      "  n_iter_i = _check_optimize_result(\n"
     ]
    },
    {
     "name": "stdout",
     "output_type": "stream",
     "text": [
      "Cross-validation scores: [0.93488372 0.9350348  0.95581395 0.92790698 0.93488372]\n",
      "Mean cross-validation score: 0.937704634975449\n"
     ]
    },
    {
     "name": "stderr",
     "output_type": "stream",
     "text": [
      "C:\\Users\\aakru\\anaconda3\\lib\\site-packages\\sklearn\\linear_model\\_logistic.py:814: ConvergenceWarning: lbfgs failed to converge (status=1):\n",
      "STOP: TOTAL NO. of ITERATIONS REACHED LIMIT.\n",
      "\n",
      "Increase the number of iterations (max_iter) or scale the data as shown in:\n",
      "    https://scikit-learn.org/stable/modules/preprocessing.html\n",
      "Please also refer to the documentation for alternative solver options:\n",
      "    https://scikit-learn.org/stable/modules/linear_model.html#logistic-regression\n",
      "  n_iter_i = _check_optimize_result(\n",
      "C:\\Users\\aakru\\anaconda3\\lib\\site-packages\\sklearn\\linear_model\\_logistic.py:814: ConvergenceWarning: lbfgs failed to converge (status=1):\n",
      "STOP: TOTAL NO. of ITERATIONS REACHED LIMIT.\n",
      "\n",
      "Increase the number of iterations (max_iter) or scale the data as shown in:\n",
      "    https://scikit-learn.org/stable/modules/preprocessing.html\n",
      "Please also refer to the documentation for alternative solver options:\n",
      "    https://scikit-learn.org/stable/modules/linear_model.html#logistic-regression\n",
      "  n_iter_i = _check_optimize_result(\n",
      "C:\\Users\\aakru\\anaconda3\\lib\\site-packages\\sklearn\\linear_model\\_logistic.py:814: ConvergenceWarning: lbfgs failed to converge (status=1):\n",
      "STOP: TOTAL NO. of ITERATIONS REACHED LIMIT.\n",
      "\n",
      "Increase the number of iterations (max_iter) or scale the data as shown in:\n",
      "    https://scikit-learn.org/stable/modules/preprocessing.html\n",
      "Please also refer to the documentation for alternative solver options:\n",
      "    https://scikit-learn.org/stable/modules/linear_model.html#logistic-regression\n",
      "  n_iter_i = _check_optimize_result(\n",
      "C:\\Users\\aakru\\anaconda3\\lib\\site-packages\\sklearn\\linear_model\\_logistic.py:814: ConvergenceWarning: lbfgs failed to converge (status=1):\n",
      "STOP: TOTAL NO. of ITERATIONS REACHED LIMIT.\n",
      "\n",
      "Increase the number of iterations (max_iter) or scale the data as shown in:\n",
      "    https://scikit-learn.org/stable/modules/preprocessing.html\n",
      "Please also refer to the documentation for alternative solver options:\n",
      "    https://scikit-learn.org/stable/modules/linear_model.html#logistic-regression\n",
      "  n_iter_i = _check_optimize_result(\n"
     ]
    },
    {
     "name": "stdout",
     "output_type": "stream",
     "text": [
      "Cross-validation scores: [0.84088269 0.84088269 0.85581395 0.84534884 0.84302326]\n",
      "Mean cross-validation score: 0.8451902871188179\n"
     ]
    },
    {
     "name": "stderr",
     "output_type": "stream",
     "text": [
      "C:\\Users\\aakru\\anaconda3\\lib\\site-packages\\sklearn\\linear_model\\_logistic.py:814: ConvergenceWarning: lbfgs failed to converge (status=1):\n",
      "STOP: TOTAL NO. of ITERATIONS REACHED LIMIT.\n",
      "\n",
      "Increase the number of iterations (max_iter) or scale the data as shown in:\n",
      "    https://scikit-learn.org/stable/modules/preprocessing.html\n",
      "Please also refer to the documentation for alternative solver options:\n",
      "    https://scikit-learn.org/stable/modules/linear_model.html#logistic-regression\n",
      "  n_iter_i = _check_optimize_result(\n"
     ]
    }
   ],
   "source": [
    "def printEvaluationScores(X_train_transformed_vital, y_train_vitals):\n",
    "    cv_scores = cross_val_score(clf_vital, X_train_transformed_vital, y_train_vitals, cv=5, scoring='f1')\n",
    "    print(\"Cross-validation scores:\", cv_scores)\n",
    "    print(\"Mean cross-validation score:\", np.mean(cv_scores))\n",
    "    cv_scores = cross_val_score(clf_vital, X_train_transformed_vital,y_train_vitals, cv=5, scoring='precision')\n",
    "    print(\"Cross-validation scores:\", cv_scores)\n",
    "    print(\"Mean cross-validation score:\", np.mean(cv_scores))\n",
    "    cv_scores = cross_val_score(clf_vital, X_train_transformed_vital,y_train_vitals, cv=5, scoring='recall')\n",
    "    print(\"Cross-validation scores:\", cv_scores)\n",
    "    print(\"Mean cross-validation score:\", np.mean(cv_scores))\n",
    "    cv_scores = cross_val_score(clf_vital, X_train_transformed_vital,y_train_vitals, cv=5, scoring='accuracy')\n",
    "    print(\"Cross-validation scores:\", cv_scores)\n",
    "    print(\"Mean cross-validation score:\", np.mean(cv_scores))\n",
    "printEvaluationScores(X_train_transformed_vital, y_train_vitals)"
   ]
  },
  {
   "cell_type": "code",
   "execution_count": 190,
   "id": "7c3c9674",
   "metadata": {},
   "outputs": [],
   "source": [
    "weight_l=0.14\n",
    "weight_v=0.12\n",
    "weight_s=0.17"
   ]
  },
  {
   "cell_type": "code",
   "execution_count": 198,
   "id": "1c2f4952",
   "metadata": {},
   "outputs": [
    {
     "data": {
      "text/plain": [
       "(605, 11, 13)"
      ]
     },
     "execution_count": 198,
     "metadata": {},
     "output_type": "execute_result"
    }
   ],
   "source": [
    "X_test_labs.shape"
   ]
  },
  {
   "cell_type": "code",
   "execution_count": 203,
   "id": "118f86b8",
   "metadata": {},
   "outputs": [
    {
     "name": "stderr",
     "output_type": "stream",
     "text": [
      "C:\\Users\\aakru\\anaconda3\\lib\\site-packages\\sklearn\\base.py:443: UserWarning: X has feature names, but RandomForestClassifier was fitted without feature names\n",
      "  warnings.warn(\n"
     ]
    },
    {
     "name": "stdout",
     "output_type": "stream",
     "text": [
      "Precision: 0.15789473684210525\n",
      "Recall: 0.3870967741935484\n",
      "F1 Score: 0.22429906542056074\n",
      "Accuracy: 0.8628099173553719\n"
     ]
    },
    {
     "data": {
      "text/plain": [
       "array([0, 0, 1, 1, 0, 0, 0, 0, 0, 0, 0, 0, 0, 0, 0, 0, 0, 0, 0, 0, 0, 0,\n",
       "       0, 0, 0, 0, 0, 0, 0, 1, 1, 0, 1, 0, 1, 0, 0, 0, 0, 0, 0, 0, 0, 0,\n",
       "       1, 0, 0, 0, 0, 0, 0, 0, 0, 0, 0, 0, 0, 0, 0, 0, 0, 0, 0, 0, 0, 0,\n",
       "       0, 1, 1, 0, 1, 0, 0, 1, 0, 0, 0, 0, 0, 0, 0, 0, 0, 0, 0, 1, 0, 0,\n",
       "       0, 0, 0, 0, 0, 0, 1, 0, 0, 0, 1, 0, 0, 0, 0, 1, 0, 0, 0, 0, 0, 0,\n",
       "       0, 0, 0, 1, 0, 0, 0, 0, 0, 0, 0, 0, 0, 0, 0, 0, 1, 0, 0, 0, 0, 0,\n",
       "       0, 0, 0, 0, 0, 0, 0, 0, 0, 0, 1, 0, 0, 0, 0, 1, 0, 0, 0, 1, 0, 0,\n",
       "       0, 0, 0, 0, 0, 0, 0, 0, 1, 0, 0, 0, 0, 0, 0, 0, 0, 0, 0, 0, 0, 1,\n",
       "       0, 0, 0, 1, 0, 0, 0, 0, 0, 0, 0, 1, 0, 0, 0, 0, 0, 0, 1, 1, 0, 0,\n",
       "       0, 0, 0, 0, 0, 0, 0, 0, 0, 0, 1, 0, 0, 0, 0, 1, 0, 0, 0, 0, 0, 0,\n",
       "       1, 1, 1, 0, 0, 1, 0, 0, 0, 0, 0, 0, 0, 0, 0, 0, 0, 0, 0, 0, 0, 0,\n",
       "       0, 0, 0, 0, 0, 0, 1, 0, 0, 0, 0, 0, 0, 0, 0, 0, 0, 0, 0, 0, 0, 0,\n",
       "       0, 0, 0, 0, 0, 0, 0, 0, 0, 1, 0, 1, 0, 1, 0, 0, 0, 0, 0, 0, 0, 0,\n",
       "       0, 0, 1, 0, 0, 1, 0, 0, 0, 0, 0, 0, 0, 0, 1, 0, 0, 0, 0, 0, 0, 1,\n",
       "       0, 0, 0, 0, 0, 0, 0, 0, 1, 0, 0, 0, 0, 0, 0, 0, 0, 0, 0, 0, 1, 0,\n",
       "       1, 0, 0, 0, 0, 0, 0, 0, 0, 0, 0, 0, 0, 0, 0, 0, 1, 0, 0, 0, 0, 1,\n",
       "       1, 0, 0, 0, 0, 0, 0, 0, 0, 0, 0, 0, 0, 0, 0, 0, 0, 0, 0, 0, 0, 0,\n",
       "       0, 0, 0, 0, 1, 0, 0, 0, 0, 0, 0, 0, 0, 0, 0, 0, 0, 0, 1, 0, 0, 1,\n",
       "       0, 0, 0, 0, 0, 0, 0, 0, 0, 0, 0, 0, 0, 0, 0, 0, 0, 0, 0, 0, 0, 0,\n",
       "       0, 1, 0, 1, 0, 1, 0, 0, 0, 0, 0, 1, 0, 0, 1, 0, 0, 0, 1, 0, 0, 1,\n",
       "       0, 1, 0, 0, 0, 0, 1, 0, 0, 0, 0, 1, 0, 0, 0, 0, 0, 0, 0, 1, 0, 1,\n",
       "       0, 0, 0, 0, 0, 0, 0, 0, 1, 0, 1, 0, 0, 0, 0, 0, 0, 1, 0, 0, 1, 0,\n",
       "       0, 0, 0, 0, 0, 0, 0, 0, 0, 0, 0, 0, 1, 0, 0, 0, 0, 1, 0, 0, 0, 0,\n",
       "       0, 0, 0, 0, 0, 0, 0, 0, 0, 0, 0, 1, 0, 0, 0, 0, 0, 0, 0, 0, 0, 0,\n",
       "       0, 0, 0, 0, 0, 0, 0, 0, 0, 0, 0, 1, 0, 1, 0, 0, 0, 0, 0, 0, 0, 0,\n",
       "       0, 0, 0, 0, 0, 0, 1, 0, 0, 0, 0, 0, 0, 0, 0, 0, 0, 0, 0, 0, 0, 0,\n",
       "       0, 1, 0, 0, 0, 0, 0, 0, 0, 0, 0, 0, 0, 0, 1, 1, 0, 0, 0, 0, 0, 0,\n",
       "       0, 0, 0, 1, 0, 0, 1, 0, 0, 0, 0], dtype=int64)"
      ]
     },
     "execution_count": 203,
     "metadata": {},
     "output_type": "execute_result"
    }
   ],
   "source": [
    "soft_voting(clf_lab=clf_lab, clf_vital=clf_vital,clf3=rf_ros, weights=[weight_l,weight_v,weight_s],X_test_transformed_lab=X_test_labs, X_test_transformed_vital=X_test_vitals, y_test_labs=y_test_labs, y_test_vitals=y_test_vitals,Xstatic=X_test_static,ystatic=y_test_static)"
   ]
  },
  {
   "cell_type": "markdown",
   "id": "13710fd7",
   "metadata": {},
   "source": [
    "#### Log soft voting"
   ]
  },
  {
   "cell_type": "code",
   "execution_count": 204,
   "id": "c8ae2a1d",
   "metadata": {},
   "outputs": [
    {
     "name": "stdout",
     "output_type": "stream",
     "text": [
      "Precision: 0.1518987341772152\n",
      "Recall: 0.3870967741935484\n",
      "F1 Score: 0.21818181818181817\n",
      "Accuracy: 0.8578512396694215\n"
     ]
    },
    {
     "name": "stderr",
     "output_type": "stream",
     "text": [
      "C:\\Users\\aakru\\anaconda3\\lib\\site-packages\\sklearn\\base.py:443: UserWarning: X has feature names, but RandomForestClassifier was fitted without feature names\n",
      "  warnings.warn(\n"
     ]
    },
    {
     "data": {
      "text/plain": [
       "array([0, 0, 1, 0, 0, 0, 0, 0, 0, 0, 0, 0, 0, 0, 0, 0, 0, 0, 0, 0, 0, 0,\n",
       "       0, 0, 0, 0, 0, 0, 0, 1, 1, 0, 1, 0, 1, 0, 0, 0, 0, 0, 0, 0, 0, 0,\n",
       "       0, 0, 0, 0, 1, 0, 0, 0, 0, 0, 0, 0, 0, 0, 0, 0, 0, 0, 0, 0, 0, 0,\n",
       "       0, 1, 1, 0, 1, 0, 0, 1, 0, 0, 0, 0, 0, 0, 0, 0, 0, 0, 0, 1, 0, 0,\n",
       "       0, 0, 0, 0, 0, 0, 1, 0, 0, 0, 1, 0, 0, 0, 0, 1, 0, 0, 0, 0, 0, 0,\n",
       "       0, 0, 0, 1, 0, 0, 0, 0, 0, 0, 0, 0, 0, 0, 0, 0, 1, 0, 0, 0, 0, 0,\n",
       "       0, 0, 0, 0, 0, 0, 0, 0, 0, 0, 1, 0, 0, 0, 0, 1, 0, 0, 0, 1, 0, 0,\n",
       "       0, 0, 0, 0, 0, 0, 0, 0, 1, 1, 0, 0, 0, 0, 0, 0, 0, 0, 0, 0, 0, 1,\n",
       "       0, 0, 0, 1, 0, 0, 0, 0, 0, 0, 0, 1, 0, 0, 0, 0, 0, 0, 1, 0, 0, 0,\n",
       "       0, 0, 0, 0, 0, 0, 0, 0, 0, 0, 1, 0, 0, 0, 0, 1, 0, 0, 0, 0, 0, 0,\n",
       "       1, 1, 1, 0, 0, 0, 0, 0, 0, 0, 0, 0, 0, 0, 0, 0, 0, 0, 0, 0, 0, 0,\n",
       "       0, 0, 0, 0, 0, 0, 1, 0, 0, 0, 1, 0, 0, 0, 0, 0, 0, 0, 0, 0, 0, 0,\n",
       "       0, 0, 0, 0, 0, 0, 0, 0, 0, 1, 0, 1, 0, 1, 0, 0, 0, 0, 0, 0, 0, 0,\n",
       "       0, 0, 1, 0, 0, 1, 0, 0, 0, 0, 0, 0, 0, 0, 1, 0, 0, 0, 0, 0, 0, 1,\n",
       "       0, 0, 0, 0, 0, 0, 0, 0, 1, 0, 0, 0, 0, 0, 0, 0, 0, 0, 0, 0, 1, 0,\n",
       "       1, 0, 0, 0, 0, 0, 0, 0, 0, 0, 1, 0, 0, 0, 0, 0, 1, 1, 0, 0, 0, 1,\n",
       "       1, 0, 0, 0, 0, 0, 0, 0, 0, 0, 0, 0, 0, 0, 0, 0, 0, 0, 0, 0, 0, 0,\n",
       "       0, 0, 0, 0, 1, 0, 0, 0, 0, 0, 0, 0, 0, 0, 0, 0, 0, 0, 1, 0, 1, 1,\n",
       "       0, 0, 0, 0, 0, 0, 0, 0, 0, 0, 0, 0, 0, 0, 0, 0, 0, 0, 0, 0, 0, 0,\n",
       "       0, 1, 0, 0, 0, 1, 0, 1, 0, 0, 0, 1, 0, 0, 1, 0, 0, 0, 1, 0, 0, 1,\n",
       "       0, 1, 0, 0, 0, 0, 1, 0, 0, 0, 0, 1, 0, 0, 0, 0, 0, 0, 0, 1, 0, 1,\n",
       "       0, 0, 0, 0, 0, 0, 0, 0, 1, 0, 1, 0, 0, 0, 0, 0, 0, 1, 0, 0, 1, 0,\n",
       "       0, 0, 0, 0, 0, 0, 0, 0, 0, 0, 0, 0, 1, 0, 0, 0, 0, 1, 0, 0, 0, 0,\n",
       "       0, 0, 0, 0, 0, 0, 0, 0, 0, 0, 0, 0, 0, 0, 0, 0, 0, 0, 0, 0, 0, 0,\n",
       "       0, 1, 0, 0, 0, 0, 0, 0, 0, 1, 0, 1, 0, 1, 0, 0, 0, 0, 0, 0, 0, 0,\n",
       "       0, 0, 0, 0, 0, 0, 1, 0, 0, 0, 0, 0, 0, 0, 0, 0, 0, 0, 0, 0, 0, 0,\n",
       "       0, 0, 0, 0, 0, 1, 0, 0, 0, 0, 0, 0, 0, 0, 1, 1, 0, 0, 0, 0, 0, 0,\n",
       "       0, 0, 0, 1, 0, 0, 1, 0, 0, 0, 0], dtype=int64)"
      ]
     },
     "execution_count": 204,
     "metadata": {},
     "output_type": "execute_result"
    }
   ],
   "source": [
    "weight_l=np.log(0.14/(1-0.14))\n",
    "weight_v=np.log(0.12/(1-0.12))\n",
    "weight_s=np.log(0.17/(1-0.17))\n",
    "\n",
    "soft_voting(clf_lab=clf_lab, clf_vital=clf_vital,clf3=rf_ros, weights=[weight_l,weight_v,weight_s],X_test_transformed_lab=X_test_labs, X_test_transformed_vital=X_test_vitals, y_test_labs=y_test_labs, y_test_vitals=y_test_vitals,Xstatic=X_test_static,ystatic=y_test_static)"
   ]
  },
  {
   "cell_type": "code",
   "execution_count": 205,
   "id": "0b9b908a",
   "metadata": {},
   "outputs": [
    {
     "name": "stdout",
     "output_type": "stream",
     "text": [
      "weight_static -1.5856272637403817\n",
      "weight_lab -1.8152899666382492\n",
      "weight_vital -1.9924301646902063\n"
     ]
    }
   ],
   "source": [
    "print(\"weight_static\",weight_s)\n",
    "print(\"weight_lab\",weight_l)\n",
    "print(\"weight_vital\",weight_v) "
   ]
  },
  {
   "cell_type": "code",
   "execution_count": null,
   "id": "c2fbd88f",
   "metadata": {},
   "outputs": [],
   "source": []
  }
 ],
 "metadata": {
  "kernelspec": {
   "display_name": "Python 3 (ipykernel)",
   "language": "python",
   "name": "python3"
  },
  "language_info": {
   "codemirror_mode": {
    "name": "ipython",
    "version": 3
   },
   "file_extension": ".py",
   "mimetype": "text/x-python",
   "name": "python",
   "nbconvert_exporter": "python",
   "pygments_lexer": "ipython3",
   "version": "3.9.13"
  }
 },
 "nbformat": 4,
 "nbformat_minor": 5
}
